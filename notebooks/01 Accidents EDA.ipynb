{
 "cells": [
  {
   "cell_type": "markdown",
   "metadata": {},
   "source": [
    "\n",
    "# Accidents EDA\n",
    "Purpose: \n",
    "* Review data and clean up data"
   ]
  },
  {
   "cell_type": "markdown",
   "metadata": {},
   "source": [
    "# Data Definitions from Kaggle"
   ]
  },
  {
   "cell_type": "markdown",
   "metadata": {},
   "source": [
    "## Data Summary\n",
    "<font color='blue'> **This is a countrywide car accident dataset, which covers 49 states of the United States**\n",
    "* The data is collected from **February 2016 to early 2020**, using several data providers, including two APIs that provide streaming traffic incident data\n",
    "* These APIs broadcast traffic data captured by a variety of entities, such as the US and state departments of transportation, law enforcement agencies, traffic cameras, and traffic sensors within the road-networks\n",
    "* Currently, there are almost 3.0 million accident records in this dataset </font>\n",
    "    "
   ]
  },
  {
   "cell_type": "markdown",
   "metadata": {},
   "source": [
    "## Data Defenitions \n",
    "* **ID** - This is a unique identifier of the accident record.\n",
    "* **Source** - Indicates source of the accident report (i.e. the API which reported the accident.).\n",
    "* **TMC** - A traffic accident may have a Traffic Message Channel (TMC) code which provides more detailed description of the event.\n",
    "* <font color='firebrick'> **Severity** - Shows the severity of the accident, a number between 1 and 4, where\n",
    "    * 1 indicates the least impact on traffic (i.e., short delay as a result of the accident) \n",
    "    * 4 indicates a significant impact on traffic (i.e., long delay) </font>\n",
    "* **Start_Time** - Shows start time of the accident in local time zone.\n",
    "* **End_Time** - Shows end time of the accident in local time zone.\n",
    "* **Start_Lat** - Shows latitude in GPS coordinate of the start point.\n",
    "* **Start_Lng** - Shows longitude in GPS coordinate of the start point.\n",
    "* **End_Lat** - Shows latitude in GPS coordinate of the end point.\n",
    "* **End_Lng** - Shows longitude in GPS coordinate of the end point.\n",
    "* **Distance(mi)** -The length of the road extent affected by the accident.\n",
    "* **Description** - Shows natural language description of the accident.\n",
    "* **Number** - Shows the street number in address field.\n",
    "* **Street** - Shows the street name in address field.\n",
    "* **Side** - Shows the relative side of the street (Right/Left) in address field.\n",
    "* **City** - Shows the city in address field.\n",
    "* **County** - Shows the county in address field.\n",
    "* **State** - Shows the state in address field.\n",
    "* **Zipcode** - Shows the zipcode in address field.\n",
    "* **Country** - Shows the country in address field.\n",
    "* **Timezone** - Shows timezone based on the location of the accident (eastern, central, etc.).\n",
    "* **Airport_Code** -Denotes an airport-based weather station which is the closest one to location of the accident.\n",
    "* **Weather_Timestamp** - Shows the time-stamp of weather observation record (in local time).\n",
    "* **Temperature(F)** - Shows the temperature (in Fahrenheit).\n",
    "* **Wind_Chill(F)** - Shows the wind chill (in Fahrenheit).\n",
    "* **Humidity(%)** - Shows the humidity (in percentage).\n",
    "* **Pressure(in)** - Shows the air pressure (in inches).\n",
    "* **Visibility(mi)** - Shows visibility (in miles).\n",
    "* **Wind_Direction** - Shows wind direction.\n",
    "* **Wind_Speed(mph)** - Shows wind speed (in miles per hour).\n",
    "* **Precipitation(in)** - Shows precipitation amount in inches, if there is any.\n",
    "* **Weather_Condition** - Shows the weather condition (rain, snow, thunderstorm, fog, etc.).\n",
    "* **Amenity** - A Point-Of-Interest (POI) annotation which indicates presence of amenity in a nearby location.\n",
    "* **Bump** - A POI annotation which indicates presence of speed bump or hump in a nearby location.\n",
    "* **Crossing** - A POI annotation which indicates presence of crossing in a nearby location.\n",
    "* **Give_Way** - A POI annotation which indicates presence of give_way sign in a nearby location.\n",
    "* **Junction** - A POI annotation which indicates presence of junction in a nearby location.\n",
    "* **No_Exit** - A POI annotation which indicates presence of no_exit sign in a nearby location.\n",
    "* **Railway** - A POI annotation which indicates presence of railway in a nearby location.\n",
    "* **Roundabout** - A POI annotation which indicates presence of roundabout in a nearby location.\n",
    "* **Station** - A POI annotation which indicates presence of station (bus, train, etc.) in a nearby location.\n",
    "* **Stop** - A POI annotation which indicates presence of stop sign in a nearby location.\n",
    "* **Traffic_Calming** - A POI annotation which indicates presence of traffic_calming means in a nearby location.\n",
    "* **Traffic_Signal** - A POI annotation which indicates presence of traffic_signal in a nearby location.\n",
    "* **Turning_Loop** - A POI annotation which indicates presence of turning_loop in a nearby location.\n",
    "* **Sunrise_Sunset** - Shows the period of day (i.e. day or night) based on sunrise/sunset.\n",
    "* **Civil_Twilight** - Shows the period of day (i.e. day or night) based on civil twilight.\n",
    "* **Nautical_Twilight** - Shows the period of day (i.e. day or night) based on nautical twilight.\n",
    "* **Astronomical_Twilight** - Shows the period of day (i.e. day or night) based on astronomical twilight. "
   ]
  },
  {
   "cell_type": "markdown",
   "metadata": {},
   "source": [
    "# Initial setup"
   ]
  },
  {
   "cell_type": "markdown",
   "metadata": {},
   "source": [
    "## Import main libraries"
   ]
  },
  {
   "cell_type": "code",
   "execution_count": 39,
   "metadata": {
    "ExecuteTime": {
     "end_time": "2023-01-23T00:22:42.166070Z",
     "start_time": "2023-01-23T00:22:42.060130Z"
    }
   },
   "outputs": [],
   "source": [
    "from openpyxl import load_workbook\n",
    "\n",
    "# os for setting the folder for saving work\n",
    "import os\n",
    "\n",
    "# NumPy for numerical computing\n",
    "import numpy as np\n",
    "\n",
    "# Pandas for DataFrames\n",
    "import pandas as pd\n",
    "\n",
    "# Matplotlib for visualization\n",
    "from matplotlib import pyplot as plt\n",
    "# display plots in the notebooks\n",
    "%matplotlib inline \n",
    "\n",
    "# Seaborn for easier visualization\n",
    "import seaborn as sns\n",
    "\n",
    "import plotly.express as px\n",
    "\n",
    "# from ipywidgets import interactive\n",
    "# from ipywidgets import Dropdown"
   ]
  },
  {
   "cell_type": "markdown",
   "metadata": {},
   "source": [
    "# Import data from csv\n",
    "* This process take 32 seconds for 3 million rows\n",
    "* Comment out code because this is a one time process\n",
    "* Use existing index instead of having pandas create a new index"
   ]
  },
  {
   "cell_type": "code",
   "execution_count": 40,
   "metadata": {
    "ExecuteTime": {
     "end_time": "2023-01-23T00:22:42.198047Z",
     "start_time": "2023-01-23T00:22:42.173063Z"
    }
   },
   "outputs": [],
   "source": [
    "# df = pd.read_csv(r'../data/US_Accidents_Dec19.csv', index_col='ID')\n",
    "# df"
   ]
  },
  {
   "cell_type": "markdown",
   "metadata": {},
   "source": [
    "# Use Pickle \n",
    "## Save off data in a pickle format\n",
    "* Took 10 seconds to save file in a pickle format \n",
    "* Comment out this code because saving the file is 1 time process as well"
   ]
  },
  {
   "cell_type": "code",
   "execution_count": 41,
   "metadata": {
    "ExecuteTime": {
     "end_time": "2023-01-23T00:22:42.853834Z",
     "start_time": "2023-01-23T00:22:42.203048Z"
    }
   },
   "outputs": [],
   "source": [
    "# df.to_pickle('../data/US_Accidents_Dec19.pkl')"
   ]
  },
  {
   "cell_type": "markdown",
   "metadata": {},
   "source": [
    "## Re-Import table using pickle\n",
    "* Only takes 5 seconds to load data using pickle"
   ]
  },
  {
   "cell_type": "code",
   "execution_count": 42,
   "metadata": {
    "ExecuteTime": {
     "end_time": "2023-01-23T00:22:53.109646Z",
     "start_time": "2023-01-23T00:22:42.863824Z"
    }
   },
   "outputs": [],
   "source": [
    "df = pd.read_pickle('../data/US_Accidents_Dec19.pkl')\n",
    "#df"
   ]
  },
  {
   "cell_type": "markdown",
   "metadata": {},
   "source": [
    "# Review data types \n",
    "## Overall Review\n",
    "* Check the number of non-nulls for each columns\n",
    "* Run describe for numerical and non-numerical fields"
   ]
  },
  {
   "cell_type": "code",
   "execution_count": 43,
   "metadata": {
    "ExecuteTime": {
     "end_time": "2023-01-23T00:23:02.083651Z",
     "start_time": "2023-01-23T00:22:53.109646Z"
    }
   },
   "outputs": [
    {
     "name": "stderr",
     "output_type": "stream",
     "text": [
      "C:\\Users\\Miguel\\AppData\\Local\\Temp\\ipykernel_8832\\1227896949.py:1: FutureWarning:\n",
      "\n",
      "null_counts is deprecated. Use show_counts instead\n",
      "\n"
     ]
    },
    {
     "name": "stdout",
     "output_type": "stream",
     "text": [
      "<class 'pandas.core.frame.DataFrame'>\n",
      "Index: 2974335 entries, A-1 to A-2974358\n",
      "Data columns (total 48 columns):\n",
      " #   Column                 Non-Null Count    Dtype  \n",
      "---  ------                 --------------    -----  \n",
      " 0   Source                 2974335 non-null  object \n",
      " 1   TMC                    2246264 non-null  float64\n",
      " 2   Severity               2974335 non-null  int64  \n",
      " 3   Start_Time             2974335 non-null  object \n",
      " 4   End_Time               2974335 non-null  object \n",
      " 5   Start_Lat              2974335 non-null  float64\n",
      " 6   Start_Lng              2974335 non-null  float64\n",
      " 7   End_Lat                728071 non-null   float64\n",
      " 8   End_Lng                728071 non-null   float64\n",
      " 9   Distance(mi)           2974335 non-null  float64\n",
      " 10  Description            2974334 non-null  object \n",
      " 11  Number                 1056730 non-null  float64\n",
      " 12  Street                 2974335 non-null  object \n",
      " 13  Side                   2974335 non-null  object \n",
      " 14  City                   2974252 non-null  object \n",
      " 15  County                 2974335 non-null  object \n",
      " 16  State                  2974335 non-null  object \n",
      " 17  Zipcode                2973455 non-null  object \n",
      " 18  Country                2974335 non-null  object \n",
      " 19  Timezone               2971172 non-null  object \n",
      " 20  Airport_Code           2968644 non-null  object \n",
      " 21  Weather_Timestamp      2937630 non-null  object \n",
      " 22  Temperature(F)         2918272 non-null  float64\n",
      " 23  Wind_Chill(F)          1121712 non-null  float64\n",
      " 24  Humidity(%)            2915162 non-null  float64\n",
      " 25  Pressure(in)           2926193 non-null  float64\n",
      " 26  Visibility(mi)         2908644 non-null  float64\n",
      " 27  Wind_Direction         2929234 non-null  object \n",
      " 28  Wind_Speed(mph)        2533495 non-null  float64\n",
      " 29  Precipitation(in)      975977 non-null   float64\n",
      " 30  Weather_Condition      2908403 non-null  object \n",
      " 31  Amenity                2974335 non-null  bool   \n",
      " 32  Bump                   2974335 non-null  bool   \n",
      " 33  Crossing               2974335 non-null  bool   \n",
      " 34  Give_Way               2974335 non-null  bool   \n",
      " 35  Junction               2974335 non-null  bool   \n",
      " 36  No_Exit                2974335 non-null  bool   \n",
      " 37  Railway                2974335 non-null  bool   \n",
      " 38  Roundabout             2974335 non-null  bool   \n",
      " 39  Station                2974335 non-null  bool   \n",
      " 40  Stop                   2974335 non-null  bool   \n",
      " 41  Traffic_Calming        2974335 non-null  bool   \n",
      " 42  Traffic_Signal         2974335 non-null  bool   \n",
      " 43  Turning_Loop           2974335 non-null  bool   \n",
      " 44  Sunrise_Sunset         2974242 non-null  object \n",
      " 45  Civil_Twilight         2974242 non-null  object \n",
      " 46  Nautical_Twilight      2974242 non-null  object \n",
      " 47  Astronomical_Twilight  2974242 non-null  object \n",
      "dtypes: bool(13), float64(14), int64(1), object(20)\n",
      "memory usage: 853.8+ MB\n"
     ]
    }
   ],
   "source": [
    "df.info(null_counts = True)"
   ]
  },
  {
   "cell_type": "code",
   "execution_count": 44,
   "metadata": {
    "ExecuteTime": {
     "end_time": "2023-01-23T00:23:03.503105Z",
     "start_time": "2023-01-23T00:23:02.087631Z"
    }
   },
   "outputs": [
    {
     "data": {
      "text/html": [
       "<div>\n",
       "<style scoped>\n",
       "    .dataframe tbody tr th:only-of-type {\n",
       "        vertical-align: middle;\n",
       "    }\n",
       "\n",
       "    .dataframe tbody tr th {\n",
       "        vertical-align: top;\n",
       "    }\n",
       "\n",
       "    .dataframe thead th {\n",
       "        text-align: right;\n",
       "    }\n",
       "</style>\n",
       "<table border=\"1\" class=\"dataframe\">\n",
       "  <thead>\n",
       "    <tr style=\"text-align: right;\">\n",
       "      <th></th>\n",
       "      <th>count</th>\n",
       "      <th>mean</th>\n",
       "      <th>std</th>\n",
       "      <th>min</th>\n",
       "      <th>25%</th>\n",
       "      <th>50%</th>\n",
       "      <th>75%</th>\n",
       "      <th>max</th>\n",
       "    </tr>\n",
       "  </thead>\n",
       "  <tbody>\n",
       "    <tr>\n",
       "      <th>TMC</th>\n",
       "      <td>2,246,264</td>\n",
       "      <td>208</td>\n",
       "      <td>20</td>\n",
       "      <td>200</td>\n",
       "      <td>201</td>\n",
       "      <td>201</td>\n",
       "      <td>201</td>\n",
       "      <td>406</td>\n",
       "    </tr>\n",
       "    <tr>\n",
       "      <th>Severity</th>\n",
       "      <td>2,974,335</td>\n",
       "      <td>2</td>\n",
       "      <td>1</td>\n",
       "      <td>1</td>\n",
       "      <td>2</td>\n",
       "      <td>2</td>\n",
       "      <td>3</td>\n",
       "      <td>4</td>\n",
       "    </tr>\n",
       "    <tr>\n",
       "      <th>Start_Lat</th>\n",
       "      <td>2,974,335</td>\n",
       "      <td>36</td>\n",
       "      <td>5</td>\n",
       "      <td>25</td>\n",
       "      <td>34</td>\n",
       "      <td>36</td>\n",
       "      <td>40</td>\n",
       "      <td>49</td>\n",
       "    </tr>\n",
       "    <tr>\n",
       "      <th>Start_Lng</th>\n",
       "      <td>2,974,335</td>\n",
       "      <td>-95</td>\n",
       "      <td>17</td>\n",
       "      <td>-125</td>\n",
       "      <td>-117</td>\n",
       "      <td>-90</td>\n",
       "      <td>-81</td>\n",
       "      <td>-67</td>\n",
       "    </tr>\n",
       "    <tr>\n",
       "      <th>End_Lat</th>\n",
       "      <td>728,071</td>\n",
       "      <td>38</td>\n",
       "      <td>5</td>\n",
       "      <td>25</td>\n",
       "      <td>34</td>\n",
       "      <td>38</td>\n",
       "      <td>41</td>\n",
       "      <td>49</td>\n",
       "    </tr>\n",
       "    <tr>\n",
       "      <th>End_Lng</th>\n",
       "      <td>728,071</td>\n",
       "      <td>-100</td>\n",
       "      <td>18</td>\n",
       "      <td>-124</td>\n",
       "      <td>-118</td>\n",
       "      <td>-97</td>\n",
       "      <td>-82</td>\n",
       "      <td>-67</td>\n",
       "    </tr>\n",
       "    <tr>\n",
       "      <th>Distance(mi)</th>\n",
       "      <td>2,974,335</td>\n",
       "      <td>0</td>\n",
       "      <td>2</td>\n",
       "      <td>0</td>\n",
       "      <td>0</td>\n",
       "      <td>0</td>\n",
       "      <td>0</td>\n",
       "      <td>334</td>\n",
       "    </tr>\n",
       "    <tr>\n",
       "      <th>Number</th>\n",
       "      <td>1,056,730</td>\n",
       "      <td>5,837</td>\n",
       "      <td>15,159</td>\n",
       "      <td>0</td>\n",
       "      <td>837</td>\n",
       "      <td>2,717</td>\n",
       "      <td>7,000</td>\n",
       "      <td>9,999,997</td>\n",
       "    </tr>\n",
       "    <tr>\n",
       "      <th>Temperature(F)</th>\n",
       "      <td>2,918,272</td>\n",
       "      <td>62</td>\n",
       "      <td>19</td>\n",
       "      <td>-78</td>\n",
       "      <td>50</td>\n",
       "      <td>64</td>\n",
       "      <td>76</td>\n",
       "      <td>171</td>\n",
       "    </tr>\n",
       "    <tr>\n",
       "      <th>Wind_Chill(F)</th>\n",
       "      <td>1,121,712</td>\n",
       "      <td>51</td>\n",
       "      <td>25</td>\n",
       "      <td>-66</td>\n",
       "      <td>32</td>\n",
       "      <td>54</td>\n",
       "      <td>73</td>\n",
       "      <td>115</td>\n",
       "    </tr>\n",
       "    <tr>\n",
       "      <th>Humidity(%)</th>\n",
       "      <td>2,915,162</td>\n",
       "      <td>65</td>\n",
       "      <td>23</td>\n",
       "      <td>1</td>\n",
       "      <td>49</td>\n",
       "      <td>67</td>\n",
       "      <td>84</td>\n",
       "      <td>100</td>\n",
       "    </tr>\n",
       "    <tr>\n",
       "      <th>Pressure(in)</th>\n",
       "      <td>2,926,193</td>\n",
       "      <td>30</td>\n",
       "      <td>1</td>\n",
       "      <td>0</td>\n",
       "      <td>30</td>\n",
       "      <td>30</td>\n",
       "      <td>30</td>\n",
       "      <td>33</td>\n",
       "    </tr>\n",
       "    <tr>\n",
       "      <th>Visibility(mi)</th>\n",
       "      <td>2,908,644</td>\n",
       "      <td>9</td>\n",
       "      <td>3</td>\n",
       "      <td>0</td>\n",
       "      <td>10</td>\n",
       "      <td>10</td>\n",
       "      <td>10</td>\n",
       "      <td>140</td>\n",
       "    </tr>\n",
       "    <tr>\n",
       "      <th>Wind_Speed(mph)</th>\n",
       "      <td>2,533,495</td>\n",
       "      <td>8</td>\n",
       "      <td>5</td>\n",
       "      <td>0</td>\n",
       "      <td>5</td>\n",
       "      <td>7</td>\n",
       "      <td>10</td>\n",
       "      <td>823</td>\n",
       "    </tr>\n",
       "    <tr>\n",
       "      <th>Precipitation(in)</th>\n",
       "      <td>975,977</td>\n",
       "      <td>0</td>\n",
       "      <td>0</td>\n",
       "      <td>0</td>\n",
       "      <td>0</td>\n",
       "      <td>0</td>\n",
       "      <td>0</td>\n",
       "      <td>25</td>\n",
       "    </tr>\n",
       "  </tbody>\n",
       "</table>\n",
       "</div>"
      ],
      "text/plain": [
       "                      count  mean    std  min  25%   50%   75%       max\n",
       "TMC               2,246,264   208     20  200  201   201   201       406\n",
       "Severity          2,974,335     2      1    1    2     2     3         4\n",
       "Start_Lat         2,974,335    36      5   25   34    36    40        49\n",
       "Start_Lng         2,974,335   -95     17 -125 -117   -90   -81       -67\n",
       "End_Lat             728,071    38      5   25   34    38    41        49\n",
       "End_Lng             728,071  -100     18 -124 -118   -97   -82       -67\n",
       "Distance(mi)      2,974,335     0      2    0    0     0     0       334\n",
       "Number            1,056,730 5,837 15,159    0  837 2,717 7,000 9,999,997\n",
       "Temperature(F)    2,918,272    62     19  -78   50    64    76       171\n",
       "Wind_Chill(F)     1,121,712    51     25  -66   32    54    73       115\n",
       "Humidity(%)       2,915,162    65     23    1   49    67    84       100\n",
       "Pressure(in)      2,926,193    30      1    0   30    30    30        33\n",
       "Visibility(mi)    2,908,644     9      3    0   10    10    10       140\n",
       "Wind_Speed(mph)   2,533,495     8      5    0    5     7    10       823\n",
       "Precipitation(in)   975,977     0      0    0    0     0     0        25"
      ]
     },
     "execution_count": 44,
     "metadata": {},
     "output_type": "execute_result"
    }
   ],
   "source": [
    "pd.options.display.float_format = '{:,.0f}'.format\n",
    "df.describe().T"
   ]
  },
  {
   "cell_type": "code",
   "execution_count": 45,
   "metadata": {
    "ExecuteTime": {
     "end_time": "2023-01-23T00:23:21.205487Z",
     "start_time": "2023-01-23T00:23:03.507105Z"
    }
   },
   "outputs": [
    {
     "data": {
      "text/html": [
       "<style type=\"text/css\">\n",
       "</style>\n",
       "<table id=\"T_2c6c1\">\n",
       "  <thead>\n",
       "    <tr>\n",
       "      <th class=\"blank level0\" >&nbsp;</th>\n",
       "      <th id=\"T_2c6c1_level0_col0\" class=\"col_heading level0 col0\" >count</th>\n",
       "      <th id=\"T_2c6c1_level0_col1\" class=\"col_heading level0 col1\" >unique</th>\n",
       "      <th id=\"T_2c6c1_level0_col2\" class=\"col_heading level0 col2\" >top</th>\n",
       "      <th id=\"T_2c6c1_level0_col3\" class=\"col_heading level0 col3\" >freq</th>\n",
       "    </tr>\n",
       "  </thead>\n",
       "  <tbody>\n",
       "    <tr>\n",
       "      <th id=\"T_2c6c1_level0_row0\" class=\"row_heading level0 row0\" >Source</th>\n",
       "      <td id=\"T_2c6c1_row0_col0\" class=\"data row0 col0\" >2,974,335</td>\n",
       "      <td id=\"T_2c6c1_row0_col1\" class=\"data row0 col1\" >3</td>\n",
       "      <td id=\"T_2c6c1_row0_col2\" class=\"data row0 col2\" >MapQuest</td>\n",
       "      <td id=\"T_2c6c1_row0_col3\" class=\"data row0 col3\" >2,204,098</td>\n",
       "    </tr>\n",
       "    <tr>\n",
       "      <th id=\"T_2c6c1_level0_row1\" class=\"row_heading level0 row1\" >Start_Time</th>\n",
       "      <td id=\"T_2c6c1_row1_col0\" class=\"data row1 col0\" >2,974,335</td>\n",
       "      <td id=\"T_2c6c1_row1_col1\" class=\"data row1 col1\" >2,743,101</td>\n",
       "      <td id=\"T_2c6c1_row1_col2\" class=\"data row1 col2\" >2017-05-15 09:22:55</td>\n",
       "      <td id=\"T_2c6c1_row1_col3\" class=\"data row1 col3\" >74</td>\n",
       "    </tr>\n",
       "    <tr>\n",
       "      <th id=\"T_2c6c1_level0_row2\" class=\"row_heading level0 row2\" >End_Time</th>\n",
       "      <td id=\"T_2c6c1_row2_col0\" class=\"data row2 col0\" >2,974,335</td>\n",
       "      <td id=\"T_2c6c1_row2_col1\" class=\"data row2 col1\" >2,761,499</td>\n",
       "      <td id=\"T_2c6c1_row2_col2\" class=\"data row2 col2\" >2017-05-15 15:22:55</td>\n",
       "      <td id=\"T_2c6c1_row2_col3\" class=\"data row2 col3\" >73</td>\n",
       "    </tr>\n",
       "    <tr>\n",
       "      <th id=\"T_2c6c1_level0_row3\" class=\"row_heading level0 row3\" >Description</th>\n",
       "      <td id=\"T_2c6c1_row3_col0\" class=\"data row3 col0\" >2,974,334</td>\n",
       "      <td id=\"T_2c6c1_row3_col1\" class=\"data row3 col1\" >1,597,506</td>\n",
       "      <td id=\"T_2c6c1_row3_col2\" class=\"data row3 col2\" >At I-15 - Accident.</td>\n",
       "      <td id=\"T_2c6c1_row3_col3\" class=\"data row3 col3\" >1,212</td>\n",
       "    </tr>\n",
       "    <tr>\n",
       "      <th id=\"T_2c6c1_level0_row4\" class=\"row_heading level0 row4\" >Street</th>\n",
       "      <td id=\"T_2c6c1_row4_col0\" class=\"data row4 col0\" >2,974,335</td>\n",
       "      <td id=\"T_2c6c1_row4_col1\" class=\"data row4 col1\" >160,715</td>\n",
       "      <td id=\"T_2c6c1_row4_col2\" class=\"data row4 col2\" >I-5 N</td>\n",
       "      <td id=\"T_2c6c1_row4_col3\" class=\"data row4 col3\" >34,693</td>\n",
       "    </tr>\n",
       "    <tr>\n",
       "      <th id=\"T_2c6c1_level0_row5\" class=\"row_heading level0 row5\" >Side</th>\n",
       "      <td id=\"T_2c6c1_row5_col0\" class=\"data row5 col0\" >2,974,335</td>\n",
       "      <td id=\"T_2c6c1_row5_col1\" class=\"data row5 col1\" >3</td>\n",
       "      <td id=\"T_2c6c1_row5_col2\" class=\"data row5 col2\" >R</td>\n",
       "      <td id=\"T_2c6c1_row5_col3\" class=\"data row5 col3\" >2,438,139</td>\n",
       "    </tr>\n",
       "    <tr>\n",
       "      <th id=\"T_2c6c1_level0_row6\" class=\"row_heading level0 row6\" >City</th>\n",
       "      <td id=\"T_2c6c1_row6_col0\" class=\"data row6 col0\" >2,974,252</td>\n",
       "      <td id=\"T_2c6c1_row6_col1\" class=\"data row6 col1\" >11,685</td>\n",
       "      <td id=\"T_2c6c1_row6_col2\" class=\"data row6 col2\" >Houston</td>\n",
       "      <td id=\"T_2c6c1_row6_col3\" class=\"data row6 col3\" >93,289</td>\n",
       "    </tr>\n",
       "    <tr>\n",
       "      <th id=\"T_2c6c1_level0_row7\" class=\"row_heading level0 row7\" >County</th>\n",
       "      <td id=\"T_2c6c1_row7_col0\" class=\"data row7 col0\" >2,974,335</td>\n",
       "      <td id=\"T_2c6c1_row7_col1\" class=\"data row7 col1\" >1,713</td>\n",
       "      <td id=\"T_2c6c1_row7_col2\" class=\"data row7 col2\" >Los Angeles</td>\n",
       "      <td id=\"T_2c6c1_row7_col3\" class=\"data row7 col3\" >227,180</td>\n",
       "    </tr>\n",
       "    <tr>\n",
       "      <th id=\"T_2c6c1_level0_row8\" class=\"row_heading level0 row8\" >State</th>\n",
       "      <td id=\"T_2c6c1_row8_col0\" class=\"data row8 col0\" >2,974,335</td>\n",
       "      <td id=\"T_2c6c1_row8_col1\" class=\"data row8 col1\" >49</td>\n",
       "      <td id=\"T_2c6c1_row8_col2\" class=\"data row8 col2\" >CA</td>\n",
       "      <td id=\"T_2c6c1_row8_col3\" class=\"data row8 col3\" >663,204</td>\n",
       "    </tr>\n",
       "    <tr>\n",
       "      <th id=\"T_2c6c1_level0_row9\" class=\"row_heading level0 row9\" >Zipcode</th>\n",
       "      <td id=\"T_2c6c1_row9_col0\" class=\"data row9 col0\" >2,973,455</td>\n",
       "      <td id=\"T_2c6c1_row9_col1\" class=\"data row9 col1\" >377,152</td>\n",
       "      <td id=\"T_2c6c1_row9_col2\" class=\"data row9 col2\" >91706</td>\n",
       "      <td id=\"T_2c6c1_row9_col3\" class=\"data row9 col3\" >4,646</td>\n",
       "    </tr>\n",
       "    <tr>\n",
       "      <th id=\"T_2c6c1_level0_row10\" class=\"row_heading level0 row10\" >Country</th>\n",
       "      <td id=\"T_2c6c1_row10_col0\" class=\"data row10 col0\" >2,974,335</td>\n",
       "      <td id=\"T_2c6c1_row10_col1\" class=\"data row10 col1\" >1</td>\n",
       "      <td id=\"T_2c6c1_row10_col2\" class=\"data row10 col2\" >US</td>\n",
       "      <td id=\"T_2c6c1_row10_col3\" class=\"data row10 col3\" >2,974,335</td>\n",
       "    </tr>\n",
       "    <tr>\n",
       "      <th id=\"T_2c6c1_level0_row11\" class=\"row_heading level0 row11\" >Timezone</th>\n",
       "      <td id=\"T_2c6c1_row11_col0\" class=\"data row11 col0\" >2,971,172</td>\n",
       "      <td id=\"T_2c6c1_row11_col1\" class=\"data row11 col1\" >4</td>\n",
       "      <td id=\"T_2c6c1_row11_col2\" class=\"data row11 col2\" >US/Eastern</td>\n",
       "      <td id=\"T_2c6c1_row11_col3\" class=\"data row11 col3\" >1,277,187</td>\n",
       "    </tr>\n",
       "    <tr>\n",
       "      <th id=\"T_2c6c1_level0_row12\" class=\"row_heading level0 row12\" >Airport_Code</th>\n",
       "      <td id=\"T_2c6c1_row12_col0\" class=\"data row12 col0\" >2,968,644</td>\n",
       "      <td id=\"T_2c6c1_row12_col1\" class=\"data row12 col1\" >1,995</td>\n",
       "      <td id=\"T_2c6c1_row12_col2\" class=\"data row12 col2\" >KMCJ</td>\n",
       "      <td id=\"T_2c6c1_row12_col3\" class=\"data row12 col3\" >56,778</td>\n",
       "    </tr>\n",
       "    <tr>\n",
       "      <th id=\"T_2c6c1_level0_row13\" class=\"row_heading level0 row13\" >Weather_Timestamp</th>\n",
       "      <td id=\"T_2c6c1_row13_col0\" class=\"data row13 col0\" >2,937,630</td>\n",
       "      <td id=\"T_2c6c1_row13_col1\" class=\"data row13 col1\" >470,781</td>\n",
       "      <td id=\"T_2c6c1_row13_col2\" class=\"data row13 col2\" >2019-09-24 07:53:00</td>\n",
       "      <td id=\"T_2c6c1_row13_col3\" class=\"data row13 col3\" >267</td>\n",
       "    </tr>\n",
       "    <tr>\n",
       "      <th id=\"T_2c6c1_level0_row14\" class=\"row_heading level0 row14\" >Wind_Direction</th>\n",
       "      <td id=\"T_2c6c1_row14_col0\" class=\"data row14 col0\" >2,929,234</td>\n",
       "      <td id=\"T_2c6c1_row14_col1\" class=\"data row14 col1\" >24</td>\n",
       "      <td id=\"T_2c6c1_row14_col2\" class=\"data row14 col2\" >Calm</td>\n",
       "      <td id=\"T_2c6c1_row14_col3\" class=\"data row14 col3\" >368,268</td>\n",
       "    </tr>\n",
       "    <tr>\n",
       "      <th id=\"T_2c6c1_level0_row15\" class=\"row_heading level0 row15\" >Weather_Condition</th>\n",
       "      <td id=\"T_2c6c1_row15_col0\" class=\"data row15 col0\" >2,908,403</td>\n",
       "      <td id=\"T_2c6c1_row15_col1\" class=\"data row15 col1\" >120</td>\n",
       "      <td id=\"T_2c6c1_row15_col2\" class=\"data row15 col2\" >Clear</td>\n",
       "      <td id=\"T_2c6c1_row15_col3\" class=\"data row15 col3\" >808,171</td>\n",
       "    </tr>\n",
       "    <tr>\n",
       "      <th id=\"T_2c6c1_level0_row16\" class=\"row_heading level0 row16\" >Sunrise_Sunset</th>\n",
       "      <td id=\"T_2c6c1_row16_col0\" class=\"data row16 col0\" >2,974,242</td>\n",
       "      <td id=\"T_2c6c1_row16_col1\" class=\"data row16 col1\" >2</td>\n",
       "      <td id=\"T_2c6c1_row16_col2\" class=\"data row16 col2\" >Day</td>\n",
       "      <td id=\"T_2c6c1_row16_col3\" class=\"data row16 col3\" >2,194,084</td>\n",
       "    </tr>\n",
       "    <tr>\n",
       "      <th id=\"T_2c6c1_level0_row17\" class=\"row_heading level0 row17\" >Civil_Twilight</th>\n",
       "      <td id=\"T_2c6c1_row17_col0\" class=\"data row17 col0\" >2,974,242</td>\n",
       "      <td id=\"T_2c6c1_row17_col1\" class=\"data row17 col1\" >2</td>\n",
       "      <td id=\"T_2c6c1_row17_col2\" class=\"data row17 col2\" >Day</td>\n",
       "      <td id=\"T_2c6c1_row17_col3\" class=\"data row17 col3\" >2,342,592</td>\n",
       "    </tr>\n",
       "    <tr>\n",
       "      <th id=\"T_2c6c1_level0_row18\" class=\"row_heading level0 row18\" >Nautical_Twilight</th>\n",
       "      <td id=\"T_2c6c1_row18_col0\" class=\"data row18 col0\" >2,974,242</td>\n",
       "      <td id=\"T_2c6c1_row18_col1\" class=\"data row18 col1\" >2</td>\n",
       "      <td id=\"T_2c6c1_row18_col2\" class=\"data row18 col2\" >Day</td>\n",
       "      <td id=\"T_2c6c1_row18_col3\" class=\"data row18 col3\" >2,492,085</td>\n",
       "    </tr>\n",
       "    <tr>\n",
       "      <th id=\"T_2c6c1_level0_row19\" class=\"row_heading level0 row19\" >Astronomical_Twilight</th>\n",
       "      <td id=\"T_2c6c1_row19_col0\" class=\"data row19 col0\" >2,974,242</td>\n",
       "      <td id=\"T_2c6c1_row19_col1\" class=\"data row19 col1\" >2</td>\n",
       "      <td id=\"T_2c6c1_row19_col2\" class=\"data row19 col2\" >Day</td>\n",
       "      <td id=\"T_2c6c1_row19_col3\" class=\"data row19 col3\" >2,604,005</td>\n",
       "    </tr>\n",
       "  </tbody>\n",
       "</table>\n"
      ],
      "text/plain": [
       "<pandas.io.formats.style.Styler at 0x23bc4a17280>"
      ]
     },
     "execution_count": 45,
     "metadata": {},
     "output_type": "execute_result"
    }
   ],
   "source": [
    "df.describe(include=[object]).T.style.format({'count': '{:,.0f}', 'unique': '{:,.0f}', 'freq':'{:,.0f}'})"
   ]
  },
  {
   "cell_type": "markdown",
   "metadata": {},
   "source": [
    "# Drop, update data types, and add columns \n",
    "* To make the dataset easier to work with"
   ]
  },
  {
   "cell_type": "markdown",
   "metadata": {},
   "source": [
    "## Drop Country column\n",
    "* Only contains `US` as a singular data point"
   ]
  },
  {
   "cell_type": "code",
   "execution_count": 46,
   "metadata": {
    "ExecuteTime": {
     "end_time": "2023-01-23T00:23:22.626764Z",
     "start_time": "2023-01-23T00:23:21.208483Z"
    }
   },
   "outputs": [],
   "source": [
    "df = df.drop(columns=['Country'])"
   ]
  },
  {
   "cell_type": "markdown",
   "metadata": {},
   "source": [
    "## Review Data by Year\n",
    "* Convert `Start_Time`, `End_Time`, and `Weather_Timestamp` from **object** to **datetime** format\n",
    "* Create `Start_Year` and `Start_Month` columns from `Start_Time` \n",
    "* Create `Accident_Count` to make it easier to summarize values"
   ]
  },
  {
   "cell_type": "code",
   "execution_count": 47,
   "metadata": {
    "ExecuteTime": {
     "end_time": "2023-01-23T00:23:34.846046Z",
     "start_time": "2023-01-23T00:23:22.631249Z"
    }
   },
   "outputs": [],
   "source": [
    "df['Start_Time'] = pd.to_datetime(df['Start_Time'] )\n",
    "df['End_Time'] = pd.to_datetime(df['End_Time'] )\n",
    "df['Weather_Timestamp'] = pd.to_datetime(df['Weather_Timestamp'] )"
   ]
  },
  {
   "cell_type": "code",
   "execution_count": 48,
   "metadata": {
    "ExecuteTime": {
     "end_time": "2023-01-23T00:23:35.896346Z",
     "start_time": "2023-01-23T00:23:34.863584Z"
    }
   },
   "outputs": [],
   "source": [
    "df['Start_Year'] = df.Start_Time.dt.year\n",
    "df['Start_Month'] = df.Start_Time.dt.month\n",
    "df['Accident_Count'] = 1"
   ]
  },
  {
   "cell_type": "code",
   "execution_count": 49,
   "metadata": {
    "ExecuteTime": {
     "end_time": "2023-01-23T00:23:38.065866Z",
     "start_time": "2023-01-23T00:23:35.902344Z"
    }
   },
   "outputs": [
    {
     "data": {
      "text/html": [
       "<style type=\"text/css\">\n",
       "</style>\n",
       "<table id=\"T_1f49d\">\n",
       "  <thead>\n",
       "    <tr>\n",
       "      <th class=\"index_name level0\" >Start_Year</th>\n",
       "      <th id=\"T_1f49d_level0_col0\" class=\"col_heading level0 col0\" >2015</th>\n",
       "      <th id=\"T_1f49d_level0_col1\" class=\"col_heading level0 col1\" >2016</th>\n",
       "      <th id=\"T_1f49d_level0_col2\" class=\"col_heading level0 col2\" >2017</th>\n",
       "      <th id=\"T_1f49d_level0_col3\" class=\"col_heading level0 col3\" >2018</th>\n",
       "      <th id=\"T_1f49d_level0_col4\" class=\"col_heading level0 col4\" >2019</th>\n",
       "      <th id=\"T_1f49d_level0_col5\" class=\"col_heading level0 col5\" >2020</th>\n",
       "      <th id=\"T_1f49d_level0_col6\" class=\"col_heading level0 col6\" >All</th>\n",
       "    </tr>\n",
       "    <tr>\n",
       "      <th class=\"index_name level0\" >Start_Month</th>\n",
       "      <th class=\"blank col0\" >&nbsp;</th>\n",
       "      <th class=\"blank col1\" >&nbsp;</th>\n",
       "      <th class=\"blank col2\" >&nbsp;</th>\n",
       "      <th class=\"blank col3\" >&nbsp;</th>\n",
       "      <th class=\"blank col4\" >&nbsp;</th>\n",
       "      <th class=\"blank col5\" >&nbsp;</th>\n",
       "      <th class=\"blank col6\" >&nbsp;</th>\n",
       "    </tr>\n",
       "  </thead>\n",
       "  <tbody>\n",
       "    <tr>\n",
       "      <th id=\"T_1f49d_level0_row0\" class=\"row_heading level0 row0\" >1</th>\n",
       "      <td id=\"T_1f49d_row0_col0\" class=\"data row0 col0\" >0</td>\n",
       "      <td id=\"T_1f49d_row0_col1\" class=\"data row0 col1\" >7</td>\n",
       "      <td id=\"T_1f49d_row0_col2\" class=\"data row0 col2\" >55,680</td>\n",
       "      <td id=\"T_1f49d_row0_col3\" class=\"data row0 col3\" >75,004</td>\n",
       "      <td id=\"T_1f49d_row0_col4\" class=\"data row0 col4\" >79,275</td>\n",
       "      <td id=\"T_1f49d_row0_col5\" class=\"data row0 col5\" >6</td>\n",
       "      <td id=\"T_1f49d_row0_col6\" class=\"data row0 col6\" >209,972</td>\n",
       "    </tr>\n",
       "    <tr>\n",
       "      <th id=\"T_1f49d_level0_row1\" class=\"row_heading level0 row1\" >2</th>\n",
       "      <td id=\"T_1f49d_row1_col0\" class=\"data row1 col0\" >0</td>\n",
       "      <td id=\"T_1f49d_row1_col1\" class=\"data row1 col1\" >985</td>\n",
       "      <td id=\"T_1f49d_row1_col2\" class=\"data row1 col2\" >51,640</td>\n",
       "      <td id=\"T_1f49d_row1_col3\" class=\"data row1 col3\" >71,468</td>\n",
       "      <td id=\"T_1f49d_row1_col4\" class=\"data row1 col4\" >74,556</td>\n",
       "      <td id=\"T_1f49d_row1_col5\" class=\"data row1 col5\" >0</td>\n",
       "      <td id=\"T_1f49d_row1_col6\" class=\"data row1 col6\" >198,649</td>\n",
       "    </tr>\n",
       "    <tr>\n",
       "      <th id=\"T_1f49d_level0_row2\" class=\"row_heading level0 row2\" >3</th>\n",
       "      <td id=\"T_1f49d_row2_col0\" class=\"data row2 col0\" >1</td>\n",
       "      <td id=\"T_1f49d_row2_col1\" class=\"data row2 col1\" >6,329</td>\n",
       "      <td id=\"T_1f49d_row2_col2\" class=\"data row2 col2\" >57,283</td>\n",
       "      <td id=\"T_1f49d_row2_col3\" class=\"data row2 col3\" >74,418</td>\n",
       "      <td id=\"T_1f49d_row2_col4\" class=\"data row2 col4\" >69,396</td>\n",
       "      <td id=\"T_1f49d_row2_col5\" class=\"data row2 col5\" >0</td>\n",
       "      <td id=\"T_1f49d_row2_col6\" class=\"data row2 col6\" >207,427</td>\n",
       "    </tr>\n",
       "    <tr>\n",
       "      <th id=\"T_1f49d_level0_row3\" class=\"row_heading level0 row3\" >4</th>\n",
       "      <td id=\"T_1f49d_row3_col0\" class=\"data row3 col0\" >0</td>\n",
       "      <td id=\"T_1f49d_row3_col1\" class=\"data row3 col1\" >18,088</td>\n",
       "      <td id=\"T_1f49d_row3_col2\" class=\"data row3 col2\" >48,087</td>\n",
       "      <td id=\"T_1f49d_row3_col3\" class=\"data row3 col3\" >72,588</td>\n",
       "      <td id=\"T_1f49d_row3_col4\" class=\"data row3 col4\" >73,000</td>\n",
       "      <td id=\"T_1f49d_row3_col5\" class=\"data row3 col5\" >0</td>\n",
       "      <td id=\"T_1f49d_row3_col6\" class=\"data row3 col6\" >211,763</td>\n",
       "    </tr>\n",
       "    <tr>\n",
       "      <th id=\"T_1f49d_level0_row4\" class=\"row_heading level0 row4\" >5</th>\n",
       "      <td id=\"T_1f49d_row4_col0\" class=\"data row4 col0\" >0</td>\n",
       "      <td id=\"T_1f49d_row4_col1\" class=\"data row4 col1\" >17,610</td>\n",
       "      <td id=\"T_1f49d_row4_col2\" class=\"data row4 col2\" >41,106</td>\n",
       "      <td id=\"T_1f49d_row4_col3\" class=\"data row4 col3\" >76,476</td>\n",
       "      <td id=\"T_1f49d_row4_col4\" class=\"data row4 col4\" >73,868</td>\n",
       "      <td id=\"T_1f49d_row4_col5\" class=\"data row4 col5\" >0</td>\n",
       "      <td id=\"T_1f49d_row4_col6\" class=\"data row4 col6\" >209,060</td>\n",
       "    </tr>\n",
       "    <tr>\n",
       "      <th id=\"T_1f49d_level0_row5\" class=\"row_heading level0 row5\" >6</th>\n",
       "      <td id=\"T_1f49d_row5_col0\" class=\"data row5 col0\" >0</td>\n",
       "      <td id=\"T_1f49d_row5_col1\" class=\"data row5 col1\" >30,527</td>\n",
       "      <td id=\"T_1f49d_row5_col2\" class=\"data row5 col2\" >46,221</td>\n",
       "      <td id=\"T_1f49d_row5_col3\" class=\"data row5 col3\" >67,781</td>\n",
       "      <td id=\"T_1f49d_row5_col4\" class=\"data row5 col4\" >65,496</td>\n",
       "      <td id=\"T_1f49d_row5_col5\" class=\"data row5 col5\" >0</td>\n",
       "      <td id=\"T_1f49d_row5_col6\" class=\"data row5 col6\" >210,025</td>\n",
       "    </tr>\n",
       "    <tr>\n",
       "      <th id=\"T_1f49d_level0_row6\" class=\"row_heading level0 row6\" >7</th>\n",
       "      <td id=\"T_1f49d_row6_col0\" class=\"data row6 col0\" >0</td>\n",
       "      <td id=\"T_1f49d_row6_col1\" class=\"data row6 col1\" >45,759</td>\n",
       "      <td id=\"T_1f49d_row6_col2\" class=\"data row6 col2\" >43,225</td>\n",
       "      <td id=\"T_1f49d_row6_col3\" class=\"data row6 col3\" >65,743</td>\n",
       "      <td id=\"T_1f49d_row6_col4\" class=\"data row6 col4\" >68,232</td>\n",
       "      <td id=\"T_1f49d_row6_col5\" class=\"data row6 col5\" >0</td>\n",
       "      <td id=\"T_1f49d_row6_col6\" class=\"data row6 col6\" >222,959</td>\n",
       "    </tr>\n",
       "    <tr>\n",
       "      <th id=\"T_1f49d_level0_row7\" class=\"row_heading level0 row7\" >8</th>\n",
       "      <td id=\"T_1f49d_row7_col0\" class=\"data row7 col0\" >0</td>\n",
       "      <td id=\"T_1f49d_row7_col1\" class=\"data row7 col1\" >56,425</td>\n",
       "      <td id=\"T_1f49d_row7_col2\" class=\"data row7 col2\" >80,872</td>\n",
       "      <td id=\"T_1f49d_row7_col3\" class=\"data row7 col3\" >76,379</td>\n",
       "      <td id=\"T_1f49d_row7_col4\" class=\"data row7 col4\" >75,236</td>\n",
       "      <td id=\"T_1f49d_row7_col5\" class=\"data row7 col5\" >0</td>\n",
       "      <td id=\"T_1f49d_row7_col6\" class=\"data row7 col6\" >288,912</td>\n",
       "    </tr>\n",
       "    <tr>\n",
       "      <th id=\"T_1f49d_level0_row8\" class=\"row_heading level0 row8\" >9</th>\n",
       "      <td id=\"T_1f49d_row8_col0\" class=\"data row8 col0\" >0</td>\n",
       "      <td id=\"T_1f49d_row8_col1\" class=\"data row8 col1\" >54,664</td>\n",
       "      <td id=\"T_1f49d_row8_col2\" class=\"data row8 col2\" >76,818</td>\n",
       "      <td id=\"T_1f49d_row8_col3\" class=\"data row8 col3\" >73,282</td>\n",
       "      <td id=\"T_1f49d_row8_col4\" class=\"data row8 col4\" >87,666</td>\n",
       "      <td id=\"T_1f49d_row8_col5\" class=\"data row8 col5\" >0</td>\n",
       "      <td id=\"T_1f49d_row8_col6\" class=\"data row8 col6\" >292,430</td>\n",
       "    </tr>\n",
       "    <tr>\n",
       "      <th id=\"T_1f49d_level0_row9\" class=\"row_heading level0 row9\" >10</th>\n",
       "      <td id=\"T_1f49d_row9_col0\" class=\"data row9 col0\" >0</td>\n",
       "      <td id=\"T_1f49d_row9_col1\" class=\"data row9 col1\" >55,628</td>\n",
       "      <td id=\"T_1f49d_row9_col2\" class=\"data row9 col2\" >74,903</td>\n",
       "      <td id=\"T_1f49d_row9_col3\" class=\"data row9 col3\" >87,192</td>\n",
       "      <td id=\"T_1f49d_row9_col4\" class=\"data row9 col4\" >106,802</td>\n",
       "      <td id=\"T_1f49d_row9_col5\" class=\"data row9 col5\" >0</td>\n",
       "      <td id=\"T_1f49d_row9_col6\" class=\"data row9 col6\" >324,525</td>\n",
       "    </tr>\n",
       "    <tr>\n",
       "      <th id=\"T_1f49d_level0_row10\" class=\"row_heading level0 row10\" >11</th>\n",
       "      <td id=\"T_1f49d_row10_col0\" class=\"data row10 col0\" >0</td>\n",
       "      <td id=\"T_1f49d_row10_col1\" class=\"data row10 col1\" >65,010</td>\n",
       "      <td id=\"T_1f49d_row10_col2\" class=\"data row10 col2\" >70,073</td>\n",
       "      <td id=\"T_1f49d_row10_col3\" class=\"data row10 col3\" >82,079</td>\n",
       "      <td id=\"T_1f49d_row10_col4\" class=\"data row10 col4\" >81,893</td>\n",
       "      <td id=\"T_1f49d_row10_col5\" class=\"data row10 col5\" >0</td>\n",
       "      <td id=\"T_1f49d_row10_col6\" class=\"data row10 col6\" >299,055</td>\n",
       "    </tr>\n",
       "    <tr>\n",
       "      <th id=\"T_1f49d_level0_row11\" class=\"row_heading level0 row11\" >12</th>\n",
       "      <td id=\"T_1f49d_row11_col0\" class=\"data row11 col0\" >0</td>\n",
       "      <td id=\"T_1f49d_row11_col1\" class=\"data row11 col1\" >59,568</td>\n",
       "      <td id=\"T_1f49d_row11_col2\" class=\"data row11 col2\" >71,575</td>\n",
       "      <td id=\"T_1f49d_row11_col3\" class=\"data row11 col3\" >70,205</td>\n",
       "      <td id=\"T_1f49d_row11_col4\" class=\"data row11 col4\" >98,210</td>\n",
       "      <td id=\"T_1f49d_row11_col5\" class=\"data row11 col5\" >0</td>\n",
       "      <td id=\"T_1f49d_row11_col6\" class=\"data row11 col6\" >299,558</td>\n",
       "    </tr>\n",
       "    <tr>\n",
       "      <th id=\"T_1f49d_level0_row12\" class=\"row_heading level0 row12\" >All</th>\n",
       "      <td id=\"T_1f49d_row12_col0\" class=\"data row12 col0\" >1</td>\n",
       "      <td id=\"T_1f49d_row12_col1\" class=\"data row12 col1\" >410,600</td>\n",
       "      <td id=\"T_1f49d_row12_col2\" class=\"data row12 col2\" >717,483</td>\n",
       "      <td id=\"T_1f49d_row12_col3\" class=\"data row12 col3\" >892,615</td>\n",
       "      <td id=\"T_1f49d_row12_col4\" class=\"data row12 col4\" >953,630</td>\n",
       "      <td id=\"T_1f49d_row12_col5\" class=\"data row12 col5\" >6</td>\n",
       "      <td id=\"T_1f49d_row12_col6\" class=\"data row12 col6\" >2,974,335</td>\n",
       "    </tr>\n",
       "  </tbody>\n",
       "</table>\n"
      ],
      "text/plain": [
       "<pandas.io.formats.style.Styler at 0x23be9415c10>"
      ]
     },
     "execution_count": 49,
     "metadata": {},
     "output_type": "execute_result"
    }
   ],
   "source": [
    "pd.pivot_table(df, columns = 'Start_Year'\n",
    "                        , index = 'Start_Month'\n",
    "                        , values = 'Accident_Count'\n",
    "                        , aggfunc = np.sum\n",
    "                        , fill_value = 0\n",
    "                        , margins = True\n",
    "                        ).style.format ('{0:,.0f}') \n"
   ]
  },
  {
   "cell_type": "markdown",
   "metadata": {},
   "source": [
    "## Will remove 2015, 2016, and 2020 data\n",
    "For this analysis I want to be able to full year comparisons. Therefore, I will remove the following data because:\n",
    "* 2016 data is missing a few months and seem to be under reported\n",
    "* 2015 seems to be incorrect data input\n",
    "* 2020 is just a few records "
   ]
  },
  {
   "cell_type": "code",
   "execution_count": 50,
   "metadata": {
    "ExecuteTime": {
     "end_time": "2023-01-23T00:23:45.016911Z",
     "start_time": "2023-01-23T00:23:38.071863Z"
    }
   },
   "outputs": [],
   "source": [
    "#df = df[(df['Start_Year'] > 2016) & (df['Start_Year'] < 2020)]\n",
    "df = df.drop(df[(df['Start_Year'] < 2017) | (df['Start_Year'] > 2019)].index) "
   ]
  },
  {
   "cell_type": "code",
   "execution_count": 51,
   "metadata": {
    "ExecuteTime": {
     "end_time": "2023-01-23T00:23:46.294155Z",
     "start_time": "2023-01-23T00:23:45.024883Z"
    }
   },
   "outputs": [
    {
     "data": {
      "text/html": [
       "<style type=\"text/css\">\n",
       "</style>\n",
       "<table id=\"T_93efc\">\n",
       "  <thead>\n",
       "    <tr>\n",
       "      <th class=\"index_name level0\" >Start_Year</th>\n",
       "      <th id=\"T_93efc_level0_col0\" class=\"col_heading level0 col0\" >2017</th>\n",
       "      <th id=\"T_93efc_level0_col1\" class=\"col_heading level0 col1\" >2018</th>\n",
       "      <th id=\"T_93efc_level0_col2\" class=\"col_heading level0 col2\" >2019</th>\n",
       "      <th id=\"T_93efc_level0_col3\" class=\"col_heading level0 col3\" >All</th>\n",
       "    </tr>\n",
       "    <tr>\n",
       "      <th class=\"index_name level0\" >Start_Month</th>\n",
       "      <th class=\"blank col0\" >&nbsp;</th>\n",
       "      <th class=\"blank col1\" >&nbsp;</th>\n",
       "      <th class=\"blank col2\" >&nbsp;</th>\n",
       "      <th class=\"blank col3\" >&nbsp;</th>\n",
       "    </tr>\n",
       "  </thead>\n",
       "  <tbody>\n",
       "    <tr>\n",
       "      <th id=\"T_93efc_level0_row0\" class=\"row_heading level0 row0\" >1</th>\n",
       "      <td id=\"T_93efc_row0_col0\" class=\"data row0 col0\" >55,680</td>\n",
       "      <td id=\"T_93efc_row0_col1\" class=\"data row0 col1\" >75,004</td>\n",
       "      <td id=\"T_93efc_row0_col2\" class=\"data row0 col2\" >79,275</td>\n",
       "      <td id=\"T_93efc_row0_col3\" class=\"data row0 col3\" >209,959</td>\n",
       "    </tr>\n",
       "    <tr>\n",
       "      <th id=\"T_93efc_level0_row1\" class=\"row_heading level0 row1\" >2</th>\n",
       "      <td id=\"T_93efc_row1_col0\" class=\"data row1 col0\" >51,640</td>\n",
       "      <td id=\"T_93efc_row1_col1\" class=\"data row1 col1\" >71,468</td>\n",
       "      <td id=\"T_93efc_row1_col2\" class=\"data row1 col2\" >74,556</td>\n",
       "      <td id=\"T_93efc_row1_col3\" class=\"data row1 col3\" >197,664</td>\n",
       "    </tr>\n",
       "    <tr>\n",
       "      <th id=\"T_93efc_level0_row2\" class=\"row_heading level0 row2\" >3</th>\n",
       "      <td id=\"T_93efc_row2_col0\" class=\"data row2 col0\" >57,283</td>\n",
       "      <td id=\"T_93efc_row2_col1\" class=\"data row2 col1\" >74,418</td>\n",
       "      <td id=\"T_93efc_row2_col2\" class=\"data row2 col2\" >69,396</td>\n",
       "      <td id=\"T_93efc_row2_col3\" class=\"data row2 col3\" >201,097</td>\n",
       "    </tr>\n",
       "    <tr>\n",
       "      <th id=\"T_93efc_level0_row3\" class=\"row_heading level0 row3\" >4</th>\n",
       "      <td id=\"T_93efc_row3_col0\" class=\"data row3 col0\" >48,087</td>\n",
       "      <td id=\"T_93efc_row3_col1\" class=\"data row3 col1\" >72,588</td>\n",
       "      <td id=\"T_93efc_row3_col2\" class=\"data row3 col2\" >73,000</td>\n",
       "      <td id=\"T_93efc_row3_col3\" class=\"data row3 col3\" >193,675</td>\n",
       "    </tr>\n",
       "    <tr>\n",
       "      <th id=\"T_93efc_level0_row4\" class=\"row_heading level0 row4\" >5</th>\n",
       "      <td id=\"T_93efc_row4_col0\" class=\"data row4 col0\" >41,106</td>\n",
       "      <td id=\"T_93efc_row4_col1\" class=\"data row4 col1\" >76,476</td>\n",
       "      <td id=\"T_93efc_row4_col2\" class=\"data row4 col2\" >73,868</td>\n",
       "      <td id=\"T_93efc_row4_col3\" class=\"data row4 col3\" >191,450</td>\n",
       "    </tr>\n",
       "    <tr>\n",
       "      <th id=\"T_93efc_level0_row5\" class=\"row_heading level0 row5\" >6</th>\n",
       "      <td id=\"T_93efc_row5_col0\" class=\"data row5 col0\" >46,221</td>\n",
       "      <td id=\"T_93efc_row5_col1\" class=\"data row5 col1\" >67,781</td>\n",
       "      <td id=\"T_93efc_row5_col2\" class=\"data row5 col2\" >65,496</td>\n",
       "      <td id=\"T_93efc_row5_col3\" class=\"data row5 col3\" >179,498</td>\n",
       "    </tr>\n",
       "    <tr>\n",
       "      <th id=\"T_93efc_level0_row6\" class=\"row_heading level0 row6\" >7</th>\n",
       "      <td id=\"T_93efc_row6_col0\" class=\"data row6 col0\" >43,225</td>\n",
       "      <td id=\"T_93efc_row6_col1\" class=\"data row6 col1\" >65,743</td>\n",
       "      <td id=\"T_93efc_row6_col2\" class=\"data row6 col2\" >68,232</td>\n",
       "      <td id=\"T_93efc_row6_col3\" class=\"data row6 col3\" >177,200</td>\n",
       "    </tr>\n",
       "    <tr>\n",
       "      <th id=\"T_93efc_level0_row7\" class=\"row_heading level0 row7\" >8</th>\n",
       "      <td id=\"T_93efc_row7_col0\" class=\"data row7 col0\" >80,872</td>\n",
       "      <td id=\"T_93efc_row7_col1\" class=\"data row7 col1\" >76,379</td>\n",
       "      <td id=\"T_93efc_row7_col2\" class=\"data row7 col2\" >75,236</td>\n",
       "      <td id=\"T_93efc_row7_col3\" class=\"data row7 col3\" >232,487</td>\n",
       "    </tr>\n",
       "    <tr>\n",
       "      <th id=\"T_93efc_level0_row8\" class=\"row_heading level0 row8\" >9</th>\n",
       "      <td id=\"T_93efc_row8_col0\" class=\"data row8 col0\" >76,818</td>\n",
       "      <td id=\"T_93efc_row8_col1\" class=\"data row8 col1\" >73,282</td>\n",
       "      <td id=\"T_93efc_row8_col2\" class=\"data row8 col2\" >87,666</td>\n",
       "      <td id=\"T_93efc_row8_col3\" class=\"data row8 col3\" >237,766</td>\n",
       "    </tr>\n",
       "    <tr>\n",
       "      <th id=\"T_93efc_level0_row9\" class=\"row_heading level0 row9\" >10</th>\n",
       "      <td id=\"T_93efc_row9_col0\" class=\"data row9 col0\" >74,903</td>\n",
       "      <td id=\"T_93efc_row9_col1\" class=\"data row9 col1\" >87,192</td>\n",
       "      <td id=\"T_93efc_row9_col2\" class=\"data row9 col2\" >106,802</td>\n",
       "      <td id=\"T_93efc_row9_col3\" class=\"data row9 col3\" >268,897</td>\n",
       "    </tr>\n",
       "    <tr>\n",
       "      <th id=\"T_93efc_level0_row10\" class=\"row_heading level0 row10\" >11</th>\n",
       "      <td id=\"T_93efc_row10_col0\" class=\"data row10 col0\" >70,073</td>\n",
       "      <td id=\"T_93efc_row10_col1\" class=\"data row10 col1\" >82,079</td>\n",
       "      <td id=\"T_93efc_row10_col2\" class=\"data row10 col2\" >81,893</td>\n",
       "      <td id=\"T_93efc_row10_col3\" class=\"data row10 col3\" >234,045</td>\n",
       "    </tr>\n",
       "    <tr>\n",
       "      <th id=\"T_93efc_level0_row11\" class=\"row_heading level0 row11\" >12</th>\n",
       "      <td id=\"T_93efc_row11_col0\" class=\"data row11 col0\" >71,575</td>\n",
       "      <td id=\"T_93efc_row11_col1\" class=\"data row11 col1\" >70,205</td>\n",
       "      <td id=\"T_93efc_row11_col2\" class=\"data row11 col2\" >98,210</td>\n",
       "      <td id=\"T_93efc_row11_col3\" class=\"data row11 col3\" >239,990</td>\n",
       "    </tr>\n",
       "    <tr>\n",
       "      <th id=\"T_93efc_level0_row12\" class=\"row_heading level0 row12\" >All</th>\n",
       "      <td id=\"T_93efc_row12_col0\" class=\"data row12 col0\" >717,483</td>\n",
       "      <td id=\"T_93efc_row12_col1\" class=\"data row12 col1\" >892,615</td>\n",
       "      <td id=\"T_93efc_row12_col2\" class=\"data row12 col2\" >953,630</td>\n",
       "      <td id=\"T_93efc_row12_col3\" class=\"data row12 col3\" >2,563,728</td>\n",
       "    </tr>\n",
       "  </tbody>\n",
       "</table>\n"
      ],
      "text/plain": [
       "<pandas.io.formats.style.Styler at 0x23be942aa30>"
      ]
     },
     "execution_count": 51,
     "metadata": {},
     "output_type": "execute_result"
    }
   ],
   "source": [
    "pd.pivot_table(df, columns = 'Start_Year'\n",
    "                        , index = 'Start_Month'\n",
    "                        , values = 'Accident_Count'\n",
    "                        , aggfunc = np.sum\n",
    "                        , fill_value = 0\n",
    "                        , margins = True\n",
    "                        ).style.format ('{0:,.0f}')\n"
   ]
  },
  {
   "cell_type": "markdown",
   "metadata": {},
   "source": [
    "## Convert TMC Codes to Descriptions\n",
    "* Collect codes from openstreetmap\n",
    "    * Rename columns as needed\n",
    "    * Drop unnecessary columns\n",
    "* Them merge TMC Code stable to the existing data\n",
    "* Fill in missing values with Unknown"
   ]
  },
  {
   "cell_type": "code",
   "execution_count": 52,
   "metadata": {
    "ExecuteTime": {
     "end_time": "2023-01-23T00:23:46.325135Z",
     "start_time": "2023-01-23T00:23:46.305147Z"
    }
   },
   "outputs": [],
   "source": [
    "import requests"
   ]
  },
  {
   "cell_type": "code",
   "execution_count": 53,
   "metadata": {
    "ExecuteTime": {
     "end_time": "2023-01-23T00:23:49.888098Z",
     "start_time": "2023-01-23T00:23:46.337129Z"
    }
   },
   "outputs": [
    {
     "data": {
      "text/html": [
       "<div>\n",
       "<style scoped>\n",
       "    .dataframe tbody tr th:only-of-type {\n",
       "        vertical-align: middle;\n",
       "    }\n",
       "\n",
       "    .dataframe tbody tr th {\n",
       "        vertical-align: top;\n",
       "    }\n",
       "\n",
       "    .dataframe thead th {\n",
       "        text-align: right;\n",
       "    }\n",
       "</style>\n",
       "<table border=\"1\" class=\"dataframe\">\n",
       "  <thead>\n",
       "    <tr style=\"text-align: right;\">\n",
       "      <th></th>\n",
       "      <th>TMC_Description</th>\n",
       "      <th>N</th>\n",
       "      <th>Q</th>\n",
       "      <th>T</th>\n",
       "      <th>D</th>\n",
       "      <th>U</th>\n",
       "      <th>C</th>\n",
       "      <th>R</th>\n",
       "    </tr>\n",
       "    <tr>\n",
       "      <th>TMC</th>\n",
       "      <th></th>\n",
       "      <th></th>\n",
       "      <th></th>\n",
       "      <th></th>\n",
       "      <th></th>\n",
       "      <th></th>\n",
       "      <th></th>\n",
       "      <th></th>\n",
       "    </tr>\n",
       "  </thead>\n",
       "  <tbody>\n",
       "    <tr>\n",
       "      <th>1</th>\n",
       "      <td>traffic problem</td>\n",
       "      <td>NaN</td>\n",
       "      <td>0</td>\n",
       "      <td>D</td>\n",
       "      <td>1</td>\n",
       "      <td>U</td>\n",
       "      <td>1</td>\n",
       "      <td>A50</td>\n",
       "    </tr>\n",
       "    <tr>\n",
       "      <th>2</th>\n",
       "      <td>queuing traffic (with average speeds Q). Dange...</td>\n",
       "      <td>NaN</td>\n",
       "      <td>4</td>\n",
       "      <td>D</td>\n",
       "      <td>1</td>\n",
       "      <td>U</td>\n",
       "      <td>1</td>\n",
       "      <td>A2.A1D</td>\n",
       "    </tr>\n",
       "    <tr>\n",
       "      <th>11</th>\n",
       "      <td>overheight warning system triggered</td>\n",
       "      <td>NaN</td>\n",
       "      <td>0</td>\n",
       "      <td>(D)</td>\n",
       "      <td>1</td>\n",
       "      <td>U</td>\n",
       "      <td>4</td>\n",
       "      <td>B50</td>\n",
       "    </tr>\n",
       "    <tr>\n",
       "      <th>12</th>\n",
       "      <td>(Q) accident(s), traffic being directed around...</td>\n",
       "      <td>NaN</td>\n",
       "      <td>0</td>\n",
       "      <td>D</td>\n",
       "      <td>1</td>\n",
       "      <td>U</td>\n",
       "      <td>3</td>\n",
       "      <td>B1.Z95</td>\n",
       "    </tr>\n",
       "    <tr>\n",
       "      <th>16</th>\n",
       "      <td>closed, rescue and recovery work in progress</td>\n",
       "      <td>NaN</td>\n",
       "      <td>0</td>\n",
       "      <td>D</td>\n",
       "      <td>1</td>\n",
       "      <td>U</td>\n",
       "      <td>5</td>\n",
       "      <td>C1.Z42</td>\n",
       "    </tr>\n",
       "    <tr>\n",
       "      <th>...</th>\n",
       "      <td>...</td>\n",
       "      <td>...</td>\n",
       "      <td>...</td>\n",
       "      <td>...</td>\n",
       "      <td>...</td>\n",
       "      <td>...</td>\n",
       "      <td>...</td>\n",
       "      <td>...</td>\n",
       "    </tr>\n",
       "    <tr>\n",
       "      <th>2043</th>\n",
       "      <td>road salted</td>\n",
       "      <td>NaN</td>\n",
       "      <td>0</td>\n",
       "      <td>D</td>\n",
       "      <td>1</td>\n",
       "      <td>NaN</td>\n",
       "      <td>14</td>\n",
       "      <td>Gnn</td>\n",
       "    </tr>\n",
       "    <tr>\n",
       "      <th>2044</th>\n",
       "      <td>danger of snow patches</td>\n",
       "      <td>NaN</td>\n",
       "      <td>0</td>\n",
       "      <td>D</td>\n",
       "      <td>2</td>\n",
       "      <td>U</td>\n",
       "      <td>14</td>\n",
       "      <td>GnnD</td>\n",
       "    </tr>\n",
       "    <tr>\n",
       "      <th>2045</th>\n",
       "      <td>snow patches</td>\n",
       "      <td>NaN</td>\n",
       "      <td>0</td>\n",
       "      <td>D</td>\n",
       "      <td>2</td>\n",
       "      <td>U</td>\n",
       "      <td>14</td>\n",
       "      <td>Gnn</td>\n",
       "    </tr>\n",
       "    <tr>\n",
       "      <th>2046</th>\n",
       "      <td>Convoy service required due to bad weather</td>\n",
       "      <td>NaN</td>\n",
       "      <td>0</td>\n",
       "      <td>D</td>\n",
       "      <td>2</td>\n",
       "      <td>U</td>\n",
       "      <td>9</td>\n",
       "      <td>Unn</td>\n",
       "    </tr>\n",
       "    <tr>\n",
       "      <th>2047</th>\n",
       "      <td>(null message) {completely silent message, see...</td>\n",
       "      <td>S</td>\n",
       "      <td>0</td>\n",
       "      <td>(D)</td>\n",
       "      <td>2</td>\n",
       "      <td>NaN</td>\n",
       "      <td>31</td>\n",
       "      <td>Y11</td>\n",
       "    </tr>\n",
       "  </tbody>\n",
       "</table>\n",
       "<p>1552 rows × 8 columns</p>\n",
       "</div>"
      ],
      "text/plain": [
       "                                        TMC_Description    N  Q    T  D    U  \\\n",
       "TMC                                                                            \n",
       "1                                       traffic problem  NaN  0    D  1    U   \n",
       "2     queuing traffic (with average speeds Q). Dange...  NaN  4    D  1    U   \n",
       "11                  overheight warning system triggered  NaN  0  (D)  1    U   \n",
       "12    (Q) accident(s), traffic being directed around...  NaN  0    D  1    U   \n",
       "16         closed, rescue and recovery work in progress  NaN  0    D  1    U   \n",
       "...                                                 ...  ... ..  ... ..  ...   \n",
       "2043                                        road salted  NaN  0    D  1  NaN   \n",
       "2044                             danger of snow patches  NaN  0    D  2    U   \n",
       "2045                                       snow patches  NaN  0    D  2    U   \n",
       "2046         Convoy service required due to bad weather  NaN  0    D  2    U   \n",
       "2047  (null message) {completely silent message, see...    S  0  (D)  2  NaN   \n",
       "\n",
       "       C       R  \n",
       "TMC               \n",
       "1      1     A50  \n",
       "2      1  A2.A1D  \n",
       "11     4     B50  \n",
       "12     3  B1.Z95  \n",
       "16     5  C1.Z42  \n",
       "...   ..     ...  \n",
       "2043  14     Gnn  \n",
       "2044  14    GnnD  \n",
       "2045  14     Gnn  \n",
       "2046   9     Unn  \n",
       "2047  31     Y11  \n",
       "\n",
       "[1552 rows x 8 columns]"
      ]
     },
     "execution_count": 53,
     "metadata": {},
     "output_type": "execute_result"
    }
   ],
   "source": [
    "url = 'https://wiki.openstreetmap.org/wiki/TMC/Event_Code_List'\n",
    "html = requests.get(url).content\n",
    "tmc_list = pd.read_html(html,index_col='Code',)\n",
    "df_tmc = tmc_list[0]\n",
    "df_tmc.index.name = 'TMC'\n",
    "df_tmc.rename(columns = {'Description':'TMC_Description'}, inplace = True)\n",
    "df_tmc"
   ]
  },
  {
   "cell_type": "code",
   "execution_count": 54,
   "metadata": {
    "ExecuteTime": {
     "end_time": "2023-01-23T00:23:49.925074Z",
     "start_time": "2023-01-23T00:23:49.897091Z"
    }
   },
   "outputs": [
    {
     "data": {
      "text/plain": [
       "Index(['N', 'Q', 'T', 'D', 'U', 'C', 'R'], dtype='object')"
      ]
     },
     "execution_count": 54,
     "metadata": {},
     "output_type": "execute_result"
    }
   ],
   "source": [
    "df_tmc.columns[1:]"
   ]
  },
  {
   "cell_type": "code",
   "execution_count": 55,
   "metadata": {
    "ExecuteTime": {
     "end_time": "2023-01-23T00:23:49.967049Z",
     "start_time": "2023-01-23T00:23:49.936068Z"
    }
   },
   "outputs": [
    {
     "data": {
      "text/html": [
       "<div>\n",
       "<style scoped>\n",
       "    .dataframe tbody tr th:only-of-type {\n",
       "        vertical-align: middle;\n",
       "    }\n",
       "\n",
       "    .dataframe tbody tr th {\n",
       "        vertical-align: top;\n",
       "    }\n",
       "\n",
       "    .dataframe thead th {\n",
       "        text-align: right;\n",
       "    }\n",
       "</style>\n",
       "<table border=\"1\" class=\"dataframe\">\n",
       "  <thead>\n",
       "    <tr style=\"text-align: right;\">\n",
       "      <th></th>\n",
       "      <th>TMC_Description</th>\n",
       "    </tr>\n",
       "    <tr>\n",
       "      <th>TMC</th>\n",
       "      <th></th>\n",
       "    </tr>\n",
       "  </thead>\n",
       "  <tbody>\n",
       "    <tr>\n",
       "      <th>2043</th>\n",
       "      <td>road salted</td>\n",
       "    </tr>\n",
       "    <tr>\n",
       "      <th>2044</th>\n",
       "      <td>danger of snow patches</td>\n",
       "    </tr>\n",
       "    <tr>\n",
       "      <th>2045</th>\n",
       "      <td>snow patches</td>\n",
       "    </tr>\n",
       "    <tr>\n",
       "      <th>2046</th>\n",
       "      <td>Convoy service required due to bad weather</td>\n",
       "    </tr>\n",
       "    <tr>\n",
       "      <th>2047</th>\n",
       "      <td>(null message) {completely silent message, see...</td>\n",
       "    </tr>\n",
       "  </tbody>\n",
       "</table>\n",
       "</div>"
      ],
      "text/plain": [
       "                                        TMC_Description\n",
       "TMC                                                    \n",
       "2043                                        road salted\n",
       "2044                             danger of snow patches\n",
       "2045                                       snow patches\n",
       "2046         Convoy service required due to bad weather\n",
       "2047  (null message) {completely silent message, see..."
      ]
     },
     "execution_count": 55,
     "metadata": {},
     "output_type": "execute_result"
    }
   ],
   "source": [
    "df_tmc = df_tmc.drop(df_tmc.columns[1:],axis=1)\n",
    "df_tmc.tail()"
   ]
  },
  {
   "cell_type": "code",
   "execution_count": 56,
   "metadata": {
    "ExecuteTime": {
     "end_time": "2023-01-23T00:24:03.274428Z",
     "start_time": "2023-01-23T00:23:49.985039Z"
    }
   },
   "outputs": [
    {
     "data": {
      "text/html": [
       "<div>\n",
       "<style scoped>\n",
       "    .dataframe tbody tr th:only-of-type {\n",
       "        vertical-align: middle;\n",
       "    }\n",
       "\n",
       "    .dataframe tbody tr th {\n",
       "        vertical-align: top;\n",
       "    }\n",
       "\n",
       "    .dataframe thead th {\n",
       "        text-align: right;\n",
       "    }\n",
       "</style>\n",
       "<table border=\"1\" class=\"dataframe\">\n",
       "  <thead>\n",
       "    <tr style=\"text-align: right;\">\n",
       "      <th></th>\n",
       "      <th>Source</th>\n",
       "      <th>TMC</th>\n",
       "      <th>Severity</th>\n",
       "      <th>Start_Time</th>\n",
       "      <th>End_Time</th>\n",
       "      <th>Start_Lat</th>\n",
       "      <th>Start_Lng</th>\n",
       "      <th>End_Lat</th>\n",
       "      <th>End_Lng</th>\n",
       "      <th>Distance(mi)</th>\n",
       "      <th>...</th>\n",
       "      <th>Traffic_Signal</th>\n",
       "      <th>Turning_Loop</th>\n",
       "      <th>Sunrise_Sunset</th>\n",
       "      <th>Civil_Twilight</th>\n",
       "      <th>Nautical_Twilight</th>\n",
       "      <th>Astronomical_Twilight</th>\n",
       "      <th>Start_Year</th>\n",
       "      <th>Start_Month</th>\n",
       "      <th>Accident_Count</th>\n",
       "      <th>TMC_Description</th>\n",
       "    </tr>\n",
       "  </thead>\n",
       "  <tbody>\n",
       "    <tr>\n",
       "      <th>0</th>\n",
       "      <td>MapQuest</td>\n",
       "      <td>201</td>\n",
       "      <td>3</td>\n",
       "      <td>2017-01-01 00:17:36</td>\n",
       "      <td>2017-01-01 00:47:12</td>\n",
       "      <td>38</td>\n",
       "      <td>-122</td>\n",
       "      <td>NaN</td>\n",
       "      <td>NaN</td>\n",
       "      <td>0</td>\n",
       "      <td>...</td>\n",
       "      <td>True</td>\n",
       "      <td>False</td>\n",
       "      <td>Night</td>\n",
       "      <td>Night</td>\n",
       "      <td>Night</td>\n",
       "      <td>Night</td>\n",
       "      <td>2017</td>\n",
       "      <td>1</td>\n",
       "      <td>1</td>\n",
       "      <td>(Q) accident(s)</td>\n",
       "    </tr>\n",
       "    <tr>\n",
       "      <th>1</th>\n",
       "      <td>MapQuest</td>\n",
       "      <td>201</td>\n",
       "      <td>3</td>\n",
       "      <td>2017-01-01 00:26:08</td>\n",
       "      <td>2017-01-01 01:16:06</td>\n",
       "      <td>38</td>\n",
       "      <td>-122</td>\n",
       "      <td>NaN</td>\n",
       "      <td>NaN</td>\n",
       "      <td>0</td>\n",
       "      <td>...</td>\n",
       "      <td>False</td>\n",
       "      <td>False</td>\n",
       "      <td>Night</td>\n",
       "      <td>Night</td>\n",
       "      <td>Night</td>\n",
       "      <td>Night</td>\n",
       "      <td>2017</td>\n",
       "      <td>1</td>\n",
       "      <td>1</td>\n",
       "      <td>(Q) accident(s)</td>\n",
       "    </tr>\n",
       "    <tr>\n",
       "      <th>2</th>\n",
       "      <td>MapQuest</td>\n",
       "      <td>201</td>\n",
       "      <td>2</td>\n",
       "      <td>2017-01-01 00:53:41</td>\n",
       "      <td>2017-01-01 01:22:35</td>\n",
       "      <td>38</td>\n",
       "      <td>-122</td>\n",
       "      <td>NaN</td>\n",
       "      <td>NaN</td>\n",
       "      <td>0</td>\n",
       "      <td>...</td>\n",
       "      <td>False</td>\n",
       "      <td>False</td>\n",
       "      <td>Night</td>\n",
       "      <td>Night</td>\n",
       "      <td>Night</td>\n",
       "      <td>Night</td>\n",
       "      <td>2017</td>\n",
       "      <td>1</td>\n",
       "      <td>1</td>\n",
       "      <td>(Q) accident(s)</td>\n",
       "    </tr>\n",
       "    <tr>\n",
       "      <th>3</th>\n",
       "      <td>MapQuest</td>\n",
       "      <td>241</td>\n",
       "      <td>3</td>\n",
       "      <td>2017-01-01 01:18:51</td>\n",
       "      <td>2017-01-01 01:48:01</td>\n",
       "      <td>38</td>\n",
       "      <td>-122</td>\n",
       "      <td>NaN</td>\n",
       "      <td>NaN</td>\n",
       "      <td>0</td>\n",
       "      <td>...</td>\n",
       "      <td>False</td>\n",
       "      <td>False</td>\n",
       "      <td>Night</td>\n",
       "      <td>Night</td>\n",
       "      <td>Night</td>\n",
       "      <td>Night</td>\n",
       "      <td>2017</td>\n",
       "      <td>1</td>\n",
       "      <td>1</td>\n",
       "      <td>(Q) accident(s). Right lane blocked</td>\n",
       "    </tr>\n",
       "    <tr>\n",
       "      <th>4</th>\n",
       "      <td>MapQuest</td>\n",
       "      <td>222</td>\n",
       "      <td>3</td>\n",
       "      <td>2017-01-01 01:20:12</td>\n",
       "      <td>2017-01-01 01:49:47</td>\n",
       "      <td>38</td>\n",
       "      <td>-122</td>\n",
       "      <td>NaN</td>\n",
       "      <td>NaN</td>\n",
       "      <td>0</td>\n",
       "      <td>...</td>\n",
       "      <td>True</td>\n",
       "      <td>False</td>\n",
       "      <td>Night</td>\n",
       "      <td>Night</td>\n",
       "      <td>Night</td>\n",
       "      <td>Night</td>\n",
       "      <td>2017</td>\n",
       "      <td>1</td>\n",
       "      <td>1</td>\n",
       "      <td>(Q) accident(s). Queuing traffic</td>\n",
       "    </tr>\n",
       "    <tr>\n",
       "      <th>...</th>\n",
       "      <td>...</td>\n",
       "      <td>...</td>\n",
       "      <td>...</td>\n",
       "      <td>...</td>\n",
       "      <td>...</td>\n",
       "      <td>...</td>\n",
       "      <td>...</td>\n",
       "      <td>...</td>\n",
       "      <td>...</td>\n",
       "      <td>...</td>\n",
       "      <td>...</td>\n",
       "      <td>...</td>\n",
       "      <td>...</td>\n",
       "      <td>...</td>\n",
       "      <td>...</td>\n",
       "      <td>...</td>\n",
       "      <td>...</td>\n",
       "      <td>...</td>\n",
       "      <td>...</td>\n",
       "      <td>...</td>\n",
       "      <td>...</td>\n",
       "    </tr>\n",
       "    <tr>\n",
       "      <th>2563723</th>\n",
       "      <td>Bing</td>\n",
       "      <td>NaN</td>\n",
       "      <td>2</td>\n",
       "      <td>2019-08-23 18:03:25</td>\n",
       "      <td>2019-08-23 18:32:01</td>\n",
       "      <td>34</td>\n",
       "      <td>-117</td>\n",
       "      <td>34</td>\n",
       "      <td>-117</td>\n",
       "      <td>1</td>\n",
       "      <td>...</td>\n",
       "      <td>False</td>\n",
       "      <td>False</td>\n",
       "      <td>Day</td>\n",
       "      <td>Day</td>\n",
       "      <td>Day</td>\n",
       "      <td>Day</td>\n",
       "      <td>2019</td>\n",
       "      <td>8</td>\n",
       "      <td>1</td>\n",
       "      <td>NaN</td>\n",
       "    </tr>\n",
       "    <tr>\n",
       "      <th>2563724</th>\n",
       "      <td>Bing</td>\n",
       "      <td>NaN</td>\n",
       "      <td>2</td>\n",
       "      <td>2019-08-23 19:11:30</td>\n",
       "      <td>2019-08-23 19:38:23</td>\n",
       "      <td>33</td>\n",
       "      <td>-117</td>\n",
       "      <td>33</td>\n",
       "      <td>-117</td>\n",
       "      <td>0</td>\n",
       "      <td>...</td>\n",
       "      <td>False</td>\n",
       "      <td>False</td>\n",
       "      <td>Day</td>\n",
       "      <td>Day</td>\n",
       "      <td>Day</td>\n",
       "      <td>Day</td>\n",
       "      <td>2019</td>\n",
       "      <td>8</td>\n",
       "      <td>1</td>\n",
       "      <td>NaN</td>\n",
       "    </tr>\n",
       "    <tr>\n",
       "      <th>2563725</th>\n",
       "      <td>Bing</td>\n",
       "      <td>NaN</td>\n",
       "      <td>2</td>\n",
       "      <td>2019-08-23 19:00:21</td>\n",
       "      <td>2019-08-23 19:28:49</td>\n",
       "      <td>34</td>\n",
       "      <td>-118</td>\n",
       "      <td>34</td>\n",
       "      <td>-118</td>\n",
       "      <td>1</td>\n",
       "      <td>...</td>\n",
       "      <td>False</td>\n",
       "      <td>False</td>\n",
       "      <td>Day</td>\n",
       "      <td>Day</td>\n",
       "      <td>Day</td>\n",
       "      <td>Day</td>\n",
       "      <td>2019</td>\n",
       "      <td>8</td>\n",
       "      <td>1</td>\n",
       "      <td>NaN</td>\n",
       "    </tr>\n",
       "    <tr>\n",
       "      <th>2563726</th>\n",
       "      <td>Bing</td>\n",
       "      <td>NaN</td>\n",
       "      <td>2</td>\n",
       "      <td>2019-08-23 19:00:21</td>\n",
       "      <td>2019-08-23 19:29:42</td>\n",
       "      <td>34</td>\n",
       "      <td>-118</td>\n",
       "      <td>34</td>\n",
       "      <td>-118</td>\n",
       "      <td>1</td>\n",
       "      <td>...</td>\n",
       "      <td>False</td>\n",
       "      <td>False</td>\n",
       "      <td>Day</td>\n",
       "      <td>Day</td>\n",
       "      <td>Day</td>\n",
       "      <td>Day</td>\n",
       "      <td>2019</td>\n",
       "      <td>8</td>\n",
       "      <td>1</td>\n",
       "      <td>NaN</td>\n",
       "    </tr>\n",
       "    <tr>\n",
       "      <th>2563727</th>\n",
       "      <td>Bing</td>\n",
       "      <td>NaN</td>\n",
       "      <td>2</td>\n",
       "      <td>2019-08-23 18:52:06</td>\n",
       "      <td>2019-08-23 19:21:31</td>\n",
       "      <td>34</td>\n",
       "      <td>-117</td>\n",
       "      <td>34</td>\n",
       "      <td>-117</td>\n",
       "      <td>1</td>\n",
       "      <td>...</td>\n",
       "      <td>False</td>\n",
       "      <td>False</td>\n",
       "      <td>Day</td>\n",
       "      <td>Day</td>\n",
       "      <td>Day</td>\n",
       "      <td>Day</td>\n",
       "      <td>2019</td>\n",
       "      <td>8</td>\n",
       "      <td>1</td>\n",
       "      <td>NaN</td>\n",
       "    </tr>\n",
       "  </tbody>\n",
       "</table>\n",
       "<p>2563728 rows × 51 columns</p>\n",
       "</div>"
      ],
      "text/plain": [
       "           Source  TMC  Severity          Start_Time            End_Time  \\\n",
       "0        MapQuest  201         3 2017-01-01 00:17:36 2017-01-01 00:47:12   \n",
       "1        MapQuest  201         3 2017-01-01 00:26:08 2017-01-01 01:16:06   \n",
       "2        MapQuest  201         2 2017-01-01 00:53:41 2017-01-01 01:22:35   \n",
       "3        MapQuest  241         3 2017-01-01 01:18:51 2017-01-01 01:48:01   \n",
       "4        MapQuest  222         3 2017-01-01 01:20:12 2017-01-01 01:49:47   \n",
       "...           ...  ...       ...                 ...                 ...   \n",
       "2563723      Bing  NaN         2 2019-08-23 18:03:25 2019-08-23 18:32:01   \n",
       "2563724      Bing  NaN         2 2019-08-23 19:11:30 2019-08-23 19:38:23   \n",
       "2563725      Bing  NaN         2 2019-08-23 19:00:21 2019-08-23 19:28:49   \n",
       "2563726      Bing  NaN         2 2019-08-23 19:00:21 2019-08-23 19:29:42   \n",
       "2563727      Bing  NaN         2 2019-08-23 18:52:06 2019-08-23 19:21:31   \n",
       "\n",
       "         Start_Lat  Start_Lng  End_Lat  End_Lng  Distance(mi)  ...  \\\n",
       "0               38       -122      NaN      NaN             0  ...   \n",
       "1               38       -122      NaN      NaN             0  ...   \n",
       "2               38       -122      NaN      NaN             0  ...   \n",
       "3               38       -122      NaN      NaN             0  ...   \n",
       "4               38       -122      NaN      NaN             0  ...   \n",
       "...            ...        ...      ...      ...           ...  ...   \n",
       "2563723         34       -117       34     -117             1  ...   \n",
       "2563724         33       -117       33     -117             0  ...   \n",
       "2563725         34       -118       34     -118             1  ...   \n",
       "2563726         34       -118       34     -118             1  ...   \n",
       "2563727         34       -117       34     -117             1  ...   \n",
       "\n",
       "        Traffic_Signal  Turning_Loop Sunrise_Sunset Civil_Twilight  \\\n",
       "0                 True         False          Night          Night   \n",
       "1                False         False          Night          Night   \n",
       "2                False         False          Night          Night   \n",
       "3                False         False          Night          Night   \n",
       "4                 True         False          Night          Night   \n",
       "...                ...           ...            ...            ...   \n",
       "2563723          False         False            Day            Day   \n",
       "2563724          False         False            Day            Day   \n",
       "2563725          False         False            Day            Day   \n",
       "2563726          False         False            Day            Day   \n",
       "2563727          False         False            Day            Day   \n",
       "\n",
       "        Nautical_Twilight Astronomical_Twilight Start_Year Start_Month  \\\n",
       "0                   Night                 Night       2017           1   \n",
       "1                   Night                 Night       2017           1   \n",
       "2                   Night                 Night       2017           1   \n",
       "3                   Night                 Night       2017           1   \n",
       "4                   Night                 Night       2017           1   \n",
       "...                   ...                   ...        ...         ...   \n",
       "2563723               Day                   Day       2019           8   \n",
       "2563724               Day                   Day       2019           8   \n",
       "2563725               Day                   Day       2019           8   \n",
       "2563726               Day                   Day       2019           8   \n",
       "2563727               Day                   Day       2019           8   \n",
       "\n",
       "        Accident_Count                      TMC_Description  \n",
       "0                    1                      (Q) accident(s)  \n",
       "1                    1                      (Q) accident(s)  \n",
       "2                    1                      (Q) accident(s)  \n",
       "3                    1  (Q) accident(s). Right lane blocked  \n",
       "4                    1     (Q) accident(s). Queuing traffic  \n",
       "...                ...                                  ...  \n",
       "2563723              1                                  NaN  \n",
       "2563724              1                                  NaN  \n",
       "2563725              1                                  NaN  \n",
       "2563726              1                                  NaN  \n",
       "2563727              1                                  NaN  \n",
       "\n",
       "[2563728 rows x 51 columns]"
      ]
     },
     "execution_count": 56,
     "metadata": {},
     "output_type": "execute_result"
    }
   ],
   "source": [
    "df= df.merge(df_tmc, left_on = 'TMC', right_on = 'TMC', how = 'left')\n",
    "df"
   ]
  },
  {
   "cell_type": "markdown",
   "metadata": {},
   "source": [
    "## For missing TMC data give it the generic Accident code\n",
    "* TMC = 201\n",
    "* TMC_Description = '(Q) accident(s)'"
   ]
  },
  {
   "cell_type": "code",
   "execution_count": 57,
   "metadata": {
    "ExecuteTime": {
     "end_time": "2023-01-23T00:24:03.593244Z",
     "start_time": "2023-01-23T00:24:03.282423Z"
    }
   },
   "outputs": [],
   "source": [
    "df['TMC'] = df['TMC'].fillna(value = 20)\n",
    "df['TMC_Description'] = df['TMC_Description'].fillna(value = '(Q) accident(s)')"
   ]
  },
  {
   "cell_type": "code",
   "execution_count": 58,
   "metadata": {
    "ExecuteTime": {
     "end_time": "2023-01-23T00:24:05.916426Z",
     "start_time": "2023-01-23T00:24:03.602249Z"
    }
   },
   "outputs": [
    {
     "data": {
      "text/html": [
       "<div>\n",
       "<style scoped>\n",
       "    .dataframe tbody tr th:only-of-type {\n",
       "        vertical-align: middle;\n",
       "    }\n",
       "\n",
       "    .dataframe tbody tr th {\n",
       "        vertical-align: top;\n",
       "    }\n",
       "\n",
       "    .dataframe thead th {\n",
       "        text-align: right;\n",
       "    }\n",
       "</style>\n",
       "<table border=\"1\" class=\"dataframe\">\n",
       "  <thead>\n",
       "    <tr style=\"text-align: right;\">\n",
       "      <th></th>\n",
       "      <th>Source</th>\n",
       "      <th>TMC</th>\n",
       "      <th>Severity</th>\n",
       "      <th>Start_Time</th>\n",
       "      <th>End_Time</th>\n",
       "      <th>Start_Lat</th>\n",
       "      <th>Start_Lng</th>\n",
       "      <th>End_Lat</th>\n",
       "      <th>End_Lng</th>\n",
       "      <th>Distance(mi)</th>\n",
       "      <th>...</th>\n",
       "      <th>Traffic_Signal</th>\n",
       "      <th>Turning_Loop</th>\n",
       "      <th>Sunrise_Sunset</th>\n",
       "      <th>Civil_Twilight</th>\n",
       "      <th>Nautical_Twilight</th>\n",
       "      <th>Astronomical_Twilight</th>\n",
       "      <th>Start_Year</th>\n",
       "      <th>Start_Month</th>\n",
       "      <th>Accident_Count</th>\n",
       "      <th>TMC_Description</th>\n",
       "    </tr>\n",
       "  </thead>\n",
       "  <tbody>\n",
       "    <tr>\n",
       "      <th>0</th>\n",
       "      <td>MapQuest</td>\n",
       "      <td>201</td>\n",
       "      <td>3</td>\n",
       "      <td>2017-01-01 00:17:36</td>\n",
       "      <td>2017-01-01 00:47:12</td>\n",
       "      <td>38</td>\n",
       "      <td>-122</td>\n",
       "      <td>NaN</td>\n",
       "      <td>NaN</td>\n",
       "      <td>0</td>\n",
       "      <td>...</td>\n",
       "      <td>True</td>\n",
       "      <td>False</td>\n",
       "      <td>Night</td>\n",
       "      <td>Night</td>\n",
       "      <td>Night</td>\n",
       "      <td>Night</td>\n",
       "      <td>2017</td>\n",
       "      <td>1</td>\n",
       "      <td>1</td>\n",
       "      <td>(Q) accident(s)</td>\n",
       "    </tr>\n",
       "    <tr>\n",
       "      <th>1</th>\n",
       "      <td>MapQuest</td>\n",
       "      <td>201</td>\n",
       "      <td>3</td>\n",
       "      <td>2017-01-01 00:26:08</td>\n",
       "      <td>2017-01-01 01:16:06</td>\n",
       "      <td>38</td>\n",
       "      <td>-122</td>\n",
       "      <td>NaN</td>\n",
       "      <td>NaN</td>\n",
       "      <td>0</td>\n",
       "      <td>...</td>\n",
       "      <td>False</td>\n",
       "      <td>False</td>\n",
       "      <td>Night</td>\n",
       "      <td>Night</td>\n",
       "      <td>Night</td>\n",
       "      <td>Night</td>\n",
       "      <td>2017</td>\n",
       "      <td>1</td>\n",
       "      <td>1</td>\n",
       "      <td>(Q) accident(s)</td>\n",
       "    </tr>\n",
       "    <tr>\n",
       "      <th>2</th>\n",
       "      <td>MapQuest</td>\n",
       "      <td>201</td>\n",
       "      <td>2</td>\n",
       "      <td>2017-01-01 00:53:41</td>\n",
       "      <td>2017-01-01 01:22:35</td>\n",
       "      <td>38</td>\n",
       "      <td>-122</td>\n",
       "      <td>NaN</td>\n",
       "      <td>NaN</td>\n",
       "      <td>0</td>\n",
       "      <td>...</td>\n",
       "      <td>False</td>\n",
       "      <td>False</td>\n",
       "      <td>Night</td>\n",
       "      <td>Night</td>\n",
       "      <td>Night</td>\n",
       "      <td>Night</td>\n",
       "      <td>2017</td>\n",
       "      <td>1</td>\n",
       "      <td>1</td>\n",
       "      <td>(Q) accident(s)</td>\n",
       "    </tr>\n",
       "    <tr>\n",
       "      <th>3</th>\n",
       "      <td>MapQuest</td>\n",
       "      <td>241</td>\n",
       "      <td>3</td>\n",
       "      <td>2017-01-01 01:18:51</td>\n",
       "      <td>2017-01-01 01:48:01</td>\n",
       "      <td>38</td>\n",
       "      <td>-122</td>\n",
       "      <td>NaN</td>\n",
       "      <td>NaN</td>\n",
       "      <td>0</td>\n",
       "      <td>...</td>\n",
       "      <td>False</td>\n",
       "      <td>False</td>\n",
       "      <td>Night</td>\n",
       "      <td>Night</td>\n",
       "      <td>Night</td>\n",
       "      <td>Night</td>\n",
       "      <td>2017</td>\n",
       "      <td>1</td>\n",
       "      <td>1</td>\n",
       "      <td>(Q) accident(s). Right lane blocked</td>\n",
       "    </tr>\n",
       "    <tr>\n",
       "      <th>4</th>\n",
       "      <td>MapQuest</td>\n",
       "      <td>222</td>\n",
       "      <td>3</td>\n",
       "      <td>2017-01-01 01:20:12</td>\n",
       "      <td>2017-01-01 01:49:47</td>\n",
       "      <td>38</td>\n",
       "      <td>-122</td>\n",
       "      <td>NaN</td>\n",
       "      <td>NaN</td>\n",
       "      <td>0</td>\n",
       "      <td>...</td>\n",
       "      <td>True</td>\n",
       "      <td>False</td>\n",
       "      <td>Night</td>\n",
       "      <td>Night</td>\n",
       "      <td>Night</td>\n",
       "      <td>Night</td>\n",
       "      <td>2017</td>\n",
       "      <td>1</td>\n",
       "      <td>1</td>\n",
       "      <td>(Q) accident(s). Queuing traffic</td>\n",
       "    </tr>\n",
       "    <tr>\n",
       "      <th>...</th>\n",
       "      <td>...</td>\n",
       "      <td>...</td>\n",
       "      <td>...</td>\n",
       "      <td>...</td>\n",
       "      <td>...</td>\n",
       "      <td>...</td>\n",
       "      <td>...</td>\n",
       "      <td>...</td>\n",
       "      <td>...</td>\n",
       "      <td>...</td>\n",
       "      <td>...</td>\n",
       "      <td>...</td>\n",
       "      <td>...</td>\n",
       "      <td>...</td>\n",
       "      <td>...</td>\n",
       "      <td>...</td>\n",
       "      <td>...</td>\n",
       "      <td>...</td>\n",
       "      <td>...</td>\n",
       "      <td>...</td>\n",
       "      <td>...</td>\n",
       "    </tr>\n",
       "    <tr>\n",
       "      <th>2563723</th>\n",
       "      <td>Bing</td>\n",
       "      <td>20</td>\n",
       "      <td>2</td>\n",
       "      <td>2019-08-23 18:03:25</td>\n",
       "      <td>2019-08-23 18:32:01</td>\n",
       "      <td>34</td>\n",
       "      <td>-117</td>\n",
       "      <td>34</td>\n",
       "      <td>-117</td>\n",
       "      <td>1</td>\n",
       "      <td>...</td>\n",
       "      <td>False</td>\n",
       "      <td>False</td>\n",
       "      <td>Day</td>\n",
       "      <td>Day</td>\n",
       "      <td>Day</td>\n",
       "      <td>Day</td>\n",
       "      <td>2019</td>\n",
       "      <td>8</td>\n",
       "      <td>1</td>\n",
       "      <td>(Q) accident(s)</td>\n",
       "    </tr>\n",
       "    <tr>\n",
       "      <th>2563724</th>\n",
       "      <td>Bing</td>\n",
       "      <td>20</td>\n",
       "      <td>2</td>\n",
       "      <td>2019-08-23 19:11:30</td>\n",
       "      <td>2019-08-23 19:38:23</td>\n",
       "      <td>33</td>\n",
       "      <td>-117</td>\n",
       "      <td>33</td>\n",
       "      <td>-117</td>\n",
       "      <td>0</td>\n",
       "      <td>...</td>\n",
       "      <td>False</td>\n",
       "      <td>False</td>\n",
       "      <td>Day</td>\n",
       "      <td>Day</td>\n",
       "      <td>Day</td>\n",
       "      <td>Day</td>\n",
       "      <td>2019</td>\n",
       "      <td>8</td>\n",
       "      <td>1</td>\n",
       "      <td>(Q) accident(s)</td>\n",
       "    </tr>\n",
       "    <tr>\n",
       "      <th>2563725</th>\n",
       "      <td>Bing</td>\n",
       "      <td>20</td>\n",
       "      <td>2</td>\n",
       "      <td>2019-08-23 19:00:21</td>\n",
       "      <td>2019-08-23 19:28:49</td>\n",
       "      <td>34</td>\n",
       "      <td>-118</td>\n",
       "      <td>34</td>\n",
       "      <td>-118</td>\n",
       "      <td>1</td>\n",
       "      <td>...</td>\n",
       "      <td>False</td>\n",
       "      <td>False</td>\n",
       "      <td>Day</td>\n",
       "      <td>Day</td>\n",
       "      <td>Day</td>\n",
       "      <td>Day</td>\n",
       "      <td>2019</td>\n",
       "      <td>8</td>\n",
       "      <td>1</td>\n",
       "      <td>(Q) accident(s)</td>\n",
       "    </tr>\n",
       "    <tr>\n",
       "      <th>2563726</th>\n",
       "      <td>Bing</td>\n",
       "      <td>20</td>\n",
       "      <td>2</td>\n",
       "      <td>2019-08-23 19:00:21</td>\n",
       "      <td>2019-08-23 19:29:42</td>\n",
       "      <td>34</td>\n",
       "      <td>-118</td>\n",
       "      <td>34</td>\n",
       "      <td>-118</td>\n",
       "      <td>1</td>\n",
       "      <td>...</td>\n",
       "      <td>False</td>\n",
       "      <td>False</td>\n",
       "      <td>Day</td>\n",
       "      <td>Day</td>\n",
       "      <td>Day</td>\n",
       "      <td>Day</td>\n",
       "      <td>2019</td>\n",
       "      <td>8</td>\n",
       "      <td>1</td>\n",
       "      <td>(Q) accident(s)</td>\n",
       "    </tr>\n",
       "    <tr>\n",
       "      <th>2563727</th>\n",
       "      <td>Bing</td>\n",
       "      <td>20</td>\n",
       "      <td>2</td>\n",
       "      <td>2019-08-23 18:52:06</td>\n",
       "      <td>2019-08-23 19:21:31</td>\n",
       "      <td>34</td>\n",
       "      <td>-117</td>\n",
       "      <td>34</td>\n",
       "      <td>-117</td>\n",
       "      <td>1</td>\n",
       "      <td>...</td>\n",
       "      <td>False</td>\n",
       "      <td>False</td>\n",
       "      <td>Day</td>\n",
       "      <td>Day</td>\n",
       "      <td>Day</td>\n",
       "      <td>Day</td>\n",
       "      <td>2019</td>\n",
       "      <td>8</td>\n",
       "      <td>1</td>\n",
       "      <td>(Q) accident(s)</td>\n",
       "    </tr>\n",
       "  </tbody>\n",
       "</table>\n",
       "<p>2563728 rows × 51 columns</p>\n",
       "</div>"
      ],
      "text/plain": [
       "           Source  TMC  Severity          Start_Time            End_Time  \\\n",
       "0        MapQuest  201         3 2017-01-01 00:17:36 2017-01-01 00:47:12   \n",
       "1        MapQuest  201         3 2017-01-01 00:26:08 2017-01-01 01:16:06   \n",
       "2        MapQuest  201         2 2017-01-01 00:53:41 2017-01-01 01:22:35   \n",
       "3        MapQuest  241         3 2017-01-01 01:18:51 2017-01-01 01:48:01   \n",
       "4        MapQuest  222         3 2017-01-01 01:20:12 2017-01-01 01:49:47   \n",
       "...           ...  ...       ...                 ...                 ...   \n",
       "2563723      Bing   20         2 2019-08-23 18:03:25 2019-08-23 18:32:01   \n",
       "2563724      Bing   20         2 2019-08-23 19:11:30 2019-08-23 19:38:23   \n",
       "2563725      Bing   20         2 2019-08-23 19:00:21 2019-08-23 19:28:49   \n",
       "2563726      Bing   20         2 2019-08-23 19:00:21 2019-08-23 19:29:42   \n",
       "2563727      Bing   20         2 2019-08-23 18:52:06 2019-08-23 19:21:31   \n",
       "\n",
       "         Start_Lat  Start_Lng  End_Lat  End_Lng  Distance(mi)  ...  \\\n",
       "0               38       -122      NaN      NaN             0  ...   \n",
       "1               38       -122      NaN      NaN             0  ...   \n",
       "2               38       -122      NaN      NaN             0  ...   \n",
       "3               38       -122      NaN      NaN             0  ...   \n",
       "4               38       -122      NaN      NaN             0  ...   \n",
       "...            ...        ...      ...      ...           ...  ...   \n",
       "2563723         34       -117       34     -117             1  ...   \n",
       "2563724         33       -117       33     -117             0  ...   \n",
       "2563725         34       -118       34     -118             1  ...   \n",
       "2563726         34       -118       34     -118             1  ...   \n",
       "2563727         34       -117       34     -117             1  ...   \n",
       "\n",
       "        Traffic_Signal  Turning_Loop Sunrise_Sunset Civil_Twilight  \\\n",
       "0                 True         False          Night          Night   \n",
       "1                False         False          Night          Night   \n",
       "2                False         False          Night          Night   \n",
       "3                False         False          Night          Night   \n",
       "4                 True         False          Night          Night   \n",
       "...                ...           ...            ...            ...   \n",
       "2563723          False         False            Day            Day   \n",
       "2563724          False         False            Day            Day   \n",
       "2563725          False         False            Day            Day   \n",
       "2563726          False         False            Day            Day   \n",
       "2563727          False         False            Day            Day   \n",
       "\n",
       "        Nautical_Twilight Astronomical_Twilight Start_Year Start_Month  \\\n",
       "0                   Night                 Night       2017           1   \n",
       "1                   Night                 Night       2017           1   \n",
       "2                   Night                 Night       2017           1   \n",
       "3                   Night                 Night       2017           1   \n",
       "4                   Night                 Night       2017           1   \n",
       "...                   ...                   ...        ...         ...   \n",
       "2563723               Day                   Day       2019           8   \n",
       "2563724               Day                   Day       2019           8   \n",
       "2563725               Day                   Day       2019           8   \n",
       "2563726               Day                   Day       2019           8   \n",
       "2563727               Day                   Day       2019           8   \n",
       "\n",
       "        Accident_Count                      TMC_Description  \n",
       "0                    1                      (Q) accident(s)  \n",
       "1                    1                      (Q) accident(s)  \n",
       "2                    1                      (Q) accident(s)  \n",
       "3                    1  (Q) accident(s). Right lane blocked  \n",
       "4                    1     (Q) accident(s). Queuing traffic  \n",
       "...                ...                                  ...  \n",
       "2563723              1                      (Q) accident(s)  \n",
       "2563724              1                      (Q) accident(s)  \n",
       "2563725              1                      (Q) accident(s)  \n",
       "2563726              1                      (Q) accident(s)  \n",
       "2563727              1                      (Q) accident(s)  \n",
       "\n",
       "[2563728 rows x 51 columns]"
      ]
     },
     "execution_count": 58,
     "metadata": {},
     "output_type": "execute_result"
    }
   ],
   "source": [
    "df['TMC'] = df['TMC'].astype('Int64')\n",
    "df"
   ]
  },
  {
   "cell_type": "code",
   "execution_count": 59,
   "metadata": {
    "ExecuteTime": {
     "end_time": "2023-01-23T00:24:09.672276Z",
     "start_time": "2023-01-23T00:24:05.921423Z"
    }
   },
   "outputs": [
    {
     "data": {
      "text/html": [
       "<style type=\"text/css\">\n",
       "</style>\n",
       "<table id=\"T_c4e8a\">\n",
       "  <thead>\n",
       "    <tr>\n",
       "      <th class=\"blank\" >&nbsp;</th>\n",
       "      <th class=\"blank\" >&nbsp;</th>\n",
       "      <th class=\"blank level0\" >&nbsp;</th>\n",
       "      <th id=\"T_c4e8a_level0_col0\" class=\"col_heading level0 col0\" >Accident_Count</th>\n",
       "    </tr>\n",
       "    <tr>\n",
       "      <th class=\"index_name level0\" >TMC</th>\n",
       "      <th class=\"index_name level1\" >TMC_Description</th>\n",
       "      <th class=\"index_name level2\" >Severity</th>\n",
       "      <th class=\"blank col0\" >&nbsp;</th>\n",
       "    </tr>\n",
       "  </thead>\n",
       "  <tbody>\n",
       "    <tr>\n",
       "      <th id=\"T_c4e8a_level0_row0\" class=\"row_heading level0 row0\" rowspan=\"3\">20</th>\n",
       "      <th id=\"T_c4e8a_level1_row0\" class=\"row_heading level1 row0\" rowspan=\"3\">(Q) accident(s)</th>\n",
       "      <th id=\"T_c4e8a_level2_row0\" class=\"row_heading level2 row0\" >2</th>\n",
       "      <td id=\"T_c4e8a_row0_col0\" class=\"data row0 col0\" >432,727</td>\n",
       "    </tr>\n",
       "    <tr>\n",
       "      <th id=\"T_c4e8a_level2_row1\" class=\"row_heading level2 row1\" >3</th>\n",
       "      <td id=\"T_c4e8a_row1_col0\" class=\"data row1 col0\" >92,670</td>\n",
       "    </tr>\n",
       "    <tr>\n",
       "      <th id=\"T_c4e8a_level2_row2\" class=\"row_heading level2 row2\" >4</th>\n",
       "      <td id=\"T_c4e8a_row2_col0\" class=\"data row2 col0\" >73,338</td>\n",
       "    </tr>\n",
       "    <tr>\n",
       "      <th id=\"T_c4e8a_level0_row3\" class=\"row_heading level0 row3\" rowspan=\"2\">200</th>\n",
       "      <th id=\"T_c4e8a_level1_row3\" class=\"row_heading level1 row3\" rowspan=\"2\">multi vehicle pile up. Delays (Q)</th>\n",
       "      <th id=\"T_c4e8a_level2_row3\" class=\"row_heading level2 row3\" >2</th>\n",
       "      <td id=\"T_c4e8a_row3_col0\" class=\"data row3 col0\" >7</td>\n",
       "    </tr>\n",
       "    <tr>\n",
       "      <th id=\"T_c4e8a_level2_row4\" class=\"row_heading level2 row4\" >3</th>\n",
       "      <td id=\"T_c4e8a_row4_col0\" class=\"data row4 col0\" >4</td>\n",
       "    </tr>\n",
       "    <tr>\n",
       "      <th id=\"T_c4e8a_level0_row5\" class=\"row_heading level0 row5\" rowspan=\"4\">201</th>\n",
       "      <th id=\"T_c4e8a_level1_row5\" class=\"row_heading level1 row5\" rowspan=\"4\">(Q) accident(s)</th>\n",
       "      <th id=\"T_c4e8a_level2_row5\" class=\"row_heading level2 row5\" >1</th>\n",
       "      <td id=\"T_c4e8a_row5_col0\" class=\"data row5 col0\" >698</td>\n",
       "    </tr>\n",
       "    <tr>\n",
       "      <th id=\"T_c4e8a_level2_row6\" class=\"row_heading level2 row6\" >2</th>\n",
       "      <td id=\"T_c4e8a_row6_col0\" class=\"data row6 col0\" >1,159,104</td>\n",
       "    </tr>\n",
       "    <tr>\n",
       "      <th id=\"T_c4e8a_level2_row7\" class=\"row_heading level2 row7\" >3</th>\n",
       "      <td id=\"T_c4e8a_row7_col0\" class=\"data row7 col0\" >501,936</td>\n",
       "    </tr>\n",
       "    <tr>\n",
       "      <th id=\"T_c4e8a_level2_row8\" class=\"row_heading level2 row8\" >4</th>\n",
       "      <td id=\"T_c4e8a_row8_col0\" class=\"data row8 col0\" >2,854</td>\n",
       "    </tr>\n",
       "    <tr>\n",
       "      <th id=\"T_c4e8a_level0_row9\" class=\"row_heading level0 row9\" rowspan=\"3\">202</th>\n",
       "      <th id=\"T_c4e8a_level1_row9\" class=\"row_heading level1 row9\" rowspan=\"3\">(Q) serious accident(s)</th>\n",
       "      <th id=\"T_c4e8a_level2_row9\" class=\"row_heading level2 row9\" >2</th>\n",
       "      <td id=\"T_c4e8a_row9_col0\" class=\"data row9 col0\" >3,879</td>\n",
       "    </tr>\n",
       "    <tr>\n",
       "      <th id=\"T_c4e8a_level2_row10\" class=\"row_heading level2 row10\" >3</th>\n",
       "      <td id=\"T_c4e8a_row10_col0\" class=\"data row10 col0\" >1,028</td>\n",
       "    </tr>\n",
       "    <tr>\n",
       "      <th id=\"T_c4e8a_level2_row11\" class=\"row_heading level2 row11\" >4</th>\n",
       "      <td id=\"T_c4e8a_row11_col0\" class=\"data row11 col0\" >64</td>\n",
       "    </tr>\n",
       "    <tr>\n",
       "      <th id=\"T_c4e8a_level0_row12\" class=\"row_heading level0 row12\" rowspan=\"4\">203</th>\n",
       "      <th id=\"T_c4e8a_level1_row12\" class=\"row_heading level1 row12\" rowspan=\"4\">multi-vehicle accident (involving Q vehicles)</th>\n",
       "      <th id=\"T_c4e8a_level2_row12\" class=\"row_heading level2 row12\" >1</th>\n",
       "      <td id=\"T_c4e8a_row12_col0\" class=\"data row12 col0\" >2</td>\n",
       "    </tr>\n",
       "    <tr>\n",
       "      <th id=\"T_c4e8a_level2_row13\" class=\"row_heading level2 row13\" >2</th>\n",
       "      <td id=\"T_c4e8a_row13_col0\" class=\"data row13 col0\" >5,873</td>\n",
       "    </tr>\n",
       "    <tr>\n",
       "      <th id=\"T_c4e8a_level2_row14\" class=\"row_heading level2 row14\" >3</th>\n",
       "      <td id=\"T_c4e8a_row14_col0\" class=\"data row14 col0\" >7,960</td>\n",
       "    </tr>\n",
       "    <tr>\n",
       "      <th id=\"T_c4e8a_level2_row15\" class=\"row_heading level2 row15\" >4</th>\n",
       "      <td id=\"T_c4e8a_row15_col0\" class=\"data row15 col0\" >83</td>\n",
       "    </tr>\n",
       "    <tr>\n",
       "      <th id=\"T_c4e8a_level0_row16\" class=\"row_heading level0 row16\" rowspan=\"3\">206</th>\n",
       "      <th id=\"T_c4e8a_level1_row16\" class=\"row_heading level1 row16\" rowspan=\"3\">(Q) fuel spillage accident(s)</th>\n",
       "      <th id=\"T_c4e8a_level2_row16\" class=\"row_heading level2 row16\" >2</th>\n",
       "      <td id=\"T_c4e8a_row16_col0\" class=\"data row16 col0\" >798</td>\n",
       "    </tr>\n",
       "    <tr>\n",
       "      <th id=\"T_c4e8a_level2_row17\" class=\"row_heading level2 row17\" >3</th>\n",
       "      <td id=\"T_c4e8a_row17_col0\" class=\"data row17 col0\" >195</td>\n",
       "    </tr>\n",
       "    <tr>\n",
       "      <th id=\"T_c4e8a_level2_row18\" class=\"row_heading level2 row18\" >4</th>\n",
       "      <td id=\"T_c4e8a_row18_col0\" class=\"data row18 col0\" >7</td>\n",
       "    </tr>\n",
       "    <tr>\n",
       "      <th id=\"T_c4e8a_level0_row19\" class=\"row_heading level0 row19\" rowspan=\"4\">222</th>\n",
       "      <th id=\"T_c4e8a_level1_row19\" class=\"row_heading level1 row19\" rowspan=\"4\">(Q) accident(s). Queuing traffic</th>\n",
       "      <th id=\"T_c4e8a_level2_row19\" class=\"row_heading level2 row19\" >1</th>\n",
       "      <td id=\"T_c4e8a_row19_col0\" class=\"data row19 col0\" >3</td>\n",
       "    </tr>\n",
       "    <tr>\n",
       "      <th id=\"T_c4e8a_level2_row20\" class=\"row_heading level2 row20\" >2</th>\n",
       "      <td id=\"T_c4e8a_row20_col0\" class=\"data row20 col0\" >2,820</td>\n",
       "    </tr>\n",
       "    <tr>\n",
       "      <th id=\"T_c4e8a_level2_row21\" class=\"row_heading level2 row21\" >3</th>\n",
       "      <td id=\"T_c4e8a_row21_col0\" class=\"data row21 col0\" >4,794</td>\n",
       "    </tr>\n",
       "    <tr>\n",
       "      <th id=\"T_c4e8a_level2_row22\" class=\"row_heading level2 row22\" >4</th>\n",
       "      <td id=\"T_c4e8a_row22_col0\" class=\"data row22 col0\" >79</td>\n",
       "    </tr>\n",
       "    <tr>\n",
       "      <th id=\"T_c4e8a_level0_row23\" class=\"row_heading level0 row23\" rowspan=\"4\">229</th>\n",
       "      <th id=\"T_c4e8a_level1_row23\" class=\"row_heading level1 row23\" rowspan=\"4\">(Q) accident(s). Slow traffic</th>\n",
       "      <th id=\"T_c4e8a_level2_row23\" class=\"row_heading level2 row23\" >1</th>\n",
       "      <td id=\"T_c4e8a_row23_col0\" class=\"data row23 col0\" >5</td>\n",
       "    </tr>\n",
       "    <tr>\n",
       "      <th id=\"T_c4e8a_level2_row24\" class=\"row_heading level2 row24\" >2</th>\n",
       "      <td id=\"T_c4e8a_row24_col0\" class=\"data row24 col0\" >7,495</td>\n",
       "    </tr>\n",
       "    <tr>\n",
       "      <th id=\"T_c4e8a_level2_row25\" class=\"row_heading level2 row25\" >3</th>\n",
       "      <td id=\"T_c4e8a_row25_col0\" class=\"data row25 col0\" >6,179</td>\n",
       "    </tr>\n",
       "    <tr>\n",
       "      <th id=\"T_c4e8a_level2_row26\" class=\"row_heading level2 row26\" >4</th>\n",
       "      <td id=\"T_c4e8a_row26_col0\" class=\"data row26 col0\" >22</td>\n",
       "    </tr>\n",
       "    <tr>\n",
       "      <th id=\"T_c4e8a_level0_row27\" class=\"row_heading level0 row27\" rowspan=\"3\">236</th>\n",
       "      <th id=\"T_c4e8a_level1_row27\" class=\"row_heading level1 row27\" rowspan=\"3\">(Q) accident(s). Heavy traffic</th>\n",
       "      <th id=\"T_c4e8a_level2_row27\" class=\"row_heading level2 row27\" >2</th>\n",
       "      <td id=\"T_c4e8a_row27_col0\" class=\"data row27 col0\" >727</td>\n",
       "    </tr>\n",
       "    <tr>\n",
       "      <th id=\"T_c4e8a_level2_row28\" class=\"row_heading level2 row28\" >3</th>\n",
       "      <td id=\"T_c4e8a_row28_col0\" class=\"data row28 col0\" >964</td>\n",
       "    </tr>\n",
       "    <tr>\n",
       "      <th id=\"T_c4e8a_level2_row29\" class=\"row_heading level2 row29\" >4</th>\n",
       "      <td id=\"T_c4e8a_row29_col0\" class=\"data row29 col0\" >12</td>\n",
       "    </tr>\n",
       "    <tr>\n",
       "      <th id=\"T_c4e8a_level0_row30\" class=\"row_heading level0 row30\" rowspan=\"2\">239</th>\n",
       "      <th id=\"T_c4e8a_level1_row30\" class=\"row_heading level1 row30\" rowspan=\"2\">(Q) accident(s). Traffic building up</th>\n",
       "      <th id=\"T_c4e8a_level2_row30\" class=\"row_heading level2 row30\" >2</th>\n",
       "      <td id=\"T_c4e8a_row30_col0\" class=\"data row30 col0\" >8</td>\n",
       "    </tr>\n",
       "    <tr>\n",
       "      <th id=\"T_c4e8a_level2_row31\" class=\"row_heading level2 row31\" >3</th>\n",
       "      <td id=\"T_c4e8a_row31_col0\" class=\"data row31 col0\" >3</td>\n",
       "    </tr>\n",
       "    <tr>\n",
       "      <th id=\"T_c4e8a_level0_row32\" class=\"row_heading level0 row32\" rowspan=\"4\">241</th>\n",
       "      <th id=\"T_c4e8a_level1_row32\" class=\"row_heading level1 row32\" rowspan=\"4\">(Q) accident(s). Right lane blocked</th>\n",
       "      <th id=\"T_c4e8a_level2_row32\" class=\"row_heading level2 row32\" >1</th>\n",
       "      <td id=\"T_c4e8a_row32_col0\" class=\"data row32 col0\" >26</td>\n",
       "    </tr>\n",
       "    <tr>\n",
       "      <th id=\"T_c4e8a_level2_row33\" class=\"row_heading level2 row33\" >2</th>\n",
       "      <td id=\"T_c4e8a_row33_col0\" class=\"data row33 col0\" >89,747</td>\n",
       "    </tr>\n",
       "    <tr>\n",
       "      <th id=\"T_c4e8a_level2_row34\" class=\"row_heading level2 row34\" >3</th>\n",
       "      <td id=\"T_c4e8a_row34_col0\" class=\"data row34 col0\" >102,172</td>\n",
       "    </tr>\n",
       "    <tr>\n",
       "      <th id=\"T_c4e8a_level2_row35\" class=\"row_heading level2 row35\" >4</th>\n",
       "      <td id=\"T_c4e8a_row35_col0\" class=\"data row35 col0\" >602</td>\n",
       "    </tr>\n",
       "    <tr>\n",
       "      <th id=\"T_c4e8a_level0_row36\" class=\"row_heading level0 row36\" rowspan=\"4\">244</th>\n",
       "      <th id=\"T_c4e8a_level1_row36\" class=\"row_heading level1 row36\" rowspan=\"4\">(Q) accident(s). Hard shoulder blocked</th>\n",
       "      <th id=\"T_c4e8a_level2_row36\" class=\"row_heading level2 row36\" >1</th>\n",
       "      <td id=\"T_c4e8a_row36_col0\" class=\"data row36 col0\" >2</td>\n",
       "    </tr>\n",
       "    <tr>\n",
       "      <th id=\"T_c4e8a_level2_row37\" class=\"row_heading level2 row37\" >2</th>\n",
       "      <td id=\"T_c4e8a_row37_col0\" class=\"data row37 col0\" >5,056</td>\n",
       "    </tr>\n",
       "    <tr>\n",
       "      <th id=\"T_c4e8a_level2_row38\" class=\"row_heading level2 row38\" >3</th>\n",
       "      <td id=\"T_c4e8a_row38_col0\" class=\"data row38 col0\" >4,802</td>\n",
       "    </tr>\n",
       "    <tr>\n",
       "      <th id=\"T_c4e8a_level2_row39\" class=\"row_heading level2 row39\" >4</th>\n",
       "      <td id=\"T_c4e8a_row39_col0\" class=\"data row39 col0\" >30</td>\n",
       "    </tr>\n",
       "    <tr>\n",
       "      <th id=\"T_c4e8a_level0_row40\" class=\"row_heading level0 row40\" rowspan=\"4\">245</th>\n",
       "      <th id=\"T_c4e8a_level1_row40\" class=\"row_heading level1 row40\" rowspan=\"4\">(Q) accident(s). Two lanes blocked</th>\n",
       "      <th id=\"T_c4e8a_level2_row40\" class=\"row_heading level2 row40\" >1</th>\n",
       "      <td id=\"T_c4e8a_row40_col0\" class=\"data row40 col0\" >3</td>\n",
       "    </tr>\n",
       "    <tr>\n",
       "      <th id=\"T_c4e8a_level2_row41\" class=\"row_heading level2 row41\" >2</th>\n",
       "      <td id=\"T_c4e8a_row41_col0\" class=\"data row41 col0\" >8,765</td>\n",
       "    </tr>\n",
       "    <tr>\n",
       "      <th id=\"T_c4e8a_level2_row42\" class=\"row_heading level2 row42\" >3</th>\n",
       "      <td id=\"T_c4e8a_row42_col0\" class=\"data row42 col0\" >22,672</td>\n",
       "    </tr>\n",
       "    <tr>\n",
       "      <th id=\"T_c4e8a_level2_row43\" class=\"row_heading level2 row43\" >4</th>\n",
       "      <td id=\"T_c4e8a_row43_col0\" class=\"data row43 col0\" >232</td>\n",
       "    </tr>\n",
       "    <tr>\n",
       "      <th id=\"T_c4e8a_level0_row44\" class=\"row_heading level0 row44\" rowspan=\"4\">246</th>\n",
       "      <th id=\"T_c4e8a_level1_row44\" class=\"row_heading level1 row44\" rowspan=\"4\">(Q) accident(s). Three lanes blocked</th>\n",
       "      <th id=\"T_c4e8a_level2_row44\" class=\"row_heading level2 row44\" >1</th>\n",
       "      <td id=\"T_c4e8a_row44_col0\" class=\"data row44 col0\" >1</td>\n",
       "    </tr>\n",
       "    <tr>\n",
       "      <th id=\"T_c4e8a_level2_row45\" class=\"row_heading level2 row45\" >2</th>\n",
       "      <td id=\"T_c4e8a_row45_col0\" class=\"data row45 col0\" >1,159</td>\n",
       "    </tr>\n",
       "    <tr>\n",
       "      <th id=\"T_c4e8a_level2_row46\" class=\"row_heading level2 row46\" >3</th>\n",
       "      <td id=\"T_c4e8a_row46_col0\" class=\"data row46 col0\" >4,352</td>\n",
       "    </tr>\n",
       "    <tr>\n",
       "      <th id=\"T_c4e8a_level2_row47\" class=\"row_heading level2 row47\" >4</th>\n",
       "      <td id=\"T_c4e8a_row47_col0\" class=\"data row47 col0\" >79</td>\n",
       "    </tr>\n",
       "    <tr>\n",
       "      <th id=\"T_c4e8a_level0_row48\" class=\"row_heading level0 row48\" rowspan=\"3\">247</th>\n",
       "      <th id=\"T_c4e8a_level1_row48\" class=\"row_heading level1 row48\" rowspan=\"3\">accident. Delays (Q)</th>\n",
       "      <th id=\"T_c4e8a_level2_row48\" class=\"row_heading level2 row48\" >2</th>\n",
       "      <td id=\"T_c4e8a_row48_col0\" class=\"data row48 col0\" >1,335</td>\n",
       "    </tr>\n",
       "    <tr>\n",
       "      <th id=\"T_c4e8a_level2_row49\" class=\"row_heading level2 row49\" >3</th>\n",
       "      <td id=\"T_c4e8a_row49_col0\" class=\"data row49 col0\" >1,292</td>\n",
       "    </tr>\n",
       "    <tr>\n",
       "      <th id=\"T_c4e8a_level2_row50\" class=\"row_heading level2 row50\" >4</th>\n",
       "      <td id=\"T_c4e8a_row50_col0\" class=\"data row50 col0\" >19</td>\n",
       "    </tr>\n",
       "    <tr>\n",
       "      <th id=\"T_c4e8a_level0_row51\" class=\"row_heading level0 row51\" rowspan=\"3\">248</th>\n",
       "      <th id=\"T_c4e8a_level1_row51\" class=\"row_heading level1 row51\" rowspan=\"3\">accident. Delays (Q) expected</th>\n",
       "      <th id=\"T_c4e8a_level2_row51\" class=\"row_heading level2 row51\" >2</th>\n",
       "      <td id=\"T_c4e8a_row51_col0\" class=\"data row51 col0\" >63</td>\n",
       "    </tr>\n",
       "    <tr>\n",
       "      <th id=\"T_c4e8a_level2_row52\" class=\"row_heading level2 row52\" >3</th>\n",
       "      <td id=\"T_c4e8a_row52_col0\" class=\"data row52 col0\" >74</td>\n",
       "    </tr>\n",
       "    <tr>\n",
       "      <th id=\"T_c4e8a_level2_row53\" class=\"row_heading level2 row53\" >4</th>\n",
       "      <td id=\"T_c4e8a_row53_col0\" class=\"data row53 col0\" >24</td>\n",
       "    </tr>\n",
       "    <tr>\n",
       "      <th id=\"T_c4e8a_level0_row54\" class=\"row_heading level0 row54\" rowspan=\"3\">336</th>\n",
       "      <th id=\"T_c4e8a_level1_row54\" class=\"row_heading level1 row54\" rowspan=\"3\">(Q) oil spillage accident(s)</th>\n",
       "      <th id=\"T_c4e8a_level2_row54\" class=\"row_heading level2 row54\" >2</th>\n",
       "      <td id=\"T_c4e8a_row54_col0\" class=\"data row54 col0\" >31</td>\n",
       "    </tr>\n",
       "    <tr>\n",
       "      <th id=\"T_c4e8a_level2_row55\" class=\"row_heading level2 row55\" >3</th>\n",
       "      <td id=\"T_c4e8a_row55_col0\" class=\"data row55 col0\" >35</td>\n",
       "    </tr>\n",
       "    <tr>\n",
       "      <th id=\"T_c4e8a_level2_row56\" class=\"row_heading level2 row56\" >4</th>\n",
       "      <td id=\"T_c4e8a_row56_col0\" class=\"data row56 col0\" >1</td>\n",
       "    </tr>\n",
       "    <tr>\n",
       "      <th id=\"T_c4e8a_level0_row57\" class=\"row_heading level0 row57\" rowspan=\"3\">339</th>\n",
       "      <th id=\"T_c4e8a_level1_row57\" class=\"row_heading level1 row57\" rowspan=\"3\">(Q) jackknifed trailer(s)</th>\n",
       "      <th id=\"T_c4e8a_level2_row57\" class=\"row_heading level2 row57\" >2</th>\n",
       "      <td id=\"T_c4e8a_row57_col0\" class=\"data row57 col0\" >238</td>\n",
       "    </tr>\n",
       "    <tr>\n",
       "      <th id=\"T_c4e8a_level2_row58\" class=\"row_heading level2 row58\" >3</th>\n",
       "      <td id=\"T_c4e8a_row58_col0\" class=\"data row58 col0\" >446</td>\n",
       "    </tr>\n",
       "    <tr>\n",
       "      <th id=\"T_c4e8a_level2_row59\" class=\"row_heading level2 row59\" >4</th>\n",
       "      <td id=\"T_c4e8a_row59_col0\" class=\"data row59 col0\" >21</td>\n",
       "    </tr>\n",
       "    <tr>\n",
       "      <th id=\"T_c4e8a_level0_row60\" class=\"row_heading level0 row60\" rowspan=\"3\">341</th>\n",
       "      <th id=\"T_c4e8a_level1_row60\" class=\"row_heading level1 row60\" rowspan=\"3\">(Q) jackknifed articulated lorr(y/ies)</th>\n",
       "      <th id=\"T_c4e8a_level2_row60\" class=\"row_heading level2 row60\" >2</th>\n",
       "      <td id=\"T_c4e8a_row60_col0\" class=\"data row60 col0\" >170</td>\n",
       "    </tr>\n",
       "    <tr>\n",
       "      <th id=\"T_c4e8a_level2_row61\" class=\"row_heading level2 row61\" >3</th>\n",
       "      <td id=\"T_c4e8a_row61_col0\" class=\"data row61 col0\" >252</td>\n",
       "    </tr>\n",
       "    <tr>\n",
       "      <th id=\"T_c4e8a_level2_row62\" class=\"row_heading level2 row62\" >4</th>\n",
       "      <td id=\"T_c4e8a_row62_col0\" class=\"data row62 col0\" >20</td>\n",
       "    </tr>\n",
       "    <tr>\n",
       "      <th id=\"T_c4e8a_level0_row63\" class=\"row_heading level0 row63\" rowspan=\"4\">343</th>\n",
       "      <th id=\"T_c4e8a_level1_row63\" class=\"row_heading level1 row63\" rowspan=\"4\">(Q) earlier accident(s)</th>\n",
       "      <th id=\"T_c4e8a_level2_row63\" class=\"row_heading level2 row63\" >1</th>\n",
       "      <td id=\"T_c4e8a_row63_col0\" class=\"data row63 col0\" >2</td>\n",
       "    </tr>\n",
       "    <tr>\n",
       "      <th id=\"T_c4e8a_level2_row64\" class=\"row_heading level2 row64\" >2</th>\n",
       "      <td id=\"T_c4e8a_row64_col0\" class=\"data row64 col0\" >1,760</td>\n",
       "    </tr>\n",
       "    <tr>\n",
       "      <th id=\"T_c4e8a_level2_row65\" class=\"row_heading level2 row65\" >3</th>\n",
       "      <td id=\"T_c4e8a_row65_col0\" class=\"data row65 col0\" >2,801</td>\n",
       "    </tr>\n",
       "    <tr>\n",
       "      <th id=\"T_c4e8a_level2_row66\" class=\"row_heading level2 row66\" >4</th>\n",
       "      <td id=\"T_c4e8a_row66_col0\" class=\"data row66 col0\" >426</td>\n",
       "    </tr>\n",
       "    <tr>\n",
       "      <th id=\"T_c4e8a_level0_row67\" class=\"row_heading level0 row67\" rowspan=\"2\">351</th>\n",
       "      <th id=\"T_c4e8a_level1_row67\" class=\"row_heading level1 row67\" rowspan=\"2\">(Q) accident(s) in roadworks area</th>\n",
       "      <th id=\"T_c4e8a_level2_row67\" class=\"row_heading level2 row67\" >2</th>\n",
       "      <td id=\"T_c4e8a_row67_col0\" class=\"data row67 col0\" >1</td>\n",
       "    </tr>\n",
       "    <tr>\n",
       "      <th id=\"T_c4e8a_level2_row68\" class=\"row_heading level2 row68\" >3</th>\n",
       "      <td id=\"T_c4e8a_row68_col0\" class=\"data row68 col0\" >2</td>\n",
       "    </tr>\n",
       "    <tr>\n",
       "      <th id=\"T_c4e8a_level0_row69\" class=\"row_heading level0 row69\" rowspan=\"4\">406</th>\n",
       "      <th id=\"T_c4e8a_level1_row69\" class=\"row_heading level1 row69\" rowspan=\"4\">(Q th) entry slip road closed</th>\n",
       "      <th id=\"T_c4e8a_level2_row69\" class=\"row_heading level2 row69\" >1</th>\n",
       "      <td id=\"T_c4e8a_row69_col0\" class=\"data row69 col0\" >1</td>\n",
       "    </tr>\n",
       "    <tr>\n",
       "      <th id=\"T_c4e8a_level2_row70\" class=\"row_heading level2 row70\" >2</th>\n",
       "      <td id=\"T_c4e8a_row70_col0\" class=\"data row70 col0\" >1,797</td>\n",
       "    </tr>\n",
       "    <tr>\n",
       "      <th id=\"T_c4e8a_level2_row71\" class=\"row_heading level2 row71\" >3</th>\n",
       "      <td id=\"T_c4e8a_row71_col0\" class=\"data row71 col0\" >6,808</td>\n",
       "    </tr>\n",
       "    <tr>\n",
       "      <th id=\"T_c4e8a_level2_row72\" class=\"row_heading level2 row72\" >4</th>\n",
       "      <td id=\"T_c4e8a_row72_col0\" class=\"data row72 col0\" >71</td>\n",
       "    </tr>\n",
       "    <tr>\n",
       "      <th id=\"T_c4e8a_level0_row73\" class=\"row_heading level0 row73\" >All</th>\n",
       "      <th id=\"T_c4e8a_level1_row73\" class=\"row_heading level1 row73\" ></th>\n",
       "      <th id=\"T_c4e8a_level2_row73\" class=\"row_heading level2 row73\" ></th>\n",
       "      <td id=\"T_c4e8a_row73_col0\" class=\"data row73 col0\" >2,563,728</td>\n",
       "    </tr>\n",
       "  </tbody>\n",
       "</table>\n"
      ],
      "text/plain": [
       "<pandas.io.formats.style.Styler at 0x23bd48bfa90>"
      ]
     },
     "execution_count": 59,
     "metadata": {},
     "output_type": "execute_result"
    }
   ],
   "source": [
    "pd.pivot_table(df\n",
    "               , index = ['TMC','TMC_Description', 'Severity']\n",
    "               , values = 'Accident_Count'\n",
    "               , aggfunc = np.sum\n",
    "               , fill_value = 0\n",
    "               , margins = True\n",
    "               ).style.format ('{0:,.0f}') "
   ]
  },
  {
   "cell_type": "code",
   "execution_count": 60,
   "metadata": {
    "ExecuteTime": {
     "end_time": "2023-01-23T00:24:12.918415Z",
     "start_time": "2023-01-23T00:24:09.678272Z"
    }
   },
   "outputs": [
    {
     "data": {
      "text/html": [
       "<style type=\"text/css\">\n",
       "</style>\n",
       "<table id=\"T_44262\">\n",
       "  <thead>\n",
       "    <tr>\n",
       "      <th class=\"index_name level0\" >Severity</th>\n",
       "      <th id=\"T_44262_level0_col0\" class=\"col_heading level0 col0\" >1</th>\n",
       "      <th id=\"T_44262_level0_col1\" class=\"col_heading level0 col1\" >2</th>\n",
       "      <th id=\"T_44262_level0_col2\" class=\"col_heading level0 col2\" >3</th>\n",
       "      <th id=\"T_44262_level0_col3\" class=\"col_heading level0 col3\" >4</th>\n",
       "      <th id=\"T_44262_level0_col4\" class=\"col_heading level0 col4\" >All</th>\n",
       "    </tr>\n",
       "    <tr>\n",
       "      <th class=\"index_name level0\" >TMC_Description</th>\n",
       "      <th class=\"blank col0\" >&nbsp;</th>\n",
       "      <th class=\"blank col1\" >&nbsp;</th>\n",
       "      <th class=\"blank col2\" >&nbsp;</th>\n",
       "      <th class=\"blank col3\" >&nbsp;</th>\n",
       "      <th class=\"blank col4\" >&nbsp;</th>\n",
       "    </tr>\n",
       "  </thead>\n",
       "  <tbody>\n",
       "    <tr>\n",
       "      <th id=\"T_44262_level0_row0\" class=\"row_heading level0 row0\" >(Q th) entry slip road closed</th>\n",
       "      <td id=\"T_44262_row0_col0\" class=\"data row0 col0\" >0.0000</td>\n",
       "      <td id=\"T_44262_row0_col1\" class=\"data row0 col1\" >0.0007</td>\n",
       "      <td id=\"T_44262_row0_col2\" class=\"data row0 col2\" >0.0027</td>\n",
       "      <td id=\"T_44262_row0_col3\" class=\"data row0 col3\" >0.0000</td>\n",
       "      <td id=\"T_44262_row0_col4\" class=\"data row0 col4\" >0.0034</td>\n",
       "    </tr>\n",
       "    <tr>\n",
       "      <th id=\"T_44262_level0_row1\" class=\"row_heading level0 row1\" >(Q) accident(s)</th>\n",
       "      <td id=\"T_44262_row1_col0\" class=\"data row1 col0\" >0.0003</td>\n",
       "      <td id=\"T_44262_row1_col1\" class=\"data row1 col1\" >0.6209</td>\n",
       "      <td id=\"T_44262_row1_col2\" class=\"data row1 col2\" >0.2319</td>\n",
       "      <td id=\"T_44262_row1_col3\" class=\"data row1 col3\" >0.0297</td>\n",
       "      <td id=\"T_44262_row1_col4\" class=\"data row1 col4\" >0.8828</td>\n",
       "    </tr>\n",
       "    <tr>\n",
       "      <th id=\"T_44262_level0_row2\" class=\"row_heading level0 row2\" >(Q) accident(s) in roadworks area</th>\n",
       "      <td id=\"T_44262_row2_col0\" class=\"data row2 col0\" >0.0000</td>\n",
       "      <td id=\"T_44262_row2_col1\" class=\"data row2 col1\" >0.0000</td>\n",
       "      <td id=\"T_44262_row2_col2\" class=\"data row2 col2\" >0.0000</td>\n",
       "      <td id=\"T_44262_row2_col3\" class=\"data row2 col3\" >0.0000</td>\n",
       "      <td id=\"T_44262_row2_col4\" class=\"data row2 col4\" >0.0000</td>\n",
       "    </tr>\n",
       "    <tr>\n",
       "      <th id=\"T_44262_level0_row3\" class=\"row_heading level0 row3\" >(Q) accident(s). Hard shoulder blocked</th>\n",
       "      <td id=\"T_44262_row3_col0\" class=\"data row3 col0\" >0.0000</td>\n",
       "      <td id=\"T_44262_row3_col1\" class=\"data row3 col1\" >0.0020</td>\n",
       "      <td id=\"T_44262_row3_col2\" class=\"data row3 col2\" >0.0019</td>\n",
       "      <td id=\"T_44262_row3_col3\" class=\"data row3 col3\" >0.0000</td>\n",
       "      <td id=\"T_44262_row3_col4\" class=\"data row3 col4\" >0.0039</td>\n",
       "    </tr>\n",
       "    <tr>\n",
       "      <th id=\"T_44262_level0_row4\" class=\"row_heading level0 row4\" >(Q) accident(s). Heavy traffic</th>\n",
       "      <td id=\"T_44262_row4_col0\" class=\"data row4 col0\" >0.0000</td>\n",
       "      <td id=\"T_44262_row4_col1\" class=\"data row4 col1\" >0.0003</td>\n",
       "      <td id=\"T_44262_row4_col2\" class=\"data row4 col2\" >0.0004</td>\n",
       "      <td id=\"T_44262_row4_col3\" class=\"data row4 col3\" >0.0000</td>\n",
       "      <td id=\"T_44262_row4_col4\" class=\"data row4 col4\" >0.0007</td>\n",
       "    </tr>\n",
       "    <tr>\n",
       "      <th id=\"T_44262_level0_row5\" class=\"row_heading level0 row5\" >(Q) accident(s). Queuing traffic</th>\n",
       "      <td id=\"T_44262_row5_col0\" class=\"data row5 col0\" >0.0000</td>\n",
       "      <td id=\"T_44262_row5_col1\" class=\"data row5 col1\" >0.0011</td>\n",
       "      <td id=\"T_44262_row5_col2\" class=\"data row5 col2\" >0.0019</td>\n",
       "      <td id=\"T_44262_row5_col3\" class=\"data row5 col3\" >0.0000</td>\n",
       "      <td id=\"T_44262_row5_col4\" class=\"data row5 col4\" >0.0030</td>\n",
       "    </tr>\n",
       "    <tr>\n",
       "      <th id=\"T_44262_level0_row6\" class=\"row_heading level0 row6\" >(Q) accident(s). Right lane blocked</th>\n",
       "      <td id=\"T_44262_row6_col0\" class=\"data row6 col0\" >0.0000</td>\n",
       "      <td id=\"T_44262_row6_col1\" class=\"data row6 col1\" >0.0350</td>\n",
       "      <td id=\"T_44262_row6_col2\" class=\"data row6 col2\" >0.0399</td>\n",
       "      <td id=\"T_44262_row6_col3\" class=\"data row6 col3\" >0.0002</td>\n",
       "      <td id=\"T_44262_row6_col4\" class=\"data row6 col4\" >0.0751</td>\n",
       "    </tr>\n",
       "    <tr>\n",
       "      <th id=\"T_44262_level0_row7\" class=\"row_heading level0 row7\" >(Q) accident(s). Slow traffic</th>\n",
       "      <td id=\"T_44262_row7_col0\" class=\"data row7 col0\" >0.0000</td>\n",
       "      <td id=\"T_44262_row7_col1\" class=\"data row7 col1\" >0.0029</td>\n",
       "      <td id=\"T_44262_row7_col2\" class=\"data row7 col2\" >0.0024</td>\n",
       "      <td id=\"T_44262_row7_col3\" class=\"data row7 col3\" >0.0000</td>\n",
       "      <td id=\"T_44262_row7_col4\" class=\"data row7 col4\" >0.0053</td>\n",
       "    </tr>\n",
       "    <tr>\n",
       "      <th id=\"T_44262_level0_row8\" class=\"row_heading level0 row8\" >(Q) accident(s). Three lanes blocked</th>\n",
       "      <td id=\"T_44262_row8_col0\" class=\"data row8 col0\" >0.0000</td>\n",
       "      <td id=\"T_44262_row8_col1\" class=\"data row8 col1\" >0.0005</td>\n",
       "      <td id=\"T_44262_row8_col2\" class=\"data row8 col2\" >0.0017</td>\n",
       "      <td id=\"T_44262_row8_col3\" class=\"data row8 col3\" >0.0000</td>\n",
       "      <td id=\"T_44262_row8_col4\" class=\"data row8 col4\" >0.0022</td>\n",
       "    </tr>\n",
       "    <tr>\n",
       "      <th id=\"T_44262_level0_row9\" class=\"row_heading level0 row9\" >(Q) accident(s). Traffic building up</th>\n",
       "      <td id=\"T_44262_row9_col0\" class=\"data row9 col0\" >0.0000</td>\n",
       "      <td id=\"T_44262_row9_col1\" class=\"data row9 col1\" >0.0000</td>\n",
       "      <td id=\"T_44262_row9_col2\" class=\"data row9 col2\" >0.0000</td>\n",
       "      <td id=\"T_44262_row9_col3\" class=\"data row9 col3\" >0.0000</td>\n",
       "      <td id=\"T_44262_row9_col4\" class=\"data row9 col4\" >0.0000</td>\n",
       "    </tr>\n",
       "    <tr>\n",
       "      <th id=\"T_44262_level0_row10\" class=\"row_heading level0 row10\" >(Q) accident(s). Two lanes blocked</th>\n",
       "      <td id=\"T_44262_row10_col0\" class=\"data row10 col0\" >0.0000</td>\n",
       "      <td id=\"T_44262_row10_col1\" class=\"data row10 col1\" >0.0034</td>\n",
       "      <td id=\"T_44262_row10_col2\" class=\"data row10 col2\" >0.0088</td>\n",
       "      <td id=\"T_44262_row10_col3\" class=\"data row10 col3\" >0.0001</td>\n",
       "      <td id=\"T_44262_row10_col4\" class=\"data row10 col4\" >0.0124</td>\n",
       "    </tr>\n",
       "    <tr>\n",
       "      <th id=\"T_44262_level0_row11\" class=\"row_heading level0 row11\" >(Q) earlier accident(s)</th>\n",
       "      <td id=\"T_44262_row11_col0\" class=\"data row11 col0\" >0.0000</td>\n",
       "      <td id=\"T_44262_row11_col1\" class=\"data row11 col1\" >0.0007</td>\n",
       "      <td id=\"T_44262_row11_col2\" class=\"data row11 col2\" >0.0011</td>\n",
       "      <td id=\"T_44262_row11_col3\" class=\"data row11 col3\" >0.0002</td>\n",
       "      <td id=\"T_44262_row11_col4\" class=\"data row11 col4\" >0.0019</td>\n",
       "    </tr>\n",
       "    <tr>\n",
       "      <th id=\"T_44262_level0_row12\" class=\"row_heading level0 row12\" >(Q) fuel spillage accident(s)</th>\n",
       "      <td id=\"T_44262_row12_col0\" class=\"data row12 col0\" >0.0000</td>\n",
       "      <td id=\"T_44262_row12_col1\" class=\"data row12 col1\" >0.0003</td>\n",
       "      <td id=\"T_44262_row12_col2\" class=\"data row12 col2\" >0.0001</td>\n",
       "      <td id=\"T_44262_row12_col3\" class=\"data row12 col3\" >0.0000</td>\n",
       "      <td id=\"T_44262_row12_col4\" class=\"data row12 col4\" >0.0004</td>\n",
       "    </tr>\n",
       "    <tr>\n",
       "      <th id=\"T_44262_level0_row13\" class=\"row_heading level0 row13\" >(Q) jackknifed articulated lorr(y/ies)</th>\n",
       "      <td id=\"T_44262_row13_col0\" class=\"data row13 col0\" >0.0000</td>\n",
       "      <td id=\"T_44262_row13_col1\" class=\"data row13 col1\" >0.0001</td>\n",
       "      <td id=\"T_44262_row13_col2\" class=\"data row13 col2\" >0.0001</td>\n",
       "      <td id=\"T_44262_row13_col3\" class=\"data row13 col3\" >0.0000</td>\n",
       "      <td id=\"T_44262_row13_col4\" class=\"data row13 col4\" >0.0002</td>\n",
       "    </tr>\n",
       "    <tr>\n",
       "      <th id=\"T_44262_level0_row14\" class=\"row_heading level0 row14\" >(Q) jackknifed trailer(s)</th>\n",
       "      <td id=\"T_44262_row14_col0\" class=\"data row14 col0\" >0.0000</td>\n",
       "      <td id=\"T_44262_row14_col1\" class=\"data row14 col1\" >0.0001</td>\n",
       "      <td id=\"T_44262_row14_col2\" class=\"data row14 col2\" >0.0002</td>\n",
       "      <td id=\"T_44262_row14_col3\" class=\"data row14 col3\" >0.0000</td>\n",
       "      <td id=\"T_44262_row14_col4\" class=\"data row14 col4\" >0.0003</td>\n",
       "    </tr>\n",
       "    <tr>\n",
       "      <th id=\"T_44262_level0_row15\" class=\"row_heading level0 row15\" >(Q) oil spillage accident(s)</th>\n",
       "      <td id=\"T_44262_row15_col0\" class=\"data row15 col0\" >0.0000</td>\n",
       "      <td id=\"T_44262_row15_col1\" class=\"data row15 col1\" >0.0000</td>\n",
       "      <td id=\"T_44262_row15_col2\" class=\"data row15 col2\" >0.0000</td>\n",
       "      <td id=\"T_44262_row15_col3\" class=\"data row15 col3\" >0.0000</td>\n",
       "      <td id=\"T_44262_row15_col4\" class=\"data row15 col4\" >0.0000</td>\n",
       "    </tr>\n",
       "    <tr>\n",
       "      <th id=\"T_44262_level0_row16\" class=\"row_heading level0 row16\" >(Q) serious accident(s)</th>\n",
       "      <td id=\"T_44262_row16_col0\" class=\"data row16 col0\" >0.0000</td>\n",
       "      <td id=\"T_44262_row16_col1\" class=\"data row16 col1\" >0.0015</td>\n",
       "      <td id=\"T_44262_row16_col2\" class=\"data row16 col2\" >0.0004</td>\n",
       "      <td id=\"T_44262_row16_col3\" class=\"data row16 col3\" >0.0000</td>\n",
       "      <td id=\"T_44262_row16_col4\" class=\"data row16 col4\" >0.0019</td>\n",
       "    </tr>\n",
       "    <tr>\n",
       "      <th id=\"T_44262_level0_row17\" class=\"row_heading level0 row17\" >accident. Delays (Q)</th>\n",
       "      <td id=\"T_44262_row17_col0\" class=\"data row17 col0\" >0.0000</td>\n",
       "      <td id=\"T_44262_row17_col1\" class=\"data row17 col1\" >0.0005</td>\n",
       "      <td id=\"T_44262_row17_col2\" class=\"data row17 col2\" >0.0005</td>\n",
       "      <td id=\"T_44262_row17_col3\" class=\"data row17 col3\" >0.0000</td>\n",
       "      <td id=\"T_44262_row17_col4\" class=\"data row17 col4\" >0.0010</td>\n",
       "    </tr>\n",
       "    <tr>\n",
       "      <th id=\"T_44262_level0_row18\" class=\"row_heading level0 row18\" >accident. Delays (Q) expected</th>\n",
       "      <td id=\"T_44262_row18_col0\" class=\"data row18 col0\" >0.0000</td>\n",
       "      <td id=\"T_44262_row18_col1\" class=\"data row18 col1\" >0.0000</td>\n",
       "      <td id=\"T_44262_row18_col2\" class=\"data row18 col2\" >0.0000</td>\n",
       "      <td id=\"T_44262_row18_col3\" class=\"data row18 col3\" >0.0000</td>\n",
       "      <td id=\"T_44262_row18_col4\" class=\"data row18 col4\" >0.0001</td>\n",
       "    </tr>\n",
       "    <tr>\n",
       "      <th id=\"T_44262_level0_row19\" class=\"row_heading level0 row19\" >multi vehicle pile up. Delays (Q)</th>\n",
       "      <td id=\"T_44262_row19_col0\" class=\"data row19 col0\" >0.0000</td>\n",
       "      <td id=\"T_44262_row19_col1\" class=\"data row19 col1\" >0.0000</td>\n",
       "      <td id=\"T_44262_row19_col2\" class=\"data row19 col2\" >0.0000</td>\n",
       "      <td id=\"T_44262_row19_col3\" class=\"data row19 col3\" >0.0000</td>\n",
       "      <td id=\"T_44262_row19_col4\" class=\"data row19 col4\" >0.0000</td>\n",
       "    </tr>\n",
       "    <tr>\n",
       "      <th id=\"T_44262_level0_row20\" class=\"row_heading level0 row20\" >multi-vehicle accident (involving Q vehicles)</th>\n",
       "      <td id=\"T_44262_row20_col0\" class=\"data row20 col0\" >0.0000</td>\n",
       "      <td id=\"T_44262_row20_col1\" class=\"data row20 col1\" >0.0023</td>\n",
       "      <td id=\"T_44262_row20_col2\" class=\"data row20 col2\" >0.0031</td>\n",
       "      <td id=\"T_44262_row20_col3\" class=\"data row20 col3\" >0.0000</td>\n",
       "      <td id=\"T_44262_row20_col4\" class=\"data row20 col4\" >0.0054</td>\n",
       "    </tr>\n",
       "    <tr>\n",
       "      <th id=\"T_44262_level0_row21\" class=\"row_heading level0 row21\" >All</th>\n",
       "      <td id=\"T_44262_row21_col0\" class=\"data row21 col0\" >0.0003</td>\n",
       "      <td id=\"T_44262_row21_col1\" class=\"data row21 col1\" >0.6723</td>\n",
       "      <td id=\"T_44262_row21_col2\" class=\"data row21 col2\" >0.2970</td>\n",
       "      <td id=\"T_44262_row21_col3\" class=\"data row21 col3\" >0.0304</td>\n",
       "      <td id=\"T_44262_row21_col4\" class=\"data row21 col4\" >1.0000</td>\n",
       "    </tr>\n",
       "  </tbody>\n",
       "</table>\n"
      ],
      "text/plain": [
       "<pandas.io.formats.style.Styler at 0x23bc4035e50>"
      ]
     },
     "execution_count": 60,
     "metadata": {},
     "output_type": "execute_result"
    }
   ],
   "source": [
    "pd.crosstab(df.TMC_Description, df.Severity, values=df.Accident_Count, aggfunc=np.sum, normalize=True,\n",
    "           margins=True).style.format ('{0:,.4f}')"
   ]
  },
  {
   "cell_type": "markdown",
   "metadata": {},
   "source": [
    "## Convert `Objects` to `Categorical` data type when less 2000 items\n",
    "* List columns non-objects datatype i.e. numerical fields in order to exclude them\n",
    "* Define function to find object columns datatype\n",
    "    * Convert `Objects` with less that 2000 unique items to `Categories`"
   ]
  },
  {
   "cell_type": "code",
   "execution_count": 61,
   "metadata": {
    "ExecuteTime": {
     "end_time": "2023-01-23T00:24:32.520181Z",
     "start_time": "2023-01-23T00:24:12.929410Z"
    }
   },
   "outputs": [],
   "source": [
    "cols_to_exclude = list(df.select_dtypes(exclude=['object']))\n",
    "for col in df.columns:\n",
    "    if df[col].nunique() < 2000 and col not in cols_to_exclude:\n",
    "        df[col] = df[col].astype('category')"
   ]
  },
  {
   "cell_type": "code",
   "execution_count": 62,
   "metadata": {
    "ExecuteTime": {
     "end_time": "2023-01-23T00:24:35.558402Z",
     "start_time": "2023-01-23T00:24:32.520181Z"
    }
   },
   "outputs": [
    {
     "name": "stderr",
     "output_type": "stream",
     "text": [
      "C:\\Users\\Miguel\\AppData\\Local\\Temp\\ipykernel_8832\\1227896949.py:1: FutureWarning:\n",
      "\n",
      "null_counts is deprecated. Use show_counts instead\n",
      "\n"
     ]
    },
    {
     "name": "stdout",
     "output_type": "stream",
     "text": [
      "<class 'pandas.core.frame.DataFrame'>\n",
      "Int64Index: 2563728 entries, 0 to 2563727\n",
      "Data columns (total 51 columns):\n",
      " #   Column                 Non-Null Count    Dtype         \n",
      "---  ------                 --------------    -----         \n",
      " 0   Source                 2563728 non-null  category      \n",
      " 1   TMC                    2563728 non-null  Int64         \n",
      " 2   Severity               2563728 non-null  int64         \n",
      " 3   Start_Time             2563728 non-null  datetime64[ns]\n",
      " 4   End_Time               2563728 non-null  datetime64[ns]\n",
      " 5   Start_Lat              2563728 non-null  float64       \n",
      " 6   Start_Lng              2563728 non-null  float64       \n",
      " 7   End_Lat                598735 non-null   float64       \n",
      " 8   End_Lng                598735 non-null   float64       \n",
      " 9   Distance(mi)           2563728 non-null  float64       \n",
      " 10  Description            2563727 non-null  object        \n",
      " 11  Number                 928540 non-null   float64       \n",
      " 12  Street                 2563728 non-null  object        \n",
      " 13  Side                   2563728 non-null  category      \n",
      " 14  City                   2563672 non-null  object        \n",
      " 15  County                 2563728 non-null  category      \n",
      " 16  State                  2563728 non-null  category      \n",
      " 17  Zipcode                2562964 non-null  object        \n",
      " 18  Timezone               2560694 non-null  category      \n",
      " 19  Airport_Code           2558269 non-null  category      \n",
      " 20  Weather_Timestamp      2530285 non-null  datetime64[ns]\n",
      " 21  Temperature(F)         2514135 non-null  float64       \n",
      " 22  Wind_Chill(F)          1080540 non-null  float64       \n",
      " 23  Humidity(%)            2511585 non-null  float64       \n",
      " 24  Pressure(in)           2520694 non-null  float64       \n",
      " 25  Visibility(mi)         2506834 non-null  float64       \n",
      " 26  Wind_Direction         2521919 non-null  category      \n",
      " 27  Wind_Speed(mph)        2200316 non-null  float64       \n",
      " 28  Precipitation(in)      938741 non-null   float64       \n",
      " 29  Weather_Condition      2506370 non-null  category      \n",
      " 30  Amenity                2563728 non-null  bool          \n",
      " 31  Bump                   2563728 non-null  bool          \n",
      " 32  Crossing               2563728 non-null  bool          \n",
      " 33  Give_Way               2563728 non-null  bool          \n",
      " 34  Junction               2563728 non-null  bool          \n",
      " 35  No_Exit                2563728 non-null  bool          \n",
      " 36  Railway                2563728 non-null  bool          \n",
      " 37  Roundabout             2563728 non-null  bool          \n",
      " 38  Station                2563728 non-null  bool          \n",
      " 39  Stop                   2563728 non-null  bool          \n",
      " 40  Traffic_Calming        2563728 non-null  bool          \n",
      " 41  Traffic_Signal         2563728 non-null  bool          \n",
      " 42  Turning_Loop           2563728 non-null  bool          \n",
      " 43  Sunrise_Sunset         2563669 non-null  category      \n",
      " 44  Civil_Twilight         2563669 non-null  category      \n",
      " 45  Nautical_Twilight      2563669 non-null  category      \n",
      " 46  Astronomical_Twilight  2563669 non-null  category      \n",
      " 47  Start_Year             2563728 non-null  int64         \n",
      " 48  Start_Month            2563728 non-null  int64         \n",
      " 49  Accident_Count         2563728 non-null  int64         \n",
      " 50  TMC_Description        2563728 non-null  category      \n",
      "dtypes: Int64(1), bool(13), category(13), datetime64[ns](3), float64(13), int64(4), object(4)\n",
      "memory usage: 579.6+ MB\n"
     ]
    }
   ],
   "source": [
    "df.info(null_counts = True)"
   ]
  },
  {
   "cell_type": "markdown",
   "metadata": {},
   "source": [
    "# Develop data visualizations"
   ]
  },
  {
   "cell_type": "markdown",
   "metadata": {},
   "source": [
    "## Create <span style=\"color:RoyalBlue\">categorical</span> features list\n",
    "By \"including only\" category data types"
   ]
  },
  {
   "cell_type": "code",
   "execution_count": 63,
   "metadata": {
    "ExecuteTime": {
     "end_time": "2023-01-23T00:24:35.622366Z",
     "start_time": "2023-01-23T00:24:35.563399Z"
    }
   },
   "outputs": [
    {
     "data": {
      "text/plain": [
       "['Source',\n",
       " 'Side',\n",
       " 'County',\n",
       " 'State',\n",
       " 'Timezone',\n",
       " 'Airport_Code',\n",
       " 'Wind_Direction',\n",
       " 'Weather_Condition',\n",
       " 'Sunrise_Sunset',\n",
       " 'Civil_Twilight',\n",
       " 'Nautical_Twilight',\n",
       " 'Astronomical_Twilight',\n",
       " 'TMC_Description']"
      ]
     },
     "execution_count": 63,
     "metadata": {},
     "output_type": "execute_result"
    }
   ],
   "source": [
    "categorical_features = list(df.select_dtypes(include=['category']))\n",
    "categorical_features"
   ]
  },
  {
   "cell_type": "code",
   "execution_count": 81,
   "metadata": {
    "ExecuteTime": {
     "end_time": "2023-01-23T00:37:45.372819Z",
     "start_time": "2023-01-23T00:37:45.358808Z"
    }
   },
   "outputs": [],
   "source": [
    "def create_barchart(dataframe, y_column):\n",
    "    df1 = dataframe.groupby([y_column])['Accident_Count'].sum()\n",
    "    df1 = df1.reset_index()\n",
    "    fig = px.bar(df1, y = y_column, x ='Accident_Count', orientation = 'h')\n",
    "    fig.show()\n"
   ]
  },
  {
   "cell_type": "markdown",
   "metadata": {},
   "source": [
    "## Create <span style=\"color:RoyalBlue\">barchart function to quickly review </span> categories"
   ]
  },
  {
   "cell_type": "code",
   "execution_count": 85,
   "metadata": {
    "ExecuteTime": {
     "end_time": "2023-01-23T00:39:17.432937Z",
     "start_time": "2023-01-23T00:39:11.714211Z"
    },
    "scrolled": false
   },
   "outputs": [
    {
     "data": {
      "application/vnd.plotly.v1+json": {
       "config": {
        "plotlyServerURL": "https://plot.ly"
       },
       "data": [
        {
         "alignmentgroup": "True",
         "hovertemplate": "Accident_Count=%{x}<br>Source=%{y}<extra></extra>",
         "legendgroup": "",
         "marker": {
          "color": "#636efa",
          "pattern": {
           "shape": ""
          }
         },
         "name": "",
         "offsetgroup": "",
         "orientation": "h",
         "showlegend": false,
         "textposition": "auto",
         "type": "bar",
         "x": [
          598735,
          1924639,
          40354
         ],
         "xaxis": "x",
         "y": [
          "Bing",
          "MapQuest",
          "MapQuest-Bing"
         ],
         "yaxis": "y"
        }
       ],
       "layout": {
        "barmode": "relative",
        "legend": {
         "tracegroupgap": 0
        },
        "margin": {
         "t": 60
        },
        "template": {
         "data": {
          "bar": [
           {
            "error_x": {
             "color": "#2a3f5f"
            },
            "error_y": {
             "color": "#2a3f5f"
            },
            "marker": {
             "line": {
              "color": "#E5ECF6",
              "width": 0.5
             },
             "pattern": {
              "fillmode": "overlay",
              "size": 10,
              "solidity": 0.2
             }
            },
            "type": "bar"
           }
          ],
          "barpolar": [
           {
            "marker": {
             "line": {
              "color": "#E5ECF6",
              "width": 0.5
             },
             "pattern": {
              "fillmode": "overlay",
              "size": 10,
              "solidity": 0.2
             }
            },
            "type": "barpolar"
           }
          ],
          "carpet": [
           {
            "aaxis": {
             "endlinecolor": "#2a3f5f",
             "gridcolor": "white",
             "linecolor": "white",
             "minorgridcolor": "white",
             "startlinecolor": "#2a3f5f"
            },
            "baxis": {
             "endlinecolor": "#2a3f5f",
             "gridcolor": "white",
             "linecolor": "white",
             "minorgridcolor": "white",
             "startlinecolor": "#2a3f5f"
            },
            "type": "carpet"
           }
          ],
          "choropleth": [
           {
            "colorbar": {
             "outlinewidth": 0,
             "ticks": ""
            },
            "type": "choropleth"
           }
          ],
          "contour": [
           {
            "colorbar": {
             "outlinewidth": 0,
             "ticks": ""
            },
            "colorscale": [
             [
              0,
              "#0d0887"
             ],
             [
              0.1111111111111111,
              "#46039f"
             ],
             [
              0.2222222222222222,
              "#7201a8"
             ],
             [
              0.3333333333333333,
              "#9c179e"
             ],
             [
              0.4444444444444444,
              "#bd3786"
             ],
             [
              0.5555555555555556,
              "#d8576b"
             ],
             [
              0.6666666666666666,
              "#ed7953"
             ],
             [
              0.7777777777777778,
              "#fb9f3a"
             ],
             [
              0.8888888888888888,
              "#fdca26"
             ],
             [
              1,
              "#f0f921"
             ]
            ],
            "type": "contour"
           }
          ],
          "contourcarpet": [
           {
            "colorbar": {
             "outlinewidth": 0,
             "ticks": ""
            },
            "type": "contourcarpet"
           }
          ],
          "heatmap": [
           {
            "colorbar": {
             "outlinewidth": 0,
             "ticks": ""
            },
            "colorscale": [
             [
              0,
              "#0d0887"
             ],
             [
              0.1111111111111111,
              "#46039f"
             ],
             [
              0.2222222222222222,
              "#7201a8"
             ],
             [
              0.3333333333333333,
              "#9c179e"
             ],
             [
              0.4444444444444444,
              "#bd3786"
             ],
             [
              0.5555555555555556,
              "#d8576b"
             ],
             [
              0.6666666666666666,
              "#ed7953"
             ],
             [
              0.7777777777777778,
              "#fb9f3a"
             ],
             [
              0.8888888888888888,
              "#fdca26"
             ],
             [
              1,
              "#f0f921"
             ]
            ],
            "type": "heatmap"
           }
          ],
          "heatmapgl": [
           {
            "colorbar": {
             "outlinewidth": 0,
             "ticks": ""
            },
            "colorscale": [
             [
              0,
              "#0d0887"
             ],
             [
              0.1111111111111111,
              "#46039f"
             ],
             [
              0.2222222222222222,
              "#7201a8"
             ],
             [
              0.3333333333333333,
              "#9c179e"
             ],
             [
              0.4444444444444444,
              "#bd3786"
             ],
             [
              0.5555555555555556,
              "#d8576b"
             ],
             [
              0.6666666666666666,
              "#ed7953"
             ],
             [
              0.7777777777777778,
              "#fb9f3a"
             ],
             [
              0.8888888888888888,
              "#fdca26"
             ],
             [
              1,
              "#f0f921"
             ]
            ],
            "type": "heatmapgl"
           }
          ],
          "histogram": [
           {
            "marker": {
             "pattern": {
              "fillmode": "overlay",
              "size": 10,
              "solidity": 0.2
             }
            },
            "type": "histogram"
           }
          ],
          "histogram2d": [
           {
            "colorbar": {
             "outlinewidth": 0,
             "ticks": ""
            },
            "colorscale": [
             [
              0,
              "#0d0887"
             ],
             [
              0.1111111111111111,
              "#46039f"
             ],
             [
              0.2222222222222222,
              "#7201a8"
             ],
             [
              0.3333333333333333,
              "#9c179e"
             ],
             [
              0.4444444444444444,
              "#bd3786"
             ],
             [
              0.5555555555555556,
              "#d8576b"
             ],
             [
              0.6666666666666666,
              "#ed7953"
             ],
             [
              0.7777777777777778,
              "#fb9f3a"
             ],
             [
              0.8888888888888888,
              "#fdca26"
             ],
             [
              1,
              "#f0f921"
             ]
            ],
            "type": "histogram2d"
           }
          ],
          "histogram2dcontour": [
           {
            "colorbar": {
             "outlinewidth": 0,
             "ticks": ""
            },
            "colorscale": [
             [
              0,
              "#0d0887"
             ],
             [
              0.1111111111111111,
              "#46039f"
             ],
             [
              0.2222222222222222,
              "#7201a8"
             ],
             [
              0.3333333333333333,
              "#9c179e"
             ],
             [
              0.4444444444444444,
              "#bd3786"
             ],
             [
              0.5555555555555556,
              "#d8576b"
             ],
             [
              0.6666666666666666,
              "#ed7953"
             ],
             [
              0.7777777777777778,
              "#fb9f3a"
             ],
             [
              0.8888888888888888,
              "#fdca26"
             ],
             [
              1,
              "#f0f921"
             ]
            ],
            "type": "histogram2dcontour"
           }
          ],
          "mesh3d": [
           {
            "colorbar": {
             "outlinewidth": 0,
             "ticks": ""
            },
            "type": "mesh3d"
           }
          ],
          "parcoords": [
           {
            "line": {
             "colorbar": {
              "outlinewidth": 0,
              "ticks": ""
             }
            },
            "type": "parcoords"
           }
          ],
          "pie": [
           {
            "automargin": true,
            "type": "pie"
           }
          ],
          "scatter": [
           {
            "fillpattern": {
             "fillmode": "overlay",
             "size": 10,
             "solidity": 0.2
            },
            "type": "scatter"
           }
          ],
          "scatter3d": [
           {
            "line": {
             "colorbar": {
              "outlinewidth": 0,
              "ticks": ""
             }
            },
            "marker": {
             "colorbar": {
              "outlinewidth": 0,
              "ticks": ""
             }
            },
            "type": "scatter3d"
           }
          ],
          "scattercarpet": [
           {
            "marker": {
             "colorbar": {
              "outlinewidth": 0,
              "ticks": ""
             }
            },
            "type": "scattercarpet"
           }
          ],
          "scattergeo": [
           {
            "marker": {
             "colorbar": {
              "outlinewidth": 0,
              "ticks": ""
             }
            },
            "type": "scattergeo"
           }
          ],
          "scattergl": [
           {
            "marker": {
             "colorbar": {
              "outlinewidth": 0,
              "ticks": ""
             }
            },
            "type": "scattergl"
           }
          ],
          "scattermapbox": [
           {
            "marker": {
             "colorbar": {
              "outlinewidth": 0,
              "ticks": ""
             }
            },
            "type": "scattermapbox"
           }
          ],
          "scatterpolar": [
           {
            "marker": {
             "colorbar": {
              "outlinewidth": 0,
              "ticks": ""
             }
            },
            "type": "scatterpolar"
           }
          ],
          "scatterpolargl": [
           {
            "marker": {
             "colorbar": {
              "outlinewidth": 0,
              "ticks": ""
             }
            },
            "type": "scatterpolargl"
           }
          ],
          "scatterternary": [
           {
            "marker": {
             "colorbar": {
              "outlinewidth": 0,
              "ticks": ""
             }
            },
            "type": "scatterternary"
           }
          ],
          "surface": [
           {
            "colorbar": {
             "outlinewidth": 0,
             "ticks": ""
            },
            "colorscale": [
             [
              0,
              "#0d0887"
             ],
             [
              0.1111111111111111,
              "#46039f"
             ],
             [
              0.2222222222222222,
              "#7201a8"
             ],
             [
              0.3333333333333333,
              "#9c179e"
             ],
             [
              0.4444444444444444,
              "#bd3786"
             ],
             [
              0.5555555555555556,
              "#d8576b"
             ],
             [
              0.6666666666666666,
              "#ed7953"
             ],
             [
              0.7777777777777778,
              "#fb9f3a"
             ],
             [
              0.8888888888888888,
              "#fdca26"
             ],
             [
              1,
              "#f0f921"
             ]
            ],
            "type": "surface"
           }
          ],
          "table": [
           {
            "cells": {
             "fill": {
              "color": "#EBF0F8"
             },
             "line": {
              "color": "white"
             }
            },
            "header": {
             "fill": {
              "color": "#C8D4E3"
             },
             "line": {
              "color": "white"
             }
            },
            "type": "table"
           }
          ]
         },
         "layout": {
          "annotationdefaults": {
           "arrowcolor": "#2a3f5f",
           "arrowhead": 0,
           "arrowwidth": 1
          },
          "autotypenumbers": "strict",
          "coloraxis": {
           "colorbar": {
            "outlinewidth": 0,
            "ticks": ""
           }
          },
          "colorscale": {
           "diverging": [
            [
             0,
             "#8e0152"
            ],
            [
             0.1,
             "#c51b7d"
            ],
            [
             0.2,
             "#de77ae"
            ],
            [
             0.3,
             "#f1b6da"
            ],
            [
             0.4,
             "#fde0ef"
            ],
            [
             0.5,
             "#f7f7f7"
            ],
            [
             0.6,
             "#e6f5d0"
            ],
            [
             0.7,
             "#b8e186"
            ],
            [
             0.8,
             "#7fbc41"
            ],
            [
             0.9,
             "#4d9221"
            ],
            [
             1,
             "#276419"
            ]
           ],
           "sequential": [
            [
             0,
             "#0d0887"
            ],
            [
             0.1111111111111111,
             "#46039f"
            ],
            [
             0.2222222222222222,
             "#7201a8"
            ],
            [
             0.3333333333333333,
             "#9c179e"
            ],
            [
             0.4444444444444444,
             "#bd3786"
            ],
            [
             0.5555555555555556,
             "#d8576b"
            ],
            [
             0.6666666666666666,
             "#ed7953"
            ],
            [
             0.7777777777777778,
             "#fb9f3a"
            ],
            [
             0.8888888888888888,
             "#fdca26"
            ],
            [
             1,
             "#f0f921"
            ]
           ],
           "sequentialminus": [
            [
             0,
             "#0d0887"
            ],
            [
             0.1111111111111111,
             "#46039f"
            ],
            [
             0.2222222222222222,
             "#7201a8"
            ],
            [
             0.3333333333333333,
             "#9c179e"
            ],
            [
             0.4444444444444444,
             "#bd3786"
            ],
            [
             0.5555555555555556,
             "#d8576b"
            ],
            [
             0.6666666666666666,
             "#ed7953"
            ],
            [
             0.7777777777777778,
             "#fb9f3a"
            ],
            [
             0.8888888888888888,
             "#fdca26"
            ],
            [
             1,
             "#f0f921"
            ]
           ]
          },
          "colorway": [
           "#636efa",
           "#EF553B",
           "#00cc96",
           "#ab63fa",
           "#FFA15A",
           "#19d3f3",
           "#FF6692",
           "#B6E880",
           "#FF97FF",
           "#FECB52"
          ],
          "font": {
           "color": "#2a3f5f"
          },
          "geo": {
           "bgcolor": "white",
           "lakecolor": "white",
           "landcolor": "#E5ECF6",
           "showlakes": true,
           "showland": true,
           "subunitcolor": "white"
          },
          "hoverlabel": {
           "align": "left"
          },
          "hovermode": "closest",
          "mapbox": {
           "style": "light"
          },
          "paper_bgcolor": "white",
          "plot_bgcolor": "#E5ECF6",
          "polar": {
           "angularaxis": {
            "gridcolor": "white",
            "linecolor": "white",
            "ticks": ""
           },
           "bgcolor": "#E5ECF6",
           "radialaxis": {
            "gridcolor": "white",
            "linecolor": "white",
            "ticks": ""
           }
          },
          "scene": {
           "xaxis": {
            "backgroundcolor": "#E5ECF6",
            "gridcolor": "white",
            "gridwidth": 2,
            "linecolor": "white",
            "showbackground": true,
            "ticks": "",
            "zerolinecolor": "white"
           },
           "yaxis": {
            "backgroundcolor": "#E5ECF6",
            "gridcolor": "white",
            "gridwidth": 2,
            "linecolor": "white",
            "showbackground": true,
            "ticks": "",
            "zerolinecolor": "white"
           },
           "zaxis": {
            "backgroundcolor": "#E5ECF6",
            "gridcolor": "white",
            "gridwidth": 2,
            "linecolor": "white",
            "showbackground": true,
            "ticks": "",
            "zerolinecolor": "white"
           }
          },
          "shapedefaults": {
           "line": {
            "color": "#2a3f5f"
           }
          },
          "ternary": {
           "aaxis": {
            "gridcolor": "white",
            "linecolor": "white",
            "ticks": ""
           },
           "baxis": {
            "gridcolor": "white",
            "linecolor": "white",
            "ticks": ""
           },
           "bgcolor": "#E5ECF6",
           "caxis": {
            "gridcolor": "white",
            "linecolor": "white",
            "ticks": ""
           }
          },
          "title": {
           "x": 0.05
          },
          "xaxis": {
           "automargin": true,
           "gridcolor": "white",
           "linecolor": "white",
           "ticks": "",
           "title": {
            "standoff": 15
           },
           "zerolinecolor": "white",
           "zerolinewidth": 2
          },
          "yaxis": {
           "automargin": true,
           "gridcolor": "white",
           "linecolor": "white",
           "ticks": "",
           "title": {
            "standoff": 15
           },
           "zerolinecolor": "white",
           "zerolinewidth": 2
          }
         }
        },
        "xaxis": {
         "anchor": "y",
         "domain": [
          0,
          1
         ],
         "title": {
          "text": "Accident_Count"
         }
        },
        "yaxis": {
         "anchor": "x",
         "domain": [
          0,
          1
         ],
         "title": {
          "text": "Source"
         }
        }
       }
      },
      "text/html": [
       "<div>                            <div id=\"59db58be-2be2-4629-a8ac-045a32ffa2dd\" class=\"plotly-graph-div\" style=\"height:525px; width:100%;\"></div>            <script type=\"text/javascript\">                require([\"plotly\"], function(Plotly) {                    window.PLOTLYENV=window.PLOTLYENV || {};                                    if (document.getElementById(\"59db58be-2be2-4629-a8ac-045a32ffa2dd\")) {                    Plotly.newPlot(                        \"59db58be-2be2-4629-a8ac-045a32ffa2dd\",                        [{\"alignmentgroup\":\"True\",\"hovertemplate\":\"Accident_Count=%{x}<br>Source=%{y}<extra></extra>\",\"legendgroup\":\"\",\"marker\":{\"color\":\"#636efa\",\"pattern\":{\"shape\":\"\"}},\"name\":\"\",\"offsetgroup\":\"\",\"orientation\":\"h\",\"showlegend\":false,\"textposition\":\"auto\",\"x\":[598735,1924639,40354],\"xaxis\":\"x\",\"y\":[\"Bing\",\"MapQuest\",\"MapQuest-Bing\"],\"yaxis\":\"y\",\"type\":\"bar\"}],                        {\"template\":{\"data\":{\"histogram2dcontour\":[{\"type\":\"histogram2dcontour\",\"colorbar\":{\"outlinewidth\":0,\"ticks\":\"\"},\"colorscale\":[[0.0,\"#0d0887\"],[0.1111111111111111,\"#46039f\"],[0.2222222222222222,\"#7201a8\"],[0.3333333333333333,\"#9c179e\"],[0.4444444444444444,\"#bd3786\"],[0.5555555555555556,\"#d8576b\"],[0.6666666666666666,\"#ed7953\"],[0.7777777777777778,\"#fb9f3a\"],[0.8888888888888888,\"#fdca26\"],[1.0,\"#f0f921\"]]}],\"choropleth\":[{\"type\":\"choropleth\",\"colorbar\":{\"outlinewidth\":0,\"ticks\":\"\"}}],\"histogram2d\":[{\"type\":\"histogram2d\",\"colorbar\":{\"outlinewidth\":0,\"ticks\":\"\"},\"colorscale\":[[0.0,\"#0d0887\"],[0.1111111111111111,\"#46039f\"],[0.2222222222222222,\"#7201a8\"],[0.3333333333333333,\"#9c179e\"],[0.4444444444444444,\"#bd3786\"],[0.5555555555555556,\"#d8576b\"],[0.6666666666666666,\"#ed7953\"],[0.7777777777777778,\"#fb9f3a\"],[0.8888888888888888,\"#fdca26\"],[1.0,\"#f0f921\"]]}],\"heatmap\":[{\"type\":\"heatmap\",\"colorbar\":{\"outlinewidth\":0,\"ticks\":\"\"},\"colorscale\":[[0.0,\"#0d0887\"],[0.1111111111111111,\"#46039f\"],[0.2222222222222222,\"#7201a8\"],[0.3333333333333333,\"#9c179e\"],[0.4444444444444444,\"#bd3786\"],[0.5555555555555556,\"#d8576b\"],[0.6666666666666666,\"#ed7953\"],[0.7777777777777778,\"#fb9f3a\"],[0.8888888888888888,\"#fdca26\"],[1.0,\"#f0f921\"]]}],\"heatmapgl\":[{\"type\":\"heatmapgl\",\"colorbar\":{\"outlinewidth\":0,\"ticks\":\"\"},\"colorscale\":[[0.0,\"#0d0887\"],[0.1111111111111111,\"#46039f\"],[0.2222222222222222,\"#7201a8\"],[0.3333333333333333,\"#9c179e\"],[0.4444444444444444,\"#bd3786\"],[0.5555555555555556,\"#d8576b\"],[0.6666666666666666,\"#ed7953\"],[0.7777777777777778,\"#fb9f3a\"],[0.8888888888888888,\"#fdca26\"],[1.0,\"#f0f921\"]]}],\"contourcarpet\":[{\"type\":\"contourcarpet\",\"colorbar\":{\"outlinewidth\":0,\"ticks\":\"\"}}],\"contour\":[{\"type\":\"contour\",\"colorbar\":{\"outlinewidth\":0,\"ticks\":\"\"},\"colorscale\":[[0.0,\"#0d0887\"],[0.1111111111111111,\"#46039f\"],[0.2222222222222222,\"#7201a8\"],[0.3333333333333333,\"#9c179e\"],[0.4444444444444444,\"#bd3786\"],[0.5555555555555556,\"#d8576b\"],[0.6666666666666666,\"#ed7953\"],[0.7777777777777778,\"#fb9f3a\"],[0.8888888888888888,\"#fdca26\"],[1.0,\"#f0f921\"]]}],\"surface\":[{\"type\":\"surface\",\"colorbar\":{\"outlinewidth\":0,\"ticks\":\"\"},\"colorscale\":[[0.0,\"#0d0887\"],[0.1111111111111111,\"#46039f\"],[0.2222222222222222,\"#7201a8\"],[0.3333333333333333,\"#9c179e\"],[0.4444444444444444,\"#bd3786\"],[0.5555555555555556,\"#d8576b\"],[0.6666666666666666,\"#ed7953\"],[0.7777777777777778,\"#fb9f3a\"],[0.8888888888888888,\"#fdca26\"],[1.0,\"#f0f921\"]]}],\"mesh3d\":[{\"type\":\"mesh3d\",\"colorbar\":{\"outlinewidth\":0,\"ticks\":\"\"}}],\"scatter\":[{\"fillpattern\":{\"fillmode\":\"overlay\",\"size\":10,\"solidity\":0.2},\"type\":\"scatter\"}],\"parcoords\":[{\"type\":\"parcoords\",\"line\":{\"colorbar\":{\"outlinewidth\":0,\"ticks\":\"\"}}}],\"scatterpolargl\":[{\"type\":\"scatterpolargl\",\"marker\":{\"colorbar\":{\"outlinewidth\":0,\"ticks\":\"\"}}}],\"bar\":[{\"error_x\":{\"color\":\"#2a3f5f\"},\"error_y\":{\"color\":\"#2a3f5f\"},\"marker\":{\"line\":{\"color\":\"#E5ECF6\",\"width\":0.5},\"pattern\":{\"fillmode\":\"overlay\",\"size\":10,\"solidity\":0.2}},\"type\":\"bar\"}],\"scattergeo\":[{\"type\":\"scattergeo\",\"marker\":{\"colorbar\":{\"outlinewidth\":0,\"ticks\":\"\"}}}],\"scatterpolar\":[{\"type\":\"scatterpolar\",\"marker\":{\"colorbar\":{\"outlinewidth\":0,\"ticks\":\"\"}}}],\"histogram\":[{\"marker\":{\"pattern\":{\"fillmode\":\"overlay\",\"size\":10,\"solidity\":0.2}},\"type\":\"histogram\"}],\"scattergl\":[{\"type\":\"scattergl\",\"marker\":{\"colorbar\":{\"outlinewidth\":0,\"ticks\":\"\"}}}],\"scatter3d\":[{\"type\":\"scatter3d\",\"line\":{\"colorbar\":{\"outlinewidth\":0,\"ticks\":\"\"}},\"marker\":{\"colorbar\":{\"outlinewidth\":0,\"ticks\":\"\"}}}],\"scattermapbox\":[{\"type\":\"scattermapbox\",\"marker\":{\"colorbar\":{\"outlinewidth\":0,\"ticks\":\"\"}}}],\"scatterternary\":[{\"type\":\"scatterternary\",\"marker\":{\"colorbar\":{\"outlinewidth\":0,\"ticks\":\"\"}}}],\"scattercarpet\":[{\"type\":\"scattercarpet\",\"marker\":{\"colorbar\":{\"outlinewidth\":0,\"ticks\":\"\"}}}],\"carpet\":[{\"aaxis\":{\"endlinecolor\":\"#2a3f5f\",\"gridcolor\":\"white\",\"linecolor\":\"white\",\"minorgridcolor\":\"white\",\"startlinecolor\":\"#2a3f5f\"},\"baxis\":{\"endlinecolor\":\"#2a3f5f\",\"gridcolor\":\"white\",\"linecolor\":\"white\",\"minorgridcolor\":\"white\",\"startlinecolor\":\"#2a3f5f\"},\"type\":\"carpet\"}],\"table\":[{\"cells\":{\"fill\":{\"color\":\"#EBF0F8\"},\"line\":{\"color\":\"white\"}},\"header\":{\"fill\":{\"color\":\"#C8D4E3\"},\"line\":{\"color\":\"white\"}},\"type\":\"table\"}],\"barpolar\":[{\"marker\":{\"line\":{\"color\":\"#E5ECF6\",\"width\":0.5},\"pattern\":{\"fillmode\":\"overlay\",\"size\":10,\"solidity\":0.2}},\"type\":\"barpolar\"}],\"pie\":[{\"automargin\":true,\"type\":\"pie\"}]},\"layout\":{\"autotypenumbers\":\"strict\",\"colorway\":[\"#636efa\",\"#EF553B\",\"#00cc96\",\"#ab63fa\",\"#FFA15A\",\"#19d3f3\",\"#FF6692\",\"#B6E880\",\"#FF97FF\",\"#FECB52\"],\"font\":{\"color\":\"#2a3f5f\"},\"hovermode\":\"closest\",\"hoverlabel\":{\"align\":\"left\"},\"paper_bgcolor\":\"white\",\"plot_bgcolor\":\"#E5ECF6\",\"polar\":{\"bgcolor\":\"#E5ECF6\",\"angularaxis\":{\"gridcolor\":\"white\",\"linecolor\":\"white\",\"ticks\":\"\"},\"radialaxis\":{\"gridcolor\":\"white\",\"linecolor\":\"white\",\"ticks\":\"\"}},\"ternary\":{\"bgcolor\":\"#E5ECF6\",\"aaxis\":{\"gridcolor\":\"white\",\"linecolor\":\"white\",\"ticks\":\"\"},\"baxis\":{\"gridcolor\":\"white\",\"linecolor\":\"white\",\"ticks\":\"\"},\"caxis\":{\"gridcolor\":\"white\",\"linecolor\":\"white\",\"ticks\":\"\"}},\"coloraxis\":{\"colorbar\":{\"outlinewidth\":0,\"ticks\":\"\"}},\"colorscale\":{\"sequential\":[[0.0,\"#0d0887\"],[0.1111111111111111,\"#46039f\"],[0.2222222222222222,\"#7201a8\"],[0.3333333333333333,\"#9c179e\"],[0.4444444444444444,\"#bd3786\"],[0.5555555555555556,\"#d8576b\"],[0.6666666666666666,\"#ed7953\"],[0.7777777777777778,\"#fb9f3a\"],[0.8888888888888888,\"#fdca26\"],[1.0,\"#f0f921\"]],\"sequentialminus\":[[0.0,\"#0d0887\"],[0.1111111111111111,\"#46039f\"],[0.2222222222222222,\"#7201a8\"],[0.3333333333333333,\"#9c179e\"],[0.4444444444444444,\"#bd3786\"],[0.5555555555555556,\"#d8576b\"],[0.6666666666666666,\"#ed7953\"],[0.7777777777777778,\"#fb9f3a\"],[0.8888888888888888,\"#fdca26\"],[1.0,\"#f0f921\"]],\"diverging\":[[0,\"#8e0152\"],[0.1,\"#c51b7d\"],[0.2,\"#de77ae\"],[0.3,\"#f1b6da\"],[0.4,\"#fde0ef\"],[0.5,\"#f7f7f7\"],[0.6,\"#e6f5d0\"],[0.7,\"#b8e186\"],[0.8,\"#7fbc41\"],[0.9,\"#4d9221\"],[1,\"#276419\"]]},\"xaxis\":{\"gridcolor\":\"white\",\"linecolor\":\"white\",\"ticks\":\"\",\"title\":{\"standoff\":15},\"zerolinecolor\":\"white\",\"automargin\":true,\"zerolinewidth\":2},\"yaxis\":{\"gridcolor\":\"white\",\"linecolor\":\"white\",\"ticks\":\"\",\"title\":{\"standoff\":15},\"zerolinecolor\":\"white\",\"automargin\":true,\"zerolinewidth\":2},\"scene\":{\"xaxis\":{\"backgroundcolor\":\"#E5ECF6\",\"gridcolor\":\"white\",\"linecolor\":\"white\",\"showbackground\":true,\"ticks\":\"\",\"zerolinecolor\":\"white\",\"gridwidth\":2},\"yaxis\":{\"backgroundcolor\":\"#E5ECF6\",\"gridcolor\":\"white\",\"linecolor\":\"white\",\"showbackground\":true,\"ticks\":\"\",\"zerolinecolor\":\"white\",\"gridwidth\":2},\"zaxis\":{\"backgroundcolor\":\"#E5ECF6\",\"gridcolor\":\"white\",\"linecolor\":\"white\",\"showbackground\":true,\"ticks\":\"\",\"zerolinecolor\":\"white\",\"gridwidth\":2}},\"shapedefaults\":{\"line\":{\"color\":\"#2a3f5f\"}},\"annotationdefaults\":{\"arrowcolor\":\"#2a3f5f\",\"arrowhead\":0,\"arrowwidth\":1},\"geo\":{\"bgcolor\":\"white\",\"landcolor\":\"#E5ECF6\",\"subunitcolor\":\"white\",\"showland\":true,\"showlakes\":true,\"lakecolor\":\"white\"},\"title\":{\"x\":0.05},\"mapbox\":{\"style\":\"light\"}}},\"xaxis\":{\"anchor\":\"y\",\"domain\":[0.0,1.0],\"title\":{\"text\":\"Accident_Count\"}},\"yaxis\":{\"anchor\":\"x\",\"domain\":[0.0,1.0],\"title\":{\"text\":\"Source\"}},\"legend\":{\"tracegroupgap\":0},\"margin\":{\"t\":60},\"barmode\":\"relative\"},                        {\"responsive\": true}                    ).then(function(){\n",
       "                            \n",
       "var gd = document.getElementById('59db58be-2be2-4629-a8ac-045a32ffa2dd');\n",
       "var x = new MutationObserver(function (mutations, observer) {{\n",
       "        var display = window.getComputedStyle(gd).display;\n",
       "        if (!display || display === 'none') {{\n",
       "            console.log([gd, 'removed!']);\n",
       "            Plotly.purge(gd);\n",
       "            observer.disconnect();\n",
       "        }}\n",
       "}});\n",
       "\n",
       "// Listen for the removal of the full notebook cells\n",
       "var notebookContainer = gd.closest('#notebook-container');\n",
       "if (notebookContainer) {{\n",
       "    x.observe(notebookContainer, {childList: true});\n",
       "}}\n",
       "\n",
       "// Listen for the clearing of the current output cell\n",
       "var outputEl = gd.closest('.output');\n",
       "if (outputEl) {{\n",
       "    x.observe(outputEl, {childList: true});\n",
       "}}\n",
       "\n",
       "                        })                };                });            </script>        </div>"
      ]
     },
     "metadata": {},
     "output_type": "display_data"
    },
    {
     "data": {
      "application/vnd.plotly.v1+json": {
       "config": {
        "plotlyServerURL": "https://plot.ly"
       },
       "data": [
        {
         "alignmentgroup": "True",
         "hovertemplate": "Accident_Count=%{x}<br>Side=%{y}<extra></extra>",
         "legendgroup": "",
         "marker": {
          "color": "#636efa",
          "pattern": {
           "shape": ""
          }
         },
         "name": "",
         "offsetgroup": "",
         "orientation": "h",
         "showlegend": false,
         "textposition": "auto",
         "type": "bar",
         "x": [
          470735,
          2092993
         ],
         "xaxis": "x",
         "y": [
          "L",
          "R"
         ],
         "yaxis": "y"
        }
       ],
       "layout": {
        "barmode": "relative",
        "legend": {
         "tracegroupgap": 0
        },
        "margin": {
         "t": 60
        },
        "template": {
         "data": {
          "bar": [
           {
            "error_x": {
             "color": "#2a3f5f"
            },
            "error_y": {
             "color": "#2a3f5f"
            },
            "marker": {
             "line": {
              "color": "#E5ECF6",
              "width": 0.5
             },
             "pattern": {
              "fillmode": "overlay",
              "size": 10,
              "solidity": 0.2
             }
            },
            "type": "bar"
           }
          ],
          "barpolar": [
           {
            "marker": {
             "line": {
              "color": "#E5ECF6",
              "width": 0.5
             },
             "pattern": {
              "fillmode": "overlay",
              "size": 10,
              "solidity": 0.2
             }
            },
            "type": "barpolar"
           }
          ],
          "carpet": [
           {
            "aaxis": {
             "endlinecolor": "#2a3f5f",
             "gridcolor": "white",
             "linecolor": "white",
             "minorgridcolor": "white",
             "startlinecolor": "#2a3f5f"
            },
            "baxis": {
             "endlinecolor": "#2a3f5f",
             "gridcolor": "white",
             "linecolor": "white",
             "minorgridcolor": "white",
             "startlinecolor": "#2a3f5f"
            },
            "type": "carpet"
           }
          ],
          "choropleth": [
           {
            "colorbar": {
             "outlinewidth": 0,
             "ticks": ""
            },
            "type": "choropleth"
           }
          ],
          "contour": [
           {
            "colorbar": {
             "outlinewidth": 0,
             "ticks": ""
            },
            "colorscale": [
             [
              0,
              "#0d0887"
             ],
             [
              0.1111111111111111,
              "#46039f"
             ],
             [
              0.2222222222222222,
              "#7201a8"
             ],
             [
              0.3333333333333333,
              "#9c179e"
             ],
             [
              0.4444444444444444,
              "#bd3786"
             ],
             [
              0.5555555555555556,
              "#d8576b"
             ],
             [
              0.6666666666666666,
              "#ed7953"
             ],
             [
              0.7777777777777778,
              "#fb9f3a"
             ],
             [
              0.8888888888888888,
              "#fdca26"
             ],
             [
              1,
              "#f0f921"
             ]
            ],
            "type": "contour"
           }
          ],
          "contourcarpet": [
           {
            "colorbar": {
             "outlinewidth": 0,
             "ticks": ""
            },
            "type": "contourcarpet"
           }
          ],
          "heatmap": [
           {
            "colorbar": {
             "outlinewidth": 0,
             "ticks": ""
            },
            "colorscale": [
             [
              0,
              "#0d0887"
             ],
             [
              0.1111111111111111,
              "#46039f"
             ],
             [
              0.2222222222222222,
              "#7201a8"
             ],
             [
              0.3333333333333333,
              "#9c179e"
             ],
             [
              0.4444444444444444,
              "#bd3786"
             ],
             [
              0.5555555555555556,
              "#d8576b"
             ],
             [
              0.6666666666666666,
              "#ed7953"
             ],
             [
              0.7777777777777778,
              "#fb9f3a"
             ],
             [
              0.8888888888888888,
              "#fdca26"
             ],
             [
              1,
              "#f0f921"
             ]
            ],
            "type": "heatmap"
           }
          ],
          "heatmapgl": [
           {
            "colorbar": {
             "outlinewidth": 0,
             "ticks": ""
            },
            "colorscale": [
             [
              0,
              "#0d0887"
             ],
             [
              0.1111111111111111,
              "#46039f"
             ],
             [
              0.2222222222222222,
              "#7201a8"
             ],
             [
              0.3333333333333333,
              "#9c179e"
             ],
             [
              0.4444444444444444,
              "#bd3786"
             ],
             [
              0.5555555555555556,
              "#d8576b"
             ],
             [
              0.6666666666666666,
              "#ed7953"
             ],
             [
              0.7777777777777778,
              "#fb9f3a"
             ],
             [
              0.8888888888888888,
              "#fdca26"
             ],
             [
              1,
              "#f0f921"
             ]
            ],
            "type": "heatmapgl"
           }
          ],
          "histogram": [
           {
            "marker": {
             "pattern": {
              "fillmode": "overlay",
              "size": 10,
              "solidity": 0.2
             }
            },
            "type": "histogram"
           }
          ],
          "histogram2d": [
           {
            "colorbar": {
             "outlinewidth": 0,
             "ticks": ""
            },
            "colorscale": [
             [
              0,
              "#0d0887"
             ],
             [
              0.1111111111111111,
              "#46039f"
             ],
             [
              0.2222222222222222,
              "#7201a8"
             ],
             [
              0.3333333333333333,
              "#9c179e"
             ],
             [
              0.4444444444444444,
              "#bd3786"
             ],
             [
              0.5555555555555556,
              "#d8576b"
             ],
             [
              0.6666666666666666,
              "#ed7953"
             ],
             [
              0.7777777777777778,
              "#fb9f3a"
             ],
             [
              0.8888888888888888,
              "#fdca26"
             ],
             [
              1,
              "#f0f921"
             ]
            ],
            "type": "histogram2d"
           }
          ],
          "histogram2dcontour": [
           {
            "colorbar": {
             "outlinewidth": 0,
             "ticks": ""
            },
            "colorscale": [
             [
              0,
              "#0d0887"
             ],
             [
              0.1111111111111111,
              "#46039f"
             ],
             [
              0.2222222222222222,
              "#7201a8"
             ],
             [
              0.3333333333333333,
              "#9c179e"
             ],
             [
              0.4444444444444444,
              "#bd3786"
             ],
             [
              0.5555555555555556,
              "#d8576b"
             ],
             [
              0.6666666666666666,
              "#ed7953"
             ],
             [
              0.7777777777777778,
              "#fb9f3a"
             ],
             [
              0.8888888888888888,
              "#fdca26"
             ],
             [
              1,
              "#f0f921"
             ]
            ],
            "type": "histogram2dcontour"
           }
          ],
          "mesh3d": [
           {
            "colorbar": {
             "outlinewidth": 0,
             "ticks": ""
            },
            "type": "mesh3d"
           }
          ],
          "parcoords": [
           {
            "line": {
             "colorbar": {
              "outlinewidth": 0,
              "ticks": ""
             }
            },
            "type": "parcoords"
           }
          ],
          "pie": [
           {
            "automargin": true,
            "type": "pie"
           }
          ],
          "scatter": [
           {
            "fillpattern": {
             "fillmode": "overlay",
             "size": 10,
             "solidity": 0.2
            },
            "type": "scatter"
           }
          ],
          "scatter3d": [
           {
            "line": {
             "colorbar": {
              "outlinewidth": 0,
              "ticks": ""
             }
            },
            "marker": {
             "colorbar": {
              "outlinewidth": 0,
              "ticks": ""
             }
            },
            "type": "scatter3d"
           }
          ],
          "scattercarpet": [
           {
            "marker": {
             "colorbar": {
              "outlinewidth": 0,
              "ticks": ""
             }
            },
            "type": "scattercarpet"
           }
          ],
          "scattergeo": [
           {
            "marker": {
             "colorbar": {
              "outlinewidth": 0,
              "ticks": ""
             }
            },
            "type": "scattergeo"
           }
          ],
          "scattergl": [
           {
            "marker": {
             "colorbar": {
              "outlinewidth": 0,
              "ticks": ""
             }
            },
            "type": "scattergl"
           }
          ],
          "scattermapbox": [
           {
            "marker": {
             "colorbar": {
              "outlinewidth": 0,
              "ticks": ""
             }
            },
            "type": "scattermapbox"
           }
          ],
          "scatterpolar": [
           {
            "marker": {
             "colorbar": {
              "outlinewidth": 0,
              "ticks": ""
             }
            },
            "type": "scatterpolar"
           }
          ],
          "scatterpolargl": [
           {
            "marker": {
             "colorbar": {
              "outlinewidth": 0,
              "ticks": ""
             }
            },
            "type": "scatterpolargl"
           }
          ],
          "scatterternary": [
           {
            "marker": {
             "colorbar": {
              "outlinewidth": 0,
              "ticks": ""
             }
            },
            "type": "scatterternary"
           }
          ],
          "surface": [
           {
            "colorbar": {
             "outlinewidth": 0,
             "ticks": ""
            },
            "colorscale": [
             [
              0,
              "#0d0887"
             ],
             [
              0.1111111111111111,
              "#46039f"
             ],
             [
              0.2222222222222222,
              "#7201a8"
             ],
             [
              0.3333333333333333,
              "#9c179e"
             ],
             [
              0.4444444444444444,
              "#bd3786"
             ],
             [
              0.5555555555555556,
              "#d8576b"
             ],
             [
              0.6666666666666666,
              "#ed7953"
             ],
             [
              0.7777777777777778,
              "#fb9f3a"
             ],
             [
              0.8888888888888888,
              "#fdca26"
             ],
             [
              1,
              "#f0f921"
             ]
            ],
            "type": "surface"
           }
          ],
          "table": [
           {
            "cells": {
             "fill": {
              "color": "#EBF0F8"
             },
             "line": {
              "color": "white"
             }
            },
            "header": {
             "fill": {
              "color": "#C8D4E3"
             },
             "line": {
              "color": "white"
             }
            },
            "type": "table"
           }
          ]
         },
         "layout": {
          "annotationdefaults": {
           "arrowcolor": "#2a3f5f",
           "arrowhead": 0,
           "arrowwidth": 1
          },
          "autotypenumbers": "strict",
          "coloraxis": {
           "colorbar": {
            "outlinewidth": 0,
            "ticks": ""
           }
          },
          "colorscale": {
           "diverging": [
            [
             0,
             "#8e0152"
            ],
            [
             0.1,
             "#c51b7d"
            ],
            [
             0.2,
             "#de77ae"
            ],
            [
             0.3,
             "#f1b6da"
            ],
            [
             0.4,
             "#fde0ef"
            ],
            [
             0.5,
             "#f7f7f7"
            ],
            [
             0.6,
             "#e6f5d0"
            ],
            [
             0.7,
             "#b8e186"
            ],
            [
             0.8,
             "#7fbc41"
            ],
            [
             0.9,
             "#4d9221"
            ],
            [
             1,
             "#276419"
            ]
           ],
           "sequential": [
            [
             0,
             "#0d0887"
            ],
            [
             0.1111111111111111,
             "#46039f"
            ],
            [
             0.2222222222222222,
             "#7201a8"
            ],
            [
             0.3333333333333333,
             "#9c179e"
            ],
            [
             0.4444444444444444,
             "#bd3786"
            ],
            [
             0.5555555555555556,
             "#d8576b"
            ],
            [
             0.6666666666666666,
             "#ed7953"
            ],
            [
             0.7777777777777778,
             "#fb9f3a"
            ],
            [
             0.8888888888888888,
             "#fdca26"
            ],
            [
             1,
             "#f0f921"
            ]
           ],
           "sequentialminus": [
            [
             0,
             "#0d0887"
            ],
            [
             0.1111111111111111,
             "#46039f"
            ],
            [
             0.2222222222222222,
             "#7201a8"
            ],
            [
             0.3333333333333333,
             "#9c179e"
            ],
            [
             0.4444444444444444,
             "#bd3786"
            ],
            [
             0.5555555555555556,
             "#d8576b"
            ],
            [
             0.6666666666666666,
             "#ed7953"
            ],
            [
             0.7777777777777778,
             "#fb9f3a"
            ],
            [
             0.8888888888888888,
             "#fdca26"
            ],
            [
             1,
             "#f0f921"
            ]
           ]
          },
          "colorway": [
           "#636efa",
           "#EF553B",
           "#00cc96",
           "#ab63fa",
           "#FFA15A",
           "#19d3f3",
           "#FF6692",
           "#B6E880",
           "#FF97FF",
           "#FECB52"
          ],
          "font": {
           "color": "#2a3f5f"
          },
          "geo": {
           "bgcolor": "white",
           "lakecolor": "white",
           "landcolor": "#E5ECF6",
           "showlakes": true,
           "showland": true,
           "subunitcolor": "white"
          },
          "hoverlabel": {
           "align": "left"
          },
          "hovermode": "closest",
          "mapbox": {
           "style": "light"
          },
          "paper_bgcolor": "white",
          "plot_bgcolor": "#E5ECF6",
          "polar": {
           "angularaxis": {
            "gridcolor": "white",
            "linecolor": "white",
            "ticks": ""
           },
           "bgcolor": "#E5ECF6",
           "radialaxis": {
            "gridcolor": "white",
            "linecolor": "white",
            "ticks": ""
           }
          },
          "scene": {
           "xaxis": {
            "backgroundcolor": "#E5ECF6",
            "gridcolor": "white",
            "gridwidth": 2,
            "linecolor": "white",
            "showbackground": true,
            "ticks": "",
            "zerolinecolor": "white"
           },
           "yaxis": {
            "backgroundcolor": "#E5ECF6",
            "gridcolor": "white",
            "gridwidth": 2,
            "linecolor": "white",
            "showbackground": true,
            "ticks": "",
            "zerolinecolor": "white"
           },
           "zaxis": {
            "backgroundcolor": "#E5ECF6",
            "gridcolor": "white",
            "gridwidth": 2,
            "linecolor": "white",
            "showbackground": true,
            "ticks": "",
            "zerolinecolor": "white"
           }
          },
          "shapedefaults": {
           "line": {
            "color": "#2a3f5f"
           }
          },
          "ternary": {
           "aaxis": {
            "gridcolor": "white",
            "linecolor": "white",
            "ticks": ""
           },
           "baxis": {
            "gridcolor": "white",
            "linecolor": "white",
            "ticks": ""
           },
           "bgcolor": "#E5ECF6",
           "caxis": {
            "gridcolor": "white",
            "linecolor": "white",
            "ticks": ""
           }
          },
          "title": {
           "x": 0.05
          },
          "xaxis": {
           "automargin": true,
           "gridcolor": "white",
           "linecolor": "white",
           "ticks": "",
           "title": {
            "standoff": 15
           },
           "zerolinecolor": "white",
           "zerolinewidth": 2
          },
          "yaxis": {
           "automargin": true,
           "gridcolor": "white",
           "linecolor": "white",
           "ticks": "",
           "title": {
            "standoff": 15
           },
           "zerolinecolor": "white",
           "zerolinewidth": 2
          }
         }
        },
        "xaxis": {
         "anchor": "y",
         "domain": [
          0,
          1
         ],
         "title": {
          "text": "Accident_Count"
         }
        },
        "yaxis": {
         "anchor": "x",
         "domain": [
          0,
          1
         ],
         "title": {
          "text": "Side"
         }
        }
       }
      },
      "text/html": [
       "<div>                            <div id=\"dba5632a-b869-414b-ad86-0eb369467e5c\" class=\"plotly-graph-div\" style=\"height:525px; width:100%;\"></div>            <script type=\"text/javascript\">                require([\"plotly\"], function(Plotly) {                    window.PLOTLYENV=window.PLOTLYENV || {};                                    if (document.getElementById(\"dba5632a-b869-414b-ad86-0eb369467e5c\")) {                    Plotly.newPlot(                        \"dba5632a-b869-414b-ad86-0eb369467e5c\",                        [{\"alignmentgroup\":\"True\",\"hovertemplate\":\"Accident_Count=%{x}<br>Side=%{y}<extra></extra>\",\"legendgroup\":\"\",\"marker\":{\"color\":\"#636efa\",\"pattern\":{\"shape\":\"\"}},\"name\":\"\",\"offsetgroup\":\"\",\"orientation\":\"h\",\"showlegend\":false,\"textposition\":\"auto\",\"x\":[470735,2092993],\"xaxis\":\"x\",\"y\":[\"L\",\"R\"],\"yaxis\":\"y\",\"type\":\"bar\"}],                        {\"template\":{\"data\":{\"histogram2dcontour\":[{\"type\":\"histogram2dcontour\",\"colorbar\":{\"outlinewidth\":0,\"ticks\":\"\"},\"colorscale\":[[0.0,\"#0d0887\"],[0.1111111111111111,\"#46039f\"],[0.2222222222222222,\"#7201a8\"],[0.3333333333333333,\"#9c179e\"],[0.4444444444444444,\"#bd3786\"],[0.5555555555555556,\"#d8576b\"],[0.6666666666666666,\"#ed7953\"],[0.7777777777777778,\"#fb9f3a\"],[0.8888888888888888,\"#fdca26\"],[1.0,\"#f0f921\"]]}],\"choropleth\":[{\"type\":\"choropleth\",\"colorbar\":{\"outlinewidth\":0,\"ticks\":\"\"}}],\"histogram2d\":[{\"type\":\"histogram2d\",\"colorbar\":{\"outlinewidth\":0,\"ticks\":\"\"},\"colorscale\":[[0.0,\"#0d0887\"],[0.1111111111111111,\"#46039f\"],[0.2222222222222222,\"#7201a8\"],[0.3333333333333333,\"#9c179e\"],[0.4444444444444444,\"#bd3786\"],[0.5555555555555556,\"#d8576b\"],[0.6666666666666666,\"#ed7953\"],[0.7777777777777778,\"#fb9f3a\"],[0.8888888888888888,\"#fdca26\"],[1.0,\"#f0f921\"]]}],\"heatmap\":[{\"type\":\"heatmap\",\"colorbar\":{\"outlinewidth\":0,\"ticks\":\"\"},\"colorscale\":[[0.0,\"#0d0887\"],[0.1111111111111111,\"#46039f\"],[0.2222222222222222,\"#7201a8\"],[0.3333333333333333,\"#9c179e\"],[0.4444444444444444,\"#bd3786\"],[0.5555555555555556,\"#d8576b\"],[0.6666666666666666,\"#ed7953\"],[0.7777777777777778,\"#fb9f3a\"],[0.8888888888888888,\"#fdca26\"],[1.0,\"#f0f921\"]]}],\"heatmapgl\":[{\"type\":\"heatmapgl\",\"colorbar\":{\"outlinewidth\":0,\"ticks\":\"\"},\"colorscale\":[[0.0,\"#0d0887\"],[0.1111111111111111,\"#46039f\"],[0.2222222222222222,\"#7201a8\"],[0.3333333333333333,\"#9c179e\"],[0.4444444444444444,\"#bd3786\"],[0.5555555555555556,\"#d8576b\"],[0.6666666666666666,\"#ed7953\"],[0.7777777777777778,\"#fb9f3a\"],[0.8888888888888888,\"#fdca26\"],[1.0,\"#f0f921\"]]}],\"contourcarpet\":[{\"type\":\"contourcarpet\",\"colorbar\":{\"outlinewidth\":0,\"ticks\":\"\"}}],\"contour\":[{\"type\":\"contour\",\"colorbar\":{\"outlinewidth\":0,\"ticks\":\"\"},\"colorscale\":[[0.0,\"#0d0887\"],[0.1111111111111111,\"#46039f\"],[0.2222222222222222,\"#7201a8\"],[0.3333333333333333,\"#9c179e\"],[0.4444444444444444,\"#bd3786\"],[0.5555555555555556,\"#d8576b\"],[0.6666666666666666,\"#ed7953\"],[0.7777777777777778,\"#fb9f3a\"],[0.8888888888888888,\"#fdca26\"],[1.0,\"#f0f921\"]]}],\"surface\":[{\"type\":\"surface\",\"colorbar\":{\"outlinewidth\":0,\"ticks\":\"\"},\"colorscale\":[[0.0,\"#0d0887\"],[0.1111111111111111,\"#46039f\"],[0.2222222222222222,\"#7201a8\"],[0.3333333333333333,\"#9c179e\"],[0.4444444444444444,\"#bd3786\"],[0.5555555555555556,\"#d8576b\"],[0.6666666666666666,\"#ed7953\"],[0.7777777777777778,\"#fb9f3a\"],[0.8888888888888888,\"#fdca26\"],[1.0,\"#f0f921\"]]}],\"mesh3d\":[{\"type\":\"mesh3d\",\"colorbar\":{\"outlinewidth\":0,\"ticks\":\"\"}}],\"scatter\":[{\"fillpattern\":{\"fillmode\":\"overlay\",\"size\":10,\"solidity\":0.2},\"type\":\"scatter\"}],\"parcoords\":[{\"type\":\"parcoords\",\"line\":{\"colorbar\":{\"outlinewidth\":0,\"ticks\":\"\"}}}],\"scatterpolargl\":[{\"type\":\"scatterpolargl\",\"marker\":{\"colorbar\":{\"outlinewidth\":0,\"ticks\":\"\"}}}],\"bar\":[{\"error_x\":{\"color\":\"#2a3f5f\"},\"error_y\":{\"color\":\"#2a3f5f\"},\"marker\":{\"line\":{\"color\":\"#E5ECF6\",\"width\":0.5},\"pattern\":{\"fillmode\":\"overlay\",\"size\":10,\"solidity\":0.2}},\"type\":\"bar\"}],\"scattergeo\":[{\"type\":\"scattergeo\",\"marker\":{\"colorbar\":{\"outlinewidth\":0,\"ticks\":\"\"}}}],\"scatterpolar\":[{\"type\":\"scatterpolar\",\"marker\":{\"colorbar\":{\"outlinewidth\":0,\"ticks\":\"\"}}}],\"histogram\":[{\"marker\":{\"pattern\":{\"fillmode\":\"overlay\",\"size\":10,\"solidity\":0.2}},\"type\":\"histogram\"}],\"scattergl\":[{\"type\":\"scattergl\",\"marker\":{\"colorbar\":{\"outlinewidth\":0,\"ticks\":\"\"}}}],\"scatter3d\":[{\"type\":\"scatter3d\",\"line\":{\"colorbar\":{\"outlinewidth\":0,\"ticks\":\"\"}},\"marker\":{\"colorbar\":{\"outlinewidth\":0,\"ticks\":\"\"}}}],\"scattermapbox\":[{\"type\":\"scattermapbox\",\"marker\":{\"colorbar\":{\"outlinewidth\":0,\"ticks\":\"\"}}}],\"scatterternary\":[{\"type\":\"scatterternary\",\"marker\":{\"colorbar\":{\"outlinewidth\":0,\"ticks\":\"\"}}}],\"scattercarpet\":[{\"type\":\"scattercarpet\",\"marker\":{\"colorbar\":{\"outlinewidth\":0,\"ticks\":\"\"}}}],\"carpet\":[{\"aaxis\":{\"endlinecolor\":\"#2a3f5f\",\"gridcolor\":\"white\",\"linecolor\":\"white\",\"minorgridcolor\":\"white\",\"startlinecolor\":\"#2a3f5f\"},\"baxis\":{\"endlinecolor\":\"#2a3f5f\",\"gridcolor\":\"white\",\"linecolor\":\"white\",\"minorgridcolor\":\"white\",\"startlinecolor\":\"#2a3f5f\"},\"type\":\"carpet\"}],\"table\":[{\"cells\":{\"fill\":{\"color\":\"#EBF0F8\"},\"line\":{\"color\":\"white\"}},\"header\":{\"fill\":{\"color\":\"#C8D4E3\"},\"line\":{\"color\":\"white\"}},\"type\":\"table\"}],\"barpolar\":[{\"marker\":{\"line\":{\"color\":\"#E5ECF6\",\"width\":0.5},\"pattern\":{\"fillmode\":\"overlay\",\"size\":10,\"solidity\":0.2}},\"type\":\"barpolar\"}],\"pie\":[{\"automargin\":true,\"type\":\"pie\"}]},\"layout\":{\"autotypenumbers\":\"strict\",\"colorway\":[\"#636efa\",\"#EF553B\",\"#00cc96\",\"#ab63fa\",\"#FFA15A\",\"#19d3f3\",\"#FF6692\",\"#B6E880\",\"#FF97FF\",\"#FECB52\"],\"font\":{\"color\":\"#2a3f5f\"},\"hovermode\":\"closest\",\"hoverlabel\":{\"align\":\"left\"},\"paper_bgcolor\":\"white\",\"plot_bgcolor\":\"#E5ECF6\",\"polar\":{\"bgcolor\":\"#E5ECF6\",\"angularaxis\":{\"gridcolor\":\"white\",\"linecolor\":\"white\",\"ticks\":\"\"},\"radialaxis\":{\"gridcolor\":\"white\",\"linecolor\":\"white\",\"ticks\":\"\"}},\"ternary\":{\"bgcolor\":\"#E5ECF6\",\"aaxis\":{\"gridcolor\":\"white\",\"linecolor\":\"white\",\"ticks\":\"\"},\"baxis\":{\"gridcolor\":\"white\",\"linecolor\":\"white\",\"ticks\":\"\"},\"caxis\":{\"gridcolor\":\"white\",\"linecolor\":\"white\",\"ticks\":\"\"}},\"coloraxis\":{\"colorbar\":{\"outlinewidth\":0,\"ticks\":\"\"}},\"colorscale\":{\"sequential\":[[0.0,\"#0d0887\"],[0.1111111111111111,\"#46039f\"],[0.2222222222222222,\"#7201a8\"],[0.3333333333333333,\"#9c179e\"],[0.4444444444444444,\"#bd3786\"],[0.5555555555555556,\"#d8576b\"],[0.6666666666666666,\"#ed7953\"],[0.7777777777777778,\"#fb9f3a\"],[0.8888888888888888,\"#fdca26\"],[1.0,\"#f0f921\"]],\"sequentialminus\":[[0.0,\"#0d0887\"],[0.1111111111111111,\"#46039f\"],[0.2222222222222222,\"#7201a8\"],[0.3333333333333333,\"#9c179e\"],[0.4444444444444444,\"#bd3786\"],[0.5555555555555556,\"#d8576b\"],[0.6666666666666666,\"#ed7953\"],[0.7777777777777778,\"#fb9f3a\"],[0.8888888888888888,\"#fdca26\"],[1.0,\"#f0f921\"]],\"diverging\":[[0,\"#8e0152\"],[0.1,\"#c51b7d\"],[0.2,\"#de77ae\"],[0.3,\"#f1b6da\"],[0.4,\"#fde0ef\"],[0.5,\"#f7f7f7\"],[0.6,\"#e6f5d0\"],[0.7,\"#b8e186\"],[0.8,\"#7fbc41\"],[0.9,\"#4d9221\"],[1,\"#276419\"]]},\"xaxis\":{\"gridcolor\":\"white\",\"linecolor\":\"white\",\"ticks\":\"\",\"title\":{\"standoff\":15},\"zerolinecolor\":\"white\",\"automargin\":true,\"zerolinewidth\":2},\"yaxis\":{\"gridcolor\":\"white\",\"linecolor\":\"white\",\"ticks\":\"\",\"title\":{\"standoff\":15},\"zerolinecolor\":\"white\",\"automargin\":true,\"zerolinewidth\":2},\"scene\":{\"xaxis\":{\"backgroundcolor\":\"#E5ECF6\",\"gridcolor\":\"white\",\"linecolor\":\"white\",\"showbackground\":true,\"ticks\":\"\",\"zerolinecolor\":\"white\",\"gridwidth\":2},\"yaxis\":{\"backgroundcolor\":\"#E5ECF6\",\"gridcolor\":\"white\",\"linecolor\":\"white\",\"showbackground\":true,\"ticks\":\"\",\"zerolinecolor\":\"white\",\"gridwidth\":2},\"zaxis\":{\"backgroundcolor\":\"#E5ECF6\",\"gridcolor\":\"white\",\"linecolor\":\"white\",\"showbackground\":true,\"ticks\":\"\",\"zerolinecolor\":\"white\",\"gridwidth\":2}},\"shapedefaults\":{\"line\":{\"color\":\"#2a3f5f\"}},\"annotationdefaults\":{\"arrowcolor\":\"#2a3f5f\",\"arrowhead\":0,\"arrowwidth\":1},\"geo\":{\"bgcolor\":\"white\",\"landcolor\":\"#E5ECF6\",\"subunitcolor\":\"white\",\"showland\":true,\"showlakes\":true,\"lakecolor\":\"white\"},\"title\":{\"x\":0.05},\"mapbox\":{\"style\":\"light\"}}},\"xaxis\":{\"anchor\":\"y\",\"domain\":[0.0,1.0],\"title\":{\"text\":\"Accident_Count\"}},\"yaxis\":{\"anchor\":\"x\",\"domain\":[0.0,1.0],\"title\":{\"text\":\"Side\"}},\"legend\":{\"tracegroupgap\":0},\"margin\":{\"t\":60},\"barmode\":\"relative\"},                        {\"responsive\": true}                    ).then(function(){\n",
       "                            \n",
       "var gd = document.getElementById('dba5632a-b869-414b-ad86-0eb369467e5c');\n",
       "var x = new MutationObserver(function (mutations, observer) {{\n",
       "        var display = window.getComputedStyle(gd).display;\n",
       "        if (!display || display === 'none') {{\n",
       "            console.log([gd, 'removed!']);\n",
       "            Plotly.purge(gd);\n",
       "            observer.disconnect();\n",
       "        }}\n",
       "}});\n",
       "\n",
       "// Listen for the removal of the full notebook cells\n",
       "var notebookContainer = gd.closest('#notebook-container');\n",
       "if (notebookContainer) {{\n",
       "    x.observe(notebookContainer, {childList: true});\n",
       "}}\n",
       "\n",
       "// Listen for the clearing of the current output cell\n",
       "var outputEl = gd.closest('.output');\n",
       "if (outputEl) {{\n",
       "    x.observe(outputEl, {childList: true});\n",
       "}}\n",
       "\n",
       "                        })                };                });            </script>        </div>"
      ]
     },
     "metadata": {},
     "output_type": "display_data"
    },
    {
     "data": {
      "application/vnd.plotly.v1+json": {
       "config": {
        "plotlyServerURL": "https://plot.ly"
       },
       "data": [
        {
         "alignmentgroup": "True",
         "hovertemplate": "Accident_Count=%{x}<br>County=%{y}<extra></extra>",
         "legendgroup": "",
         "marker": {
          "color": "#636efa",
          "pattern": {
           "shape": ""
          }
         },
         "name": "",
         "offsetgroup": "",
         "orientation": "h",
         "showlegend": false,
         "textposition": "auto",
         "type": "bar",
         "x": [
          347,
          85,
          65,
          213,
          91,
          6253,
          21,
          3692,
          116,
          1356,
          353,
          35700,
          3,
          5788,
          925,
          5,
          4,
          23,
          1368,
          16,
          1,
          3,
          340,
          182,
          107,
          6398,
          299,
          75,
          19,
          54,
          592,
          121,
          93,
          5,
          8085,
          3,
          4,
          72,
          75,
          3645,
          2712,
          24,
          13,
          238,
          11,
          11,
          60,
          3902,
          12,
          8,
          33,
          5,
          1738,
          64,
          26,
          253,
          8,
          44,
          9,
          37,
          3,
          2,
          18,
          5,
          28,
          12,
          789,
          2,
          2,
          3,
          41,
          911,
          2,
          23,
          307,
          9,
          3,
          32,
          14,
          2,
          1192,
          1067,
          255,
          3205,
          5758,
          177,
          2,
          135,
          68,
          2,
          43,
          3,
          673,
          225,
          11,
          20,
          179,
          59,
          622,
          2,
          485,
          88,
          4,
          19,
          2,
          929,
          14,
          7,
          4,
          2015,
          3,
          433,
          7,
          126,
          12,
          351,
          217,
          3,
          407,
          252,
          106,
          92,
          12,
          17,
          42,
          19,
          732,
          22,
          4936,
          5417,
          1095,
          100,
          3899,
          551,
          29,
          19347,
          639,
          38,
          19,
          1,
          35,
          102,
          22,
          11,
          166,
          13,
          134,
          24,
          15,
          1273,
          381,
          22,
          4,
          18,
          31,
          71,
          1758,
          1,
          320,
          504,
          519,
          13,
          2,
          34,
          1178,
          10,
          2,
          183,
          279,
          17,
          19,
          44,
          493,
          16,
          10,
          2760,
          1,
          1307,
          2,
          8041,
          4,
          2,
          35,
          322,
          507,
          16701,
          887,
          343,
          135,
          122,
          50,
          1659,
          16,
          41,
          88,
          108,
          13,
          1056,
          44,
          191,
          1,
          1,
          2331,
          41,
          8,
          20,
          1154,
          1347,
          316,
          599,
          155,
          55,
          3773,
          714,
          686,
          93,
          9,
          1380,
          19,
          27,
          1,
          26,
          69,
          2,
          237,
          4129,
          65,
          924,
          1929,
          37,
          7,
          155,
          24,
          318,
          616,
          4,
          239,
          577,
          1208,
          524,
          52,
          6,
          469,
          24,
          596,
          24,
          11,
          292,
          161,
          5,
          58,
          248,
          556,
          95,
          851,
          38,
          76,
          77,
          86,
          2,
          240,
          40,
          1,
          4544,
          17,
          712,
          52,
          6,
          24,
          6,
          1714,
          18,
          44,
          497,
          10,
          107,
          20,
          21,
          30,
          40,
          2796,
          2,
          1423,
          6,
          346,
          2503,
          4455,
          36,
          9,
          6,
          2,
          1508,
          175,
          963,
          104,
          11,
          1,
          4,
          35,
          314,
          72,
          433,
          3734,
          19,
          134,
          19,
          883,
          83,
          3295,
          207,
          1423,
          2453,
          2413,
          442,
          706,
          15,
          66,
          359,
          2290,
          591,
          6,
          4944,
          171,
          73,
          881,
          230,
          1,
          96,
          9,
          7,
          11,
          28,
          1833,
          1252,
          2397,
          188,
          26,
          21,
          17,
          3613,
          59,
          37,
          345,
          193,
          22,
          4,
          3,
          62,
          2,
          18380,
          9,
          23,
          25394,
          15,
          42,
          1286,
          11,
          43,
          52,
          1,
          3,
          14,
          1,
          5,
          61,
          58,
          3,
          579,
          1,
          366,
          19,
          23,
          3,
          25,
          244,
          112,
          23,
          41,
          259,
          11,
          357,
          2,
          2,
          245,
          10,
          9,
          463,
          108,
          2615,
          3,
          20,
          585,
          35,
          5738,
          108,
          38,
          5407,
          70,
          2,
          54768,
          1720,
          9,
          3,
          19,
          48,
          1444,
          1541,
          35617,
          140,
          32,
          3784,
          1,
          113,
          3,
          3,
          20,
          1,
          9467,
          332,
          2,
          1,
          137,
          106,
          1,
          12,
          245,
          190,
          4483,
          27,
          2045,
          11459,
          15,
          2914,
          6,
          5,
          8,
          4,
          1,
          16,
          1,
          11,
          120,
          1011,
          3,
          439,
          170,
          3030,
          18,
          1,
          14,
          195,
          4,
          1,
          4,
          93,
          4,
          3347,
          102,
          20639,
          35,
          63,
          6,
          13042,
          20,
          39,
          220,
          3,
          1,
          95,
          5260,
          27,
          1542,
          3737,
          15894,
          19,
          289,
          13,
          31437,
          12,
          15,
          450,
          142,
          2,
          41,
          32,
          42,
          440,
          2,
          4,
          135,
          2315,
          14713,
          88,
          97,
          113,
          537,
          391,
          12,
          381,
          37,
          290,
          18,
          57,
          7,
          5054,
          2779,
          43,
          8598,
          1,
          95,
          81,
          2,
          17,
          505,
          96,
          10585,
          5984,
          9,
          5,
          5,
          5,
          116,
          20,
          465,
          3437,
          5,
          16,
          97,
          6,
          2,
          286,
          29,
          1,
          3636,
          460,
          32,
          5,
          104,
          9,
          4,
          657,
          1898,
          1113,
          48,
          11113,
          6,
          182,
          4180,
          200,
          4,
          403,
          32,
          241,
          6765,
          5,
          1,
          26084,
          2,
          536,
          9,
          1,
          5,
          2,
          56,
          5,
          540,
          430,
          23,
          2,
          95,
          22,
          1,
          7,
          566,
          7,
          3,
          448,
          2,
          22445,
          30,
          1,
          17,
          1351,
          52,
          355,
          18,
          84,
          12,
          422,
          84,
          38,
          5,
          46,
          4,
          1,
          3,
          317,
          1385,
          148,
          2,
          2,
          9,
          22,
          313,
          355,
          11,
          179,
          6,
          1,
          33,
          390,
          62,
          9,
          314,
          3,
          8,
          25,
          6,
          716,
          110,
          21,
          2,
          283,
          70,
          26,
          7,
          24,
          3084,
          43,
          135,
          2,
          22050,
          1692,
          1,
          161,
          1,
          9,
          8,
          146,
          220,
          51,
          2627,
          22,
          52,
          5,
          3150,
          121,
          29,
          230,
          487,
          32,
          10599,
          494,
          131,
          1119,
          6,
          469,
          1,
          915,
          1,
          138,
          153,
          5,
          74,
          2,
          2054,
          1,
          150,
          372,
          82843,
          734,
          148,
          12,
          59,
          6385,
          1,
          1,
          1,
          31,
          509,
          360,
          54,
          8,
          210,
          1196,
          111,
          23543,
          7379,
          2188,
          209,
          2568,
          7,
          50,
          226,
          60,
          343,
          60,
          15825,
          3,
          1431,
          5,
          2,
          29,
          1,
          2,
          18,
          208,
          18,
          5,
          461,
          35,
          2,
          16,
          8322,
          18,
          3,
          8,
          760,
          2123,
          1,
          95,
          2939,
          21,
          132,
          6,
          1027,
          31,
          56,
          637,
          105,
          30,
          40,
          10,
          4,
          162,
          4,
          29,
          49,
          3,
          379,
          74,
          956,
          170,
          105,
          14,
          111,
          692,
          841,
          60,
          22,
          35,
          128,
          155,
          12,
          148,
          144,
          14,
          1,
          13545,
          121,
          1599,
          6,
          8,
          24575,
          63,
          11,
          21,
          57,
          8,
          17,
          8,
          15,
          4721,
          1390,
          138,
          1701,
          430,
          5,
          101,
          22,
          571,
          15,
          50,
          532,
          190,
          4650,
          37,
          231,
          19,
          1,
          3,
          4,
          92,
          197,
          369,
          11183,
          3091,
          5,
          6530,
          13,
          1839,
          2,
          2,
          24,
          28,
          29838,
          1,
          155,
          83,
          16,
          3,
          7216,
          3,
          16,
          26,
          586,
          198,
          2512,
          72,
          2240,
          34,
          197,
          15,
          6,
          91,
          309,
          22,
          17,
          45,
          24,
          107,
          110,
          5,
          9,
          263,
          48,
          9274,
          15,
          5,
          18783,
          4,
          477,
          8,
          12,
          4,
          8754,
          68,
          5093,
          16,
          2,
          84,
          63,
          912,
          8,
          134,
          239,
          17,
          96,
          12,
          2129,
          3,
          248,
          2,
          123,
          43,
          1,
          13,
          611,
          10167,
          9,
          3,
          1343,
          3,
          43,
          38,
          1785,
          3,
          1,
          117,
          393,
          2,
          17,
          10284,
          154,
          401,
          952,
          1722,
          3158,
          330,
          1,
          2,
          924,
          7,
          132,
          7,
          57,
          194,
          175244,
          151,
          4090,
          180,
          20,
          1,
          385,
          15,
          1285,
          1,
          14,
          58,
          49,
          303,
          337,
          2,
          53,
          22,
          1,
          639,
          13,
          3617,
          346,
          303,
          7,
          1632,
          5753,
          22,
          17,
          140,
          1150,
          20,
          3,
          6,
          3847,
          6,
          46,
          173,
          1,
          43634,
          1,
          4569,
          29,
          24650,
          267,
          486,
          38,
          210,
          751,
          4,
          4,
          323,
          16,
          21,
          69,
          4,
          19,
          99,
          3,
          131,
          12,
          1,
          1,
          2,
          6,
          118,
          109,
          209,
          75,
          98,
          1,
          112,
          72,
          208,
          168,
          105,
          1,
          2,
          1,
          37,
          2,
          87,
          2,
          9,
          1,
          24,
          6,
          1,
          3,
          68208,
          16,
          192,
          140,
          22,
          1,
          2,
          1226,
          6,
          2323,
          2243,
          61,
          1,
          1243,
          110,
          1,
          165,
          33040,
          15224,
          162,
          125,
          7,
          454,
          165,
          42,
          65,
          6951,
          154,
          6,
          18,
          7,
          23,
          47,
          57,
          4658,
          56,
          14,
          548,
          1609,
          319,
          18,
          113,
          15997,
          12,
          24,
          4532,
          22,
          42942,
          77,
          16,
          275,
          19,
          4,
          1683,
          1918,
          179,
          451,
          5,
          150,
          1,
          15224,
          93,
          16,
          166,
          150,
          86,
          13,
          1,
          21,
          1,
          2343,
          117,
          7278,
          11,
          18,
          319,
          36,
          99,
          12,
          7,
          3,
          1,
          1615,
          3849,
          189,
          4479,
          649,
          958,
          13,
          5918,
          18,
          1547,
          74,
          1012,
          1,
          296,
          19,
          510,
          11,
          279,
          3,
          42,
          169,
          1,
          47,
          6775,
          58,
          839,
          312,
          129,
          7,
          1,
          1,
          44,
          59,
          2,
          8273,
          11,
          1,
          1144,
          15,
          2046,
          34,
          18,
          1,
          46,
          12,
          117,
          779,
          7,
          61,
          8,
          30426,
          35,
          5,
          97,
          532,
          1853,
          3379,
          27,
          618,
          60117,
          3748,
          2434,
          105,
          3106,
          2,
          94,
          97,
          9,
          87,
          733,
          157,
          88,
          15,
          361,
          12,
          12,
          10,
          29,
          4,
          133,
          174,
          83,
          10687,
          15,
          9,
          3,
          36,
          190,
          10,
          138,
          2,
          4468,
          4,
          1697,
          56,
          68,
          13,
          26,
          19,
          216,
          66,
          31,
          23,
          7,
          123,
          15,
          17,
          190,
          105,
          1,
          2,
          134,
          50,
          20,
          343,
          29,
          2,
          2,
          76,
          5018,
          10,
          6,
          102,
          2460,
          4,
          6314,
          456,
          10056,
          1358,
          316,
          11816,
          5,
          15,
          49,
          3,
          239,
          36,
          4473,
          1,
          510,
          245,
          1577,
          18,
          9,
          16,
          6455,
          2,
          6,
          46,
          257,
          153,
          414,
          10,
          22,
          140,
          727,
          87,
          2,
          14,
          15,
          69,
          235,
          23,
          96,
          2,
          6,
          19,
          17,
          63,
          192,
          5737,
          197,
          2853,
          7341,
          37,
          598,
          688,
          2847,
          42,
          476,
          20,
          12202,
          1,
          9,
          427,
          5,
          1,
          43,
          6,
          11228,
          9,
          159,
          410,
          93,
          15,
          6,
          1,
          3,
          3,
          69,
          39,
          1,
          1245,
          110,
          1,
          22,
          463,
          8,
          17061,
          9282,
          11345,
          23,
          3,
          9,
          31,
          16,
          39,
          13,
          25505,
          194,
          11,
          670,
          497,
          208,
          243,
          407,
          89,
          443,
          15,
          270,
          2163,
          3697,
          427,
          142,
          4,
          27,
          20,
          13,
          56,
          20,
          416,
          1,
          25,
          19,
          169,
          608,
          25,
          7,
          12,
          27308,
          64,
          432,
          16,
          1,
          29,
          24,
          1,
          25,
          36,
          7,
          7,
          139,
          25,
          24,
          2,
          4,
          10,
          340,
          154,
          17822,
          464,
          62,
          1,
          894,
          28808,
          30332,
          6617,
          12,
          9024,
          318,
          2491,
          11975,
          48,
          9,
          6,
          53,
          60,
          118,
          1,
          212,
          3536,
          26798,
          3654,
          90,
          892,
          3301,
          2329,
          3035,
          97,
          5,
          1,
          811,
          2,
          124,
          11,
          8,
          182,
          23,
          28,
          1681,
          6,
          10,
          1,
          4,
          10,
          153,
          2690,
          156,
          16,
          14,
          667,
          26,
          1,
          1224,
          88,
          80,
          200,
          9176,
          561,
          528,
          7,
          478,
          178,
          42,
          117,
          94,
          8,
          22,
          40,
          310,
          679,
          83,
          1,
          216,
          128,
          6336,
          98,
          28,
          7753,
          1495,
          4,
          7860,
          51,
          199,
          14536,
          42,
          1,
          2033,
          451,
          1,
          5,
          1,
          1725,
          926,
          170,
          76,
          14,
          1,
          40,
          147,
          1220,
          201,
          34,
          31,
          562,
          2328,
          8272,
          822,
          235,
          11,
          123,
          287,
          1272,
          4628,
          29,
          201,
          6,
          9,
          11,
          6,
          19,
          695,
          282,
          35,
          9,
          98,
          74,
          29,
          15,
          23,
          19,
          78,
          248,
          310,
          2,
          5,
          13493,
          31,
          360,
          4,
          3634,
          212,
          2750,
          1,
          140,
          90,
          529,
          580,
          4,
          474,
          7,
          5,
          53,
          26,
          4,
          134,
          35,
          113,
          41,
          7,
          4,
          197,
          4,
          13112,
          28,
          18,
          119,
          1850,
          567,
          9,
          47,
          249,
          26,
          21,
          4,
          1,
          27,
          988,
          121,
          958,
          166,
          5,
          104,
          47,
          3,
          19,
          148,
          553,
          9,
          52,
          1108,
          6,
          23,
          38,
          1,
          9,
          1,
          52028,
          3,
          4,
          43,
          82,
          5,
          1,
          253,
          324,
          5,
          111,
          2,
          2995,
          15035,
          5,
          799,
          41,
          4445,
          43,
          13,
          113,
          42,
          8,
          22,
          221,
          838,
          2081,
          30,
          5420,
          5,
          31,
          1,
          4783,
          4,
          2,
          10,
          14,
          261,
          26,
          22,
          80,
          208,
          53,
          6075,
          41,
          15,
          27,
          17,
          120,
          10,
          20,
          1672,
          18,
          2250,
          22,
          74,
          4,
          57,
          123,
          17,
          51845,
          126,
          15,
          293,
          12,
          163,
          210,
          4,
          651,
          140,
          33,
          12,
          15,
          3783,
          37,
          1033,
          1235,
          64,
          3,
          13701,
          2,
          4058,
          1444,
          15,
          48,
          1239,
          76,
          40,
          19967,
          61,
          12,
          41,
          3224,
          84,
          1013,
          2,
          422,
          2,
          13980,
          1405,
          2,
          11,
          10,
          1161,
          199,
          98,
          91,
          16,
          187,
          35,
          30,
          830,
          183,
          10,
          9,
          85,
          7,
          8,
          1293,
          2,
          40,
          591,
          3796,
          308,
          9,
          3,
          447,
          77,
          2,
          637,
          11,
          276,
          32,
          66,
          3,
          448,
          197,
          51,
          1,
          4,
          2235,
          71,
          1039,
          9,
          1876,
          27,
          426,
          100,
          66,
          13,
          1748,
          7,
          1266,
          15,
          11,
          52,
          36,
          6,
          2896,
          11802,
          2,
          834,
          333
         ],
         "xaxis": "x",
         "y": [
          "Abbeville",
          "Acadia",
          "Accomack",
          "Ada",
          "Adair",
          "Adams",
          "Addison",
          "Aiken",
          "Aitkin",
          "Alachua",
          "Alamance",
          "Alameda",
          "Alamosa",
          "Albany",
          "Albemarle",
          "Alcona",
          "Alcorn",
          "Alexander",
          "Alexandria",
          "Alexandria City",
          "Alger",
          "Allamakee",
          "Allegan",
          "Allegany",
          "Alleghany",
          "Allegheny",
          "Allen",
          "Allendale",
          "Alpena",
          "Alpine",
          "Amador",
          "Amelia",
          "Amherst",
          "Amite",
          "Anderson",
          "Andrew",
          "Andrews",
          "Androscoggin",
          "Angelina",
          "Anne Arundel",
          "Anoka",
          "Anson",
          "Antrim",
          "Apache",
          "Appanoose",
          "Appling",
          "Appomattox",
          "Arapahoe",
          "Archer",
          "Archuleta",
          "Arenac",
          "Arkansas",
          "Arlington",
          "Armstrong",
          "Aroostook",
          "Ascension",
          "Ashe",
          "Ashland",
          "Ashley",
          "Ashtabula",
          "Asotin",
          "Assumption",
          "Atascosa",
          "Atchison",
          "Athens",
          "Atkinson",
          "Atlantic",
          "Atoka",
          "Attala",
          "Audubon",
          "Auglaize",
          "Augusta",
          "Aurora",
          "Austin",
          "Autauga",
          "Avery",
          "Avoyelles",
          "Baca",
          "Bacon",
          "Bailey",
          "Baker",
          "Baldwin",
          "Baltimore",
          "Baltimore City",
          "Baltimore County",
          "Bamberg",
          "Bandera",
          "Banks",
          "Bannock",
          "Baraga",
          "Barbour",
          "Barnes",
          "Barnstable",
          "Barnwell",
          "Barren",
          "Barron",
          "Barrow",
          "Barry",
          "Bartholomew",
          "Barton",
          "Bartow",
          "Bastrop",
          "Bates",
          "Bath",
          "Baxter",
          "Bay",
          "Bayfield",
          "Baylor",
          "Bear Lake",
          "Beaufort",
          "Beauregard",
          "Beaver",
          "Beaverhead",
          "Becker",
          "Beckham",
          "Bedford",
          "Bedford County",
          "Bee",
          "Belknap",
          "Bell",
          "Belmont",
          "Beltrami",
          "Ben Hill",
          "Benewah",
          "Bennington",
          "Bent",
          "Benton",
          "Benzie",
          "Bergen",
          "Berkeley",
          "Berks",
          "Berkshire",
          "Bernalillo",
          "Berrien",
          "Bertie",
          "Bexar",
          "Bibb",
          "Bienville",
          "Big Horn",
          "Big Stone",
          "Bingham",
          "Black Hawk",
          "Bladen",
          "Blaine",
          "Blair",
          "Blanco",
          "Bland",
          "Bleckley",
          "Bledsoe",
          "Blount",
          "Blue Earth",
          "Boise",
          "Bolivar",
          "Bond",
          "Bonner",
          "Bonneville",
          "Boone",
          "Bosque",
          "Bossier",
          "Botetourt",
          "Boulder",
          "Boundary",
          "Bourbon",
          "Bowie",
          "Box Elder",
          "Boyd",
          "Boyle",
          "Bradford",
          "Bradley",
          "Branch",
          "Brantley",
          "Braxton",
          "Brazoria",
          "Brazos",
          "Bremer",
          "Brevard",
          "Brewster",
          "Bristol",
          "Broadwater",
          "Bronx",
          "Brooke",
          "Brookings",
          "Brooks",
          "Broome",
          "Broomfield",
          "Broward",
          "Brown",
          "Brunswick",
          "Bryan",
          "Buchanan",
          "Buckingham",
          "Bucks",
          "Buena Vista",
          "Buffalo",
          "Bullitt",
          "Bulloch",
          "Bullock",
          "Buncombe",
          "Bureau",
          "Burke",
          "Burleigh",
          "Burleson",
          "Burlington",
          "Burnet",
          "Burnett",
          "Burt",
          "Butler",
          "Butte",
          "Butts",
          "Cabarrus",
          "Cabell",
          "Cache",
          "Caddo",
          "Calaveras",
          "Calcasieu",
          "Caldwell",
          "Caledonia",
          "Calhoun",
          "Callahan",
          "Callaway",
          "Calloway",
          "Calumet",
          "Calvert",
          "Camas",
          "Cambria",
          "Camden",
          "Cameron",
          "Campbell",
          "Canadian",
          "Candler",
          "Cannon",
          "Canyon",
          "Cape Girardeau",
          "Cape May",
          "Carbon",
          "Caribou",
          "Carlton",
          "Caroline",
          "Carroll",
          "Carson City",
          "Carter",
          "Carteret",
          "Carver",
          "Cascade",
          "Cass",
          "Cassia",
          "Caswell",
          "Catawba",
          "Catoosa",
          "Catron",
          "Cattaraugus",
          "Cayuga",
          "Cecil",
          "Cedar",
          "Centre",
          "Cerro Gordo",
          "Chaffee",
          "Chambers",
          "Champaign",
          "Chariton",
          "Charles",
          "Charles City",
          "Charles Mix",
          "Charleston",
          "Charlevoix",
          "Charlotte",
          "Charlottesville",
          "Charlottesville City",
          "Charlton",
          "Chase",
          "Chatham",
          "Chattahoochee",
          "Chattooga",
          "Chautauqua",
          "Chaves",
          "Cheatham",
          "Cheboygan",
          "Chelan",
          "Chemung",
          "Chenango",
          "Cherokee",
          "Cherry",
          "Chesapeake",
          "Chesapeake City",
          "Cheshire",
          "Chester",
          "Chesterfield",
          "Cheyenne",
          "Chickasaw",
          "Chicot",
          "Childress",
          "Chilton",
          "Chippewa",
          "Chisago",
          "Chittenden",
          "Choctaw",
          "Chouteau",
          "Chowan",
          "Christian",
          "Churchill",
          "Cibola",
          "Citrus",
          "Clackamas",
          "Claiborne",
          "Clallam",
          "Clare",
          "Clarendon",
          "Clarion",
          "Clark",
          "Clarke",
          "Clatsop",
          "Clay",
          "Clayton",
          "Clear Creek",
          "Clearfield",
          "Clearwater",
          "Cleburne",
          "Clermont",
          "Cleveland",
          "Clinton",
          "Coahoma",
          "Cobb",
          "Cochise",
          "Cocke",
          "Coconino",
          "Coffee",
          "Coffey",
          "Colbert",
          "Cole",
          "Coleman",
          "Coles",
          "Colfax",
          "Colleton",
          "Collier",
          "Collin",
          "Colonial Heights",
          "Colonial Heights City",
          "Colorado",
          "Colquitt",
          "Columbia",
          "Columbiana",
          "Columbus",
          "Colusa",
          "Comal",
          "Comanche",
          "Concho",
          "Concordia",
          "Conecuh",
          "Conejos",
          "Contra Costa",
          "Converse",
          "Conway",
          "Cook",
          "Cooke",
          "Cooper",
          "Coos",
          "Coosa",
          "Copiah",
          "Cortland",
          "Coryell",
          "Coshocton",
          "Costilla",
          "Cottle",
          "Cotton",
          "Cottonwood",
          "Covington",
          "Covington City",
          "Coweta",
          "Cowley",
          "Cowlitz",
          "Craig",
          "Craighead",
          "Crane",
          "Craven",
          "Crawford",
          "Creek",
          "Crenshaw",
          "Crisp",
          "Crittenden",
          "Crockett",
          "Crook",
          "Crosby",
          "Cross",
          "Crow Wing",
          "Crowley",
          "Culberson",
          "Cullman",
          "Culpeper",
          "Cumberland",
          "Cuming",
          "Currituck",
          "Curry",
          "Custer",
          "Cuyahoga",
          "Dade",
          "Daggett",
          "Dakota",
          "Dale",
          "Dallam",
          "Dallas",
          "Dane",
          "Danville",
          "Danville City",
          "Dare",
          "Darke",
          "Darlington",
          "Dauphin",
          "Davidson",
          "Davie",
          "Daviess",
          "Davis",
          "Dawes",
          "Dawson",
          "De Baca",
          "De Kalb",
          "De Soto",
          "De Witt",
          "DeKalb",
          "DeSoto",
          "DeWitt",
          "Deaf Smith",
          "Dearborn",
          "Decatur",
          "Deer Lodge",
          "Defiance",
          "Dekalb",
          "Del Norte",
          "Delaware",
          "Delta",
          "Denton",
          "Denver",
          "Des Moines",
          "Deschutes",
          "Desha",
          "Desoto",
          "Deuel",
          "Dewey",
          "Dewitt",
          "Dickenson",
          "Dickey",
          "Dickinson",
          "Dickson",
          "Dillon",
          "Dimmit",
          "Dinwiddie",
          "District Of Columbia",
          "District of Columbia",
          "Dixie",
          "Dixon",
          "Doddridge",
          "Dodge",
          "Dolores",
          "Doniphan",
          "Donley",
          "Dooly",
          "Door",
          "Dorchester",
          "Dougherty",
          "Douglas",
          "Doña Ana",
          "Do�a Ana",
          "Drew",
          "DuPage",
          "Dubois",
          "Dubuque",
          "Duchesne",
          "Dukes",
          "Dundy",
          "Dunn",
          "Dupage",
          "Duplin",
          "Durham",
          "Dutchess",
          "Duval",
          "Dyer",
          "Eagle",
          "Early",
          "East Baton Rouge",
          "East Feliciana",
          "Eastland",
          "Eaton",
          "Eau Claire",
          "Echols",
          "Ector",
          "Eddy",
          "Edgecombe",
          "Edgefield",
          "Edmonson",
          "Edwards",
          "Effingham",
          "El Dorado",
          "El Paso",
          "Elbert",
          "Elk",
          "Elkhart",
          "Elko",
          "Ellis",
          "Ellsworth",
          "Elmore",
          "Emanuel",
          "Emery",
          "Emmet",
          "Emporia",
          "Erath",
          "Erie",
          "Escambia",
          "Esmeralda",
          "Essex",
          "Estill",
          "Etowah",
          "Eureka",
          "Evangeline",
          "Evans",
          "Fairfax",
          "Fairfax City",
          "Fairfax County",
          "Fairfield",
          "Falls",
          "Falls Church",
          "Falls Church City",
          "Fannin",
          "Faribault",
          "Faulkner",
          "Fauquier",
          "Fayette",
          "Fentress",
          "Ferry",
          "Fillmore",
          "Finney",
          "Fisher",
          "Flagler",
          "Flathead",
          "Fleming",
          "Florence",
          "Floyd",
          "Fluvanna",
          "Fond Du Lac",
          "Fond du Lac",
          "Ford",
          "Forest",
          "Forrest",
          "Forsyth",
          "Fort Bend",
          "Fountain",
          "Franklin",
          "Franklin City",
          "Franklin County",
          "Frederick",
          "Fredericksburg",
          "Fredericksburg City",
          "Freeborn",
          "Freestone",
          "Fremont",
          "Fresno",
          "Frio",
          "Frontier",
          "Fulton",
          "Furnas",
          "Gadsden",
          "Gage",
          "Gaines",
          "Galax",
          "Galax City",
          "Gallatin",
          "Gallia",
          "Galveston",
          "Garfield",
          "Garland",
          "Garrard",
          "Garrett",
          "Garvin",
          "Garza",
          "Gasconade",
          "Gaston",
          "Gates",
          "Geary",
          "Geauga",
          "Gem",
          "Genesee",
          "Geneva",
          "Gentry",
          "George",
          "Georgetown",
          "Gibson",
          "Gila",
          "Gilchrist",
          "Giles",
          "Gillespie",
          "Gilliam",
          "Gilmer",
          "Gilpin",
          "Glacier",
          "Glades",
          "Gladwin",
          "Glascock",
          "Glasscock",
          "Glenn",
          "Gloucester",
          "Glynn",
          "Gogebic",
          "Golden Valley",
          "Goliad",
          "Gonzales",
          "Goochland",
          "Goodhue",
          "Gooding",
          "Gordon",
          "Goshen",
          "Gove",
          "Grady",
          "Grafton",
          "Graham",
          "Grainger",
          "Grand",
          "Grand Forks",
          "Grand Isle",
          "Grand Traverse",
          "Granite",
          "Grant",
          "Granville",
          "Gratiot",
          "Gray",
          "Grays Harbor",
          "Grayson",
          "Green",
          "Green Lake",
          "Greenbrier",
          "Greene",
          "Greenlee",
          "Greensville",
          "Greenup",
          "Greenville",
          "Greenwood",
          "Greer",
          "Gregg",
          "Gregory",
          "Grenada",
          "Grimes",
          "Grundy",
          "Guadalupe",
          "Guernsey",
          "Guilford",
          "Gulf",
          "Gunnison",
          "Guthrie",
          "Gwinnett",
          "Habersham",
          "Hale",
          "Halifax",
          "Hall",
          "Hamblen",
          "Hamilton",
          "Hampden",
          "Hampshire",
          "Hampton",
          "Hampton City",
          "Hancock",
          "Hand",
          "Hanover",
          "Hanson",
          "Haralson",
          "Hardee",
          "Hardeman",
          "Hardin",
          "Hardy",
          "Harford",
          "Harlan",
          "Harnett",
          "Harney",
          "Harris",
          "Harrison",
          "Harrisonburg",
          "Harrisonburg City",
          "Hart",
          "Hartford",
          "Hartley",
          "Harvey",
          "Haskell",
          "Hawkins",
          "Hays",
          "Haywood",
          "Heard",
          "Hempstead",
          "Henderson",
          "Hendricks",
          "Hendry",
          "Hennepin",
          "Henrico",
          "Henry",
          "Herkimer",
          "Hernando",
          "Hertford",
          "Hickman",
          "Hidalgo",
          "Highland",
          "Highlands",
          "Hill",
          "Hillsborough",
          "Hillsdale",
          "Hinds",
          "Hinsdale",
          "Hitchcock",
          "Hocking",
          "Hockley",
          "Hodgeman",
          "Hoke",
          "Holmes",
          "Holt",
          "Hood",
          "Hood River",
          "Hopewell",
          "Hopewell City",
          "Hopkins",
          "Horry",
          "Hot Spring",
          "Hot Springs",
          "Houghton",
          "Houston",
          "Howard",
          "Howell",
          "Hubbard",
          "Hudson",
          "Hudspeth",
          "Huerfano",
          "Hughes",
          "Humboldt",
          "Humphreys",
          "Hunt",
          "Hunterdon",
          "Huntingdon",
          "Huntington",
          "Huron",
          "Hutchinson",
          "Iberia",
          "Iberville",
          "Ida",
          "Idaho",
          "Imperial",
          "Independence",
          "Indian River",
          "Indiana",
          "Ingham",
          "Inyo",
          "Ionia",
          "Iosco",
          "Iowa",
          "Iredell",
          "Iron",
          "Iroquois",
          "Irwin",
          "Isabella",
          "Isanti",
          "Island",
          "Isle Of Wight",
          "Isle of Wight",
          "Itasca",
          "Itawamba",
          "Jack",
          "Jackson",
          "James City",
          "Jasper",
          "Jay",
          "Jeff Davis",
          "Jefferson",
          "Jefferson Davis",
          "Jenkins",
          "Jennings",
          "Jerome",
          "Jersey",
          "Jessamine",
          "Jim Wells",
          "Jo Daviess",
          "Johnson",
          "Johnston",
          "Jones",
          "Josephine",
          "Juab",
          "Judith Basin",
          "Juneau",
          "Juniata",
          "Kalamazoo",
          "Kalkaska",
          "Kanabec",
          "Kanawha",
          "Kandiyohi",
          "Kane",
          "Kankakee",
          "Kaufman",
          "Kay",
          "Kearney",
          "Keith",
          "Kemper",
          "Kendall",
          "Kennebec",
          "Kenosha",
          "Kent",
          "Kenton",
          "Keokuk",
          "Kern",
          "Kerr",
          "Kershaw",
          "Kewaunee",
          "Kidder",
          "Kimball",
          "Kimble",
          "King",
          "King And Queen",
          "King George",
          "King William",
          "King and Queen",
          "Kingfisher",
          "Kings",
          "Kinney",
          "Kiowa",
          "Kit Carson",
          "Kitsap",
          "Kittitas",
          "Klamath",
          "Klickitat",
          "Knox",
          "Koochiching",
          "Kootenai",
          "Kosciusko",
          "Kossuth",
          "La Crosse",
          "La Paz",
          "La Plata",
          "La Porte",
          "La Salle",
          "LaGrange",
          "LaPorte",
          "LaSalle",
          "Labette",
          "Lac qui Parle",
          "Lackawanna",
          "Laclede",
          "Lafayette",
          "Lafourche",
          "Lagrange",
          "Lake",
          "Lake of the Woods",
          "Lamar",
          "Lamb",
          "Lamoille",
          "Lampasas",
          "Lancaster",
          "Lander",
          "Lane",
          "Langlade",
          "Lanier",
          "Lapeer",
          "Laramie",
          "Larimer",
          "Larue",
          "Las Animas",
          "Lassen",
          "Latah",
          "Lauderdale",
          "Laurel",
          "Laurens",
          "Lavaca",
          "Lawrence",
          "Le Flore",
          "Le Sueur",
          "Lea",
          "Leake",
          "Leavenworth",
          "Lebanon",
          "Lee",
          "Leelanau",
          "Leflore",
          "Lehigh",
          "Lemhi",
          "Lenawee",
          "Lenoir",
          "Leon",
          "Leslie",
          "Letcher",
          "Levy",
          "Lewis",
          "Lewis And Clark",
          "Lewis and Clark",
          "Lexington",
          "Liberty",
          "Licking",
          "Limestone",
          "Lincoln",
          "Linn",
          "Litchfield",
          "Little River",
          "Live Oak",
          "Livingston",
          "Llano",
          "Logan",
          "Long",
          "Lonoke",
          "Lorain",
          "Los Angeles",
          "Loudon",
          "Loudoun",
          "Louisa",
          "Love",
          "Loving",
          "Lowndes",
          "Lubbock",
          "Lucas",
          "Luce",
          "Lumpkin",
          "Luna",
          "Lunenburg",
          "Luzerne",
          "Lycoming",
          "Lyman",
          "Lynchburg",
          "Lynchburg City",
          "Lynn",
          "Lyon",
          "Mackinac",
          "Macomb",
          "Macon",
          "Macon-Bibb County",
          "Macoupin",
          "Madera",
          "Madison",
          "Mahaska",
          "Mahnomen",
          "Mahoning",
          "Malheur",
          "Manassas",
          "Manassas City",
          "Manassas Park",
          "Manatee",
          "Manistee",
          "Manitowoc",
          "Marathon",
          "Marengo",
          "Maricopa",
          "Maries",
          "Marin",
          "Marinette",
          "Marion",
          "Mariposa",
          "Marlboro",
          "Marquette",
          "Marshall",
          "Martin",
          "Martinsville",
          "Martinsville City",
          "Mason",
          "Massac",
          "Mathews",
          "Maury",
          "Maverick",
          "Mayes",
          "McClain",
          "McCook",
          "McCormick",
          "McCracken",
          "McCreary",
          "McCulloch",
          "McCurtain",
          "McDonough",
          "McDowell",
          "McDuffie",
          "McHenry",
          "McIntosh",
          "McKean",
          "McKenzie",
          "McKinley",
          "McLean",
          "McLennan",
          "McLeod",
          "McMinn",
          "McMullen",
          "McPherson",
          "Mcclain",
          "Mccormick",
          "Mcduffie",
          "Mchenry",
          "Mcintosh",
          "Mckean",
          "Mclean",
          "Mclennan",
          "Mcleod",
          "Mcminn",
          "Meade",
          "Mecklenburg",
          "Mecosta",
          "Medina",
          "Meeker",
          "Meigs",
          "Mellette",
          "Menard",
          "Mendocino",
          "Menominee",
          "Merced",
          "Mercer",
          "Meriwether",
          "Merrick",
          "Merrimack",
          "Mesa",
          "Metcalfe",
          "Miami",
          "Miami-Dade",
          "Middlesex",
          "Midland",
          "Mifflin",
          "Milam",
          "Millard",
          "Mille Lacs",
          "Miller",
          "Mills",
          "Milwaukee",
          "Mineral",
          "Mingo",
          "Minidoka",
          "Minnehaha",
          "Mississippi",
          "Missoula",
          "Mitchell",
          "Mobile",
          "Modoc",
          "Moffat",
          "Mohave",
          "Monmouth",
          "Mono",
          "Monona",
          "Monongalia",
          "Monroe",
          "Montague",
          "Montcalm",
          "Monterey",
          "Montezuma",
          "Montgomery",
          "Montour",
          "Montrose",
          "Moore",
          "Mora",
          "Morehouse",
          "Morgan",
          "Morris",
          "Morrison",
          "Morrow",
          "Morton",
          "Mower",
          "Muhlenberg",
          "Multnomah",
          "Murray",
          "Muscatine",
          "Muscogee",
          "Muskegon",
          "Muskingum",
          "Muskogee",
          "Musselshell",
          "Nacogdoches",
          "Nantucket",
          "Napa",
          "Nash",
          "Nassau",
          "Natchitoches",
          "Natrona",
          "Navajo",
          "Navarro",
          "Nelson",
          "Nemaha",
          "Neosho",
          "Neshoba",
          "Ness",
          "Nevada",
          "New Castle",
          "New Hanover",
          "New Haven",
          "New Kent",
          "New London",
          "New Madrid",
          "New York",
          "Newaygo",
          "Newberry",
          "Newport",
          "Newport News",
          "Newport News City",
          "Newton",
          "Nez Perce",
          "Niagara",
          "Nicholas",
          "Nicollet",
          "Niobrara",
          "Noble",
          "Nobles",
          "Nodaway",
          "Nolan",
          "Norfolk",
          "Norfolk City",
          "Northampton",
          "Northumberland",
          "Nottoway",
          "Nowata",
          "Noxubee",
          "Nuckolls",
          "Nueces",
          "Nye",
          "O'Brien",
          "Oakland",
          "Obion",
          "Obrien",
          "Ocean",
          "Oceana",
          "Oconee",
          "Oconto",
          "Ogemaw",
          "Oglala Lakota",
          "Ogle",
          "Oglethorpe",
          "Ohio",
          "Okaloosa",
          "Okanogan",
          "Okeechobee",
          "Okfuskee",
          "Oklahoma",
          "Okmulgee",
          "Oktibbeha",
          "Oldham",
          "Olmsted",
          "Oneida",
          "Onondaga",
          "Onslow",
          "Ontario",
          "Orange",
          "Orangeburg",
          "Orleans",
          "Osage",
          "Osceola",
          "Oscoda",
          "Oswego",
          "Otero",
          "Otoe",
          "Otsego",
          "Ottawa",
          "Otter Tail",
          "Ouachita",
          "Ouray",
          "Outagamie",
          "Overton",
          "Owen",
          "Owyhee",
          "Oxford",
          "Ozark",
          "Ozaukee",
          "Pacific",
          "Page",
          "Palm Beach",
          "Palo Alto",
          "Palo Pinto",
          "Pamlico",
          "Panola",
          "Park",
          "Parke",
          "Parker",
          "Parmer",
          "Pasco",
          "Pasquotank",
          "Passaic",
          "Patrick",
          "Paulding",
          "Pawnee",
          "Payette",
          "Payne",
          "Peach",
          "Pearl River",
          "Pecos",
          "Pemiscot",
          "Pend Oreille",
          "Pender",
          "Pendleton",
          "Pennington",
          "Penobscot",
          "Peoria",
          "Perkins",
          "Perquimans",
          "Perry",
          "Pershing",
          "Person",
          "Petersburg",
          "Petersburg City",
          "Petroleum",
          "Pettis",
          "Phelps",
          "Philadelphia",
          "Phillips",
          "Piatt",
          "Pickaway",
          "Pickens",
          "Pickett",
          "Pierce",
          "Pike",
          "Pima",
          "Pinal",
          "Pine",
          "Pinellas",
          "Pipestone",
          "Pitkin",
          "Pitt",
          "Pittsburg",
          "Pittsylvania",
          "Piute",
          "Placer",
          "Plaquemines",
          "Platte",
          "Plumas",
          "Plymouth",
          "Pocahontas",
          "Poinsett",
          "Pointe Coupee",
          "Polk",
          "Pondera",
          "Pontotoc",
          "Pope",
          "Portage",
          "Porter",
          "Portsmouth",
          "Portsmouth City",
          "Posey",
          "Pottawatomie",
          "Pottawattamie",
          "Potter",
          "Powder River",
          "Powell",
          "Power",
          "Poweshiek",
          "Powhatan",
          "Prairie",
          "Preble",
          "Prentiss",
          "Presque Isle",
          "Preston",
          "Price",
          "Prince Edward",
          "Prince George",
          "Prince George's",
          "Prince Georges",
          "Prince William",
          "Providence",
          "Prowers",
          "Pueblo",
          "Pulaski",
          "Putnam",
          "Quay",
          "Queen Anne's",
          "Queen Annes",
          "Queens",
          "Quitman",
          "Rabun",
          "Racine",
          "Radford",
          "Rains",
          "Raleigh",
          "Ralls",
          "Ramsey",
          "Randall",
          "Randolph",
          "Rankin",
          "Rapides",
          "Rappahannock",
          "Ravalli",
          "Real",
          "Red Lake",
          "Red River",
          "Redwood",
          "Reeves",
          "Refugio",
          "Rensselaer",
          "Renville",
          "Republic",
          "Rhea",
          "Rice",
          "Rich",
          "Richland",
          "Richmond",
          "Richmond City",
          "Richmond County",
          "Ringgold",
          "Rio Arriba",
          "Rio Blanco",
          "Rio Grande",
          "Ripley",
          "Ritchie",
          "Riverside",
          "Roane",
          "Roanoke",
          "Roanoke City",
          "Roanoke County",
          "Robertson",
          "Robeson",
          "Rock",
          "Rock Island",
          "Rockbridge",
          "Rockcastle",
          "Rockdale",
          "Rockingham",
          "Rockland",
          "Rockwall",
          "Rogers",
          "Roosevelt",
          "Roscommon",
          "Roseau",
          "Rosebud",
          "Ross",
          "Routt",
          "Rowan",
          "Runnels",
          "Rush",
          "Rusk",
          "Russell",
          "Rutherford",
          "Rutland",
          "Sabine",
          "Sac",
          "Sacramento",
          "Sagadahoc",
          "Saginaw",
          "Saguache",
          "Saint Bernard",
          "Saint Charles",
          "Saint Clair",
          "Saint James",
          "Saint Johns",
          "Saint Joseph",
          "Saint Landry",
          "Saint Lawrence",
          "Saint Louis",
          "Saint Louis City",
          "Saint Lucie",
          "Saint Martin",
          "Saint Marys",
          "Saint Tammany",
          "Salem",
          "Saline",
          "Salt Lake",
          "Saluda",
          "Sampson",
          "San Augustine",
          "San Benito",
          "San Bernardino",
          "San Diego",
          "San Francisco",
          "San Jacinto",
          "San Joaquin",
          "San Juan",
          "San Luis Obispo",
          "San Mateo",
          "San Miguel",
          "San Patricio",
          "Sanders",
          "Sandoval",
          "Sandusky",
          "Sangamon",
          "Sanilac",
          "Sanpete",
          "Santa Barbara",
          "Santa Clara",
          "Santa Cruz",
          "Santa Fe",
          "Santa Rosa",
          "Sarasota",
          "Saratoga",
          "Sarpy",
          "Sauk",
          "Saunders",
          "Sawyer",
          "Schenectady",
          "Schley",
          "Schoharie",
          "Schoolcraft",
          "Schuyler",
          "Schuylkill",
          "Scioto",
          "Scotland",
          "Scott",
          "Scotts Bluff",
          "Screven",
          "Scurry",
          "Searcy",
          "Sebastian",
          "Sedgwick",
          "Seminole",
          "Seneca",
          "Sequatchie",
          "Sequoyah",
          "Sevier",
          "Seward",
          "Sharp",
          "Shasta",
          "Shawano",
          "Shawnee",
          "Sheboygan",
          "Shelby",
          "Shenandoah",
          "Sherburne",
          "Sheridan",
          "Sherman",
          "Shiawassee",
          "Shoshone",
          "Sibley",
          "Sierra",
          "Silver Bow",
          "Simpson",
          "Sioux",
          "Siskiyou",
          "Skagit",
          "Skamania",
          "Slope",
          "Smith",
          "Smyth",
          "Snohomish",
          "Snyder",
          "Socorro",
          "Solano",
          "Somerset",
          "Somervell",
          "Sonoma",
          "Southampton",
          "Spalding",
          "Spartanburg",
          "Spencer",
          "Spink",
          "Spokane",
          "Spotsylvania",
          "St John The Baptist",
          "St Joseph",
          "St. Bernard",
          "St. Charles",
          "St. Clair",
          "St. Croix",
          "St. Francis",
          "St. Francois",
          "St. Helena",
          "St. James",
          "St. John the Baptist",
          "St. Johns",
          "St. Joseph",
          "St. Landry",
          "St. Lawrence",
          "St. Louis",
          "St. Louis City",
          "St. Louis County",
          "St. Lucie",
          "St. Martin",
          "St. Mary",
          "St. Mary's",
          "St. Tammany",
          "Stafford",
          "Stanislaus",
          "Stanly",
          "Stark",
          "Starke",
          "Starr",
          "Staunton",
          "Staunton City",
          "Ste Genevieve",
          "Stearns",
          "Steele",
          "Stephens",
          "Stephenson",
          "Steuben",
          "Stevens",
          "Stewart",
          "Stillwater",
          "Stokes",
          "Stone",
          "Storey",
          "Story",
          "Strafford",
          "Stutsman",
          "Sublette",
          "Suffolk",
          "Suffolk City",
          "Sullivan",
          "Summers",
          "Summit",
          "Sumner",
          "Sumter",
          "Sunflower",
          "Surry",
          "Susquehanna",
          "Sussex",
          "Sutter",
          "Sutton",
          "Suwannee",
          "Swain",
          "Sweet Grass",
          "Sweetwater",
          "Swift",
          "Switzerland",
          "Talbot",
          "Taliaferro",
          "Talladega",
          "Tallapoosa",
          "Tama",
          "Taney",
          "Tangipahoa",
          "Taos",
          "Tarrant",
          "Tate",
          "Tattnall",
          "Taylor",
          "Tazewell",
          "Tehama",
          "Telfair",
          "Teller",
          "Terrebonne",
          "Terrell",
          "Teton",
          "Texas",
          "Thayer",
          "Thomas",
          "Thurston",
          "Tift",
          "Tillamook",
          "Tioga",
          "Tippah",
          "Tippecanoe",
          "Tipton",
          "Tishomingo",
          "Titus",
          "Todd",
          "Tolland",
          "Tom Green",
          "Tompkins",
          "Tooele",
          "Toole",
          "Toombs",
          "Torrance",
          "Towns",
          "Transylvania",
          "Traverse",
          "Travis",
          "Treasure",
          "Trego",
          "Trempealeau",
          "Treutlen",
          "Trigg",
          "Trimble",
          "Trinity",
          "Troup",
          "Trousdale",
          "Trumbull",
          "Tucker",
          "Tulare",
          "Tulsa",
          "Tunica",
          "Tuolumne",
          "Turner",
          "Tuscaloosa",
          "Tuscarawas",
          "Tuscola",
          "Twiggs",
          "Twin Falls",
          "Tyler",
          "Uinta",
          "Uintah",
          "Ulster",
          "Umatilla",
          "Unicoi",
          "Union",
          "Upshur",
          "Upson",
          "Upton",
          "Utah",
          "Uvalde",
          "Val Verde",
          "Valencia",
          "Valley",
          "Van Buren",
          "Van Wert",
          "Van Zandt",
          "Vance",
          "Vanderburgh",
          "Venango",
          "Ventura",
          "Vermilion",
          "Vermillion",
          "Vernon",
          "Victoria",
          "Vigo",
          "Vilas",
          "Vinton",
          "Virginia Beach",
          "Virginia Beach City",
          "Volusia",
          "Wabash",
          "Wabasha",
          "Wabaunsee",
          "Wadena",
          "Wagoner",
          "Wahkiakum",
          "Wake",
          "Wakulla",
          "Waldo",
          "Walker",
          "Walla Walla",
          "Waller",
          "Wallowa",
          "Walthall",
          "Walton",
          "Walworth",
          "Wapello",
          "Ward",
          "Ware",
          "Warren",
          "Warrick",
          "Wasatch",
          "Wasco",
          "Waseca",
          "Washburn",
          "Washington",
          "Washita",
          "Washoe",
          "Washtenaw",
          "Watauga",
          "Watonwan",
          "Waukesha",
          "Waupaca",
          "Waushara",
          "Wayne",
          "Waynesboro",
          "Weakley",
          "Webb",
          "Weber",
          "Webster",
          "Weld",
          "Wells",
          "West Baton Rouge",
          "West Feliciana",
          "Westchester",
          "Westmoreland",
          "Wetzel",
          "Wexford",
          "Wharton",
          "Whatcom",
          "Wheeler",
          "White",
          "White Pine",
          "Whiteside",
          "Whitfield",
          "Whitley",
          "Whitman",
          "Wichita",
          "Wicomico",
          "Wilbarger",
          "Wilcox",
          "Wilkes",
          "Wilkin",
          "Wilkinson",
          "Will",
          "Willacy",
          "Williams",
          "Williamsburg",
          "Williamson",
          "Wilson",
          "Winchester",
          "Winchester City",
          "Windham",
          "Windsor",
          "Winkler",
          "Winnebago",
          "Winneshiek",
          "Winona",
          "Winston",
          "Wise",
          "Wolfe",
          "Wood",
          "Woodbury",
          "Woodford",
          "Woods",
          "Woodward",
          "Worcester",
          "Worth",
          "Wright",
          "Wyandot",
          "Wyandotte",
          "Wyoming",
          "Wythe",
          "Yadkin",
          "Yakima",
          "Yalobusha",
          "Yamhill",
          "Yates",
          "Yavapai",
          "Yazoo",
          "Yell",
          "Yellow Medicine",
          "Yellowstone",
          "Yoakum",
          "Yolo",
          "York",
          "Young",
          "Yuba",
          "Yuma"
         ],
         "yaxis": "y"
        }
       ],
       "layout": {
        "barmode": "relative",
        "legend": {
         "tracegroupgap": 0
        },
        "margin": {
         "t": 60
        },
        "template": {
         "data": {
          "bar": [
           {
            "error_x": {
             "color": "#2a3f5f"
            },
            "error_y": {
             "color": "#2a3f5f"
            },
            "marker": {
             "line": {
              "color": "#E5ECF6",
              "width": 0.5
             },
             "pattern": {
              "fillmode": "overlay",
              "size": 10,
              "solidity": 0.2
             }
            },
            "type": "bar"
           }
          ],
          "barpolar": [
           {
            "marker": {
             "line": {
              "color": "#E5ECF6",
              "width": 0.5
             },
             "pattern": {
              "fillmode": "overlay",
              "size": 10,
              "solidity": 0.2
             }
            },
            "type": "barpolar"
           }
          ],
          "carpet": [
           {
            "aaxis": {
             "endlinecolor": "#2a3f5f",
             "gridcolor": "white",
             "linecolor": "white",
             "minorgridcolor": "white",
             "startlinecolor": "#2a3f5f"
            },
            "baxis": {
             "endlinecolor": "#2a3f5f",
             "gridcolor": "white",
             "linecolor": "white",
             "minorgridcolor": "white",
             "startlinecolor": "#2a3f5f"
            },
            "type": "carpet"
           }
          ],
          "choropleth": [
           {
            "colorbar": {
             "outlinewidth": 0,
             "ticks": ""
            },
            "type": "choropleth"
           }
          ],
          "contour": [
           {
            "colorbar": {
             "outlinewidth": 0,
             "ticks": ""
            },
            "colorscale": [
             [
              0,
              "#0d0887"
             ],
             [
              0.1111111111111111,
              "#46039f"
             ],
             [
              0.2222222222222222,
              "#7201a8"
             ],
             [
              0.3333333333333333,
              "#9c179e"
             ],
             [
              0.4444444444444444,
              "#bd3786"
             ],
             [
              0.5555555555555556,
              "#d8576b"
             ],
             [
              0.6666666666666666,
              "#ed7953"
             ],
             [
              0.7777777777777778,
              "#fb9f3a"
             ],
             [
              0.8888888888888888,
              "#fdca26"
             ],
             [
              1,
              "#f0f921"
             ]
            ],
            "type": "contour"
           }
          ],
          "contourcarpet": [
           {
            "colorbar": {
             "outlinewidth": 0,
             "ticks": ""
            },
            "type": "contourcarpet"
           }
          ],
          "heatmap": [
           {
            "colorbar": {
             "outlinewidth": 0,
             "ticks": ""
            },
            "colorscale": [
             [
              0,
              "#0d0887"
             ],
             [
              0.1111111111111111,
              "#46039f"
             ],
             [
              0.2222222222222222,
              "#7201a8"
             ],
             [
              0.3333333333333333,
              "#9c179e"
             ],
             [
              0.4444444444444444,
              "#bd3786"
             ],
             [
              0.5555555555555556,
              "#d8576b"
             ],
             [
              0.6666666666666666,
              "#ed7953"
             ],
             [
              0.7777777777777778,
              "#fb9f3a"
             ],
             [
              0.8888888888888888,
              "#fdca26"
             ],
             [
              1,
              "#f0f921"
             ]
            ],
            "type": "heatmap"
           }
          ],
          "heatmapgl": [
           {
            "colorbar": {
             "outlinewidth": 0,
             "ticks": ""
            },
            "colorscale": [
             [
              0,
              "#0d0887"
             ],
             [
              0.1111111111111111,
              "#46039f"
             ],
             [
              0.2222222222222222,
              "#7201a8"
             ],
             [
              0.3333333333333333,
              "#9c179e"
             ],
             [
              0.4444444444444444,
              "#bd3786"
             ],
             [
              0.5555555555555556,
              "#d8576b"
             ],
             [
              0.6666666666666666,
              "#ed7953"
             ],
             [
              0.7777777777777778,
              "#fb9f3a"
             ],
             [
              0.8888888888888888,
              "#fdca26"
             ],
             [
              1,
              "#f0f921"
             ]
            ],
            "type": "heatmapgl"
           }
          ],
          "histogram": [
           {
            "marker": {
             "pattern": {
              "fillmode": "overlay",
              "size": 10,
              "solidity": 0.2
             }
            },
            "type": "histogram"
           }
          ],
          "histogram2d": [
           {
            "colorbar": {
             "outlinewidth": 0,
             "ticks": ""
            },
            "colorscale": [
             [
              0,
              "#0d0887"
             ],
             [
              0.1111111111111111,
              "#46039f"
             ],
             [
              0.2222222222222222,
              "#7201a8"
             ],
             [
              0.3333333333333333,
              "#9c179e"
             ],
             [
              0.4444444444444444,
              "#bd3786"
             ],
             [
              0.5555555555555556,
              "#d8576b"
             ],
             [
              0.6666666666666666,
              "#ed7953"
             ],
             [
              0.7777777777777778,
              "#fb9f3a"
             ],
             [
              0.8888888888888888,
              "#fdca26"
             ],
             [
              1,
              "#f0f921"
             ]
            ],
            "type": "histogram2d"
           }
          ],
          "histogram2dcontour": [
           {
            "colorbar": {
             "outlinewidth": 0,
             "ticks": ""
            },
            "colorscale": [
             [
              0,
              "#0d0887"
             ],
             [
              0.1111111111111111,
              "#46039f"
             ],
             [
              0.2222222222222222,
              "#7201a8"
             ],
             [
              0.3333333333333333,
              "#9c179e"
             ],
             [
              0.4444444444444444,
              "#bd3786"
             ],
             [
              0.5555555555555556,
              "#d8576b"
             ],
             [
              0.6666666666666666,
              "#ed7953"
             ],
             [
              0.7777777777777778,
              "#fb9f3a"
             ],
             [
              0.8888888888888888,
              "#fdca26"
             ],
             [
              1,
              "#f0f921"
             ]
            ],
            "type": "histogram2dcontour"
           }
          ],
          "mesh3d": [
           {
            "colorbar": {
             "outlinewidth": 0,
             "ticks": ""
            },
            "type": "mesh3d"
           }
          ],
          "parcoords": [
           {
            "line": {
             "colorbar": {
              "outlinewidth": 0,
              "ticks": ""
             }
            },
            "type": "parcoords"
           }
          ],
          "pie": [
           {
            "automargin": true,
            "type": "pie"
           }
          ],
          "scatter": [
           {
            "fillpattern": {
             "fillmode": "overlay",
             "size": 10,
             "solidity": 0.2
            },
            "type": "scatter"
           }
          ],
          "scatter3d": [
           {
            "line": {
             "colorbar": {
              "outlinewidth": 0,
              "ticks": ""
             }
            },
            "marker": {
             "colorbar": {
              "outlinewidth": 0,
              "ticks": ""
             }
            },
            "type": "scatter3d"
           }
          ],
          "scattercarpet": [
           {
            "marker": {
             "colorbar": {
              "outlinewidth": 0,
              "ticks": ""
             }
            },
            "type": "scattercarpet"
           }
          ],
          "scattergeo": [
           {
            "marker": {
             "colorbar": {
              "outlinewidth": 0,
              "ticks": ""
             }
            },
            "type": "scattergeo"
           }
          ],
          "scattergl": [
           {
            "marker": {
             "colorbar": {
              "outlinewidth": 0,
              "ticks": ""
             }
            },
            "type": "scattergl"
           }
          ],
          "scattermapbox": [
           {
            "marker": {
             "colorbar": {
              "outlinewidth": 0,
              "ticks": ""
             }
            },
            "type": "scattermapbox"
           }
          ],
          "scatterpolar": [
           {
            "marker": {
             "colorbar": {
              "outlinewidth": 0,
              "ticks": ""
             }
            },
            "type": "scatterpolar"
           }
          ],
          "scatterpolargl": [
           {
            "marker": {
             "colorbar": {
              "outlinewidth": 0,
              "ticks": ""
             }
            },
            "type": "scatterpolargl"
           }
          ],
          "scatterternary": [
           {
            "marker": {
             "colorbar": {
              "outlinewidth": 0,
              "ticks": ""
             }
            },
            "type": "scatterternary"
           }
          ],
          "surface": [
           {
            "colorbar": {
             "outlinewidth": 0,
             "ticks": ""
            },
            "colorscale": [
             [
              0,
              "#0d0887"
             ],
             [
              0.1111111111111111,
              "#46039f"
             ],
             [
              0.2222222222222222,
              "#7201a8"
             ],
             [
              0.3333333333333333,
              "#9c179e"
             ],
             [
              0.4444444444444444,
              "#bd3786"
             ],
             [
              0.5555555555555556,
              "#d8576b"
             ],
             [
              0.6666666666666666,
              "#ed7953"
             ],
             [
              0.7777777777777778,
              "#fb9f3a"
             ],
             [
              0.8888888888888888,
              "#fdca26"
             ],
             [
              1,
              "#f0f921"
             ]
            ],
            "type": "surface"
           }
          ],
          "table": [
           {
            "cells": {
             "fill": {
              "color": "#EBF0F8"
             },
             "line": {
              "color": "white"
             }
            },
            "header": {
             "fill": {
              "color": "#C8D4E3"
             },
             "line": {
              "color": "white"
             }
            },
            "type": "table"
           }
          ]
         },
         "layout": {
          "annotationdefaults": {
           "arrowcolor": "#2a3f5f",
           "arrowhead": 0,
           "arrowwidth": 1
          },
          "autotypenumbers": "strict",
          "coloraxis": {
           "colorbar": {
            "outlinewidth": 0,
            "ticks": ""
           }
          },
          "colorscale": {
           "diverging": [
            [
             0,
             "#8e0152"
            ],
            [
             0.1,
             "#c51b7d"
            ],
            [
             0.2,
             "#de77ae"
            ],
            [
             0.3,
             "#f1b6da"
            ],
            [
             0.4,
             "#fde0ef"
            ],
            [
             0.5,
             "#f7f7f7"
            ],
            [
             0.6,
             "#e6f5d0"
            ],
            [
             0.7,
             "#b8e186"
            ],
            [
             0.8,
             "#7fbc41"
            ],
            [
             0.9,
             "#4d9221"
            ],
            [
             1,
             "#276419"
            ]
           ],
           "sequential": [
            [
             0,
             "#0d0887"
            ],
            [
             0.1111111111111111,
             "#46039f"
            ],
            [
             0.2222222222222222,
             "#7201a8"
            ],
            [
             0.3333333333333333,
             "#9c179e"
            ],
            [
             0.4444444444444444,
             "#bd3786"
            ],
            [
             0.5555555555555556,
             "#d8576b"
            ],
            [
             0.6666666666666666,
             "#ed7953"
            ],
            [
             0.7777777777777778,
             "#fb9f3a"
            ],
            [
             0.8888888888888888,
             "#fdca26"
            ],
            [
             1,
             "#f0f921"
            ]
           ],
           "sequentialminus": [
            [
             0,
             "#0d0887"
            ],
            [
             0.1111111111111111,
             "#46039f"
            ],
            [
             0.2222222222222222,
             "#7201a8"
            ],
            [
             0.3333333333333333,
             "#9c179e"
            ],
            [
             0.4444444444444444,
             "#bd3786"
            ],
            [
             0.5555555555555556,
             "#d8576b"
            ],
            [
             0.6666666666666666,
             "#ed7953"
            ],
            [
             0.7777777777777778,
             "#fb9f3a"
            ],
            [
             0.8888888888888888,
             "#fdca26"
            ],
            [
             1,
             "#f0f921"
            ]
           ]
          },
          "colorway": [
           "#636efa",
           "#EF553B",
           "#00cc96",
           "#ab63fa",
           "#FFA15A",
           "#19d3f3",
           "#FF6692",
           "#B6E880",
           "#FF97FF",
           "#FECB52"
          ],
          "font": {
           "color": "#2a3f5f"
          },
          "geo": {
           "bgcolor": "white",
           "lakecolor": "white",
           "landcolor": "#E5ECF6",
           "showlakes": true,
           "showland": true,
           "subunitcolor": "white"
          },
          "hoverlabel": {
           "align": "left"
          },
          "hovermode": "closest",
          "mapbox": {
           "style": "light"
          },
          "paper_bgcolor": "white",
          "plot_bgcolor": "#E5ECF6",
          "polar": {
           "angularaxis": {
            "gridcolor": "white",
            "linecolor": "white",
            "ticks": ""
           },
           "bgcolor": "#E5ECF6",
           "radialaxis": {
            "gridcolor": "white",
            "linecolor": "white",
            "ticks": ""
           }
          },
          "scene": {
           "xaxis": {
            "backgroundcolor": "#E5ECF6",
            "gridcolor": "white",
            "gridwidth": 2,
            "linecolor": "white",
            "showbackground": true,
            "ticks": "",
            "zerolinecolor": "white"
           },
           "yaxis": {
            "backgroundcolor": "#E5ECF6",
            "gridcolor": "white",
            "gridwidth": 2,
            "linecolor": "white",
            "showbackground": true,
            "ticks": "",
            "zerolinecolor": "white"
           },
           "zaxis": {
            "backgroundcolor": "#E5ECF6",
            "gridcolor": "white",
            "gridwidth": 2,
            "linecolor": "white",
            "showbackground": true,
            "ticks": "",
            "zerolinecolor": "white"
           }
          },
          "shapedefaults": {
           "line": {
            "color": "#2a3f5f"
           }
          },
          "ternary": {
           "aaxis": {
            "gridcolor": "white",
            "linecolor": "white",
            "ticks": ""
           },
           "baxis": {
            "gridcolor": "white",
            "linecolor": "white",
            "ticks": ""
           },
           "bgcolor": "#E5ECF6",
           "caxis": {
            "gridcolor": "white",
            "linecolor": "white",
            "ticks": ""
           }
          },
          "title": {
           "x": 0.05
          },
          "xaxis": {
           "automargin": true,
           "gridcolor": "white",
           "linecolor": "white",
           "ticks": "",
           "title": {
            "standoff": 15
           },
           "zerolinecolor": "white",
           "zerolinewidth": 2
          },
          "yaxis": {
           "automargin": true,
           "gridcolor": "white",
           "linecolor": "white",
           "ticks": "",
           "title": {
            "standoff": 15
           },
           "zerolinecolor": "white",
           "zerolinewidth": 2
          }
         }
        },
        "xaxis": {
         "anchor": "y",
         "domain": [
          0,
          1
         ],
         "title": {
          "text": "Accident_Count"
         }
        },
        "yaxis": {
         "anchor": "x",
         "domain": [
          0,
          1
         ],
         "title": {
          "text": "County"
         }
        }
       }
      },
      "text/html": [
       "<div>                            <div id=\"ae4a916c-a97e-4bf4-a05b-e62702dd4ec7\" class=\"plotly-graph-div\" style=\"height:525px; width:100%;\"></div>            <script type=\"text/javascript\">                require([\"plotly\"], function(Plotly) {                    window.PLOTLYENV=window.PLOTLYENV || {};                                    if (document.getElementById(\"ae4a916c-a97e-4bf4-a05b-e62702dd4ec7\")) {                    Plotly.newPlot(                        \"ae4a916c-a97e-4bf4-a05b-e62702dd4ec7\",                        [{\"alignmentgroup\":\"True\",\"hovertemplate\":\"Accident_Count=%{x}<br>County=%{y}<extra></extra>\",\"legendgroup\":\"\",\"marker\":{\"color\":\"#636efa\",\"pattern\":{\"shape\":\"\"}},\"name\":\"\",\"offsetgroup\":\"\",\"orientation\":\"h\",\"showlegend\":false,\"textposition\":\"auto\",\"x\":[347,85,65,213,91,6253,21,3692,116,1356,353,35700,3,5788,925,5,4,23,1368,16,1,3,340,182,107,6398,299,75,19,54,592,121,93,5,8085,3,4,72,75,3645,2712,24,13,238,11,11,60,3902,12,8,33,5,1738,64,26,253,8,44,9,37,3,2,18,5,28,12,789,2,2,3,41,911,2,23,307,9,3,32,14,2,1192,1067,255,3205,5758,177,2,135,68,2,43,3,673,225,11,20,179,59,622,2,485,88,4,19,2,929,14,7,4,2015,3,433,7,126,12,351,217,3,407,252,106,92,12,17,42,19,732,22,4936,5417,1095,100,3899,551,29,19347,639,38,19,1,35,102,22,11,166,13,134,24,15,1273,381,22,4,18,31,71,1758,1,320,504,519,13,2,34,1178,10,2,183,279,17,19,44,493,16,10,2760,1,1307,2,8041,4,2,35,322,507,16701,887,343,135,122,50,1659,16,41,88,108,13,1056,44,191,1,1,2331,41,8,20,1154,1347,316,599,155,55,3773,714,686,93,9,1380,19,27,1,26,69,2,237,4129,65,924,1929,37,7,155,24,318,616,4,239,577,1208,524,52,6,469,24,596,24,11,292,161,5,58,248,556,95,851,38,76,77,86,2,240,40,1,4544,17,712,52,6,24,6,1714,18,44,497,10,107,20,21,30,40,2796,2,1423,6,346,2503,4455,36,9,6,2,1508,175,963,104,11,1,4,35,314,72,433,3734,19,134,19,883,83,3295,207,1423,2453,2413,442,706,15,66,359,2290,591,6,4944,171,73,881,230,1,96,9,7,11,28,1833,1252,2397,188,26,21,17,3613,59,37,345,193,22,4,3,62,2,18380,9,23,25394,15,42,1286,11,43,52,1,3,14,1,5,61,58,3,579,1,366,19,23,3,25,244,112,23,41,259,11,357,2,2,245,10,9,463,108,2615,3,20,585,35,5738,108,38,5407,70,2,54768,1720,9,3,19,48,1444,1541,35617,140,32,3784,1,113,3,3,20,1,9467,332,2,1,137,106,1,12,245,190,4483,27,2045,11459,15,2914,6,5,8,4,1,16,1,11,120,1011,3,439,170,3030,18,1,14,195,4,1,4,93,4,3347,102,20639,35,63,6,13042,20,39,220,3,1,95,5260,27,1542,3737,15894,19,289,13,31437,12,15,450,142,2,41,32,42,440,2,4,135,2315,14713,88,97,113,537,391,12,381,37,290,18,57,7,5054,2779,43,8598,1,95,81,2,17,505,96,10585,5984,9,5,5,5,116,20,465,3437,5,16,97,6,2,286,29,1,3636,460,32,5,104,9,4,657,1898,1113,48,11113,6,182,4180,200,4,403,32,241,6765,5,1,26084,2,536,9,1,5,2,56,5,540,430,23,2,95,22,1,7,566,7,3,448,2,22445,30,1,17,1351,52,355,18,84,12,422,84,38,5,46,4,1,3,317,1385,148,2,2,9,22,313,355,11,179,6,1,33,390,62,9,314,3,8,25,6,716,110,21,2,283,70,26,7,24,3084,43,135,2,22050,1692,1,161,1,9,8,146,220,51,2627,22,52,5,3150,121,29,230,487,32,10599,494,131,1119,6,469,1,915,1,138,153,5,74,2,2054,1,150,372,82843,734,148,12,59,6385,1,1,1,31,509,360,54,8,210,1196,111,23543,7379,2188,209,2568,7,50,226,60,343,60,15825,3,1431,5,2,29,1,2,18,208,18,5,461,35,2,16,8322,18,3,8,760,2123,1,95,2939,21,132,6,1027,31,56,637,105,30,40,10,4,162,4,29,49,3,379,74,956,170,105,14,111,692,841,60,22,35,128,155,12,148,144,14,1,13545,121,1599,6,8,24575,63,11,21,57,8,17,8,15,4721,1390,138,1701,430,5,101,22,571,15,50,532,190,4650,37,231,19,1,3,4,92,197,369,11183,3091,5,6530,13,1839,2,2,24,28,29838,1,155,83,16,3,7216,3,16,26,586,198,2512,72,2240,34,197,15,6,91,309,22,17,45,24,107,110,5,9,263,48,9274,15,5,18783,4,477,8,12,4,8754,68,5093,16,2,84,63,912,8,134,239,17,96,12,2129,3,248,2,123,43,1,13,611,10167,9,3,1343,3,43,38,1785,3,1,117,393,2,17,10284,154,401,952,1722,3158,330,1,2,924,7,132,7,57,194,175244,151,4090,180,20,1,385,15,1285,1,14,58,49,303,337,2,53,22,1,639,13,3617,346,303,7,1632,5753,22,17,140,1150,20,3,6,3847,6,46,173,1,43634,1,4569,29,24650,267,486,38,210,751,4,4,323,16,21,69,4,19,99,3,131,12,1,1,2,6,118,109,209,75,98,1,112,72,208,168,105,1,2,1,37,2,87,2,9,1,24,6,1,3,68208,16,192,140,22,1,2,1226,6,2323,2243,61,1,1243,110,1,165,33040,15224,162,125,7,454,165,42,65,6951,154,6,18,7,23,47,57,4658,56,14,548,1609,319,18,113,15997,12,24,4532,22,42942,77,16,275,19,4,1683,1918,179,451,5,150,1,15224,93,16,166,150,86,13,1,21,1,2343,117,7278,11,18,319,36,99,12,7,3,1,1615,3849,189,4479,649,958,13,5918,18,1547,74,1012,1,296,19,510,11,279,3,42,169,1,47,6775,58,839,312,129,7,1,1,44,59,2,8273,11,1,1144,15,2046,34,18,1,46,12,117,779,7,61,8,30426,35,5,97,532,1853,3379,27,618,60117,3748,2434,105,3106,2,94,97,9,87,733,157,88,15,361,12,12,10,29,4,133,174,83,10687,15,9,3,36,190,10,138,2,4468,4,1697,56,68,13,26,19,216,66,31,23,7,123,15,17,190,105,1,2,134,50,20,343,29,2,2,76,5018,10,6,102,2460,4,6314,456,10056,1358,316,11816,5,15,49,3,239,36,4473,1,510,245,1577,18,9,16,6455,2,6,46,257,153,414,10,22,140,727,87,2,14,15,69,235,23,96,2,6,19,17,63,192,5737,197,2853,7341,37,598,688,2847,42,476,20,12202,1,9,427,5,1,43,6,11228,9,159,410,93,15,6,1,3,3,69,39,1,1245,110,1,22,463,8,17061,9282,11345,23,3,9,31,16,39,13,25505,194,11,670,497,208,243,407,89,443,15,270,2163,3697,427,142,4,27,20,13,56,20,416,1,25,19,169,608,25,7,12,27308,64,432,16,1,29,24,1,25,36,7,7,139,25,24,2,4,10,340,154,17822,464,62,1,894,28808,30332,6617,12,9024,318,2491,11975,48,9,6,53,60,118,1,212,3536,26798,3654,90,892,3301,2329,3035,97,5,1,811,2,124,11,8,182,23,28,1681,6,10,1,4,10,153,2690,156,16,14,667,26,1,1224,88,80,200,9176,561,528,7,478,178,42,117,94,8,22,40,310,679,83,1,216,128,6336,98,28,7753,1495,4,7860,51,199,14536,42,1,2033,451,1,5,1,1725,926,170,76,14,1,40,147,1220,201,34,31,562,2328,8272,822,235,11,123,287,1272,4628,29,201,6,9,11,6,19,695,282,35,9,98,74,29,15,23,19,78,248,310,2,5,13493,31,360,4,3634,212,2750,1,140,90,529,580,4,474,7,5,53,26,4,134,35,113,41,7,4,197,4,13112,28,18,119,1850,567,9,47,249,26,21,4,1,27,988,121,958,166,5,104,47,3,19,148,553,9,52,1108,6,23,38,1,9,1,52028,3,4,43,82,5,1,253,324,5,111,2,2995,15035,5,799,41,4445,43,13,113,42,8,22,221,838,2081,30,5420,5,31,1,4783,4,2,10,14,261,26,22,80,208,53,6075,41,15,27,17,120,10,20,1672,18,2250,22,74,4,57,123,17,51845,126,15,293,12,163,210,4,651,140,33,12,15,3783,37,1033,1235,64,3,13701,2,4058,1444,15,48,1239,76,40,19967,61,12,41,3224,84,1013,2,422,2,13980,1405,2,11,10,1161,199,98,91,16,187,35,30,830,183,10,9,85,7,8,1293,2,40,591,3796,308,9,3,447,77,2,637,11,276,32,66,3,448,197,51,1,4,2235,71,1039,9,1876,27,426,100,66,13,1748,7,1266,15,11,52,36,6,2896,11802,2,834,333],\"xaxis\":\"x\",\"y\":[\"Abbeville\",\"Acadia\",\"Accomack\",\"Ada\",\"Adair\",\"Adams\",\"Addison\",\"Aiken\",\"Aitkin\",\"Alachua\",\"Alamance\",\"Alameda\",\"Alamosa\",\"Albany\",\"Albemarle\",\"Alcona\",\"Alcorn\",\"Alexander\",\"Alexandria\",\"Alexandria City\",\"Alger\",\"Allamakee\",\"Allegan\",\"Allegany\",\"Alleghany\",\"Allegheny\",\"Allen\",\"Allendale\",\"Alpena\",\"Alpine\",\"Amador\",\"Amelia\",\"Amherst\",\"Amite\",\"Anderson\",\"Andrew\",\"Andrews\",\"Androscoggin\",\"Angelina\",\"Anne Arundel\",\"Anoka\",\"Anson\",\"Antrim\",\"Apache\",\"Appanoose\",\"Appling\",\"Appomattox\",\"Arapahoe\",\"Archer\",\"Archuleta\",\"Arenac\",\"Arkansas\",\"Arlington\",\"Armstrong\",\"Aroostook\",\"Ascension\",\"Ashe\",\"Ashland\",\"Ashley\",\"Ashtabula\",\"Asotin\",\"Assumption\",\"Atascosa\",\"Atchison\",\"Athens\",\"Atkinson\",\"Atlantic\",\"Atoka\",\"Attala\",\"Audubon\",\"Auglaize\",\"Augusta\",\"Aurora\",\"Austin\",\"Autauga\",\"Avery\",\"Avoyelles\",\"Baca\",\"Bacon\",\"Bailey\",\"Baker\",\"Baldwin\",\"Baltimore\",\"Baltimore City\",\"Baltimore County\",\"Bamberg\",\"Bandera\",\"Banks\",\"Bannock\",\"Baraga\",\"Barbour\",\"Barnes\",\"Barnstable\",\"Barnwell\",\"Barren\",\"Barron\",\"Barrow\",\"Barry\",\"Bartholomew\",\"Barton\",\"Bartow\",\"Bastrop\",\"Bates\",\"Bath\",\"Baxter\",\"Bay\",\"Bayfield\",\"Baylor\",\"Bear Lake\",\"Beaufort\",\"Beauregard\",\"Beaver\",\"Beaverhead\",\"Becker\",\"Beckham\",\"Bedford\",\"Bedford County\",\"Bee\",\"Belknap\",\"Bell\",\"Belmont\",\"Beltrami\",\"Ben Hill\",\"Benewah\",\"Bennington\",\"Bent\",\"Benton\",\"Benzie\",\"Bergen\",\"Berkeley\",\"Berks\",\"Berkshire\",\"Bernalillo\",\"Berrien\",\"Bertie\",\"Bexar\",\"Bibb\",\"Bienville\",\"Big Horn\",\"Big Stone\",\"Bingham\",\"Black Hawk\",\"Bladen\",\"Blaine\",\"Blair\",\"Blanco\",\"Bland\",\"Bleckley\",\"Bledsoe\",\"Blount\",\"Blue Earth\",\"Boise\",\"Bolivar\",\"Bond\",\"Bonner\",\"Bonneville\",\"Boone\",\"Bosque\",\"Bossier\",\"Botetourt\",\"Boulder\",\"Boundary\",\"Bourbon\",\"Bowie\",\"Box Elder\",\"Boyd\",\"Boyle\",\"Bradford\",\"Bradley\",\"Branch\",\"Brantley\",\"Braxton\",\"Brazoria\",\"Brazos\",\"Bremer\",\"Brevard\",\"Brewster\",\"Bristol\",\"Broadwater\",\"Bronx\",\"Brooke\",\"Brookings\",\"Brooks\",\"Broome\",\"Broomfield\",\"Broward\",\"Brown\",\"Brunswick\",\"Bryan\",\"Buchanan\",\"Buckingham\",\"Bucks\",\"Buena Vista\",\"Buffalo\",\"Bullitt\",\"Bulloch\",\"Bullock\",\"Buncombe\",\"Bureau\",\"Burke\",\"Burleigh\",\"Burleson\",\"Burlington\",\"Burnet\",\"Burnett\",\"Burt\",\"Butler\",\"Butte\",\"Butts\",\"Cabarrus\",\"Cabell\",\"Cache\",\"Caddo\",\"Calaveras\",\"Calcasieu\",\"Caldwell\",\"Caledonia\",\"Calhoun\",\"Callahan\",\"Callaway\",\"Calloway\",\"Calumet\",\"Calvert\",\"Camas\",\"Cambria\",\"Camden\",\"Cameron\",\"Campbell\",\"Canadian\",\"Candler\",\"Cannon\",\"Canyon\",\"Cape Girardeau\",\"Cape May\",\"Carbon\",\"Caribou\",\"Carlton\",\"Caroline\",\"Carroll\",\"Carson City\",\"Carter\",\"Carteret\",\"Carver\",\"Cascade\",\"Cass\",\"Cassia\",\"Caswell\",\"Catawba\",\"Catoosa\",\"Catron\",\"Cattaraugus\",\"Cayuga\",\"Cecil\",\"Cedar\",\"Centre\",\"Cerro Gordo\",\"Chaffee\",\"Chambers\",\"Champaign\",\"Chariton\",\"Charles\",\"Charles City\",\"Charles Mix\",\"Charleston\",\"Charlevoix\",\"Charlotte\",\"Charlottesville\",\"Charlottesville City\",\"Charlton\",\"Chase\",\"Chatham\",\"Chattahoochee\",\"Chattooga\",\"Chautauqua\",\"Chaves\",\"Cheatham\",\"Cheboygan\",\"Chelan\",\"Chemung\",\"Chenango\",\"Cherokee\",\"Cherry\",\"Chesapeake\",\"Chesapeake City\",\"Cheshire\",\"Chester\",\"Chesterfield\",\"Cheyenne\",\"Chickasaw\",\"Chicot\",\"Childress\",\"Chilton\",\"Chippewa\",\"Chisago\",\"Chittenden\",\"Choctaw\",\"Chouteau\",\"Chowan\",\"Christian\",\"Churchill\",\"Cibola\",\"Citrus\",\"Clackamas\",\"Claiborne\",\"Clallam\",\"Clare\",\"Clarendon\",\"Clarion\",\"Clark\",\"Clarke\",\"Clatsop\",\"Clay\",\"Clayton\",\"Clear Creek\",\"Clearfield\",\"Clearwater\",\"Cleburne\",\"Clermont\",\"Cleveland\",\"Clinton\",\"Coahoma\",\"Cobb\",\"Cochise\",\"Cocke\",\"Coconino\",\"Coffee\",\"Coffey\",\"Colbert\",\"Cole\",\"Coleman\",\"Coles\",\"Colfax\",\"Colleton\",\"Collier\",\"Collin\",\"Colonial Heights\",\"Colonial Heights City\",\"Colorado\",\"Colquitt\",\"Columbia\",\"Columbiana\",\"Columbus\",\"Colusa\",\"Comal\",\"Comanche\",\"Concho\",\"Concordia\",\"Conecuh\",\"Conejos\",\"Contra Costa\",\"Converse\",\"Conway\",\"Cook\",\"Cooke\",\"Cooper\",\"Coos\",\"Coosa\",\"Copiah\",\"Cortland\",\"Coryell\",\"Coshocton\",\"Costilla\",\"Cottle\",\"Cotton\",\"Cottonwood\",\"Covington\",\"Covington City\",\"Coweta\",\"Cowley\",\"Cowlitz\",\"Craig\",\"Craighead\",\"Crane\",\"Craven\",\"Crawford\",\"Creek\",\"Crenshaw\",\"Crisp\",\"Crittenden\",\"Crockett\",\"Crook\",\"Crosby\",\"Cross\",\"Crow Wing\",\"Crowley\",\"Culberson\",\"Cullman\",\"Culpeper\",\"Cumberland\",\"Cuming\",\"Currituck\",\"Curry\",\"Custer\",\"Cuyahoga\",\"Dade\",\"Daggett\",\"Dakota\",\"Dale\",\"Dallam\",\"Dallas\",\"Dane\",\"Danville\",\"Danville City\",\"Dare\",\"Darke\",\"Darlington\",\"Dauphin\",\"Davidson\",\"Davie\",\"Daviess\",\"Davis\",\"Dawes\",\"Dawson\",\"De Baca\",\"De Kalb\",\"De Soto\",\"De Witt\",\"DeKalb\",\"DeSoto\",\"DeWitt\",\"Deaf Smith\",\"Dearborn\",\"Decatur\",\"Deer Lodge\",\"Defiance\",\"Dekalb\",\"Del Norte\",\"Delaware\",\"Delta\",\"Denton\",\"Denver\",\"Des Moines\",\"Deschutes\",\"Desha\",\"Desoto\",\"Deuel\",\"Dewey\",\"Dewitt\",\"Dickenson\",\"Dickey\",\"Dickinson\",\"Dickson\",\"Dillon\",\"Dimmit\",\"Dinwiddie\",\"District Of Columbia\",\"District of Columbia\",\"Dixie\",\"Dixon\",\"Doddridge\",\"Dodge\",\"Dolores\",\"Doniphan\",\"Donley\",\"Dooly\",\"Door\",\"Dorchester\",\"Dougherty\",\"Douglas\",\"Do\\u00f1a Ana\",\"Do\\ufffda Ana\",\"Drew\",\"DuPage\",\"Dubois\",\"Dubuque\",\"Duchesne\",\"Dukes\",\"Dundy\",\"Dunn\",\"Dupage\",\"Duplin\",\"Durham\",\"Dutchess\",\"Duval\",\"Dyer\",\"Eagle\",\"Early\",\"East Baton Rouge\",\"East Feliciana\",\"Eastland\",\"Eaton\",\"Eau Claire\",\"Echols\",\"Ector\",\"Eddy\",\"Edgecombe\",\"Edgefield\",\"Edmonson\",\"Edwards\",\"Effingham\",\"El Dorado\",\"El Paso\",\"Elbert\",\"Elk\",\"Elkhart\",\"Elko\",\"Ellis\",\"Ellsworth\",\"Elmore\",\"Emanuel\",\"Emery\",\"Emmet\",\"Emporia\",\"Erath\",\"Erie\",\"Escambia\",\"Esmeralda\",\"Essex\",\"Estill\",\"Etowah\",\"Eureka\",\"Evangeline\",\"Evans\",\"Fairfax\",\"Fairfax City\",\"Fairfax County\",\"Fairfield\",\"Falls\",\"Falls Church\",\"Falls Church City\",\"Fannin\",\"Faribault\",\"Faulkner\",\"Fauquier\",\"Fayette\",\"Fentress\",\"Ferry\",\"Fillmore\",\"Finney\",\"Fisher\",\"Flagler\",\"Flathead\",\"Fleming\",\"Florence\",\"Floyd\",\"Fluvanna\",\"Fond Du Lac\",\"Fond du Lac\",\"Ford\",\"Forest\",\"Forrest\",\"Forsyth\",\"Fort Bend\",\"Fountain\",\"Franklin\",\"Franklin City\",\"Franklin County\",\"Frederick\",\"Fredericksburg\",\"Fredericksburg City\",\"Freeborn\",\"Freestone\",\"Fremont\",\"Fresno\",\"Frio\",\"Frontier\",\"Fulton\",\"Furnas\",\"Gadsden\",\"Gage\",\"Gaines\",\"Galax\",\"Galax City\",\"Gallatin\",\"Gallia\",\"Galveston\",\"Garfield\",\"Garland\",\"Garrard\",\"Garrett\",\"Garvin\",\"Garza\",\"Gasconade\",\"Gaston\",\"Gates\",\"Geary\",\"Geauga\",\"Gem\",\"Genesee\",\"Geneva\",\"Gentry\",\"George\",\"Georgetown\",\"Gibson\",\"Gila\",\"Gilchrist\",\"Giles\",\"Gillespie\",\"Gilliam\",\"Gilmer\",\"Gilpin\",\"Glacier\",\"Glades\",\"Gladwin\",\"Glascock\",\"Glasscock\",\"Glenn\",\"Gloucester\",\"Glynn\",\"Gogebic\",\"Golden Valley\",\"Goliad\",\"Gonzales\",\"Goochland\",\"Goodhue\",\"Gooding\",\"Gordon\",\"Goshen\",\"Gove\",\"Grady\",\"Grafton\",\"Graham\",\"Grainger\",\"Grand\",\"Grand Forks\",\"Grand Isle\",\"Grand Traverse\",\"Granite\",\"Grant\",\"Granville\",\"Gratiot\",\"Gray\",\"Grays Harbor\",\"Grayson\",\"Green\",\"Green Lake\",\"Greenbrier\",\"Greene\",\"Greenlee\",\"Greensville\",\"Greenup\",\"Greenville\",\"Greenwood\",\"Greer\",\"Gregg\",\"Gregory\",\"Grenada\",\"Grimes\",\"Grundy\",\"Guadalupe\",\"Guernsey\",\"Guilford\",\"Gulf\",\"Gunnison\",\"Guthrie\",\"Gwinnett\",\"Habersham\",\"Hale\",\"Halifax\",\"Hall\",\"Hamblen\",\"Hamilton\",\"Hampden\",\"Hampshire\",\"Hampton\",\"Hampton City\",\"Hancock\",\"Hand\",\"Hanover\",\"Hanson\",\"Haralson\",\"Hardee\",\"Hardeman\",\"Hardin\",\"Hardy\",\"Harford\",\"Harlan\",\"Harnett\",\"Harney\",\"Harris\",\"Harrison\",\"Harrisonburg\",\"Harrisonburg City\",\"Hart\",\"Hartford\",\"Hartley\",\"Harvey\",\"Haskell\",\"Hawkins\",\"Hays\",\"Haywood\",\"Heard\",\"Hempstead\",\"Henderson\",\"Hendricks\",\"Hendry\",\"Hennepin\",\"Henrico\",\"Henry\",\"Herkimer\",\"Hernando\",\"Hertford\",\"Hickman\",\"Hidalgo\",\"Highland\",\"Highlands\",\"Hill\",\"Hillsborough\",\"Hillsdale\",\"Hinds\",\"Hinsdale\",\"Hitchcock\",\"Hocking\",\"Hockley\",\"Hodgeman\",\"Hoke\",\"Holmes\",\"Holt\",\"Hood\",\"Hood River\",\"Hopewell\",\"Hopewell City\",\"Hopkins\",\"Horry\",\"Hot Spring\",\"Hot Springs\",\"Houghton\",\"Houston\",\"Howard\",\"Howell\",\"Hubbard\",\"Hudson\",\"Hudspeth\",\"Huerfano\",\"Hughes\",\"Humboldt\",\"Humphreys\",\"Hunt\",\"Hunterdon\",\"Huntingdon\",\"Huntington\",\"Huron\",\"Hutchinson\",\"Iberia\",\"Iberville\",\"Ida\",\"Idaho\",\"Imperial\",\"Independence\",\"Indian River\",\"Indiana\",\"Ingham\",\"Inyo\",\"Ionia\",\"Iosco\",\"Iowa\",\"Iredell\",\"Iron\",\"Iroquois\",\"Irwin\",\"Isabella\",\"Isanti\",\"Island\",\"Isle Of Wight\",\"Isle of Wight\",\"Itasca\",\"Itawamba\",\"Jack\",\"Jackson\",\"James City\",\"Jasper\",\"Jay\",\"Jeff Davis\",\"Jefferson\",\"Jefferson Davis\",\"Jenkins\",\"Jennings\",\"Jerome\",\"Jersey\",\"Jessamine\",\"Jim Wells\",\"Jo Daviess\",\"Johnson\",\"Johnston\",\"Jones\",\"Josephine\",\"Juab\",\"Judith Basin\",\"Juneau\",\"Juniata\",\"Kalamazoo\",\"Kalkaska\",\"Kanabec\",\"Kanawha\",\"Kandiyohi\",\"Kane\",\"Kankakee\",\"Kaufman\",\"Kay\",\"Kearney\",\"Keith\",\"Kemper\",\"Kendall\",\"Kennebec\",\"Kenosha\",\"Kent\",\"Kenton\",\"Keokuk\",\"Kern\",\"Kerr\",\"Kershaw\",\"Kewaunee\",\"Kidder\",\"Kimball\",\"Kimble\",\"King\",\"King And Queen\",\"King George\",\"King William\",\"King and Queen\",\"Kingfisher\",\"Kings\",\"Kinney\",\"Kiowa\",\"Kit Carson\",\"Kitsap\",\"Kittitas\",\"Klamath\",\"Klickitat\",\"Knox\",\"Koochiching\",\"Kootenai\",\"Kosciusko\",\"Kossuth\",\"La Crosse\",\"La Paz\",\"La Plata\",\"La Porte\",\"La Salle\",\"LaGrange\",\"LaPorte\",\"LaSalle\",\"Labette\",\"Lac qui Parle\",\"Lackawanna\",\"Laclede\",\"Lafayette\",\"Lafourche\",\"Lagrange\",\"Lake\",\"Lake of the Woods\",\"Lamar\",\"Lamb\",\"Lamoille\",\"Lampasas\",\"Lancaster\",\"Lander\",\"Lane\",\"Langlade\",\"Lanier\",\"Lapeer\",\"Laramie\",\"Larimer\",\"Larue\",\"Las Animas\",\"Lassen\",\"Latah\",\"Lauderdale\",\"Laurel\",\"Laurens\",\"Lavaca\",\"Lawrence\",\"Le Flore\",\"Le Sueur\",\"Lea\",\"Leake\",\"Leavenworth\",\"Lebanon\",\"Lee\",\"Leelanau\",\"Leflore\",\"Lehigh\",\"Lemhi\",\"Lenawee\",\"Lenoir\",\"Leon\",\"Leslie\",\"Letcher\",\"Levy\",\"Lewis\",\"Lewis And Clark\",\"Lewis and Clark\",\"Lexington\",\"Liberty\",\"Licking\",\"Limestone\",\"Lincoln\",\"Linn\",\"Litchfield\",\"Little River\",\"Live Oak\",\"Livingston\",\"Llano\",\"Logan\",\"Long\",\"Lonoke\",\"Lorain\",\"Los Angeles\",\"Loudon\",\"Loudoun\",\"Louisa\",\"Love\",\"Loving\",\"Lowndes\",\"Lubbock\",\"Lucas\",\"Luce\",\"Lumpkin\",\"Luna\",\"Lunenburg\",\"Luzerne\",\"Lycoming\",\"Lyman\",\"Lynchburg\",\"Lynchburg City\",\"Lynn\",\"Lyon\",\"Mackinac\",\"Macomb\",\"Macon\",\"Macon-Bibb County\",\"Macoupin\",\"Madera\",\"Madison\",\"Mahaska\",\"Mahnomen\",\"Mahoning\",\"Malheur\",\"Manassas\",\"Manassas City\",\"Manassas Park\",\"Manatee\",\"Manistee\",\"Manitowoc\",\"Marathon\",\"Marengo\",\"Maricopa\",\"Maries\",\"Marin\",\"Marinette\",\"Marion\",\"Mariposa\",\"Marlboro\",\"Marquette\",\"Marshall\",\"Martin\",\"Martinsville\",\"Martinsville City\",\"Mason\",\"Massac\",\"Mathews\",\"Maury\",\"Maverick\",\"Mayes\",\"McClain\",\"McCook\",\"McCormick\",\"McCracken\",\"McCreary\",\"McCulloch\",\"McCurtain\",\"McDonough\",\"McDowell\",\"McDuffie\",\"McHenry\",\"McIntosh\",\"McKean\",\"McKenzie\",\"McKinley\",\"McLean\",\"McLennan\",\"McLeod\",\"McMinn\",\"McMullen\",\"McPherson\",\"Mcclain\",\"Mccormick\",\"Mcduffie\",\"Mchenry\",\"Mcintosh\",\"Mckean\",\"Mclean\",\"Mclennan\",\"Mcleod\",\"Mcminn\",\"Meade\",\"Mecklenburg\",\"Mecosta\",\"Medina\",\"Meeker\",\"Meigs\",\"Mellette\",\"Menard\",\"Mendocino\",\"Menominee\",\"Merced\",\"Mercer\",\"Meriwether\",\"Merrick\",\"Merrimack\",\"Mesa\",\"Metcalfe\",\"Miami\",\"Miami-Dade\",\"Middlesex\",\"Midland\",\"Mifflin\",\"Milam\",\"Millard\",\"Mille Lacs\",\"Miller\",\"Mills\",\"Milwaukee\",\"Mineral\",\"Mingo\",\"Minidoka\",\"Minnehaha\",\"Mississippi\",\"Missoula\",\"Mitchell\",\"Mobile\",\"Modoc\",\"Moffat\",\"Mohave\",\"Monmouth\",\"Mono\",\"Monona\",\"Monongalia\",\"Monroe\",\"Montague\",\"Montcalm\",\"Monterey\",\"Montezuma\",\"Montgomery\",\"Montour\",\"Montrose\",\"Moore\",\"Mora\",\"Morehouse\",\"Morgan\",\"Morris\",\"Morrison\",\"Morrow\",\"Morton\",\"Mower\",\"Muhlenberg\",\"Multnomah\",\"Murray\",\"Muscatine\",\"Muscogee\",\"Muskegon\",\"Muskingum\",\"Muskogee\",\"Musselshell\",\"Nacogdoches\",\"Nantucket\",\"Napa\",\"Nash\",\"Nassau\",\"Natchitoches\",\"Natrona\",\"Navajo\",\"Navarro\",\"Nelson\",\"Nemaha\",\"Neosho\",\"Neshoba\",\"Ness\",\"Nevada\",\"New Castle\",\"New Hanover\",\"New Haven\",\"New Kent\",\"New London\",\"New Madrid\",\"New York\",\"Newaygo\",\"Newberry\",\"Newport\",\"Newport News\",\"Newport News City\",\"Newton\",\"Nez Perce\",\"Niagara\",\"Nicholas\",\"Nicollet\",\"Niobrara\",\"Noble\",\"Nobles\",\"Nodaway\",\"Nolan\",\"Norfolk\",\"Norfolk City\",\"Northampton\",\"Northumberland\",\"Nottoway\",\"Nowata\",\"Noxubee\",\"Nuckolls\",\"Nueces\",\"Nye\",\"O'Brien\",\"Oakland\",\"Obion\",\"Obrien\",\"Ocean\",\"Oceana\",\"Oconee\",\"Oconto\",\"Ogemaw\",\"Oglala Lakota\",\"Ogle\",\"Oglethorpe\",\"Ohio\",\"Okaloosa\",\"Okanogan\",\"Okeechobee\",\"Okfuskee\",\"Oklahoma\",\"Okmulgee\",\"Oktibbeha\",\"Oldham\",\"Olmsted\",\"Oneida\",\"Onondaga\",\"Onslow\",\"Ontario\",\"Orange\",\"Orangeburg\",\"Orleans\",\"Osage\",\"Osceola\",\"Oscoda\",\"Oswego\",\"Otero\",\"Otoe\",\"Otsego\",\"Ottawa\",\"Otter Tail\",\"Ouachita\",\"Ouray\",\"Outagamie\",\"Overton\",\"Owen\",\"Owyhee\",\"Oxford\",\"Ozark\",\"Ozaukee\",\"Pacific\",\"Page\",\"Palm Beach\",\"Palo Alto\",\"Palo Pinto\",\"Pamlico\",\"Panola\",\"Park\",\"Parke\",\"Parker\",\"Parmer\",\"Pasco\",\"Pasquotank\",\"Passaic\",\"Patrick\",\"Paulding\",\"Pawnee\",\"Payette\",\"Payne\",\"Peach\",\"Pearl River\",\"Pecos\",\"Pemiscot\",\"Pend Oreille\",\"Pender\",\"Pendleton\",\"Pennington\",\"Penobscot\",\"Peoria\",\"Perkins\",\"Perquimans\",\"Perry\",\"Pershing\",\"Person\",\"Petersburg\",\"Petersburg City\",\"Petroleum\",\"Pettis\",\"Phelps\",\"Philadelphia\",\"Phillips\",\"Piatt\",\"Pickaway\",\"Pickens\",\"Pickett\",\"Pierce\",\"Pike\",\"Pima\",\"Pinal\",\"Pine\",\"Pinellas\",\"Pipestone\",\"Pitkin\",\"Pitt\",\"Pittsburg\",\"Pittsylvania\",\"Piute\",\"Placer\",\"Plaquemines\",\"Platte\",\"Plumas\",\"Plymouth\",\"Pocahontas\",\"Poinsett\",\"Pointe Coupee\",\"Polk\",\"Pondera\",\"Pontotoc\",\"Pope\",\"Portage\",\"Porter\",\"Portsmouth\",\"Portsmouth City\",\"Posey\",\"Pottawatomie\",\"Pottawattamie\",\"Potter\",\"Powder River\",\"Powell\",\"Power\",\"Poweshiek\",\"Powhatan\",\"Prairie\",\"Preble\",\"Prentiss\",\"Presque Isle\",\"Preston\",\"Price\",\"Prince Edward\",\"Prince George\",\"Prince George's\",\"Prince Georges\",\"Prince William\",\"Providence\",\"Prowers\",\"Pueblo\",\"Pulaski\",\"Putnam\",\"Quay\",\"Queen Anne's\",\"Queen Annes\",\"Queens\",\"Quitman\",\"Rabun\",\"Racine\",\"Radford\",\"Rains\",\"Raleigh\",\"Ralls\",\"Ramsey\",\"Randall\",\"Randolph\",\"Rankin\",\"Rapides\",\"Rappahannock\",\"Ravalli\",\"Real\",\"Red Lake\",\"Red River\",\"Redwood\",\"Reeves\",\"Refugio\",\"Rensselaer\",\"Renville\",\"Republic\",\"Rhea\",\"Rice\",\"Rich\",\"Richland\",\"Richmond\",\"Richmond City\",\"Richmond County\",\"Ringgold\",\"Rio Arriba\",\"Rio Blanco\",\"Rio Grande\",\"Ripley\",\"Ritchie\",\"Riverside\",\"Roane\",\"Roanoke\",\"Roanoke City\",\"Roanoke County\",\"Robertson\",\"Robeson\",\"Rock\",\"Rock Island\",\"Rockbridge\",\"Rockcastle\",\"Rockdale\",\"Rockingham\",\"Rockland\",\"Rockwall\",\"Rogers\",\"Roosevelt\",\"Roscommon\",\"Roseau\",\"Rosebud\",\"Ross\",\"Routt\",\"Rowan\",\"Runnels\",\"Rush\",\"Rusk\",\"Russell\",\"Rutherford\",\"Rutland\",\"Sabine\",\"Sac\",\"Sacramento\",\"Sagadahoc\",\"Saginaw\",\"Saguache\",\"Saint Bernard\",\"Saint Charles\",\"Saint Clair\",\"Saint James\",\"Saint Johns\",\"Saint Joseph\",\"Saint Landry\",\"Saint Lawrence\",\"Saint Louis\",\"Saint Louis City\",\"Saint Lucie\",\"Saint Martin\",\"Saint Marys\",\"Saint Tammany\",\"Salem\",\"Saline\",\"Salt Lake\",\"Saluda\",\"Sampson\",\"San Augustine\",\"San Benito\",\"San Bernardino\",\"San Diego\",\"San Francisco\",\"San Jacinto\",\"San Joaquin\",\"San Juan\",\"San Luis Obispo\",\"San Mateo\",\"San Miguel\",\"San Patricio\",\"Sanders\",\"Sandoval\",\"Sandusky\",\"Sangamon\",\"Sanilac\",\"Sanpete\",\"Santa Barbara\",\"Santa Clara\",\"Santa Cruz\",\"Santa Fe\",\"Santa Rosa\",\"Sarasota\",\"Saratoga\",\"Sarpy\",\"Sauk\",\"Saunders\",\"Sawyer\",\"Schenectady\",\"Schley\",\"Schoharie\",\"Schoolcraft\",\"Schuyler\",\"Schuylkill\",\"Scioto\",\"Scotland\",\"Scott\",\"Scotts Bluff\",\"Screven\",\"Scurry\",\"Searcy\",\"Sebastian\",\"Sedgwick\",\"Seminole\",\"Seneca\",\"Sequatchie\",\"Sequoyah\",\"Sevier\",\"Seward\",\"Sharp\",\"Shasta\",\"Shawano\",\"Shawnee\",\"Sheboygan\",\"Shelby\",\"Shenandoah\",\"Sherburne\",\"Sheridan\",\"Sherman\",\"Shiawassee\",\"Shoshone\",\"Sibley\",\"Sierra\",\"Silver Bow\",\"Simpson\",\"Sioux\",\"Siskiyou\",\"Skagit\",\"Skamania\",\"Slope\",\"Smith\",\"Smyth\",\"Snohomish\",\"Snyder\",\"Socorro\",\"Solano\",\"Somerset\",\"Somervell\",\"Sonoma\",\"Southampton\",\"Spalding\",\"Spartanburg\",\"Spencer\",\"Spink\",\"Spokane\",\"Spotsylvania\",\"St John The Baptist\",\"St Joseph\",\"St. Bernard\",\"St. Charles\",\"St. Clair\",\"St. Croix\",\"St. Francis\",\"St. Francois\",\"St. Helena\",\"St. James\",\"St. John the Baptist\",\"St. Johns\",\"St. Joseph\",\"St. Landry\",\"St. Lawrence\",\"St. Louis\",\"St. Louis City\",\"St. Louis County\",\"St. Lucie\",\"St. Martin\",\"St. Mary\",\"St. Mary's\",\"St. Tammany\",\"Stafford\",\"Stanislaus\",\"Stanly\",\"Stark\",\"Starke\",\"Starr\",\"Staunton\",\"Staunton City\",\"Ste Genevieve\",\"Stearns\",\"Steele\",\"Stephens\",\"Stephenson\",\"Steuben\",\"Stevens\",\"Stewart\",\"Stillwater\",\"Stokes\",\"Stone\",\"Storey\",\"Story\",\"Strafford\",\"Stutsman\",\"Sublette\",\"Suffolk\",\"Suffolk City\",\"Sullivan\",\"Summers\",\"Summit\",\"Sumner\",\"Sumter\",\"Sunflower\",\"Surry\",\"Susquehanna\",\"Sussex\",\"Sutter\",\"Sutton\",\"Suwannee\",\"Swain\",\"Sweet Grass\",\"Sweetwater\",\"Swift\",\"Switzerland\",\"Talbot\",\"Taliaferro\",\"Talladega\",\"Tallapoosa\",\"Tama\",\"Taney\",\"Tangipahoa\",\"Taos\",\"Tarrant\",\"Tate\",\"Tattnall\",\"Taylor\",\"Tazewell\",\"Tehama\",\"Telfair\",\"Teller\",\"Terrebonne\",\"Terrell\",\"Teton\",\"Texas\",\"Thayer\",\"Thomas\",\"Thurston\",\"Tift\",\"Tillamook\",\"Tioga\",\"Tippah\",\"Tippecanoe\",\"Tipton\",\"Tishomingo\",\"Titus\",\"Todd\",\"Tolland\",\"Tom Green\",\"Tompkins\",\"Tooele\",\"Toole\",\"Toombs\",\"Torrance\",\"Towns\",\"Transylvania\",\"Traverse\",\"Travis\",\"Treasure\",\"Trego\",\"Trempealeau\",\"Treutlen\",\"Trigg\",\"Trimble\",\"Trinity\",\"Troup\",\"Trousdale\",\"Trumbull\",\"Tucker\",\"Tulare\",\"Tulsa\",\"Tunica\",\"Tuolumne\",\"Turner\",\"Tuscaloosa\",\"Tuscarawas\",\"Tuscola\",\"Twiggs\",\"Twin Falls\",\"Tyler\",\"Uinta\",\"Uintah\",\"Ulster\",\"Umatilla\",\"Unicoi\",\"Union\",\"Upshur\",\"Upson\",\"Upton\",\"Utah\",\"Uvalde\",\"Val Verde\",\"Valencia\",\"Valley\",\"Van Buren\",\"Van Wert\",\"Van Zandt\",\"Vance\",\"Vanderburgh\",\"Venango\",\"Ventura\",\"Vermilion\",\"Vermillion\",\"Vernon\",\"Victoria\",\"Vigo\",\"Vilas\",\"Vinton\",\"Virginia Beach\",\"Virginia Beach City\",\"Volusia\",\"Wabash\",\"Wabasha\",\"Wabaunsee\",\"Wadena\",\"Wagoner\",\"Wahkiakum\",\"Wake\",\"Wakulla\",\"Waldo\",\"Walker\",\"Walla Walla\",\"Waller\",\"Wallowa\",\"Walthall\",\"Walton\",\"Walworth\",\"Wapello\",\"Ward\",\"Ware\",\"Warren\",\"Warrick\",\"Wasatch\",\"Wasco\",\"Waseca\",\"Washburn\",\"Washington\",\"Washita\",\"Washoe\",\"Washtenaw\",\"Watauga\",\"Watonwan\",\"Waukesha\",\"Waupaca\",\"Waushara\",\"Wayne\",\"Waynesboro\",\"Weakley\",\"Webb\",\"Weber\",\"Webster\",\"Weld\",\"Wells\",\"West Baton Rouge\",\"West Feliciana\",\"Westchester\",\"Westmoreland\",\"Wetzel\",\"Wexford\",\"Wharton\",\"Whatcom\",\"Wheeler\",\"White\",\"White Pine\",\"Whiteside\",\"Whitfield\",\"Whitley\",\"Whitman\",\"Wichita\",\"Wicomico\",\"Wilbarger\",\"Wilcox\",\"Wilkes\",\"Wilkin\",\"Wilkinson\",\"Will\",\"Willacy\",\"Williams\",\"Williamsburg\",\"Williamson\",\"Wilson\",\"Winchester\",\"Winchester City\",\"Windham\",\"Windsor\",\"Winkler\",\"Winnebago\",\"Winneshiek\",\"Winona\",\"Winston\",\"Wise\",\"Wolfe\",\"Wood\",\"Woodbury\",\"Woodford\",\"Woods\",\"Woodward\",\"Worcester\",\"Worth\",\"Wright\",\"Wyandot\",\"Wyandotte\",\"Wyoming\",\"Wythe\",\"Yadkin\",\"Yakima\",\"Yalobusha\",\"Yamhill\",\"Yates\",\"Yavapai\",\"Yazoo\",\"Yell\",\"Yellow Medicine\",\"Yellowstone\",\"Yoakum\",\"Yolo\",\"York\",\"Young\",\"Yuba\",\"Yuma\"],\"yaxis\":\"y\",\"type\":\"bar\"}],                        {\"template\":{\"data\":{\"histogram2dcontour\":[{\"type\":\"histogram2dcontour\",\"colorbar\":{\"outlinewidth\":0,\"ticks\":\"\"},\"colorscale\":[[0.0,\"#0d0887\"],[0.1111111111111111,\"#46039f\"],[0.2222222222222222,\"#7201a8\"],[0.3333333333333333,\"#9c179e\"],[0.4444444444444444,\"#bd3786\"],[0.5555555555555556,\"#d8576b\"],[0.6666666666666666,\"#ed7953\"],[0.7777777777777778,\"#fb9f3a\"],[0.8888888888888888,\"#fdca26\"],[1.0,\"#f0f921\"]]}],\"choropleth\":[{\"type\":\"choropleth\",\"colorbar\":{\"outlinewidth\":0,\"ticks\":\"\"}}],\"histogram2d\":[{\"type\":\"histogram2d\",\"colorbar\":{\"outlinewidth\":0,\"ticks\":\"\"},\"colorscale\":[[0.0,\"#0d0887\"],[0.1111111111111111,\"#46039f\"],[0.2222222222222222,\"#7201a8\"],[0.3333333333333333,\"#9c179e\"],[0.4444444444444444,\"#bd3786\"],[0.5555555555555556,\"#d8576b\"],[0.6666666666666666,\"#ed7953\"],[0.7777777777777778,\"#fb9f3a\"],[0.8888888888888888,\"#fdca26\"],[1.0,\"#f0f921\"]]}],\"heatmap\":[{\"type\":\"heatmap\",\"colorbar\":{\"outlinewidth\":0,\"ticks\":\"\"},\"colorscale\":[[0.0,\"#0d0887\"],[0.1111111111111111,\"#46039f\"],[0.2222222222222222,\"#7201a8\"],[0.3333333333333333,\"#9c179e\"],[0.4444444444444444,\"#bd3786\"],[0.5555555555555556,\"#d8576b\"],[0.6666666666666666,\"#ed7953\"],[0.7777777777777778,\"#fb9f3a\"],[0.8888888888888888,\"#fdca26\"],[1.0,\"#f0f921\"]]}],\"heatmapgl\":[{\"type\":\"heatmapgl\",\"colorbar\":{\"outlinewidth\":0,\"ticks\":\"\"},\"colorscale\":[[0.0,\"#0d0887\"],[0.1111111111111111,\"#46039f\"],[0.2222222222222222,\"#7201a8\"],[0.3333333333333333,\"#9c179e\"],[0.4444444444444444,\"#bd3786\"],[0.5555555555555556,\"#d8576b\"],[0.6666666666666666,\"#ed7953\"],[0.7777777777777778,\"#fb9f3a\"],[0.8888888888888888,\"#fdca26\"],[1.0,\"#f0f921\"]]}],\"contourcarpet\":[{\"type\":\"contourcarpet\",\"colorbar\":{\"outlinewidth\":0,\"ticks\":\"\"}}],\"contour\":[{\"type\":\"contour\",\"colorbar\":{\"outlinewidth\":0,\"ticks\":\"\"},\"colorscale\":[[0.0,\"#0d0887\"],[0.1111111111111111,\"#46039f\"],[0.2222222222222222,\"#7201a8\"],[0.3333333333333333,\"#9c179e\"],[0.4444444444444444,\"#bd3786\"],[0.5555555555555556,\"#d8576b\"],[0.6666666666666666,\"#ed7953\"],[0.7777777777777778,\"#fb9f3a\"],[0.8888888888888888,\"#fdca26\"],[1.0,\"#f0f921\"]]}],\"surface\":[{\"type\":\"surface\",\"colorbar\":{\"outlinewidth\":0,\"ticks\":\"\"},\"colorscale\":[[0.0,\"#0d0887\"],[0.1111111111111111,\"#46039f\"],[0.2222222222222222,\"#7201a8\"],[0.3333333333333333,\"#9c179e\"],[0.4444444444444444,\"#bd3786\"],[0.5555555555555556,\"#d8576b\"],[0.6666666666666666,\"#ed7953\"],[0.7777777777777778,\"#fb9f3a\"],[0.8888888888888888,\"#fdca26\"],[1.0,\"#f0f921\"]]}],\"mesh3d\":[{\"type\":\"mesh3d\",\"colorbar\":{\"outlinewidth\":0,\"ticks\":\"\"}}],\"scatter\":[{\"fillpattern\":{\"fillmode\":\"overlay\",\"size\":10,\"solidity\":0.2},\"type\":\"scatter\"}],\"parcoords\":[{\"type\":\"parcoords\",\"line\":{\"colorbar\":{\"outlinewidth\":0,\"ticks\":\"\"}}}],\"scatterpolargl\":[{\"type\":\"scatterpolargl\",\"marker\":{\"colorbar\":{\"outlinewidth\":0,\"ticks\":\"\"}}}],\"bar\":[{\"error_x\":{\"color\":\"#2a3f5f\"},\"error_y\":{\"color\":\"#2a3f5f\"},\"marker\":{\"line\":{\"color\":\"#E5ECF6\",\"width\":0.5},\"pattern\":{\"fillmode\":\"overlay\",\"size\":10,\"solidity\":0.2}},\"type\":\"bar\"}],\"scattergeo\":[{\"type\":\"scattergeo\",\"marker\":{\"colorbar\":{\"outlinewidth\":0,\"ticks\":\"\"}}}],\"scatterpolar\":[{\"type\":\"scatterpolar\",\"marker\":{\"colorbar\":{\"outlinewidth\":0,\"ticks\":\"\"}}}],\"histogram\":[{\"marker\":{\"pattern\":{\"fillmode\":\"overlay\",\"size\":10,\"solidity\":0.2}},\"type\":\"histogram\"}],\"scattergl\":[{\"type\":\"scattergl\",\"marker\":{\"colorbar\":{\"outlinewidth\":0,\"ticks\":\"\"}}}],\"scatter3d\":[{\"type\":\"scatter3d\",\"line\":{\"colorbar\":{\"outlinewidth\":0,\"ticks\":\"\"}},\"marker\":{\"colorbar\":{\"outlinewidth\":0,\"ticks\":\"\"}}}],\"scattermapbox\":[{\"type\":\"scattermapbox\",\"marker\":{\"colorbar\":{\"outlinewidth\":0,\"ticks\":\"\"}}}],\"scatterternary\":[{\"type\":\"scatterternary\",\"marker\":{\"colorbar\":{\"outlinewidth\":0,\"ticks\":\"\"}}}],\"scattercarpet\":[{\"type\":\"scattercarpet\",\"marker\":{\"colorbar\":{\"outlinewidth\":0,\"ticks\":\"\"}}}],\"carpet\":[{\"aaxis\":{\"endlinecolor\":\"#2a3f5f\",\"gridcolor\":\"white\",\"linecolor\":\"white\",\"minorgridcolor\":\"white\",\"startlinecolor\":\"#2a3f5f\"},\"baxis\":{\"endlinecolor\":\"#2a3f5f\",\"gridcolor\":\"white\",\"linecolor\":\"white\",\"minorgridcolor\":\"white\",\"startlinecolor\":\"#2a3f5f\"},\"type\":\"carpet\"}],\"table\":[{\"cells\":{\"fill\":{\"color\":\"#EBF0F8\"},\"line\":{\"color\":\"white\"}},\"header\":{\"fill\":{\"color\":\"#C8D4E3\"},\"line\":{\"color\":\"white\"}},\"type\":\"table\"}],\"barpolar\":[{\"marker\":{\"line\":{\"color\":\"#E5ECF6\",\"width\":0.5},\"pattern\":{\"fillmode\":\"overlay\",\"size\":10,\"solidity\":0.2}},\"type\":\"barpolar\"}],\"pie\":[{\"automargin\":true,\"type\":\"pie\"}]},\"layout\":{\"autotypenumbers\":\"strict\",\"colorway\":[\"#636efa\",\"#EF553B\",\"#00cc96\",\"#ab63fa\",\"#FFA15A\",\"#19d3f3\",\"#FF6692\",\"#B6E880\",\"#FF97FF\",\"#FECB52\"],\"font\":{\"color\":\"#2a3f5f\"},\"hovermode\":\"closest\",\"hoverlabel\":{\"align\":\"left\"},\"paper_bgcolor\":\"white\",\"plot_bgcolor\":\"#E5ECF6\",\"polar\":{\"bgcolor\":\"#E5ECF6\",\"angularaxis\":{\"gridcolor\":\"white\",\"linecolor\":\"white\",\"ticks\":\"\"},\"radialaxis\":{\"gridcolor\":\"white\",\"linecolor\":\"white\",\"ticks\":\"\"}},\"ternary\":{\"bgcolor\":\"#E5ECF6\",\"aaxis\":{\"gridcolor\":\"white\",\"linecolor\":\"white\",\"ticks\":\"\"},\"baxis\":{\"gridcolor\":\"white\",\"linecolor\":\"white\",\"ticks\":\"\"},\"caxis\":{\"gridcolor\":\"white\",\"linecolor\":\"white\",\"ticks\":\"\"}},\"coloraxis\":{\"colorbar\":{\"outlinewidth\":0,\"ticks\":\"\"}},\"colorscale\":{\"sequential\":[[0.0,\"#0d0887\"],[0.1111111111111111,\"#46039f\"],[0.2222222222222222,\"#7201a8\"],[0.3333333333333333,\"#9c179e\"],[0.4444444444444444,\"#bd3786\"],[0.5555555555555556,\"#d8576b\"],[0.6666666666666666,\"#ed7953\"],[0.7777777777777778,\"#fb9f3a\"],[0.8888888888888888,\"#fdca26\"],[1.0,\"#f0f921\"]],\"sequentialminus\":[[0.0,\"#0d0887\"],[0.1111111111111111,\"#46039f\"],[0.2222222222222222,\"#7201a8\"],[0.3333333333333333,\"#9c179e\"],[0.4444444444444444,\"#bd3786\"],[0.5555555555555556,\"#d8576b\"],[0.6666666666666666,\"#ed7953\"],[0.7777777777777778,\"#fb9f3a\"],[0.8888888888888888,\"#fdca26\"],[1.0,\"#f0f921\"]],\"diverging\":[[0,\"#8e0152\"],[0.1,\"#c51b7d\"],[0.2,\"#de77ae\"],[0.3,\"#f1b6da\"],[0.4,\"#fde0ef\"],[0.5,\"#f7f7f7\"],[0.6,\"#e6f5d0\"],[0.7,\"#b8e186\"],[0.8,\"#7fbc41\"],[0.9,\"#4d9221\"],[1,\"#276419\"]]},\"xaxis\":{\"gridcolor\":\"white\",\"linecolor\":\"white\",\"ticks\":\"\",\"title\":{\"standoff\":15},\"zerolinecolor\":\"white\",\"automargin\":true,\"zerolinewidth\":2},\"yaxis\":{\"gridcolor\":\"white\",\"linecolor\":\"white\",\"ticks\":\"\",\"title\":{\"standoff\":15},\"zerolinecolor\":\"white\",\"automargin\":true,\"zerolinewidth\":2},\"scene\":{\"xaxis\":{\"backgroundcolor\":\"#E5ECF6\",\"gridcolor\":\"white\",\"linecolor\":\"white\",\"showbackground\":true,\"ticks\":\"\",\"zerolinecolor\":\"white\",\"gridwidth\":2},\"yaxis\":{\"backgroundcolor\":\"#E5ECF6\",\"gridcolor\":\"white\",\"linecolor\":\"white\",\"showbackground\":true,\"ticks\":\"\",\"zerolinecolor\":\"white\",\"gridwidth\":2},\"zaxis\":{\"backgroundcolor\":\"#E5ECF6\",\"gridcolor\":\"white\",\"linecolor\":\"white\",\"showbackground\":true,\"ticks\":\"\",\"zerolinecolor\":\"white\",\"gridwidth\":2}},\"shapedefaults\":{\"line\":{\"color\":\"#2a3f5f\"}},\"annotationdefaults\":{\"arrowcolor\":\"#2a3f5f\",\"arrowhead\":0,\"arrowwidth\":1},\"geo\":{\"bgcolor\":\"white\",\"landcolor\":\"#E5ECF6\",\"subunitcolor\":\"white\",\"showland\":true,\"showlakes\":true,\"lakecolor\":\"white\"},\"title\":{\"x\":0.05},\"mapbox\":{\"style\":\"light\"}}},\"xaxis\":{\"anchor\":\"y\",\"domain\":[0.0,1.0],\"title\":{\"text\":\"Accident_Count\"}},\"yaxis\":{\"anchor\":\"x\",\"domain\":[0.0,1.0],\"title\":{\"text\":\"County\"}},\"legend\":{\"tracegroupgap\":0},\"margin\":{\"t\":60},\"barmode\":\"relative\"},                        {\"responsive\": true}                    ).then(function(){\n",
       "                            \n",
       "var gd = document.getElementById('ae4a916c-a97e-4bf4-a05b-e62702dd4ec7');\n",
       "var x = new MutationObserver(function (mutations, observer) {{\n",
       "        var display = window.getComputedStyle(gd).display;\n",
       "        if (!display || display === 'none') {{\n",
       "            console.log([gd, 'removed!']);\n",
       "            Plotly.purge(gd);\n",
       "            observer.disconnect();\n",
       "        }}\n",
       "}});\n",
       "\n",
       "// Listen for the removal of the full notebook cells\n",
       "var notebookContainer = gd.closest('#notebook-container');\n",
       "if (notebookContainer) {{\n",
       "    x.observe(notebookContainer, {childList: true});\n",
       "}}\n",
       "\n",
       "// Listen for the clearing of the current output cell\n",
       "var outputEl = gd.closest('.output');\n",
       "if (outputEl) {{\n",
       "    x.observe(outputEl, {childList: true});\n",
       "}}\n",
       "\n",
       "                        })                };                });            </script>        </div>"
      ]
     },
     "metadata": {},
     "output_type": "display_data"
    },
    {
     "data": {
      "application/vnd.plotly.v1+json": {
       "config": {
        "plotlyServerURL": "https://plot.ly"
       },
       "data": [
        {
         "alignmentgroup": "True",
         "hovertemplate": "Accident_Count=%{x}<br>State=%{y}<extra></extra>",
         "legendgroup": "",
         "marker": {
          "color": "#636efa",
          "pattern": {
           "shape": ""
          }
         },
         "name": "",
         "offsetgroup": "",
         "orientation": "h",
         "showlegend": false,
         "textposition": "auto",
         "type": "bar",
         "x": [
          36234,
          1723,
          59560,
          522748,
          38800,
          18602,
          3199,
          4155,
          186713,
          70378,
          8341,
          1338,
          69313,
          28417,
          6125,
          18053,
          51632,
          27817,
          35791,
          1930,
          72062,
          60160,
          25254,
          5559,
          442,
          136313,
          40,
          16695,
          6749,
          42027,
          4867,
          8167,
          117772,
          44532,
          50727,
          69814,
          69187,
          9080,
          143674,
          52,
          56601,
          248297,
          40417,
          73467,
          568,
          52050,
          16018,
          1845,
          423
         ],
         "xaxis": "x",
         "y": [
          "AL",
          "AR",
          "AZ",
          "CA",
          "CO",
          "CT",
          "DC",
          "DE",
          "FL",
          "GA",
          "IA",
          "ID",
          "IL",
          "IN",
          "KS",
          "KY",
          "LA",
          "MA",
          "MD",
          "ME",
          "MI",
          "MN",
          "MO",
          "MS",
          "MT",
          "NC",
          "ND",
          "NE",
          "NH",
          "NJ",
          "NM",
          "NV",
          "NY",
          "OH",
          "OK",
          "OR",
          "PA",
          "RI",
          "SC",
          "SD",
          "TN",
          "TX",
          "UT",
          "VA",
          "VT",
          "WA",
          "WI",
          "WV",
          "WY"
         ],
         "yaxis": "y"
        }
       ],
       "layout": {
        "barmode": "relative",
        "legend": {
         "tracegroupgap": 0
        },
        "margin": {
         "t": 60
        },
        "template": {
         "data": {
          "bar": [
           {
            "error_x": {
             "color": "#2a3f5f"
            },
            "error_y": {
             "color": "#2a3f5f"
            },
            "marker": {
             "line": {
              "color": "#E5ECF6",
              "width": 0.5
             },
             "pattern": {
              "fillmode": "overlay",
              "size": 10,
              "solidity": 0.2
             }
            },
            "type": "bar"
           }
          ],
          "barpolar": [
           {
            "marker": {
             "line": {
              "color": "#E5ECF6",
              "width": 0.5
             },
             "pattern": {
              "fillmode": "overlay",
              "size": 10,
              "solidity": 0.2
             }
            },
            "type": "barpolar"
           }
          ],
          "carpet": [
           {
            "aaxis": {
             "endlinecolor": "#2a3f5f",
             "gridcolor": "white",
             "linecolor": "white",
             "minorgridcolor": "white",
             "startlinecolor": "#2a3f5f"
            },
            "baxis": {
             "endlinecolor": "#2a3f5f",
             "gridcolor": "white",
             "linecolor": "white",
             "minorgridcolor": "white",
             "startlinecolor": "#2a3f5f"
            },
            "type": "carpet"
           }
          ],
          "choropleth": [
           {
            "colorbar": {
             "outlinewidth": 0,
             "ticks": ""
            },
            "type": "choropleth"
           }
          ],
          "contour": [
           {
            "colorbar": {
             "outlinewidth": 0,
             "ticks": ""
            },
            "colorscale": [
             [
              0,
              "#0d0887"
             ],
             [
              0.1111111111111111,
              "#46039f"
             ],
             [
              0.2222222222222222,
              "#7201a8"
             ],
             [
              0.3333333333333333,
              "#9c179e"
             ],
             [
              0.4444444444444444,
              "#bd3786"
             ],
             [
              0.5555555555555556,
              "#d8576b"
             ],
             [
              0.6666666666666666,
              "#ed7953"
             ],
             [
              0.7777777777777778,
              "#fb9f3a"
             ],
             [
              0.8888888888888888,
              "#fdca26"
             ],
             [
              1,
              "#f0f921"
             ]
            ],
            "type": "contour"
           }
          ],
          "contourcarpet": [
           {
            "colorbar": {
             "outlinewidth": 0,
             "ticks": ""
            },
            "type": "contourcarpet"
           }
          ],
          "heatmap": [
           {
            "colorbar": {
             "outlinewidth": 0,
             "ticks": ""
            },
            "colorscale": [
             [
              0,
              "#0d0887"
             ],
             [
              0.1111111111111111,
              "#46039f"
             ],
             [
              0.2222222222222222,
              "#7201a8"
             ],
             [
              0.3333333333333333,
              "#9c179e"
             ],
             [
              0.4444444444444444,
              "#bd3786"
             ],
             [
              0.5555555555555556,
              "#d8576b"
             ],
             [
              0.6666666666666666,
              "#ed7953"
             ],
             [
              0.7777777777777778,
              "#fb9f3a"
             ],
             [
              0.8888888888888888,
              "#fdca26"
             ],
             [
              1,
              "#f0f921"
             ]
            ],
            "type": "heatmap"
           }
          ],
          "heatmapgl": [
           {
            "colorbar": {
             "outlinewidth": 0,
             "ticks": ""
            },
            "colorscale": [
             [
              0,
              "#0d0887"
             ],
             [
              0.1111111111111111,
              "#46039f"
             ],
             [
              0.2222222222222222,
              "#7201a8"
             ],
             [
              0.3333333333333333,
              "#9c179e"
             ],
             [
              0.4444444444444444,
              "#bd3786"
             ],
             [
              0.5555555555555556,
              "#d8576b"
             ],
             [
              0.6666666666666666,
              "#ed7953"
             ],
             [
              0.7777777777777778,
              "#fb9f3a"
             ],
             [
              0.8888888888888888,
              "#fdca26"
             ],
             [
              1,
              "#f0f921"
             ]
            ],
            "type": "heatmapgl"
           }
          ],
          "histogram": [
           {
            "marker": {
             "pattern": {
              "fillmode": "overlay",
              "size": 10,
              "solidity": 0.2
             }
            },
            "type": "histogram"
           }
          ],
          "histogram2d": [
           {
            "colorbar": {
             "outlinewidth": 0,
             "ticks": ""
            },
            "colorscale": [
             [
              0,
              "#0d0887"
             ],
             [
              0.1111111111111111,
              "#46039f"
             ],
             [
              0.2222222222222222,
              "#7201a8"
             ],
             [
              0.3333333333333333,
              "#9c179e"
             ],
             [
              0.4444444444444444,
              "#bd3786"
             ],
             [
              0.5555555555555556,
              "#d8576b"
             ],
             [
              0.6666666666666666,
              "#ed7953"
             ],
             [
              0.7777777777777778,
              "#fb9f3a"
             ],
             [
              0.8888888888888888,
              "#fdca26"
             ],
             [
              1,
              "#f0f921"
             ]
            ],
            "type": "histogram2d"
           }
          ],
          "histogram2dcontour": [
           {
            "colorbar": {
             "outlinewidth": 0,
             "ticks": ""
            },
            "colorscale": [
             [
              0,
              "#0d0887"
             ],
             [
              0.1111111111111111,
              "#46039f"
             ],
             [
              0.2222222222222222,
              "#7201a8"
             ],
             [
              0.3333333333333333,
              "#9c179e"
             ],
             [
              0.4444444444444444,
              "#bd3786"
             ],
             [
              0.5555555555555556,
              "#d8576b"
             ],
             [
              0.6666666666666666,
              "#ed7953"
             ],
             [
              0.7777777777777778,
              "#fb9f3a"
             ],
             [
              0.8888888888888888,
              "#fdca26"
             ],
             [
              1,
              "#f0f921"
             ]
            ],
            "type": "histogram2dcontour"
           }
          ],
          "mesh3d": [
           {
            "colorbar": {
             "outlinewidth": 0,
             "ticks": ""
            },
            "type": "mesh3d"
           }
          ],
          "parcoords": [
           {
            "line": {
             "colorbar": {
              "outlinewidth": 0,
              "ticks": ""
             }
            },
            "type": "parcoords"
           }
          ],
          "pie": [
           {
            "automargin": true,
            "type": "pie"
           }
          ],
          "scatter": [
           {
            "fillpattern": {
             "fillmode": "overlay",
             "size": 10,
             "solidity": 0.2
            },
            "type": "scatter"
           }
          ],
          "scatter3d": [
           {
            "line": {
             "colorbar": {
              "outlinewidth": 0,
              "ticks": ""
             }
            },
            "marker": {
             "colorbar": {
              "outlinewidth": 0,
              "ticks": ""
             }
            },
            "type": "scatter3d"
           }
          ],
          "scattercarpet": [
           {
            "marker": {
             "colorbar": {
              "outlinewidth": 0,
              "ticks": ""
             }
            },
            "type": "scattercarpet"
           }
          ],
          "scattergeo": [
           {
            "marker": {
             "colorbar": {
              "outlinewidth": 0,
              "ticks": ""
             }
            },
            "type": "scattergeo"
           }
          ],
          "scattergl": [
           {
            "marker": {
             "colorbar": {
              "outlinewidth": 0,
              "ticks": ""
             }
            },
            "type": "scattergl"
           }
          ],
          "scattermapbox": [
           {
            "marker": {
             "colorbar": {
              "outlinewidth": 0,
              "ticks": ""
             }
            },
            "type": "scattermapbox"
           }
          ],
          "scatterpolar": [
           {
            "marker": {
             "colorbar": {
              "outlinewidth": 0,
              "ticks": ""
             }
            },
            "type": "scatterpolar"
           }
          ],
          "scatterpolargl": [
           {
            "marker": {
             "colorbar": {
              "outlinewidth": 0,
              "ticks": ""
             }
            },
            "type": "scatterpolargl"
           }
          ],
          "scatterternary": [
           {
            "marker": {
             "colorbar": {
              "outlinewidth": 0,
              "ticks": ""
             }
            },
            "type": "scatterternary"
           }
          ],
          "surface": [
           {
            "colorbar": {
             "outlinewidth": 0,
             "ticks": ""
            },
            "colorscale": [
             [
              0,
              "#0d0887"
             ],
             [
              0.1111111111111111,
              "#46039f"
             ],
             [
              0.2222222222222222,
              "#7201a8"
             ],
             [
              0.3333333333333333,
              "#9c179e"
             ],
             [
              0.4444444444444444,
              "#bd3786"
             ],
             [
              0.5555555555555556,
              "#d8576b"
             ],
             [
              0.6666666666666666,
              "#ed7953"
             ],
             [
              0.7777777777777778,
              "#fb9f3a"
             ],
             [
              0.8888888888888888,
              "#fdca26"
             ],
             [
              1,
              "#f0f921"
             ]
            ],
            "type": "surface"
           }
          ],
          "table": [
           {
            "cells": {
             "fill": {
              "color": "#EBF0F8"
             },
             "line": {
              "color": "white"
             }
            },
            "header": {
             "fill": {
              "color": "#C8D4E3"
             },
             "line": {
              "color": "white"
             }
            },
            "type": "table"
           }
          ]
         },
         "layout": {
          "annotationdefaults": {
           "arrowcolor": "#2a3f5f",
           "arrowhead": 0,
           "arrowwidth": 1
          },
          "autotypenumbers": "strict",
          "coloraxis": {
           "colorbar": {
            "outlinewidth": 0,
            "ticks": ""
           }
          },
          "colorscale": {
           "diverging": [
            [
             0,
             "#8e0152"
            ],
            [
             0.1,
             "#c51b7d"
            ],
            [
             0.2,
             "#de77ae"
            ],
            [
             0.3,
             "#f1b6da"
            ],
            [
             0.4,
             "#fde0ef"
            ],
            [
             0.5,
             "#f7f7f7"
            ],
            [
             0.6,
             "#e6f5d0"
            ],
            [
             0.7,
             "#b8e186"
            ],
            [
             0.8,
             "#7fbc41"
            ],
            [
             0.9,
             "#4d9221"
            ],
            [
             1,
             "#276419"
            ]
           ],
           "sequential": [
            [
             0,
             "#0d0887"
            ],
            [
             0.1111111111111111,
             "#46039f"
            ],
            [
             0.2222222222222222,
             "#7201a8"
            ],
            [
             0.3333333333333333,
             "#9c179e"
            ],
            [
             0.4444444444444444,
             "#bd3786"
            ],
            [
             0.5555555555555556,
             "#d8576b"
            ],
            [
             0.6666666666666666,
             "#ed7953"
            ],
            [
             0.7777777777777778,
             "#fb9f3a"
            ],
            [
             0.8888888888888888,
             "#fdca26"
            ],
            [
             1,
             "#f0f921"
            ]
           ],
           "sequentialminus": [
            [
             0,
             "#0d0887"
            ],
            [
             0.1111111111111111,
             "#46039f"
            ],
            [
             0.2222222222222222,
             "#7201a8"
            ],
            [
             0.3333333333333333,
             "#9c179e"
            ],
            [
             0.4444444444444444,
             "#bd3786"
            ],
            [
             0.5555555555555556,
             "#d8576b"
            ],
            [
             0.6666666666666666,
             "#ed7953"
            ],
            [
             0.7777777777777778,
             "#fb9f3a"
            ],
            [
             0.8888888888888888,
             "#fdca26"
            ],
            [
             1,
             "#f0f921"
            ]
           ]
          },
          "colorway": [
           "#636efa",
           "#EF553B",
           "#00cc96",
           "#ab63fa",
           "#FFA15A",
           "#19d3f3",
           "#FF6692",
           "#B6E880",
           "#FF97FF",
           "#FECB52"
          ],
          "font": {
           "color": "#2a3f5f"
          },
          "geo": {
           "bgcolor": "white",
           "lakecolor": "white",
           "landcolor": "#E5ECF6",
           "showlakes": true,
           "showland": true,
           "subunitcolor": "white"
          },
          "hoverlabel": {
           "align": "left"
          },
          "hovermode": "closest",
          "mapbox": {
           "style": "light"
          },
          "paper_bgcolor": "white",
          "plot_bgcolor": "#E5ECF6",
          "polar": {
           "angularaxis": {
            "gridcolor": "white",
            "linecolor": "white",
            "ticks": ""
           },
           "bgcolor": "#E5ECF6",
           "radialaxis": {
            "gridcolor": "white",
            "linecolor": "white",
            "ticks": ""
           }
          },
          "scene": {
           "xaxis": {
            "backgroundcolor": "#E5ECF6",
            "gridcolor": "white",
            "gridwidth": 2,
            "linecolor": "white",
            "showbackground": true,
            "ticks": "",
            "zerolinecolor": "white"
           },
           "yaxis": {
            "backgroundcolor": "#E5ECF6",
            "gridcolor": "white",
            "gridwidth": 2,
            "linecolor": "white",
            "showbackground": true,
            "ticks": "",
            "zerolinecolor": "white"
           },
           "zaxis": {
            "backgroundcolor": "#E5ECF6",
            "gridcolor": "white",
            "gridwidth": 2,
            "linecolor": "white",
            "showbackground": true,
            "ticks": "",
            "zerolinecolor": "white"
           }
          },
          "shapedefaults": {
           "line": {
            "color": "#2a3f5f"
           }
          },
          "ternary": {
           "aaxis": {
            "gridcolor": "white",
            "linecolor": "white",
            "ticks": ""
           },
           "baxis": {
            "gridcolor": "white",
            "linecolor": "white",
            "ticks": ""
           },
           "bgcolor": "#E5ECF6",
           "caxis": {
            "gridcolor": "white",
            "linecolor": "white",
            "ticks": ""
           }
          },
          "title": {
           "x": 0.05
          },
          "xaxis": {
           "automargin": true,
           "gridcolor": "white",
           "linecolor": "white",
           "ticks": "",
           "title": {
            "standoff": 15
           },
           "zerolinecolor": "white",
           "zerolinewidth": 2
          },
          "yaxis": {
           "automargin": true,
           "gridcolor": "white",
           "linecolor": "white",
           "ticks": "",
           "title": {
            "standoff": 15
           },
           "zerolinecolor": "white",
           "zerolinewidth": 2
          }
         }
        },
        "xaxis": {
         "anchor": "y",
         "domain": [
          0,
          1
         ],
         "title": {
          "text": "Accident_Count"
         }
        },
        "yaxis": {
         "anchor": "x",
         "domain": [
          0,
          1
         ],
         "title": {
          "text": "State"
         }
        }
       }
      },
      "text/html": [
       "<div>                            <div id=\"fbe5b927-caf4-4a79-9789-b6cb3e800fa7\" class=\"plotly-graph-div\" style=\"height:525px; width:100%;\"></div>            <script type=\"text/javascript\">                require([\"plotly\"], function(Plotly) {                    window.PLOTLYENV=window.PLOTLYENV || {};                                    if (document.getElementById(\"fbe5b927-caf4-4a79-9789-b6cb3e800fa7\")) {                    Plotly.newPlot(                        \"fbe5b927-caf4-4a79-9789-b6cb3e800fa7\",                        [{\"alignmentgroup\":\"True\",\"hovertemplate\":\"Accident_Count=%{x}<br>State=%{y}<extra></extra>\",\"legendgroup\":\"\",\"marker\":{\"color\":\"#636efa\",\"pattern\":{\"shape\":\"\"}},\"name\":\"\",\"offsetgroup\":\"\",\"orientation\":\"h\",\"showlegend\":false,\"textposition\":\"auto\",\"x\":[36234,1723,59560,522748,38800,18602,3199,4155,186713,70378,8341,1338,69313,28417,6125,18053,51632,27817,35791,1930,72062,60160,25254,5559,442,136313,40,16695,6749,42027,4867,8167,117772,44532,50727,69814,69187,9080,143674,52,56601,248297,40417,73467,568,52050,16018,1845,423],\"xaxis\":\"x\",\"y\":[\"AL\",\"AR\",\"AZ\",\"CA\",\"CO\",\"CT\",\"DC\",\"DE\",\"FL\",\"GA\",\"IA\",\"ID\",\"IL\",\"IN\",\"KS\",\"KY\",\"LA\",\"MA\",\"MD\",\"ME\",\"MI\",\"MN\",\"MO\",\"MS\",\"MT\",\"NC\",\"ND\",\"NE\",\"NH\",\"NJ\",\"NM\",\"NV\",\"NY\",\"OH\",\"OK\",\"OR\",\"PA\",\"RI\",\"SC\",\"SD\",\"TN\",\"TX\",\"UT\",\"VA\",\"VT\",\"WA\",\"WI\",\"WV\",\"WY\"],\"yaxis\":\"y\",\"type\":\"bar\"}],                        {\"template\":{\"data\":{\"histogram2dcontour\":[{\"type\":\"histogram2dcontour\",\"colorbar\":{\"outlinewidth\":0,\"ticks\":\"\"},\"colorscale\":[[0.0,\"#0d0887\"],[0.1111111111111111,\"#46039f\"],[0.2222222222222222,\"#7201a8\"],[0.3333333333333333,\"#9c179e\"],[0.4444444444444444,\"#bd3786\"],[0.5555555555555556,\"#d8576b\"],[0.6666666666666666,\"#ed7953\"],[0.7777777777777778,\"#fb9f3a\"],[0.8888888888888888,\"#fdca26\"],[1.0,\"#f0f921\"]]}],\"choropleth\":[{\"type\":\"choropleth\",\"colorbar\":{\"outlinewidth\":0,\"ticks\":\"\"}}],\"histogram2d\":[{\"type\":\"histogram2d\",\"colorbar\":{\"outlinewidth\":0,\"ticks\":\"\"},\"colorscale\":[[0.0,\"#0d0887\"],[0.1111111111111111,\"#46039f\"],[0.2222222222222222,\"#7201a8\"],[0.3333333333333333,\"#9c179e\"],[0.4444444444444444,\"#bd3786\"],[0.5555555555555556,\"#d8576b\"],[0.6666666666666666,\"#ed7953\"],[0.7777777777777778,\"#fb9f3a\"],[0.8888888888888888,\"#fdca26\"],[1.0,\"#f0f921\"]]}],\"heatmap\":[{\"type\":\"heatmap\",\"colorbar\":{\"outlinewidth\":0,\"ticks\":\"\"},\"colorscale\":[[0.0,\"#0d0887\"],[0.1111111111111111,\"#46039f\"],[0.2222222222222222,\"#7201a8\"],[0.3333333333333333,\"#9c179e\"],[0.4444444444444444,\"#bd3786\"],[0.5555555555555556,\"#d8576b\"],[0.6666666666666666,\"#ed7953\"],[0.7777777777777778,\"#fb9f3a\"],[0.8888888888888888,\"#fdca26\"],[1.0,\"#f0f921\"]]}],\"heatmapgl\":[{\"type\":\"heatmapgl\",\"colorbar\":{\"outlinewidth\":0,\"ticks\":\"\"},\"colorscale\":[[0.0,\"#0d0887\"],[0.1111111111111111,\"#46039f\"],[0.2222222222222222,\"#7201a8\"],[0.3333333333333333,\"#9c179e\"],[0.4444444444444444,\"#bd3786\"],[0.5555555555555556,\"#d8576b\"],[0.6666666666666666,\"#ed7953\"],[0.7777777777777778,\"#fb9f3a\"],[0.8888888888888888,\"#fdca26\"],[1.0,\"#f0f921\"]]}],\"contourcarpet\":[{\"type\":\"contourcarpet\",\"colorbar\":{\"outlinewidth\":0,\"ticks\":\"\"}}],\"contour\":[{\"type\":\"contour\",\"colorbar\":{\"outlinewidth\":0,\"ticks\":\"\"},\"colorscale\":[[0.0,\"#0d0887\"],[0.1111111111111111,\"#46039f\"],[0.2222222222222222,\"#7201a8\"],[0.3333333333333333,\"#9c179e\"],[0.4444444444444444,\"#bd3786\"],[0.5555555555555556,\"#d8576b\"],[0.6666666666666666,\"#ed7953\"],[0.7777777777777778,\"#fb9f3a\"],[0.8888888888888888,\"#fdca26\"],[1.0,\"#f0f921\"]]}],\"surface\":[{\"type\":\"surface\",\"colorbar\":{\"outlinewidth\":0,\"ticks\":\"\"},\"colorscale\":[[0.0,\"#0d0887\"],[0.1111111111111111,\"#46039f\"],[0.2222222222222222,\"#7201a8\"],[0.3333333333333333,\"#9c179e\"],[0.4444444444444444,\"#bd3786\"],[0.5555555555555556,\"#d8576b\"],[0.6666666666666666,\"#ed7953\"],[0.7777777777777778,\"#fb9f3a\"],[0.8888888888888888,\"#fdca26\"],[1.0,\"#f0f921\"]]}],\"mesh3d\":[{\"type\":\"mesh3d\",\"colorbar\":{\"outlinewidth\":0,\"ticks\":\"\"}}],\"scatter\":[{\"fillpattern\":{\"fillmode\":\"overlay\",\"size\":10,\"solidity\":0.2},\"type\":\"scatter\"}],\"parcoords\":[{\"type\":\"parcoords\",\"line\":{\"colorbar\":{\"outlinewidth\":0,\"ticks\":\"\"}}}],\"scatterpolargl\":[{\"type\":\"scatterpolargl\",\"marker\":{\"colorbar\":{\"outlinewidth\":0,\"ticks\":\"\"}}}],\"bar\":[{\"error_x\":{\"color\":\"#2a3f5f\"},\"error_y\":{\"color\":\"#2a3f5f\"},\"marker\":{\"line\":{\"color\":\"#E5ECF6\",\"width\":0.5},\"pattern\":{\"fillmode\":\"overlay\",\"size\":10,\"solidity\":0.2}},\"type\":\"bar\"}],\"scattergeo\":[{\"type\":\"scattergeo\",\"marker\":{\"colorbar\":{\"outlinewidth\":0,\"ticks\":\"\"}}}],\"scatterpolar\":[{\"type\":\"scatterpolar\",\"marker\":{\"colorbar\":{\"outlinewidth\":0,\"ticks\":\"\"}}}],\"histogram\":[{\"marker\":{\"pattern\":{\"fillmode\":\"overlay\",\"size\":10,\"solidity\":0.2}},\"type\":\"histogram\"}],\"scattergl\":[{\"type\":\"scattergl\",\"marker\":{\"colorbar\":{\"outlinewidth\":0,\"ticks\":\"\"}}}],\"scatter3d\":[{\"type\":\"scatter3d\",\"line\":{\"colorbar\":{\"outlinewidth\":0,\"ticks\":\"\"}},\"marker\":{\"colorbar\":{\"outlinewidth\":0,\"ticks\":\"\"}}}],\"scattermapbox\":[{\"type\":\"scattermapbox\",\"marker\":{\"colorbar\":{\"outlinewidth\":0,\"ticks\":\"\"}}}],\"scatterternary\":[{\"type\":\"scatterternary\",\"marker\":{\"colorbar\":{\"outlinewidth\":0,\"ticks\":\"\"}}}],\"scattercarpet\":[{\"type\":\"scattercarpet\",\"marker\":{\"colorbar\":{\"outlinewidth\":0,\"ticks\":\"\"}}}],\"carpet\":[{\"aaxis\":{\"endlinecolor\":\"#2a3f5f\",\"gridcolor\":\"white\",\"linecolor\":\"white\",\"minorgridcolor\":\"white\",\"startlinecolor\":\"#2a3f5f\"},\"baxis\":{\"endlinecolor\":\"#2a3f5f\",\"gridcolor\":\"white\",\"linecolor\":\"white\",\"minorgridcolor\":\"white\",\"startlinecolor\":\"#2a3f5f\"},\"type\":\"carpet\"}],\"table\":[{\"cells\":{\"fill\":{\"color\":\"#EBF0F8\"},\"line\":{\"color\":\"white\"}},\"header\":{\"fill\":{\"color\":\"#C8D4E3\"},\"line\":{\"color\":\"white\"}},\"type\":\"table\"}],\"barpolar\":[{\"marker\":{\"line\":{\"color\":\"#E5ECF6\",\"width\":0.5},\"pattern\":{\"fillmode\":\"overlay\",\"size\":10,\"solidity\":0.2}},\"type\":\"barpolar\"}],\"pie\":[{\"automargin\":true,\"type\":\"pie\"}]},\"layout\":{\"autotypenumbers\":\"strict\",\"colorway\":[\"#636efa\",\"#EF553B\",\"#00cc96\",\"#ab63fa\",\"#FFA15A\",\"#19d3f3\",\"#FF6692\",\"#B6E880\",\"#FF97FF\",\"#FECB52\"],\"font\":{\"color\":\"#2a3f5f\"},\"hovermode\":\"closest\",\"hoverlabel\":{\"align\":\"left\"},\"paper_bgcolor\":\"white\",\"plot_bgcolor\":\"#E5ECF6\",\"polar\":{\"bgcolor\":\"#E5ECF6\",\"angularaxis\":{\"gridcolor\":\"white\",\"linecolor\":\"white\",\"ticks\":\"\"},\"radialaxis\":{\"gridcolor\":\"white\",\"linecolor\":\"white\",\"ticks\":\"\"}},\"ternary\":{\"bgcolor\":\"#E5ECF6\",\"aaxis\":{\"gridcolor\":\"white\",\"linecolor\":\"white\",\"ticks\":\"\"},\"baxis\":{\"gridcolor\":\"white\",\"linecolor\":\"white\",\"ticks\":\"\"},\"caxis\":{\"gridcolor\":\"white\",\"linecolor\":\"white\",\"ticks\":\"\"}},\"coloraxis\":{\"colorbar\":{\"outlinewidth\":0,\"ticks\":\"\"}},\"colorscale\":{\"sequential\":[[0.0,\"#0d0887\"],[0.1111111111111111,\"#46039f\"],[0.2222222222222222,\"#7201a8\"],[0.3333333333333333,\"#9c179e\"],[0.4444444444444444,\"#bd3786\"],[0.5555555555555556,\"#d8576b\"],[0.6666666666666666,\"#ed7953\"],[0.7777777777777778,\"#fb9f3a\"],[0.8888888888888888,\"#fdca26\"],[1.0,\"#f0f921\"]],\"sequentialminus\":[[0.0,\"#0d0887\"],[0.1111111111111111,\"#46039f\"],[0.2222222222222222,\"#7201a8\"],[0.3333333333333333,\"#9c179e\"],[0.4444444444444444,\"#bd3786\"],[0.5555555555555556,\"#d8576b\"],[0.6666666666666666,\"#ed7953\"],[0.7777777777777778,\"#fb9f3a\"],[0.8888888888888888,\"#fdca26\"],[1.0,\"#f0f921\"]],\"diverging\":[[0,\"#8e0152\"],[0.1,\"#c51b7d\"],[0.2,\"#de77ae\"],[0.3,\"#f1b6da\"],[0.4,\"#fde0ef\"],[0.5,\"#f7f7f7\"],[0.6,\"#e6f5d0\"],[0.7,\"#b8e186\"],[0.8,\"#7fbc41\"],[0.9,\"#4d9221\"],[1,\"#276419\"]]},\"xaxis\":{\"gridcolor\":\"white\",\"linecolor\":\"white\",\"ticks\":\"\",\"title\":{\"standoff\":15},\"zerolinecolor\":\"white\",\"automargin\":true,\"zerolinewidth\":2},\"yaxis\":{\"gridcolor\":\"white\",\"linecolor\":\"white\",\"ticks\":\"\",\"title\":{\"standoff\":15},\"zerolinecolor\":\"white\",\"automargin\":true,\"zerolinewidth\":2},\"scene\":{\"xaxis\":{\"backgroundcolor\":\"#E5ECF6\",\"gridcolor\":\"white\",\"linecolor\":\"white\",\"showbackground\":true,\"ticks\":\"\",\"zerolinecolor\":\"white\",\"gridwidth\":2},\"yaxis\":{\"backgroundcolor\":\"#E5ECF6\",\"gridcolor\":\"white\",\"linecolor\":\"white\",\"showbackground\":true,\"ticks\":\"\",\"zerolinecolor\":\"white\",\"gridwidth\":2},\"zaxis\":{\"backgroundcolor\":\"#E5ECF6\",\"gridcolor\":\"white\",\"linecolor\":\"white\",\"showbackground\":true,\"ticks\":\"\",\"zerolinecolor\":\"white\",\"gridwidth\":2}},\"shapedefaults\":{\"line\":{\"color\":\"#2a3f5f\"}},\"annotationdefaults\":{\"arrowcolor\":\"#2a3f5f\",\"arrowhead\":0,\"arrowwidth\":1},\"geo\":{\"bgcolor\":\"white\",\"landcolor\":\"#E5ECF6\",\"subunitcolor\":\"white\",\"showland\":true,\"showlakes\":true,\"lakecolor\":\"white\"},\"title\":{\"x\":0.05},\"mapbox\":{\"style\":\"light\"}}},\"xaxis\":{\"anchor\":\"y\",\"domain\":[0.0,1.0],\"title\":{\"text\":\"Accident_Count\"}},\"yaxis\":{\"anchor\":\"x\",\"domain\":[0.0,1.0],\"title\":{\"text\":\"State\"}},\"legend\":{\"tracegroupgap\":0},\"margin\":{\"t\":60},\"barmode\":\"relative\"},                        {\"responsive\": true}                    ).then(function(){\n",
       "                            \n",
       "var gd = document.getElementById('fbe5b927-caf4-4a79-9789-b6cb3e800fa7');\n",
       "var x = new MutationObserver(function (mutations, observer) {{\n",
       "        var display = window.getComputedStyle(gd).display;\n",
       "        if (!display || display === 'none') {{\n",
       "            console.log([gd, 'removed!']);\n",
       "            Plotly.purge(gd);\n",
       "            observer.disconnect();\n",
       "        }}\n",
       "}});\n",
       "\n",
       "// Listen for the removal of the full notebook cells\n",
       "var notebookContainer = gd.closest('#notebook-container');\n",
       "if (notebookContainer) {{\n",
       "    x.observe(notebookContainer, {childList: true});\n",
       "}}\n",
       "\n",
       "// Listen for the clearing of the current output cell\n",
       "var outputEl = gd.closest('.output');\n",
       "if (outputEl) {{\n",
       "    x.observe(outputEl, {childList: true});\n",
       "}}\n",
       "\n",
       "                        })                };                });            </script>        </div>"
      ]
     },
     "metadata": {},
     "output_type": "display_data"
    },
    {
     "data": {
      "application/vnd.plotly.v1+json": {
       "config": {
        "plotlyServerURL": "https://plot.ly"
       },
       "data": [
        {
         "alignmentgroup": "True",
         "hovertemplate": "Accident_Count=%{x}<br>Timezone=%{y}<extra></extra>",
         "legendgroup": "",
         "marker": {
          "color": "#636efa",
          "pattern": {
           "shape": ""
          }
         },
         "name": "",
         "offsetgroup": "",
         "orientation": "h",
         "showlegend": false,
         "textposition": "auto",
         "type": "bar",
         "x": [
          640357,
          1111604,
          155989,
          652744
         ],
         "xaxis": "x",
         "y": [
          "US/Central",
          "US/Eastern",
          "US/Mountain",
          "US/Pacific"
         ],
         "yaxis": "y"
        }
       ],
       "layout": {
        "barmode": "relative",
        "legend": {
         "tracegroupgap": 0
        },
        "margin": {
         "t": 60
        },
        "template": {
         "data": {
          "bar": [
           {
            "error_x": {
             "color": "#2a3f5f"
            },
            "error_y": {
             "color": "#2a3f5f"
            },
            "marker": {
             "line": {
              "color": "#E5ECF6",
              "width": 0.5
             },
             "pattern": {
              "fillmode": "overlay",
              "size": 10,
              "solidity": 0.2
             }
            },
            "type": "bar"
           }
          ],
          "barpolar": [
           {
            "marker": {
             "line": {
              "color": "#E5ECF6",
              "width": 0.5
             },
             "pattern": {
              "fillmode": "overlay",
              "size": 10,
              "solidity": 0.2
             }
            },
            "type": "barpolar"
           }
          ],
          "carpet": [
           {
            "aaxis": {
             "endlinecolor": "#2a3f5f",
             "gridcolor": "white",
             "linecolor": "white",
             "minorgridcolor": "white",
             "startlinecolor": "#2a3f5f"
            },
            "baxis": {
             "endlinecolor": "#2a3f5f",
             "gridcolor": "white",
             "linecolor": "white",
             "minorgridcolor": "white",
             "startlinecolor": "#2a3f5f"
            },
            "type": "carpet"
           }
          ],
          "choropleth": [
           {
            "colorbar": {
             "outlinewidth": 0,
             "ticks": ""
            },
            "type": "choropleth"
           }
          ],
          "contour": [
           {
            "colorbar": {
             "outlinewidth": 0,
             "ticks": ""
            },
            "colorscale": [
             [
              0,
              "#0d0887"
             ],
             [
              0.1111111111111111,
              "#46039f"
             ],
             [
              0.2222222222222222,
              "#7201a8"
             ],
             [
              0.3333333333333333,
              "#9c179e"
             ],
             [
              0.4444444444444444,
              "#bd3786"
             ],
             [
              0.5555555555555556,
              "#d8576b"
             ],
             [
              0.6666666666666666,
              "#ed7953"
             ],
             [
              0.7777777777777778,
              "#fb9f3a"
             ],
             [
              0.8888888888888888,
              "#fdca26"
             ],
             [
              1,
              "#f0f921"
             ]
            ],
            "type": "contour"
           }
          ],
          "contourcarpet": [
           {
            "colorbar": {
             "outlinewidth": 0,
             "ticks": ""
            },
            "type": "contourcarpet"
           }
          ],
          "heatmap": [
           {
            "colorbar": {
             "outlinewidth": 0,
             "ticks": ""
            },
            "colorscale": [
             [
              0,
              "#0d0887"
             ],
             [
              0.1111111111111111,
              "#46039f"
             ],
             [
              0.2222222222222222,
              "#7201a8"
             ],
             [
              0.3333333333333333,
              "#9c179e"
             ],
             [
              0.4444444444444444,
              "#bd3786"
             ],
             [
              0.5555555555555556,
              "#d8576b"
             ],
             [
              0.6666666666666666,
              "#ed7953"
             ],
             [
              0.7777777777777778,
              "#fb9f3a"
             ],
             [
              0.8888888888888888,
              "#fdca26"
             ],
             [
              1,
              "#f0f921"
             ]
            ],
            "type": "heatmap"
           }
          ],
          "heatmapgl": [
           {
            "colorbar": {
             "outlinewidth": 0,
             "ticks": ""
            },
            "colorscale": [
             [
              0,
              "#0d0887"
             ],
             [
              0.1111111111111111,
              "#46039f"
             ],
             [
              0.2222222222222222,
              "#7201a8"
             ],
             [
              0.3333333333333333,
              "#9c179e"
             ],
             [
              0.4444444444444444,
              "#bd3786"
             ],
             [
              0.5555555555555556,
              "#d8576b"
             ],
             [
              0.6666666666666666,
              "#ed7953"
             ],
             [
              0.7777777777777778,
              "#fb9f3a"
             ],
             [
              0.8888888888888888,
              "#fdca26"
             ],
             [
              1,
              "#f0f921"
             ]
            ],
            "type": "heatmapgl"
           }
          ],
          "histogram": [
           {
            "marker": {
             "pattern": {
              "fillmode": "overlay",
              "size": 10,
              "solidity": 0.2
             }
            },
            "type": "histogram"
           }
          ],
          "histogram2d": [
           {
            "colorbar": {
             "outlinewidth": 0,
             "ticks": ""
            },
            "colorscale": [
             [
              0,
              "#0d0887"
             ],
             [
              0.1111111111111111,
              "#46039f"
             ],
             [
              0.2222222222222222,
              "#7201a8"
             ],
             [
              0.3333333333333333,
              "#9c179e"
             ],
             [
              0.4444444444444444,
              "#bd3786"
             ],
             [
              0.5555555555555556,
              "#d8576b"
             ],
             [
              0.6666666666666666,
              "#ed7953"
             ],
             [
              0.7777777777777778,
              "#fb9f3a"
             ],
             [
              0.8888888888888888,
              "#fdca26"
             ],
             [
              1,
              "#f0f921"
             ]
            ],
            "type": "histogram2d"
           }
          ],
          "histogram2dcontour": [
           {
            "colorbar": {
             "outlinewidth": 0,
             "ticks": ""
            },
            "colorscale": [
             [
              0,
              "#0d0887"
             ],
             [
              0.1111111111111111,
              "#46039f"
             ],
             [
              0.2222222222222222,
              "#7201a8"
             ],
             [
              0.3333333333333333,
              "#9c179e"
             ],
             [
              0.4444444444444444,
              "#bd3786"
             ],
             [
              0.5555555555555556,
              "#d8576b"
             ],
             [
              0.6666666666666666,
              "#ed7953"
             ],
             [
              0.7777777777777778,
              "#fb9f3a"
             ],
             [
              0.8888888888888888,
              "#fdca26"
             ],
             [
              1,
              "#f0f921"
             ]
            ],
            "type": "histogram2dcontour"
           }
          ],
          "mesh3d": [
           {
            "colorbar": {
             "outlinewidth": 0,
             "ticks": ""
            },
            "type": "mesh3d"
           }
          ],
          "parcoords": [
           {
            "line": {
             "colorbar": {
              "outlinewidth": 0,
              "ticks": ""
             }
            },
            "type": "parcoords"
           }
          ],
          "pie": [
           {
            "automargin": true,
            "type": "pie"
           }
          ],
          "scatter": [
           {
            "fillpattern": {
             "fillmode": "overlay",
             "size": 10,
             "solidity": 0.2
            },
            "type": "scatter"
           }
          ],
          "scatter3d": [
           {
            "line": {
             "colorbar": {
              "outlinewidth": 0,
              "ticks": ""
             }
            },
            "marker": {
             "colorbar": {
              "outlinewidth": 0,
              "ticks": ""
             }
            },
            "type": "scatter3d"
           }
          ],
          "scattercarpet": [
           {
            "marker": {
             "colorbar": {
              "outlinewidth": 0,
              "ticks": ""
             }
            },
            "type": "scattercarpet"
           }
          ],
          "scattergeo": [
           {
            "marker": {
             "colorbar": {
              "outlinewidth": 0,
              "ticks": ""
             }
            },
            "type": "scattergeo"
           }
          ],
          "scattergl": [
           {
            "marker": {
             "colorbar": {
              "outlinewidth": 0,
              "ticks": ""
             }
            },
            "type": "scattergl"
           }
          ],
          "scattermapbox": [
           {
            "marker": {
             "colorbar": {
              "outlinewidth": 0,
              "ticks": ""
             }
            },
            "type": "scattermapbox"
           }
          ],
          "scatterpolar": [
           {
            "marker": {
             "colorbar": {
              "outlinewidth": 0,
              "ticks": ""
             }
            },
            "type": "scatterpolar"
           }
          ],
          "scatterpolargl": [
           {
            "marker": {
             "colorbar": {
              "outlinewidth": 0,
              "ticks": ""
             }
            },
            "type": "scatterpolargl"
           }
          ],
          "scatterternary": [
           {
            "marker": {
             "colorbar": {
              "outlinewidth": 0,
              "ticks": ""
             }
            },
            "type": "scatterternary"
           }
          ],
          "surface": [
           {
            "colorbar": {
             "outlinewidth": 0,
             "ticks": ""
            },
            "colorscale": [
             [
              0,
              "#0d0887"
             ],
             [
              0.1111111111111111,
              "#46039f"
             ],
             [
              0.2222222222222222,
              "#7201a8"
             ],
             [
              0.3333333333333333,
              "#9c179e"
             ],
             [
              0.4444444444444444,
              "#bd3786"
             ],
             [
              0.5555555555555556,
              "#d8576b"
             ],
             [
              0.6666666666666666,
              "#ed7953"
             ],
             [
              0.7777777777777778,
              "#fb9f3a"
             ],
             [
              0.8888888888888888,
              "#fdca26"
             ],
             [
              1,
              "#f0f921"
             ]
            ],
            "type": "surface"
           }
          ],
          "table": [
           {
            "cells": {
             "fill": {
              "color": "#EBF0F8"
             },
             "line": {
              "color": "white"
             }
            },
            "header": {
             "fill": {
              "color": "#C8D4E3"
             },
             "line": {
              "color": "white"
             }
            },
            "type": "table"
           }
          ]
         },
         "layout": {
          "annotationdefaults": {
           "arrowcolor": "#2a3f5f",
           "arrowhead": 0,
           "arrowwidth": 1
          },
          "autotypenumbers": "strict",
          "coloraxis": {
           "colorbar": {
            "outlinewidth": 0,
            "ticks": ""
           }
          },
          "colorscale": {
           "diverging": [
            [
             0,
             "#8e0152"
            ],
            [
             0.1,
             "#c51b7d"
            ],
            [
             0.2,
             "#de77ae"
            ],
            [
             0.3,
             "#f1b6da"
            ],
            [
             0.4,
             "#fde0ef"
            ],
            [
             0.5,
             "#f7f7f7"
            ],
            [
             0.6,
             "#e6f5d0"
            ],
            [
             0.7,
             "#b8e186"
            ],
            [
             0.8,
             "#7fbc41"
            ],
            [
             0.9,
             "#4d9221"
            ],
            [
             1,
             "#276419"
            ]
           ],
           "sequential": [
            [
             0,
             "#0d0887"
            ],
            [
             0.1111111111111111,
             "#46039f"
            ],
            [
             0.2222222222222222,
             "#7201a8"
            ],
            [
             0.3333333333333333,
             "#9c179e"
            ],
            [
             0.4444444444444444,
             "#bd3786"
            ],
            [
             0.5555555555555556,
             "#d8576b"
            ],
            [
             0.6666666666666666,
             "#ed7953"
            ],
            [
             0.7777777777777778,
             "#fb9f3a"
            ],
            [
             0.8888888888888888,
             "#fdca26"
            ],
            [
             1,
             "#f0f921"
            ]
           ],
           "sequentialminus": [
            [
             0,
             "#0d0887"
            ],
            [
             0.1111111111111111,
             "#46039f"
            ],
            [
             0.2222222222222222,
             "#7201a8"
            ],
            [
             0.3333333333333333,
             "#9c179e"
            ],
            [
             0.4444444444444444,
             "#bd3786"
            ],
            [
             0.5555555555555556,
             "#d8576b"
            ],
            [
             0.6666666666666666,
             "#ed7953"
            ],
            [
             0.7777777777777778,
             "#fb9f3a"
            ],
            [
             0.8888888888888888,
             "#fdca26"
            ],
            [
             1,
             "#f0f921"
            ]
           ]
          },
          "colorway": [
           "#636efa",
           "#EF553B",
           "#00cc96",
           "#ab63fa",
           "#FFA15A",
           "#19d3f3",
           "#FF6692",
           "#B6E880",
           "#FF97FF",
           "#FECB52"
          ],
          "font": {
           "color": "#2a3f5f"
          },
          "geo": {
           "bgcolor": "white",
           "lakecolor": "white",
           "landcolor": "#E5ECF6",
           "showlakes": true,
           "showland": true,
           "subunitcolor": "white"
          },
          "hoverlabel": {
           "align": "left"
          },
          "hovermode": "closest",
          "mapbox": {
           "style": "light"
          },
          "paper_bgcolor": "white",
          "plot_bgcolor": "#E5ECF6",
          "polar": {
           "angularaxis": {
            "gridcolor": "white",
            "linecolor": "white",
            "ticks": ""
           },
           "bgcolor": "#E5ECF6",
           "radialaxis": {
            "gridcolor": "white",
            "linecolor": "white",
            "ticks": ""
           }
          },
          "scene": {
           "xaxis": {
            "backgroundcolor": "#E5ECF6",
            "gridcolor": "white",
            "gridwidth": 2,
            "linecolor": "white",
            "showbackground": true,
            "ticks": "",
            "zerolinecolor": "white"
           },
           "yaxis": {
            "backgroundcolor": "#E5ECF6",
            "gridcolor": "white",
            "gridwidth": 2,
            "linecolor": "white",
            "showbackground": true,
            "ticks": "",
            "zerolinecolor": "white"
           },
           "zaxis": {
            "backgroundcolor": "#E5ECF6",
            "gridcolor": "white",
            "gridwidth": 2,
            "linecolor": "white",
            "showbackground": true,
            "ticks": "",
            "zerolinecolor": "white"
           }
          },
          "shapedefaults": {
           "line": {
            "color": "#2a3f5f"
           }
          },
          "ternary": {
           "aaxis": {
            "gridcolor": "white",
            "linecolor": "white",
            "ticks": ""
           },
           "baxis": {
            "gridcolor": "white",
            "linecolor": "white",
            "ticks": ""
           },
           "bgcolor": "#E5ECF6",
           "caxis": {
            "gridcolor": "white",
            "linecolor": "white",
            "ticks": ""
           }
          },
          "title": {
           "x": 0.05
          },
          "xaxis": {
           "automargin": true,
           "gridcolor": "white",
           "linecolor": "white",
           "ticks": "",
           "title": {
            "standoff": 15
           },
           "zerolinecolor": "white",
           "zerolinewidth": 2
          },
          "yaxis": {
           "automargin": true,
           "gridcolor": "white",
           "linecolor": "white",
           "ticks": "",
           "title": {
            "standoff": 15
           },
           "zerolinecolor": "white",
           "zerolinewidth": 2
          }
         }
        },
        "xaxis": {
         "anchor": "y",
         "domain": [
          0,
          1
         ],
         "title": {
          "text": "Accident_Count"
         }
        },
        "yaxis": {
         "anchor": "x",
         "domain": [
          0,
          1
         ],
         "title": {
          "text": "Timezone"
         }
        }
       }
      },
      "text/html": [
       "<div>                            <div id=\"433028a4-948a-4115-82b9-ca29b8570592\" class=\"plotly-graph-div\" style=\"height:525px; width:100%;\"></div>            <script type=\"text/javascript\">                require([\"plotly\"], function(Plotly) {                    window.PLOTLYENV=window.PLOTLYENV || {};                                    if (document.getElementById(\"433028a4-948a-4115-82b9-ca29b8570592\")) {                    Plotly.newPlot(                        \"433028a4-948a-4115-82b9-ca29b8570592\",                        [{\"alignmentgroup\":\"True\",\"hovertemplate\":\"Accident_Count=%{x}<br>Timezone=%{y}<extra></extra>\",\"legendgroup\":\"\",\"marker\":{\"color\":\"#636efa\",\"pattern\":{\"shape\":\"\"}},\"name\":\"\",\"offsetgroup\":\"\",\"orientation\":\"h\",\"showlegend\":false,\"textposition\":\"auto\",\"x\":[640357,1111604,155989,652744],\"xaxis\":\"x\",\"y\":[\"US/Central\",\"US/Eastern\",\"US/Mountain\",\"US/Pacific\"],\"yaxis\":\"y\",\"type\":\"bar\"}],                        {\"template\":{\"data\":{\"histogram2dcontour\":[{\"type\":\"histogram2dcontour\",\"colorbar\":{\"outlinewidth\":0,\"ticks\":\"\"},\"colorscale\":[[0.0,\"#0d0887\"],[0.1111111111111111,\"#46039f\"],[0.2222222222222222,\"#7201a8\"],[0.3333333333333333,\"#9c179e\"],[0.4444444444444444,\"#bd3786\"],[0.5555555555555556,\"#d8576b\"],[0.6666666666666666,\"#ed7953\"],[0.7777777777777778,\"#fb9f3a\"],[0.8888888888888888,\"#fdca26\"],[1.0,\"#f0f921\"]]}],\"choropleth\":[{\"type\":\"choropleth\",\"colorbar\":{\"outlinewidth\":0,\"ticks\":\"\"}}],\"histogram2d\":[{\"type\":\"histogram2d\",\"colorbar\":{\"outlinewidth\":0,\"ticks\":\"\"},\"colorscale\":[[0.0,\"#0d0887\"],[0.1111111111111111,\"#46039f\"],[0.2222222222222222,\"#7201a8\"],[0.3333333333333333,\"#9c179e\"],[0.4444444444444444,\"#bd3786\"],[0.5555555555555556,\"#d8576b\"],[0.6666666666666666,\"#ed7953\"],[0.7777777777777778,\"#fb9f3a\"],[0.8888888888888888,\"#fdca26\"],[1.0,\"#f0f921\"]]}],\"heatmap\":[{\"type\":\"heatmap\",\"colorbar\":{\"outlinewidth\":0,\"ticks\":\"\"},\"colorscale\":[[0.0,\"#0d0887\"],[0.1111111111111111,\"#46039f\"],[0.2222222222222222,\"#7201a8\"],[0.3333333333333333,\"#9c179e\"],[0.4444444444444444,\"#bd3786\"],[0.5555555555555556,\"#d8576b\"],[0.6666666666666666,\"#ed7953\"],[0.7777777777777778,\"#fb9f3a\"],[0.8888888888888888,\"#fdca26\"],[1.0,\"#f0f921\"]]}],\"heatmapgl\":[{\"type\":\"heatmapgl\",\"colorbar\":{\"outlinewidth\":0,\"ticks\":\"\"},\"colorscale\":[[0.0,\"#0d0887\"],[0.1111111111111111,\"#46039f\"],[0.2222222222222222,\"#7201a8\"],[0.3333333333333333,\"#9c179e\"],[0.4444444444444444,\"#bd3786\"],[0.5555555555555556,\"#d8576b\"],[0.6666666666666666,\"#ed7953\"],[0.7777777777777778,\"#fb9f3a\"],[0.8888888888888888,\"#fdca26\"],[1.0,\"#f0f921\"]]}],\"contourcarpet\":[{\"type\":\"contourcarpet\",\"colorbar\":{\"outlinewidth\":0,\"ticks\":\"\"}}],\"contour\":[{\"type\":\"contour\",\"colorbar\":{\"outlinewidth\":0,\"ticks\":\"\"},\"colorscale\":[[0.0,\"#0d0887\"],[0.1111111111111111,\"#46039f\"],[0.2222222222222222,\"#7201a8\"],[0.3333333333333333,\"#9c179e\"],[0.4444444444444444,\"#bd3786\"],[0.5555555555555556,\"#d8576b\"],[0.6666666666666666,\"#ed7953\"],[0.7777777777777778,\"#fb9f3a\"],[0.8888888888888888,\"#fdca26\"],[1.0,\"#f0f921\"]]}],\"surface\":[{\"type\":\"surface\",\"colorbar\":{\"outlinewidth\":0,\"ticks\":\"\"},\"colorscale\":[[0.0,\"#0d0887\"],[0.1111111111111111,\"#46039f\"],[0.2222222222222222,\"#7201a8\"],[0.3333333333333333,\"#9c179e\"],[0.4444444444444444,\"#bd3786\"],[0.5555555555555556,\"#d8576b\"],[0.6666666666666666,\"#ed7953\"],[0.7777777777777778,\"#fb9f3a\"],[0.8888888888888888,\"#fdca26\"],[1.0,\"#f0f921\"]]}],\"mesh3d\":[{\"type\":\"mesh3d\",\"colorbar\":{\"outlinewidth\":0,\"ticks\":\"\"}}],\"scatter\":[{\"fillpattern\":{\"fillmode\":\"overlay\",\"size\":10,\"solidity\":0.2},\"type\":\"scatter\"}],\"parcoords\":[{\"type\":\"parcoords\",\"line\":{\"colorbar\":{\"outlinewidth\":0,\"ticks\":\"\"}}}],\"scatterpolargl\":[{\"type\":\"scatterpolargl\",\"marker\":{\"colorbar\":{\"outlinewidth\":0,\"ticks\":\"\"}}}],\"bar\":[{\"error_x\":{\"color\":\"#2a3f5f\"},\"error_y\":{\"color\":\"#2a3f5f\"},\"marker\":{\"line\":{\"color\":\"#E5ECF6\",\"width\":0.5},\"pattern\":{\"fillmode\":\"overlay\",\"size\":10,\"solidity\":0.2}},\"type\":\"bar\"}],\"scattergeo\":[{\"type\":\"scattergeo\",\"marker\":{\"colorbar\":{\"outlinewidth\":0,\"ticks\":\"\"}}}],\"scatterpolar\":[{\"type\":\"scatterpolar\",\"marker\":{\"colorbar\":{\"outlinewidth\":0,\"ticks\":\"\"}}}],\"histogram\":[{\"marker\":{\"pattern\":{\"fillmode\":\"overlay\",\"size\":10,\"solidity\":0.2}},\"type\":\"histogram\"}],\"scattergl\":[{\"type\":\"scattergl\",\"marker\":{\"colorbar\":{\"outlinewidth\":0,\"ticks\":\"\"}}}],\"scatter3d\":[{\"type\":\"scatter3d\",\"line\":{\"colorbar\":{\"outlinewidth\":0,\"ticks\":\"\"}},\"marker\":{\"colorbar\":{\"outlinewidth\":0,\"ticks\":\"\"}}}],\"scattermapbox\":[{\"type\":\"scattermapbox\",\"marker\":{\"colorbar\":{\"outlinewidth\":0,\"ticks\":\"\"}}}],\"scatterternary\":[{\"type\":\"scatterternary\",\"marker\":{\"colorbar\":{\"outlinewidth\":0,\"ticks\":\"\"}}}],\"scattercarpet\":[{\"type\":\"scattercarpet\",\"marker\":{\"colorbar\":{\"outlinewidth\":0,\"ticks\":\"\"}}}],\"carpet\":[{\"aaxis\":{\"endlinecolor\":\"#2a3f5f\",\"gridcolor\":\"white\",\"linecolor\":\"white\",\"minorgridcolor\":\"white\",\"startlinecolor\":\"#2a3f5f\"},\"baxis\":{\"endlinecolor\":\"#2a3f5f\",\"gridcolor\":\"white\",\"linecolor\":\"white\",\"minorgridcolor\":\"white\",\"startlinecolor\":\"#2a3f5f\"},\"type\":\"carpet\"}],\"table\":[{\"cells\":{\"fill\":{\"color\":\"#EBF0F8\"},\"line\":{\"color\":\"white\"}},\"header\":{\"fill\":{\"color\":\"#C8D4E3\"},\"line\":{\"color\":\"white\"}},\"type\":\"table\"}],\"barpolar\":[{\"marker\":{\"line\":{\"color\":\"#E5ECF6\",\"width\":0.5},\"pattern\":{\"fillmode\":\"overlay\",\"size\":10,\"solidity\":0.2}},\"type\":\"barpolar\"}],\"pie\":[{\"automargin\":true,\"type\":\"pie\"}]},\"layout\":{\"autotypenumbers\":\"strict\",\"colorway\":[\"#636efa\",\"#EF553B\",\"#00cc96\",\"#ab63fa\",\"#FFA15A\",\"#19d3f3\",\"#FF6692\",\"#B6E880\",\"#FF97FF\",\"#FECB52\"],\"font\":{\"color\":\"#2a3f5f\"},\"hovermode\":\"closest\",\"hoverlabel\":{\"align\":\"left\"},\"paper_bgcolor\":\"white\",\"plot_bgcolor\":\"#E5ECF6\",\"polar\":{\"bgcolor\":\"#E5ECF6\",\"angularaxis\":{\"gridcolor\":\"white\",\"linecolor\":\"white\",\"ticks\":\"\"},\"radialaxis\":{\"gridcolor\":\"white\",\"linecolor\":\"white\",\"ticks\":\"\"}},\"ternary\":{\"bgcolor\":\"#E5ECF6\",\"aaxis\":{\"gridcolor\":\"white\",\"linecolor\":\"white\",\"ticks\":\"\"},\"baxis\":{\"gridcolor\":\"white\",\"linecolor\":\"white\",\"ticks\":\"\"},\"caxis\":{\"gridcolor\":\"white\",\"linecolor\":\"white\",\"ticks\":\"\"}},\"coloraxis\":{\"colorbar\":{\"outlinewidth\":0,\"ticks\":\"\"}},\"colorscale\":{\"sequential\":[[0.0,\"#0d0887\"],[0.1111111111111111,\"#46039f\"],[0.2222222222222222,\"#7201a8\"],[0.3333333333333333,\"#9c179e\"],[0.4444444444444444,\"#bd3786\"],[0.5555555555555556,\"#d8576b\"],[0.6666666666666666,\"#ed7953\"],[0.7777777777777778,\"#fb9f3a\"],[0.8888888888888888,\"#fdca26\"],[1.0,\"#f0f921\"]],\"sequentialminus\":[[0.0,\"#0d0887\"],[0.1111111111111111,\"#46039f\"],[0.2222222222222222,\"#7201a8\"],[0.3333333333333333,\"#9c179e\"],[0.4444444444444444,\"#bd3786\"],[0.5555555555555556,\"#d8576b\"],[0.6666666666666666,\"#ed7953\"],[0.7777777777777778,\"#fb9f3a\"],[0.8888888888888888,\"#fdca26\"],[1.0,\"#f0f921\"]],\"diverging\":[[0,\"#8e0152\"],[0.1,\"#c51b7d\"],[0.2,\"#de77ae\"],[0.3,\"#f1b6da\"],[0.4,\"#fde0ef\"],[0.5,\"#f7f7f7\"],[0.6,\"#e6f5d0\"],[0.7,\"#b8e186\"],[0.8,\"#7fbc41\"],[0.9,\"#4d9221\"],[1,\"#276419\"]]},\"xaxis\":{\"gridcolor\":\"white\",\"linecolor\":\"white\",\"ticks\":\"\",\"title\":{\"standoff\":15},\"zerolinecolor\":\"white\",\"automargin\":true,\"zerolinewidth\":2},\"yaxis\":{\"gridcolor\":\"white\",\"linecolor\":\"white\",\"ticks\":\"\",\"title\":{\"standoff\":15},\"zerolinecolor\":\"white\",\"automargin\":true,\"zerolinewidth\":2},\"scene\":{\"xaxis\":{\"backgroundcolor\":\"#E5ECF6\",\"gridcolor\":\"white\",\"linecolor\":\"white\",\"showbackground\":true,\"ticks\":\"\",\"zerolinecolor\":\"white\",\"gridwidth\":2},\"yaxis\":{\"backgroundcolor\":\"#E5ECF6\",\"gridcolor\":\"white\",\"linecolor\":\"white\",\"showbackground\":true,\"ticks\":\"\",\"zerolinecolor\":\"white\",\"gridwidth\":2},\"zaxis\":{\"backgroundcolor\":\"#E5ECF6\",\"gridcolor\":\"white\",\"linecolor\":\"white\",\"showbackground\":true,\"ticks\":\"\",\"zerolinecolor\":\"white\",\"gridwidth\":2}},\"shapedefaults\":{\"line\":{\"color\":\"#2a3f5f\"}},\"annotationdefaults\":{\"arrowcolor\":\"#2a3f5f\",\"arrowhead\":0,\"arrowwidth\":1},\"geo\":{\"bgcolor\":\"white\",\"landcolor\":\"#E5ECF6\",\"subunitcolor\":\"white\",\"showland\":true,\"showlakes\":true,\"lakecolor\":\"white\"},\"title\":{\"x\":0.05},\"mapbox\":{\"style\":\"light\"}}},\"xaxis\":{\"anchor\":\"y\",\"domain\":[0.0,1.0],\"title\":{\"text\":\"Accident_Count\"}},\"yaxis\":{\"anchor\":\"x\",\"domain\":[0.0,1.0],\"title\":{\"text\":\"Timezone\"}},\"legend\":{\"tracegroupgap\":0},\"margin\":{\"t\":60},\"barmode\":\"relative\"},                        {\"responsive\": true}                    ).then(function(){\n",
       "                            \n",
       "var gd = document.getElementById('433028a4-948a-4115-82b9-ca29b8570592');\n",
       "var x = new MutationObserver(function (mutations, observer) {{\n",
       "        var display = window.getComputedStyle(gd).display;\n",
       "        if (!display || display === 'none') {{\n",
       "            console.log([gd, 'removed!']);\n",
       "            Plotly.purge(gd);\n",
       "            observer.disconnect();\n",
       "        }}\n",
       "}});\n",
       "\n",
       "// Listen for the removal of the full notebook cells\n",
       "var notebookContainer = gd.closest('#notebook-container');\n",
       "if (notebookContainer) {{\n",
       "    x.observe(notebookContainer, {childList: true});\n",
       "}}\n",
       "\n",
       "// Listen for the clearing of the current output cell\n",
       "var outputEl = gd.closest('.output');\n",
       "if (outputEl) {{\n",
       "    x.observe(outputEl, {childList: true});\n",
       "}}\n",
       "\n",
       "                        })                };                });            </script>        </div>"
      ]
     },
     "metadata": {},
     "output_type": "display_data"
    },
    {
     "data": {
      "application/vnd.plotly.v1+json": {
       "config": {
        "plotlyServerURL": "https://plot.ly"
       },
       "data": [
        {
         "alignmentgroup": "True",
         "hovertemplate": "Accident_Count=%{x}<br>Airport_Code=%{y}<extra></extra>",
         "legendgroup": "",
         "marker": {
          "color": "#636efa",
          "pattern": {
           "shape": ""
          }
         },
         "name": "",
         "offsetgroup": "",
         "orientation": "h",
         "showlegend": false,
         "textposition": "auto",
         "type": "bar",
         "x": [
          19,
          12,
          189,
          1,
          41,
          589,
          42,
          12,
          14,
          165,
          12,
          1277,
          58,
          415,
          51,
          40,
          22,
          82,
          195,
          54,
          110,
          202,
          38,
          17,
          125,
          32,
          30,
          2178,
          79,
          1,
          4,
          130,
          9,
          481,
          12,
          159,
          13,
          2537,
          859,
          6687,
          18,
          100,
          285,
          47,
          66,
          45,
          33,
          172,
          272,
          57,
          67,
          78,
          262,
          94,
          10,
          90,
          94,
          13,
          3,
          2,
          6,
          369,
          321,
          11,
          96,
          8,
          41,
          15,
          48,
          1409,
          78,
          49,
          8,
          40,
          43,
          15,
          1,
          8,
          214,
          198,
          1,
          4,
          604,
          29,
          252,
          174,
          490,
          1,
          95,
          11,
          48,
          102,
          2007,
          4,
          28,
          3438,
          198,
          20,
          57,
          1,
          2,
          105,
          8,
          363,
          976,
          121,
          27,
          9,
          9,
          11937,
          36,
          1202,
          475,
          21,
          485,
          65,
          2371,
          393,
          56,
          206,
          4,
          26,
          463,
          5511,
          3428,
          128,
          2,
          9,
          569,
          40,
          3245,
          58,
          94,
          7,
          17,
          7817,
          17,
          952,
          25,
          75,
          1966,
          7213,
          7,
          8,
          24,
          118,
          93,
          16,
          115,
          80,
          42,
          17,
          30,
          271,
          292,
          4970,
          5193,
          9,
          82,
          68,
          2,
          169,
          300,
          7448,
          5167,
          1529,
          2075,
          21,
          2,
          4,
          7,
          1,
          4,
          94,
          10,
          1085,
          22,
          15,
          15,
          231,
          50,
          4,
          432,
          202,
          15,
          54,
          738,
          20,
          24,
          1491,
          44,
          14,
          14492,
          5,
          34785,
          563,
          1616,
          162,
          18,
          121,
          1298,
          444,
          12196,
          113,
          575,
          1,
          1608,
          701,
          7,
          6,
          325,
          426,
          1609,
          20,
          1185,
          167,
          2,
          12,
          29,
          130,
          29,
          766,
          98,
          106,
          2,
          691,
          147,
          794,
          154,
          226,
          17,
          7,
          6,
          410,
          4,
          385,
          251,
          82,
          2706,
          8,
          36,
          139,
          1051,
          2247,
          3138,
          397,
          9,
          6302,
          411,
          140,
          6,
          19446,
          5091,
          3016,
          6,
          5,
          40,
          113,
          504,
          192,
          39,
          4,
          8450,
          11,
          628,
          164,
          27,
          53,
          5,
          537,
          289,
          11627,
          133,
          173,
          25,
          694,
          5524,
          3975,
          21,
          2,
          4051,
          77,
          2,
          219,
          307,
          1163,
          1569,
          567,
          92,
          879,
          169,
          82,
          44,
          23,
          107,
          36612,
          534,
          421,
          41,
          153,
          522,
          5895,
          471,
          47,
          6,
          1,
          7,
          233,
          6,
          221,
          19,
          10,
          17,
          369,
          271,
          20,
          761,
          32120,
          115,
          4717,
          477,
          10661,
          249,
          546,
          238,
          1,
          8,
          587,
          27,
          4,
          1875,
          1,
          92,
          3528,
          2,
          39,
          874,
          7,
          13,
          33,
          9,
          3,
          37,
          82,
          408,
          28,
          39,
          26,
          12673,
          14,
          238,
          5,
          16,
          225,
          218,
          241,
          3,
          19,
          6,
          518,
          17246,
          432,
          37,
          10,
          938,
          19,
          17,
          2204,
          2,
          7,
          2409,
          172,
          470,
          2945,
          383,
          10,
          38,
          10,
          869,
          26,
          4,
          304,
          119,
          963,
          41,
          5658,
          651,
          3957,
          3176,
          2,
          12,
          1056,
          5822,
          987,
          659,
          2,
          26,
          4,
          145,
          144,
          193,
          946,
          6,
          1,
          14,
          315,
          1484,
          23,
          2,
          10,
          112,
          285,
          44512,
          3078,
          5198,
          66,
          260,
          15,
          8,
          26,
          1,
          10,
          581,
          1,
          27,
          1589,
          12,
          187,
          274,
          5,
          220,
          796,
          8,
          1114,
          240,
          2477,
          38,
          175,
          547,
          510,
          15,
          4286,
          13,
          30,
          18,
          14,
          230,
          26,
          37621,
          39,
          421,
          102,
          1330,
          2704,
          25,
          5963,
          43,
          47,
          703,
          16,
          332,
          13,
          11,
          191,
          11,
          20,
          382,
          68,
          52,
          10668,
          30,
          17,
          7,
          106,
          3420,
          1232,
          6,
          2165,
          5,
          9,
          43,
          716,
          536,
          46,
          33,
          97,
          502,
          1109,
          2884,
          18,
          938,
          67,
          2,
          198,
          2,
          313,
          5986,
          691,
          215,
          24943,
          300,
          330,
          3944,
          38,
          54,
          9270,
          538,
          1151,
          46,
          8,
          135,
          45,
          733,
          25,
          780,
          14,
          14834,
          64,
          40,
          3820,
          8,
          323,
          15,
          3,
          223,
          435,
          33,
          3,
          119,
          236,
          7,
          1800,
          1670,
          6770,
          6171,
          58,
          29,
          911,
          5499,
          431,
          16,
          97,
          169,
          13300,
          43,
          47,
          27,
          24,
          1,
          3,
          22,
          2,
          2127,
          65,
          132,
          1639,
          970,
          136,
          2926,
          10,
          2,
          1,
          4,
          937,
          333,
          5,
          6,
          236,
          3685,
          55,
          7009,
          4224,
          2,
          3825,
          5,
          183,
          3294,
          492,
          34,
          37,
          124,
          69,
          71,
          4,
          1803,
          1,
          1,
          12,
          32,
          30,
          256,
          42,
          37,
          4,
          260,
          3,
          4,
          5920,
          30,
          108,
          2329,
          24,
          208,
          331,
          7,
          2551,
          2,
          2548,
          17,
          28,
          139,
          10,
          2391,
          55,
          35,
          980,
          270,
          105,
          21,
          236,
          16,
          19,
          152,
          55,
          6,
          8860,
          116,
          82,
          1,
          30,
          21625,
          336,
          7,
          27,
          161,
          804,
          1894,
          4,
          17,
          2,
          7547,
          219,
          15,
          9,
          6,
          30,
          111,
          6,
          281,
          72,
          43,
          5675,
          51,
          261,
          92,
          234,
          15,
          362,
          1,
          35,
          6746,
          270,
          8642,
          21,
          42,
          1207,
          160,
          53,
          17,
          7,
          720,
          4682,
          367,
          77,
          32,
          5878,
          197,
          52,
          310,
          15,
          7356,
          5091,
          303,
          3223,
          7,
          3426,
          134,
          16,
          76,
          64,
          9,
          370,
          12,
          29,
          3249,
          77,
          50,
          2695,
          395,
          41,
          632,
          730,
          116,
          121,
          110,
          18,
          103,
          436,
          6485,
          3305,
          2,
          110,
          1879,
          287,
          113,
          9,
          4197,
          15,
          1084,
          21715,
          22,
          18,
          383,
          210,
          14,
          205,
          624,
          144,
          6972,
          3,
          141,
          8,
          33,
          14,
          5,
          69,
          33,
          29,
          14,
          119,
          75,
          7,
          1728,
          11192,
          20471,
          2,
          394,
          197,
          10,
          10,
          2760,
          214,
          2219,
          4962,
          12,
          307,
          633,
          58,
          33,
          306,
          587,
          2744,
          10,
          3,
          20,
          39,
          12,
          555,
          2,
          101,
          51,
          85,
          90,
          26,
          5,
          137,
          332,
          7242,
          30,
          4,
          322,
          12,
          3,
          1276,
          1109,
          179,
          92,
          23,
          2,
          403,
          33,
          33,
          351,
          118,
          73,
          1333,
          24,
          11,
          36,
          177,
          48,
          6,
          25,
          12882,
          3,
          11,
          7,
          106,
          1405,
          131,
          600,
          1300,
          23,
          349,
          33,
          3076,
          382,
          138,
          797,
          2300,
          754,
          14,
          3,
          9883,
          53,
          96,
          2489,
          7050,
          48,
          22,
          2,
          343,
          32,
          1,
          83,
          25,
          1,
          513,
          39,
          100,
          33,
          135,
          1291,
          106,
          162,
          33,
          8503,
          53,
          369,
          1081,
          1366,
          127,
          3,
          44,
          18,
          547,
          125,
          1985,
          1090,
          105,
          2,
          2,
          117,
          387,
          7,
          5,
          1242,
          7,
          57,
          18,
          5068,
          94,
          50,
          1187,
          3,
          19743,
          2,
          90,
          79,
          2756,
          2561,
          2,
          665,
          16,
          1495,
          324,
          4,
          253,
          40,
          4,
          520,
          6,
          31,
          315,
          95,
          67,
          98,
          232,
          21,
          4,
          2,
          13,
          43,
          9836,
          14669,
          228,
          290,
          5916,
          1413,
          873,
          28,
          10,
          272,
          8,
          105,
          11,
          6,
          18,
          488,
          1674,
          450,
          51,
          142,
          217,
          3018,
          207,
          19,
          246,
          2,
          1889,
          4,
          1413,
          10177,
          8158,
          850,
          286,
          891,
          251,
          375,
          7,
          6,
          2556,
          366,
          57,
          37,
          68,
          19,
          3,
          56,
          518,
          53,
          80,
          5374,
          728,
          11128,
          32,
          6,
          1,
          38,
          77,
          88,
          7,
          4,
          1,
          12,
          37,
          225,
          210,
          2343,
          615,
          26,
          56,
          783,
          19,
          4,
          102,
          1732,
          181,
          33,
          4154,
          356,
          176,
          2,
          221,
          16,
          6436,
          388,
          92,
          31,
          19,
          5,
          1726,
          167,
          49,
          389,
          77,
          12,
          550,
          9,
          69,
          3519,
          1,
          45,
          4179,
          11,
          37,
          58,
          41,
          1030,
          7,
          52,
          60,
          595,
          10,
          83,
          219,
          18,
          11,
          561,
          15,
          3606,
          32,
          29,
          17,
          13,
          78,
          26,
          5339,
          257,
          111,
          591,
          103,
          29,
          8,
          4,
          83,
          103,
          7,
          278,
          893,
          515,
          16086,
          7335,
          8,
          303,
          10,
          559,
          4,
          230,
          6,
          619,
          71,
          139,
          5,
          2180,
          23,
          513,
          10,
          836,
          134,
          300,
          54,
          193,
          593,
          33,
          1056,
          62,
          321,
          5,
          3176,
          26,
          1156,
          22,
          10,
          244,
          137,
          11,
          83,
          534,
          942,
          1438,
          7389,
          31,
          308,
          960,
          198,
          3006,
          832,
          80,
          9287,
          19532,
          13359,
          378,
          1109,
          55,
          8,
          1129,
          286,
          163,
          119,
          3655,
          81,
          412,
          114,
          1564,
          175,
          405,
          2,
          42,
          499,
          1851,
          773,
          205,
          9,
          99,
          10,
          6496,
          19,
          14646,
          69,
          2810,
          6029,
          39,
          317,
          139,
          1797,
          39,
          93,
          23,
          636,
          91,
          3,
          230,
          75,
          121,
          3,
          630,
          2,
          1129,
          5882,
          142,
          2181,
          514,
          10348,
          20,
          1232,
          84,
          125,
          27,
          24,
          48,
          3039,
          31,
          4,
          24,
          197,
          15,
          2912,
          115,
          35,
          735,
          65,
          115,
          2157,
          3,
          81,
          5,
          4,
          24,
          7,
          19,
          37,
          1897,
          531,
          530,
          1638,
          1,
          8,
          319,
          44,
          12081,
          7,
          1140,
          766,
          311,
          47282,
          2,
          1263,
          6203,
          59,
          40,
          17,
          970,
          1,
          1393,
          16722,
          31,
          53,
          244,
          90,
          4529,
          1320,
          8,
          151,
          124,
          40,
          3990,
          62,
          149,
          4671,
          526,
          374,
          222,
          17,
          11,
          189,
          2860,
          6,
          4,
          5503,
          124,
          1932,
          159,
          12078,
          8605,
          298,
          405,
          35,
          119,
          674,
          4667,
          3047,
          334,
          337,
          231,
          3,
          20,
          1189,
          627,
          211,
          958,
          2,
          292,
          9347,
          368,
          226,
          118,
          45,
          11,
          14,
          79,
          198,
          122,
          2142,
          86,
          741,
          1892,
          1727,
          59,
          1171,
          1135,
          24,
          72,
          4,
          2089,
          5270,
          62,
          22,
          510,
          57,
          23,
          7,
          2695,
          2,
          4243,
          512,
          850,
          218,
          259,
          2,
          24,
          124,
          120,
          1160,
          134,
          1324,
          53,
          14783,
          40,
          180,
          758,
          1026,
          166,
          35,
          2300,
          35,
          11,
          3,
          315,
          58,
          824,
          78,
          38,
          67,
          27,
          12,
          81,
          6,
          98,
          4377,
          34,
          112,
          35,
          112,
          6,
          347,
          4100,
          7,
          4553,
          62,
          6104,
          31,
          4,
          4299,
          1274,
          151,
          66,
          108,
          1022,
          1730,
          46,
          166,
          2,
          24,
          113,
          86,
          1348,
          38,
          2070,
          675,
          483,
          644,
          12,
          414,
          33,
          141,
          87,
          9312,
          5,
          3,
          3488,
          1,
          2900,
          988,
          78,
          1,
          338,
          1771,
          1,
          23,
          82,
          1982,
          161,
          17,
          622,
          42,
          6157,
          63,
          1027,
          41,
          6849,
          694,
          324,
          188,
          1530,
          275,
          3190,
          121,
          280,
          4,
          16559,
          649,
          1979,
          28,
          24,
          38,
          49,
          19,
          413,
          2017,
          2,
          8467,
          15,
          3754,
          3308,
          16,
          14,
          2369,
          703,
          11684,
          157,
          289,
          34,
          1086,
          28,
          71,
          757,
          11,
          20,
          1551,
          8,
          18,
          4766,
          177,
          8,
          313,
          244,
          4,
          26,
          1039,
          746,
          9825,
          14,
          224,
          19,
          9778,
          45,
          371,
          1264,
          681,
          350,
          12,
          35,
          11793,
          168,
          3463,
          21,
          1259,
          18254,
          37,
          26,
          112,
          2753,
          142,
          2043,
          36,
          460,
          908,
          80,
          9,
          205,
          34,
          2073,
          59,
          88,
          1290,
          36,
          2317,
          10,
          7,
          33,
          591,
          489,
          100,
          1,
          1,
          21,
          9,
          6834,
          12,
          321,
          233,
          4600,
          1,
          57,
          58,
          17,
          7582,
          1204,
          134,
          57,
          18,
          13917,
          1098,
          12153,
          22,
          474,
          44,
          150,
          18,
          59,
          762,
          45,
          96,
          323,
          8317,
          210,
          4,
          16688,
          1860,
          131,
          8275,
          81,
          9,
          3,
          1107,
          111,
          95,
          2,
          6,
          1570,
          2740,
          1735,
          81,
          3,
          4,
          6410,
          179,
          2348,
          34,
          9,
          14000,
          1,
          1,
          4301,
          394,
          2,
          6,
          66,
          8,
          7,
          496,
          8,
          915,
          605,
          4,
          198,
          176,
          6,
          4,
          45,
          1276,
          211,
          826,
          6,
          8,
          320,
          773,
          2611,
          6,
          3,
          1281,
          3947,
          569,
          688,
          273,
          10,
          43,
          12,
          37,
          5397,
          2057,
          1139,
          47,
          4807,
          9,
          16167,
          57,
          42,
          7868,
          686,
          800,
          415,
          4,
          439,
          11026,
          3,
          10708,
          2890,
          470,
          10,
          2190,
          1318,
          53,
          12,
          15,
          31,
          1103,
          977,
          18,
          2176,
          47240,
          415,
          5,
          146,
          21,
          19,
          4818,
          8612,
          101,
          2,
          3830,
          3,
          200,
          24,
          1,
          2,
          15,
          2055,
          184,
          1021,
          146,
          1437,
          77,
          1858,
          3574,
          112,
          4089,
          4,
          2027,
          14781,
          29,
          528,
          8,
          15,
          13,
          3,
          60,
          43,
          167,
          55,
          16,
          5,
          10,
          42,
          458,
          78,
          5,
          4058,
          14,
          581,
          60,
          383,
          78,
          7100,
          88,
          155,
          33,
          1,
          29,
          857,
          388,
          192,
          1915,
          1602,
          133,
          6,
          184,
          69,
          19,
          1,
          1128,
          1,
          12208,
          252,
          83,
          5893,
          36,
          9183,
          1323,
          9,
          113,
          2253,
          12185,
          215,
          113,
          46,
          1273,
          12,
          215,
          3002,
          7598,
          8,
          854,
          4910,
          3234,
          287,
          4156,
          1846,
          656,
          4,
          16,
          460,
          1959,
          1649,
          173,
          9187,
          177,
          5,
          3846,
          4,
          1790,
          227,
          1086,
          7894,
          1976,
          57,
          940,
          1649,
          16,
          222,
          13,
          1760,
          1,
          71,
          197,
          14831,
          40,
          10,
          56,
          5085,
          6,
          22,
          7168,
          3873,
          10,
          7,
          4731,
          26,
          11,
          26,
          13,
          4,
          1022,
          3,
          11511,
          160,
          2127,
          1072,
          1048,
          17163,
          477,
          22,
          269,
          2653,
          2,
          18,
          4,
          199,
          151,
          10597,
          586,
          37,
          3544,
          117,
          1,
          134,
          11,
          58,
          5325,
          295,
          21,
          23,
          6272,
          12,
          851,
          3365,
          54,
          751,
          134,
          8,
          51,
          31,
          6769,
          8506,
          5700,
          1211,
          2,
          16,
          2537,
          30,
          1667,
          39,
          228,
          38,
          731,
          955,
          2432,
          19,
          52,
          1876,
          5,
          437,
          3560,
          58,
          29,
          40,
          8,
          1,
          1071,
          44,
          12,
          130,
          759,
          12,
          49,
          73,
          6,
          55,
          4394,
          3521,
          21,
          45,
          97,
          31,
          596,
          6533,
          258,
          28,
          155,
          5081,
          2,
          4706,
          16,
          755,
          826,
          51,
          380,
          14,
          1995,
          175,
          4900,
          842,
          2,
          1,
          28,
          112,
          3051,
          181,
          345,
          336,
          222,
          74,
          6,
          4595,
          3828,
          113,
          212,
          58,
          3,
          2629,
          909,
          91,
          55,
          435,
          2131,
          3077,
          308,
          3155,
          244,
          8248,
          55,
          2499,
          45,
          9,
          94,
          11,
          514,
          13,
          55,
          4,
          61,
          1089,
          171,
          2398,
          2199,
          858,
          177,
          30,
          11744,
          12,
          4325,
          6,
          232,
          33,
          671,
          820,
          8227,
          36,
          13,
          176,
          1717,
          3,
          920,
          158,
          82,
          5,
          3,
          98,
          1082,
          208,
          67,
          49,
          41,
          75,
          4,
          93,
          5068,
          41,
          2820,
          13,
          1367,
          29,
          2006,
          5161,
          124,
          7,
          396,
          82,
          877,
          434,
          102,
          1765,
          440,
          102,
          700,
          7012,
          873,
          10610,
          160,
          366,
          86,
          190,
          1635,
          415,
          121,
          336,
          348,
          57,
          1,
          150,
          31,
          2904,
          717,
          20,
          132,
          33,
          238,
          2,
          15,
          53,
          1775,
          2,
          460,
          19,
          5218,
          736,
          8,
          94,
          412,
          332,
          192,
          3483,
          82,
          238,
          4,
          1,
          333,
          872,
          164,
          3,
          194,
          57,
          37,
          1,
          1,
          16,
          70,
          35,
          95,
          123,
          2311,
          28,
          5,
          188,
          1177,
          155
         ],
         "xaxis": "x",
         "y": [
          "K01M",
          "K04V",
          "K04W",
          "K08D",
          "K0A9",
          "K0CO",
          "K0E0",
          "K0F2",
          "K0J4",
          "K0VG",
          "K11R",
          "K12N",
          "K14Y",
          "K19A",
          "K1A5",
          "K1A6",
          "K1F0",
          "K1H2",
          "K1II",
          "K1J0",
          "K1M4",
          "K1P1",
          "K1R7",
          "K1V4",
          "K1V6",
          "K1YT",
          "K20V",
          "K21D",
          "K27A",
          "K2D5",
          "K2DP",
          "K2G4",
          "K2I0",
          "K2J9",
          "K2V5",
          "K2W6",
          "K33V",
          "K36U",
          "K3A1",
          "K3A6",
          "K3DU",
          "K3I2",
          "K3J7",
          "K3LF",
          "K3R7",
          "K3T5",
          "K3TH",
          "K40J",
          "K42J",
          "K48I",
          "K4A6",
          "K4A9",
          "K4BL",
          "K4BM",
          "K4CR",
          "K4HV",
          "K4I3",
          "K4M9",
          "K4MR",
          "K4O4",
          "K4SL",
          "K54J",
          "K5C1",
          "K5M9",
          "K5SM",
          "K5T6",
          "K5W8",
          "K65S",
          "K6A1",
          "K6A2",
          "K6B0",
          "K6R3",
          "K6R6",
          "K77M",
          "K79J",
          "K7R3",
          "K7R5",
          "K82V",
          "K87Q",
          "K8A0",
          "K8D3",
          "K8S0",
          "K9A1",
          "K9A4",
          "K9BB",
          "K9L2",
          "K9MN",
          "K9V9",
          "KAAA",
          "KAAF",
          "KAAO",
          "KAAT",
          "KABE",
          "KABH",
          "KABI",
          "KABQ",
          "KABY",
          "KACB",
          "KACJ",
          "KACK",
          "KACP",
          "KACQ",
          "KACT",
          "KACV",
          "KACY",
          "KADC",
          "KADG",
          "KADH",
          "KADM",
          "KADS",
          "KADU",
          "KADW",
          "KAEG",
          "KAEJ",
          "KAEL",
          "KAEX",
          "KAFF",
          "KAFJ",
          "KAFK",
          "KAFN",
          "KAFO",
          "KAFP",
          "KAFW",
          "KAGC",
          "KAGS",
          "KAHN",
          "KAHQ",
          "KAIB",
          "KAID",
          "KAIG",
          "KAIK",
          "KAIO",
          "KAIT",
          "KAIZ",
          "KAJG",
          "KAJO",
          "KAJZ",
          "KAKH",
          "KAKO",
          "KAKQ",
          "KAKR",
          "KALB",
          "KALI",
          "KALK",
          "KALM",
          "KALN",
          "KALO",
          "KALS",
          "KALW",
          "KALX",
          "KAMA",
          "KAMG",
          "KAMN",
          "KAMW",
          "KANB",
          "KAND",
          "KANE",
          "KANJ",
          "KANK",
          "KANQ",
          "KANW",
          "KAOH",
          "KAOO",
          "KAPA",
          "KAPC",
          "KAPF",
          "KAPG",
          "KAPN",
          "KAPY",
          "KAQO",
          "KAQP",
          "KAQR",
          "KAQV",
          "KAQW",
          "KARA",
          "KARB",
          "KARG",
          "KARL",
          "KARM",
          "KARR",
          "KART",
          "KARV",
          "KARW",
          "KASD",
          "KASE",
          "KASG",
          "KASH",
          "KASJ",
          "KASL",
          "KAST",
          "KASW",
          "KASX",
          "KATL",
          "KATS",
          "KATT",
          "KATW",
          "KAUD",
          "KAUG",
          "KAUH",
          "KAUM",
          "KAUN",
          "KAUO",
          "KAUS",
          "KAUW",
          "KAVC",
          "KAVK",
          "KAVL",
          "KAVP",
          "KAWG",
          "KAWH",
          "KAWM",
          "KAWN",
          "KAWO",
          "KAXA",
          "KAXH",
          "KAXN",
          "KAXS",
          "KAXX",
          "KAYS",
          "KAZC",
          "KAZE",
          "KAZO",
          "KB23",
          "KBAB",
          "KBAC",
          "KBAD",
          "KBAF",
          "KBAK",
          "KBAN",
          "KBAZ",
          "KBBB",
          "KBBD",
          "KBBG",
          "KBBP",
          "KBBW",
          "KBCB",
          "KBCE",
          "KBCK",
          "KBCT",
          "KBDE",
          "KBDG",
          "KBDH",
          "KBDL",
          "KBDN",
          "KBDR",
          "KBDU",
          "KBEA",
          "KBED",
          "KBEH",
          "KBFD",
          "KBFF",
          "KBFI",
          "KBFL",
          "KBFM",
          "KBFW",
          "KBGD",
          "KBGE",
          "KBGF",
          "KBGM",
          "KBGR",
          "KBHB",
          "KBHK",
          "KBHM",
          "KBIE",
          "KBIF",
          "KBIH",
          "KBIJ",
          "KBIL",
          "KBIS",
          "KBIV",
          "KBIX",
          "KBJC",
          "KBJI",
          "KBJJ",
          "KBKD",
          "KBKE",
          "KBKF",
          "KBKL",
          "KBKN",
          "KBKS",
          "KBKV",
          "KBKW",
          "KBKX",
          "KBLF",
          "KBLH",
          "KBLI",
          "KBLM",
          "KBLU",
          "KBLV",
          "KBMC",
          "KBMG",
          "KBMI",
          "KBML",
          "KBMQ",
          "KBMT",
          "KBNA",
          "KBNL",
          "KBNO",
          "KBNW",
          "KBOI",
          "KBOK",
          "KBOS",
          "KBOW",
          "KBPG",
          "KBPK",
          "KBPP",
          "KBPT",
          "KBQK",
          "KBQP",
          "KBRD",
          "KBRL",
          "KBRO",
          "KBRX",
          "KBTA",
          "KBTL",
          "KBTM",
          "KBTP",
          "KBTR",
          "KBTV",
          "KBUF",
          "KBUO",
          "KBUR",
          "KBUU",
          "KBUY",
          "KBVI",
          "KBVN",
          "KBVO",
          "KBVS",
          "KBVU",
          "KBVX",
          "KBVY",
          "KBWD",
          "KBWG",
          "KBWI",
          "KBWP",
          "KBXA",
          "KBXK",
          "KBYG",
          "KBYH",
          "KBYI",
          "KBYS",
          "KBYY",
          "KBZN",
          "KC09",
          "KC29",
          "KC35",
          "KC75",
          "KCAD",
          "KCAE",
          "KCAG",
          "KCAK",
          "KCAO",
          "KCAV",
          "KCBE",
          "KCBF",
          "KCBG",
          "KCBK",
          "KCBM",
          "KCCA",
          "KCCO",
          "KCCR",
          "KCCU",
          "KCCY",
          "KCDA",
          "KCDC",
          "KCDH",
          "KCDJ",
          "KCDN",
          "KCDR",
          "KCDS",
          "KCDW",
          "KCEC",
          "KCEF",
          "KCEU",
          "KCEW",
          "KCEY",
          "KCEZ",
          "KCFD",
          "KCFE",
          "KCFS",
          "KCFV",
          "KCGC",
          "KCGE",
          "KCGF",
          "KCGI",
          "KCGS",
          "KCGZ",
          "KCHA",
          "KCHD",
          "KCHJ",
          "KCHK",
          "KCHO",
          "KCHS",
          "KCIC",
          "KCID",
          "KCIN",
          "KCIR",
          "KCIU",
          "KCJR",
          "KCKB",
          "KCKF",
          "KCKI",
          "KCKM",
          "KCKN",
          "KCKP",
          "KCKV",
          "KCLE",
          "KCLI",
          "KCLK",
          "KCLL",
          "KCLM",
          "KCLS",
          "KCLT",
          "KCMA",
          "KCMH",
          "KCMI",
          "KCMR",
          "KCMS",
          "KCMX",
          "KCMY",
          "KCNB",
          "KCNC",
          "KCNI",
          "KCNK",
          "KCNM",
          "KCNO",
          "KCNU",
          "KCNW",
          "KCNY",
          "KCOD",
          "KCOE",
          "KCOF",
          "KCOM",
          "KCON",
          "KCOQ",
          "KCOS",
          "KCOT",
          "KCOU",
          "KCPC",
          "KCPK",
          "KCPR",
          "KCPS",
          "KCPT",
          "KCPW",
          "KCQB",
          "KCQC",
          "KCQF",
          "KCQM",
          "KCQT",
          "KCQV",
          "KCQW",
          "KCQX",
          "KCRE",
          "KCRG",
          "KCRP",
          "KCRQ",
          "KCRS",
          "KCRV",
          "KCRW",
          "KCRX",
          "KCSG",
          "KCSM",
          "KCSQ",
          "KCSV",
          "KCTB",
          "KCTD",
          "KCTJ",
          "KCTY",
          "KCTZ",
          "KCUB",
          "KCUH",
          "KCUL",
          "KCUT",
          "KCVB",
          "KCVG",
          "KCVH",
          "KCVN",
          "KCVO",
          "KCVS",
          "KCVX",
          "KCWA",
          "KCWC",
          "KCWF",
          "KCWI",
          "KCWN",
          "KCWV",
          "KCXO",
          "KCXP",
          "KCXY",
          "KCYS",
          "KCZK",
          "KCZZ",
          "KD25",
          "KD39",
          "KD57",
          "KD95",
          "KDAA",
          "KDAB",
          "KDAG",
          "KDAL",
          "KDAN",
          "KDAW",
          "KDAY",
          "KDBN",
          "KDBQ",
          "KDCA",
          "KDCM",
          "KDCU",
          "KDCY",
          "KDDC",
          "KDDH",
          "KDEC",
          "KDED",
          "KDEH",
          "KDEN",
          "KDEQ",
          "KDET",
          "KDEW",
          "KDFI",
          "KDFW",
          "KDGW",
          "KDHN",
          "KDIJ",
          "KDIK",
          "KDKB",
          "KDKK",
          "KDKR",
          "KDLF",
          "KDLH",
          "KDLL",
          "KDLN",
          "KDLS",
          "KDLZ",
          "KDMA",
          "KDMH",
          "KDMN",
          "KDMO",
          "KDMW",
          "KDNL",
          "KDNN",
          "KDNS",
          "KDNV",
          "KDOV",
          "KDPA",
          "KDPG",
          "KDPL",
          "KDQH",
          "KDRA",
          "KDRC",
          "KDRI",
          "KDRO",
          "KDRT",
          "KDSM",
          "KDSV",
          "KDTL",
          "KDTN",
          "KDTO",
          "KDTS",
          "KDTW",
          "KDUA",
          "KDUB",
          "KDUC",
          "KDUG",
          "KDUH",
          "KDUJ",
          "KDUX",
          "KDVK",
          "KDVN",
          "KDVO",
          "KDVP",
          "KDVT",
          "KDWH",
          "KDWX",
          "KDXR",
          "KDXX",
          "KDYA",
          "KDYB",
          "KDYL",
          "KDYR",
          "KDYS",
          "KDYT",
          "KDZB",
          "KDZJ",
          "KE11",
          "KE16",
          "KE33",
          "KE38",
          "KE80",
          "KEAR",
          "KEAT",
          "KEAU",
          "KEBG",
          "KEBS",
          "KECG",
          "KECP",
          "KECS",
          "KECU",
          "KEDC",
          "KEDE",
          "KEDJ",
          "KEDU",
          "KEDW",
          "KEED",
          "KEEN",
          "KEEO",
          "KEET",
          "KEFC",
          "KEFD",
          "KEFK",
          "KEFT",
          "KEGE",
          "KEGV",
          "KEHO",
          "KEHR",
          "KEHY",
          "KEIK",
          "KEKA",
          "KEKM",
          "KEKN",
          "KEKO",
          "KEKQ",
          "KELD",
          "KELM",
          "KELN",
          "KELO",
          "KELP",
          "KELY",
          "KELZ",
          "KEMM",
          "KEMP",
          "KEMT",
          "KEMV",
          "KEND",
          "KENL",
          "KENV",
          "KENW",
          "KEOE",
          "KEOK",
          "KEPH",
          "KEPZ",
          "KEQY",
          "KERI",
          "KERV",
          "KERY",
          "KESC",
          "KESF",
          "KESN",
          "KEST",
          "KETB",
          "KETC",
          "KEUF",
          "KEUG",
          "KEUL",
          "KEVB",
          "KEVM",
          "KEVV",
          "KEVW",
          "KEWB",
          "KEWK",
          "KEWN",
          "KEWR",
          "KEXX",
          "KEYE",
          "KEYF",
          "KEYW",
          "KEZF",
          "KEZM",
          "KEZS",
          "KF05",
          "KF44",
          "KF46",
          "KF70",
          "KFAF",
          "KFAM",
          "KFAR",
          "KFAT",
          "KFAY",
          "KFBG",
          "KFBL",
          "KFBR",
          "KFCI",
          "KFCM",
          "KFCS",
          "KFDK",
          "KFDR",
          "KFDW",
          "KFDY",
          "KFEP",
          "KFET",
          "KFEW",
          "KFFA",
          "KFFC",
          "KFFL",
          "KFFM",
          "KFFO",
          "KFFT",
          "KFFX",
          "KFFZ",
          "KFHB",
          "KFHU",
          "KFIG",
          "KFIT",
          "KFKA",
          "KFKL",
          "KFKN",
          "KFKS",
          "KFLD",
          "KFLG",
          "KFLL",
          "KFLO",
          "KFLP",
          "KFLY",
          "KFME",
          "KFMH",
          "KFMM",
          "KFMN",
          "KFMY",
          "KFNB",
          "KFNL",
          "KFNT",
          "KFOD",
          "KFOE",
          "KFOK",
          "KFOT",
          "KFOZ",
          "KFPK",
          "KFPR",
          "KFQD",
          "KFRG",
          "KFRI",
          "KFRM",
          "KFSD",
          "KFSE",
          "KFSI",
          "KFSK",
          "KFSM",
          "KFSO",
          "KFST",
          "KFSW",
          "KFTG",
          "KFTK",
          "KFTN",
          "KFTW",
          "KFTY",
          "KFUL",
          "KFVE",
          "KFVX",
          "KFWA",
          "KFWB",
          "KFWC",
          "KFWD",
          "KFWN",
          "KFWS",
          "KFXE",
          "KFXY",
          "KFYG",
          "KFYJ",
          "KFYV",
          "KFZG",
          "KFZY",
          "KGAD",
          "KGAI",
          "KGAO",
          "KGBD",
          "KGBG",
          "KGBN",
          "KGCC",
          "KGCD",
          "KGCK",
          "KGCM",
          "KGCN",
          "KGDB",
          "KGDJ",
          "KGDP",
          "KGDV",
          "KGED",
          "KGEG",
          "KGEU",
          "KGEV",
          "KGEY",
          "KGEZ",
          "KGFA",
          "KGFK",
          "KGFL",
          "KGGE",
          "KGGG",
          "KGGI",
          "KGGP",
          "KGGW",
          "KGHG",
          "KGHW",
          "KGIC",
          "KGIF",
          "KGJT",
          "KGKJ",
          "KGKY",
          "KGLE",
          "KGLH",
          "KGLR",
          "KGLS",
          "KGLW",
          "KGLY",
          "KGMJ",
          "KGMU",
          "KGNA",
          "KGNC",
          "KGNR",
          "KGNT",
          "KGNV",
          "KGOK",
          "KGON",
          "KGOO",
          "KGOV",
          "KGPH",
          "KGPI",
          "KGPM",
          "KGPT",
          "KGPZ",
          "KGRB",
          "KGRD",
          "KGRF",
          "KGRI",
          "KGRK",
          "KGRR",
          "KGSB",
          "KGSH",
          "KGSO",
          "KGSP",
          "KGTB",
          "KGTF",
          "KGTR",
          "KGTU",
          "KGUC",
          "KGUN",
          "KGUP",
          "KGUS",
          "KGUY",
          "KGVL",
          "KGVT",
          "KGWB",
          "KGWO",
          "KGWW",
          "KGXA",
          "KGXF",
          "KGXY",
          "KGYB",
          "KGYH",
          "KGYI",
          "KGYL",
          "KGYR",
          "KGYY",
          "KGZH",
          "KGZL",
          "KH21",
          "KHAE",
          "KHAF",
          "KHAI",
          "KHAO",
          "KHBG",
          "KHBI",
          "KHBR",
          "KHBV",
          "KHCD",
          "KHDC",
          "KHDE",
          "KHDN",
          "KHEF",
          "KHEQ",
          "KHEY",
          "KHEZ",
          "KHFD",
          "KHFF",
          "KHFJ",
          "KHGR",
          "KHHF",
          "KHHR",
          "KHHW",
          "KHIB",
          "KHIE",
          "KHIF",
          "KHIO",
          "KHJH",
          "KHJO",
          "KHKA",
          "KHKS",
          "KHKY",
          "KHLC",
          "KHLG",
          "KHLN",
          "KHLR",
          "KHLX",
          "KHMM",
          "KHMS",
          "KHMZ",
          "KHNB",
          "KHND",
          "KHNR",
          "KHNZ",
          "KHOB",
          "KHOE",
          "KHON",
          "KHOP",
          "KHOT",
          "KHOU",
          "KHPN",
          "KHQM",
          "KHQU",
          "KHQZ",
          "KHRI",
          "KHRJ",
          "KHRL",
          "KHRO",
          "KHRT",
          "KHRX",
          "KHSA",
          "KHSB",
          "KHSE",
          "KHSI",
          "KHSP",
          "KHST",
          "KHSV",
          "KHTL",
          "KHTO",
          "KHTS",
          "KHUA",
          "KHUF",
          "KHUL",
          "KHUM",
          "KHUT",
          "KHVN",
          "KHVR",
          "KHVS",
          "KHWD",
          "KHWO",
          "KHWV",
          "KHWY",
          "KHXD",
          "KHYA",
          "KHYI",
          "KHYR",
          "KHYS",
          "KHYW",
          "KHYX",
          "KHZR",
          "KHZX",
          "KHZY",
          "KI16",
          "KI35",
          "KI39",
          "KI69",
          "KI75",
          "KIAB",
          "KIAD",
          "KIAG",
          "KIAH",
          "KIBM",
          "KICL",
          "KICR",
          "KICT",
          "KIDA",
          "KIDI",
          "KIDP",
          "KIDV",
          "KIEN",
          "KIER",
          "KIFA",
          "KIFP",
          "KIGM",
          "KIGQ",
          "KIGX",
          "KIIB",
          "KIIY",
          "KIJD",
          "KIJX",
          "KIKA",
          "KIKK",
          "KIKV",
          "KIKW",
          "KILE",
          "KILG",
          "KILM",
          "KILN",
          "KIML",
          "KIMM",
          "KIMT",
          "KIND",
          "KINF",
          "KINJ",
          "KINK",
          "KINL",
          "KINS",
          "KINT",
          "KINW",
          "KIOB",
          "KIOW",
          "KIPJ",
          "KIPL",
          "KIPT",
          "KIRK",
          "KIRS",
          "KISM",
          "KISN",
          "KISO",
          "KISP",
          "KISQ",
          "KISW",
          "KITH",
          "KITR",
          "KIWA",
          "KIWD",
          "KIWI",
          "KIXA",
          "KIXD",
          "KIYA",
          "KIYK",
          "KIZA",
          "KIZG",
          "KJAC",
          "KJAN",
          "KJAS",
          "KJAX",
          "KJBR",
          "KJCT",
          "KJDD",
          "KJEF",
          "KJER",
          "KJES",
          "KJFK",
          "KJFX",
          "KJFZ",
          "KJGG",
          "KJHW",
          "KJKA",
          "KJKJ",
          "KJKL",
          "KJLN",
          "KJMR",
          "KJMS",
          "KJNW",
          "KJNX",
          "KJOT",
          "KJQF",
          "KJRB",
          "KJSO",
          "KJST",
          "KJSV",
          "KJVL",
          "KJWG",
          "KJWY",
          "KJXI",
          "KJXN",
          "KJYG",
          "KJYL",
          "KJYM",
          "KJYO",
          "KJYR",
          "KJZI",
          "KK22",
          "KKLS",
          "KL35",
          "KL38",
          "KLAA",
          "KLAF",
          "KLAL",
          "KLAM",
          "KLAN",
          "KLAR",
          "KLAS",
          "KLAW",
          "KLAX",
          "KLBB",
          "KLBE",
          "KLBF",
          "KLBR",
          "KLBT",
          "KLBX",
          "KLCG",
          "KLCH",
          "KLCI",
          "KLCK",
          "KLCQ",
          "KLDJ",
          "KLDM",
          "KLEB",
          "KLEE",
          "KLEW",
          "KLEX",
          "KLFI",
          "KLFK",
          "KLFT",
          "KLGA",
          "KLGB",
          "KLGC",
          "KLGD",
          "KLGU",
          "KLHB",
          "KLHM",
          "KLHQ",
          "KLHW",
          "KLHX",
          "KLHZ",
          "KLIC",
          "KLIT",
          "KLJF",
          "KLKR",
          "KLKU",
          "KLKV",
          "KLLJ",
          "KLLQ",
          "KLMO",
          "KLMT",
          "KLNC",
          "KLNK",
          "KLNL",
          "KLNP",
          "KLNR",
          "KLNS",
          "KLOL",
          "KLOM",
          "KLOR",
          "KLOT",
          "KLOU",
          "KLOZ",
          "KLPC",
          "KLPR",
          "KLQK",
          "KLRD",
          "KLRF",
          "KLRJ",
          "KLRO",
          "KLRU",
          "KLSB",
          "KLSE",
          "KLSF",
          "KLSV",
          "KLTS",
          "KLUA",
          "KLUD",
          "KLUF",
          "KLUK",
          "KLUM",
          "KLUX",
          "KLVJ",
          "KLVK",
          "KLVM",
          "KLVN",
          "KLVS",
          "KLWA",
          "KLWB",
          "KLWC",
          "KLWD",
          "KLWM",
          "KLWS",
          "KLWT",
          "KLWV",
          "KLXL",
          "KLXN",
          "KLXT",
          "KLXV",
          "KLXY",
          "KLYH",
          "KLYV",
          "KLZK",
          "KLZU",
          "KLZZ",
          "KM16",
          "KM19",
          "KM25",
          "KM30",
          "KM40",
          "KM46",
          "KM89",
          "KMAE",
          "KMAI",
          "KMAN",
          "KMAO",
          "KMBG",
          "KMBL",
          "KMBS",
          "KMCB",
          "KMCC",
          "KMCD",
          "KMCE",
          "KMCF",
          "KMCI",
          "KMCJ",
          "KMCK",
          "KMCN",
          "KMCO",
          "KMCW",
          "KMDD",
          "KMDH",
          "KMDQ",
          "KMDS",
          "KMDT",
          "KMDW",
          "KMDZ",
          "KMEB",
          "KMEH",
          "KMEI",
          "KMEM",
          "KMER",
          "KMEZ",
          "KMFD",
          "KMFE",
          "KMFI",
          "KMFR",
          "KMFV",
          "KMGC",
          "KMGE",
          "KMGG",
          "KMGJ",
          "KMGM",
          "KMGN",
          "KMGR",
          "KMGW",
          "KMGY",
          "KMHE",
          "KMHK",
          "KMHR",
          "KMHS",
          "KMHT",
          "KMHV",
          "KMIA",
          "KMIC",
          "KMIE",
          "KMIV",
          "KMIW",
          "KMJQ",
          "KMJX",
          "KMKC",
          "KMKE",
          "KMKG",
          "KMKJ",
          "KMKL",
          "KMKN",
          "KMKO",
          "KMKS",
          "KMKT",
          "KMKY",
          "KMLB",
          "KMLC",
          "KMLD",
          "KMLE",
          "KMLF",
          "KMLI",
          "KMLJ",
          "KMLP",
          "KMLS",
          "KMLT",
          "KMLU",
          "KMMH",
          "KMMI",
          "KMMK",
          "KMML",
          "KMMT",
          "KMMU",
          "KMMV",
          "KMNE",
          "KMNH",
          "KMNI",
          "KMNM",
          "KMNN",
          "KMNZ",
          "KMOB",
          "KMOD",
          "KMOP",
          "KMOX",
          "KMPO",
          "KMPV",
          "KMPZ",
          "KMQB",
          "KMQE",
          "KMQI",
          "KMQJ",
          "KMQS",
          "KMQY",
          "KMRB",
          "KMRC",
          "KMRF",
          "KMRJ",
          "KMRN",
          "KMRT",
          "KMRY",
          "KMSL",
          "KMSN",
          "KMSO",
          "KMSP",
          "KMSS",
          "KMSV",
          "KMSY",
          "KMTC",
          "KMTH",
          "KMTJ",
          "KMTN",
          "KMTO",
          "KMTP",
          "KMTR",
          "KMTV",
          "KMTW",
          "KMUI",
          "KMUL",
          "KMUO",
          "KMUT",
          "KMVE",
          "KMVL",
          "KMVN",
          "KMVY",
          "KMWA",
          "KMWC",
          "KMWH",
          "KMWK",
          "KMWL",
          "KMWM",
          "KMWN",
          "KMWO",
          "KMWS",
          "KMWT",
          "KMXF",
          "KMXO",
          "KMYF",
          "KMYL",
          "KMYP",
          "KMYR",
          "KMYV",
          "KMZH",
          "KMZZ",
          "KN03",
          "KNAK",
          "KNBC",
          "KNBG",
          "KNBJ",
          "KNBT",
          "KNCA",
          "KNDZ",
          "KNEL",
          "KNEW",
          "KNFE",
          "KNFG",
          "KNFJ",
          "KNFL",
          "KNFW",
          "KNGP",
          "KNGU",
          "KNHK",
          "KNHZ",
          "KNID",
          "KNIP",
          "KNJK",
          "KNJM",
          "KNKA",
          "KNKT",
          "KNKX",
          "KNLC",
          "KNMM",
          "KNOG",
          "KNPA",
          "KNQA",
          "KNQI",
          "KNQX",
          "KNRB",
          "KNRS",
          "KNSE",
          "KNSI",
          "KNTU",
          "KNUI",
          "KNUQ",
          "KNUW",
          "KNXF",
          "KNXP",
          "KNYC",
          "KNYG",
          "KNYL",
          "KNZY",
          "KO22",
          "KO54",
          "KO69",
          "KO86",
          "KO87",
          "KOAJ",
          "KOAK",
          "KOBE",
          "KOCF",
          "KOCH",
          "KOCQ",
          "KOCW",
          "KODO",
          "KOEB",
          "KOEO",
          "KOFF",
          "KOFK",
          "KOFP",
          "KOGA",
          "KOGB",
          "KOGD",
          "KOGS",
          "KOJA",
          "KOJC",
          "KOKB",
          "KOKC",
          "KOKH",
          "KOKK",
          "KOKM",
          "KOKV",
          "KOKZ",
          "KOLE",
          "KOLM",
          "KOLS",
          "KOLU",
          "KOLV",
          "KOLY",
          "KOLZ",
          "KOMA",
          "KOMH",
          "KOMK",
          "KOMN",
          "KONA",
          "KONL",
          "KONM",
          "KONO",
          "KONP",
          "KONT",
          "KONX",
          "KONZ",
          "KOOA",
          "KOPF",
          "KOPL",
          "KOPN",
          "KOQN",
          "KOQT",
          "KOQU",
          "KORB",
          "KORC",
          "KORD",
          "KORE",
          "KORF",
          "KORG",
          "KORH",
          "KORL",
          "KOSA",
          "KOSC",
          "KOSH",
          "KOSU",
          "KOTG",
          "KOTH",
          "KOTM",
          "KOUN",
          "KOVE",
          "KOVL",
          "KOVS",
          "KOWA",
          "KOWB",
          "KOWD",
          "KOWP",
          "KOXB",
          "KOXC",
          "KOXI",
          "KOXR",
          "KOXV",
          "KOZA",
          "KOZR",
          "KOZW",
          "KP08",
          "KP38",
          "KP53",
          "KP58",
          "KP68",
          "KP69",
          "KPAE",
          "KPAH",
          "KPAM",
          "KPAN",
          "KPAO",
          "KPAT",
          "KPBF",
          "KPBG",
          "KPBH",
          "KPBI",
          "KPCM",
          "KPCW",
          "KPCZ",
          "KPDC",
          "KPDK",
          "KPDT",
          "KPDX",
          "KPEA",
          "KPEO",
          "KPEQ",
          "KPEX",
          "KPEZ",
          "KPGA",
          "KPGD",
          "KPGV",
          "KPHD",
          "KPHF",
          "KPHL",
          "KPHN",
          "KPHP",
          "KPHX",
          "KPIA",
          "KPIB",
          "KPIE",
          "KPIH",
          "KPIL",
          "KPIR",
          "KPIT",
          "KPKB",
          "KPKD",
          "KPKV",
          "KPLN",
          "KPLU",
          "KPMD",
          "KPMP",
          "KPMV",
          "KPNA",
          "KPNC",
          "KPNE",
          "KPNM",
          "KPNS",
          "KPNT",
          "KPOB",
          "KPOC",
          "KPOE",
          "KPOF",
          "KPOU",
          "KPOV",
          "KPPA",
          "KPPF",
          "KPPO",
          "KPPQ",
          "KPQI",
          "KPQL",
          "KPQN",
          "KPRB",
          "KPRC",
          "KPRG",
          "KPRN",
          "KPRO",
          "KPRX",
          "KPRZ",
          "KPSC",
          "KPSF",
          "KPSK",
          "KPSM",
          "KPSN",
          "KPSO",
          "KPSP",
          "KPTB",
          "KPTK",
          "KPTN",
          "KPTS",
          "KPTV",
          "KPTW",
          "KPUB",
          "KPUC",
          "KPUJ",
          "KPUM",
          "KPUW",
          "KPVB",
          "KPVC",
          "KPVD",
          "KPVF",
          "KPVG",
          "KPVJ",
          "KPVU",
          "KPVW",
          "KPWA",
          "KPWC",
          "KPWG",
          "KPWK",
          "KPWM",
          "KPWT",
          "KPYM",
          "KPZQ",
          "KRAC",
          "KRAL",
          "KRAP",
          "KRBD",
          "KRBG",
          "KRBL",
          "KRBO",
          "KRBW",
          "KRCE",
          "KRCM",
          "KRCR",
          "KRCX",
          "KRCZ",
          "KRDD",
          "KRDG",
          "KRDK",
          "KRDM",
          "KRDU",
          "KRFD",
          "KRFI",
          "KRGK",
          "KRHI",
          "KRHP",
          "KRHV",
          "KRIC",
          "KRIL",
          "KRIM",
          "KRIV",
          "KRIW",
          "KRJD",
          "KRKD",
          "KRKP",
          "KRKR",
          "KRKS",
          "KRME",
          "KRMG",
          "KRMN",
          "KRMY",
          "KRND",
          "KRNH",
          "KRNM",
          "KRNO",
          "KRNP",
          "KRNT",
          "KRNV",
          "KROA",
          "KROC",
          "KROG",
          "KROS",
          "KROW",
          "KROX",
          "KRPD",
          "KRPH",
          "KRPJ",
          "KRQB",
          "KRQE",
          "KRQO",
          "KRRL",
          "KRRT",
          "KRSL",
          "KRSN",
          "KRSP",
          "KRST",
          "KRSV",
          "KRSW",
          "KRTN",
          "KRTS",
          "KRUE",
          "KRUQ",
          "KRUT",
          "KRVS",
          "KRWF",
          "KRWI",
          "KRWL",
          "KRWV",
          "KRXE",
          "KRYN",
          "KRYT",
          "KRYV",
          "KRYW",
          "KRYY",
          "KRZL",
          "KRZN",
          "KRZR",
          "KRZZ",
          "KS14",
          "KS25",
          "KS47",
          "KSAA",
          "KSAC",
          "KSAD",
          "KSAF",
          "KSAN",
          "KSAR",
          "KSAT",
          "KSAV",
          "KSAW",
          "KSAZ",
          "KSBA",
          "KSBD",
          "KSBM",
          "KSBN",
          "KSBO",
          "KSBP",
          "KSBS",
          "KSBY",
          "KSCH",
          "KSCK",
          "KSDA",
          "KSDB",
          "KSDF",
          "KSDL",
          "KSDM",
          "KSEA",
          "KSEE",
          "KSEG",
          "KSEP",
          "KSET",
          "KSEZ",
          "KSFB",
          "KSFF",
          "KSFM",
          "KSFO",
          "KSFQ",
          "KSFY",
          "KSFZ",
          "KSGE",
          "KSGF",
          "KSGH",
          "KSGJ",
          "KSGR",
          "KSGS",
          "KSGT",
          "KSGU",
          "KSHD",
          "KSHL",
          "KSHN",
          "KSHR",
          "KSHV",
          "KSIB",
          "KSIF",
          "KSIY",
          "KSJC",
          "KSJN",
          "KSJT",
          "KSKA",
          "KSKF",
          "KSKX",
          "KSLB",
          "KSLC",
          "KSLE",
          "KSLG",
          "KSLH",
          "KSLI",
          "KSLK",
          "KSLN",
          "KSLO",
          "KSLR",
          "KSME",
          "KSMF",
          "KSMN",
          "KSMO",
          "KSMP",
          "KSMQ",
          "KSMS",
          "KSMX",
          "KSNA",
          "KSNC",
          "KSNK",
          "KSNL",
          "KSNS",
          "KSNT",
          "KSNY",
          "KSOA",
          "KSOP",
          "KSOW",
          "KSPA",
          "KSPB",
          "KSPD",
          "KSPG",
          "KSPI",
          "KSPL",
          "KSPS",
          "KSPW",
          "KSQI",
          "KSQL",
          "KSRB",
          "KSRC",
          "KSRE",
          "KSRQ",
          "KSRR",
          "KSSC",
          "KSSF",
          "KSSI",
          "KSTC",
          "KSTE",
          "KSTF",
          "KSTJ",
          "KSTK",
          "KSTL",
          "KSTP",
          "KSTS",
          "KSUA",
          "KSUE",
          "KSUN",
          "KSUS",
          "KSUT",
          "KSUU",
          "KSUW",
          "KSUX",
          "KSVC",
          "KSVH",
          "KSVN",
          "KSWF",
          "KSWO",
          "KSWW",
          "KSXT",
          "KSYF",
          "KSYN",
          "KSYR",
          "KSZL",
          "KSZT",
          "KT20",
          "KT35",
          "KT43",
          "KT62",
          "KT65",
          "KT82",
          "KTAD",
          "KTAN",
          "KTAZ",
          "KTBN",
          "KTBR",
          "KTBX",
          "KTCC",
          "KTCL",
          "KTCM",
          "KTCS",
          "KTDF",
          "KTDO",
          "KTDR",
          "KTDZ",
          "KTEB",
          "KTEW",
          "KTEX",
          "KTHA",
          "KTHV",
          "KTIF",
          "KTIK",
          "KTIP",
          "KTIW",
          "KTIX",
          "KTKC",
          "KTKI",
          "KTKV",
          "KTLH",
          "KTMA",
          "KTMB",
          "KTME",
          "KTMH",
          "KTMK",
          "KTNB",
          "KTNU",
          "KTOA",
          "KTOB",
          "KTOC",
          "KTOI",
          "KTOL",
          "KTOP",
          "KTOR",
          "KTPA",
          "KTPF",
          "KTPH",
          "KTPL",
          "KTQE",
          "KTQH",
          "KTRI",
          "KTRK",
          "KTRL",
          "KTRM",
          "KTSP",
          "KTTA",
          "KTTD",
          "KTTF",
          "KTTN",
          "KTTS",
          "KTUL",
          "KTUP",
          "KTUS",
          "KTVC",
          "KTVF",
          "KTVI",
          "KTVK",
          "KTVL",
          "KTVR",
          "KTWF",
          "KTWM",
          "KTXK",
          "KTYQ",
          "KTYR",
          "KTYS",
          "KTZR",
          "KU24",
          "KU28",
          "KU31",
          "KU42",
          "KU78",
          "KUAO",
          "KUBE",
          "KUCP",
          "KUCY",
          "KUDG",
          "KUES",
          "KUGN",
          "KUIL",
          "KUIN",
          "KUKF",
          "KUKI",
          "KUKL",
          "KUKT",
          "KULM",
          "KUNI",
          "KUNO",
          "KUNR",
          "KUNU",
          "KUNV",
          "KUOX",
          "KUSE",
          "KUTA",
          "KUTS",
          "KUUU",
          "KUVA",
          "KUXL",
          "KUZA",
          "KVAD",
          "KVAY",
          "KVBT",
          "KVCB",
          "KVCT",
          "KVCV",
          "KVDF",
          "KVDI",
          "KVDW",
          "KVEL",
          "KVER",
          "KVES",
          "KVGT",
          "KVIH",
          "KVIS",
          "KVJI",
          "KVKS",
          "KVLD",
          "KVLL",
          "KVNC",
          "KVNY",
          "KVOK",
          "KVPC",
          "KVPS",
          "KVPZ",
          "KVQQ",
          "KVRB",
          "KVSF",
          "KVSH",
          "KVTA",
          "KVTI",
          "KVTN",
          "KVTP",
          "KVUJ",
          "KVUO",
          "KVVG",
          "KVWU",
          "KVYS",
          "KW22",
          "KW29",
          "KW43",
          "KW99",
          "KWAL",
          "KWBC",
          "KWDG",
          "KWDR",
          "KWEY",
          "KWHP",
          "KWJF",
          "KWLD",
          "KWMC",
          "KWRB",
          "KWRI",
          "KWST",
          "KWVI",
          "KWVL",
          "KWWD",
          "KWWR",
          "KWYS",
          "KXFL",
          "KXLL",
          "KXMR",
          "KXNA",
          "KXSA",
          "KXVG",
          "KXVW",
          "KY19",
          "KY22",
          "KY23",
          "KY50",
          "KY51",
          "KY63",
          "KY70",
          "KYIP",
          "KYKM",
          "KYKN",
          "KYNG",
          "KZPH",
          "KZZV"
         ],
         "yaxis": "y"
        }
       ],
       "layout": {
        "barmode": "relative",
        "legend": {
         "tracegroupgap": 0
        },
        "margin": {
         "t": 60
        },
        "template": {
         "data": {
          "bar": [
           {
            "error_x": {
             "color": "#2a3f5f"
            },
            "error_y": {
             "color": "#2a3f5f"
            },
            "marker": {
             "line": {
              "color": "#E5ECF6",
              "width": 0.5
             },
             "pattern": {
              "fillmode": "overlay",
              "size": 10,
              "solidity": 0.2
             }
            },
            "type": "bar"
           }
          ],
          "barpolar": [
           {
            "marker": {
             "line": {
              "color": "#E5ECF6",
              "width": 0.5
             },
             "pattern": {
              "fillmode": "overlay",
              "size": 10,
              "solidity": 0.2
             }
            },
            "type": "barpolar"
           }
          ],
          "carpet": [
           {
            "aaxis": {
             "endlinecolor": "#2a3f5f",
             "gridcolor": "white",
             "linecolor": "white",
             "minorgridcolor": "white",
             "startlinecolor": "#2a3f5f"
            },
            "baxis": {
             "endlinecolor": "#2a3f5f",
             "gridcolor": "white",
             "linecolor": "white",
             "minorgridcolor": "white",
             "startlinecolor": "#2a3f5f"
            },
            "type": "carpet"
           }
          ],
          "choropleth": [
           {
            "colorbar": {
             "outlinewidth": 0,
             "ticks": ""
            },
            "type": "choropleth"
           }
          ],
          "contour": [
           {
            "colorbar": {
             "outlinewidth": 0,
             "ticks": ""
            },
            "colorscale": [
             [
              0,
              "#0d0887"
             ],
             [
              0.1111111111111111,
              "#46039f"
             ],
             [
              0.2222222222222222,
              "#7201a8"
             ],
             [
              0.3333333333333333,
              "#9c179e"
             ],
             [
              0.4444444444444444,
              "#bd3786"
             ],
             [
              0.5555555555555556,
              "#d8576b"
             ],
             [
              0.6666666666666666,
              "#ed7953"
             ],
             [
              0.7777777777777778,
              "#fb9f3a"
             ],
             [
              0.8888888888888888,
              "#fdca26"
             ],
             [
              1,
              "#f0f921"
             ]
            ],
            "type": "contour"
           }
          ],
          "contourcarpet": [
           {
            "colorbar": {
             "outlinewidth": 0,
             "ticks": ""
            },
            "type": "contourcarpet"
           }
          ],
          "heatmap": [
           {
            "colorbar": {
             "outlinewidth": 0,
             "ticks": ""
            },
            "colorscale": [
             [
              0,
              "#0d0887"
             ],
             [
              0.1111111111111111,
              "#46039f"
             ],
             [
              0.2222222222222222,
              "#7201a8"
             ],
             [
              0.3333333333333333,
              "#9c179e"
             ],
             [
              0.4444444444444444,
              "#bd3786"
             ],
             [
              0.5555555555555556,
              "#d8576b"
             ],
             [
              0.6666666666666666,
              "#ed7953"
             ],
             [
              0.7777777777777778,
              "#fb9f3a"
             ],
             [
              0.8888888888888888,
              "#fdca26"
             ],
             [
              1,
              "#f0f921"
             ]
            ],
            "type": "heatmap"
           }
          ],
          "heatmapgl": [
           {
            "colorbar": {
             "outlinewidth": 0,
             "ticks": ""
            },
            "colorscale": [
             [
              0,
              "#0d0887"
             ],
             [
              0.1111111111111111,
              "#46039f"
             ],
             [
              0.2222222222222222,
              "#7201a8"
             ],
             [
              0.3333333333333333,
              "#9c179e"
             ],
             [
              0.4444444444444444,
              "#bd3786"
             ],
             [
              0.5555555555555556,
              "#d8576b"
             ],
             [
              0.6666666666666666,
              "#ed7953"
             ],
             [
              0.7777777777777778,
              "#fb9f3a"
             ],
             [
              0.8888888888888888,
              "#fdca26"
             ],
             [
              1,
              "#f0f921"
             ]
            ],
            "type": "heatmapgl"
           }
          ],
          "histogram": [
           {
            "marker": {
             "pattern": {
              "fillmode": "overlay",
              "size": 10,
              "solidity": 0.2
             }
            },
            "type": "histogram"
           }
          ],
          "histogram2d": [
           {
            "colorbar": {
             "outlinewidth": 0,
             "ticks": ""
            },
            "colorscale": [
             [
              0,
              "#0d0887"
             ],
             [
              0.1111111111111111,
              "#46039f"
             ],
             [
              0.2222222222222222,
              "#7201a8"
             ],
             [
              0.3333333333333333,
              "#9c179e"
             ],
             [
              0.4444444444444444,
              "#bd3786"
             ],
             [
              0.5555555555555556,
              "#d8576b"
             ],
             [
              0.6666666666666666,
              "#ed7953"
             ],
             [
              0.7777777777777778,
              "#fb9f3a"
             ],
             [
              0.8888888888888888,
              "#fdca26"
             ],
             [
              1,
              "#f0f921"
             ]
            ],
            "type": "histogram2d"
           }
          ],
          "histogram2dcontour": [
           {
            "colorbar": {
             "outlinewidth": 0,
             "ticks": ""
            },
            "colorscale": [
             [
              0,
              "#0d0887"
             ],
             [
              0.1111111111111111,
              "#46039f"
             ],
             [
              0.2222222222222222,
              "#7201a8"
             ],
             [
              0.3333333333333333,
              "#9c179e"
             ],
             [
              0.4444444444444444,
              "#bd3786"
             ],
             [
              0.5555555555555556,
              "#d8576b"
             ],
             [
              0.6666666666666666,
              "#ed7953"
             ],
             [
              0.7777777777777778,
              "#fb9f3a"
             ],
             [
              0.8888888888888888,
              "#fdca26"
             ],
             [
              1,
              "#f0f921"
             ]
            ],
            "type": "histogram2dcontour"
           }
          ],
          "mesh3d": [
           {
            "colorbar": {
             "outlinewidth": 0,
             "ticks": ""
            },
            "type": "mesh3d"
           }
          ],
          "parcoords": [
           {
            "line": {
             "colorbar": {
              "outlinewidth": 0,
              "ticks": ""
             }
            },
            "type": "parcoords"
           }
          ],
          "pie": [
           {
            "automargin": true,
            "type": "pie"
           }
          ],
          "scatter": [
           {
            "fillpattern": {
             "fillmode": "overlay",
             "size": 10,
             "solidity": 0.2
            },
            "type": "scatter"
           }
          ],
          "scatter3d": [
           {
            "line": {
             "colorbar": {
              "outlinewidth": 0,
              "ticks": ""
             }
            },
            "marker": {
             "colorbar": {
              "outlinewidth": 0,
              "ticks": ""
             }
            },
            "type": "scatter3d"
           }
          ],
          "scattercarpet": [
           {
            "marker": {
             "colorbar": {
              "outlinewidth": 0,
              "ticks": ""
             }
            },
            "type": "scattercarpet"
           }
          ],
          "scattergeo": [
           {
            "marker": {
             "colorbar": {
              "outlinewidth": 0,
              "ticks": ""
             }
            },
            "type": "scattergeo"
           }
          ],
          "scattergl": [
           {
            "marker": {
             "colorbar": {
              "outlinewidth": 0,
              "ticks": ""
             }
            },
            "type": "scattergl"
           }
          ],
          "scattermapbox": [
           {
            "marker": {
             "colorbar": {
              "outlinewidth": 0,
              "ticks": ""
             }
            },
            "type": "scattermapbox"
           }
          ],
          "scatterpolar": [
           {
            "marker": {
             "colorbar": {
              "outlinewidth": 0,
              "ticks": ""
             }
            },
            "type": "scatterpolar"
           }
          ],
          "scatterpolargl": [
           {
            "marker": {
             "colorbar": {
              "outlinewidth": 0,
              "ticks": ""
             }
            },
            "type": "scatterpolargl"
           }
          ],
          "scatterternary": [
           {
            "marker": {
             "colorbar": {
              "outlinewidth": 0,
              "ticks": ""
             }
            },
            "type": "scatterternary"
           }
          ],
          "surface": [
           {
            "colorbar": {
             "outlinewidth": 0,
             "ticks": ""
            },
            "colorscale": [
             [
              0,
              "#0d0887"
             ],
             [
              0.1111111111111111,
              "#46039f"
             ],
             [
              0.2222222222222222,
              "#7201a8"
             ],
             [
              0.3333333333333333,
              "#9c179e"
             ],
             [
              0.4444444444444444,
              "#bd3786"
             ],
             [
              0.5555555555555556,
              "#d8576b"
             ],
             [
              0.6666666666666666,
              "#ed7953"
             ],
             [
              0.7777777777777778,
              "#fb9f3a"
             ],
             [
              0.8888888888888888,
              "#fdca26"
             ],
             [
              1,
              "#f0f921"
             ]
            ],
            "type": "surface"
           }
          ],
          "table": [
           {
            "cells": {
             "fill": {
              "color": "#EBF0F8"
             },
             "line": {
              "color": "white"
             }
            },
            "header": {
             "fill": {
              "color": "#C8D4E3"
             },
             "line": {
              "color": "white"
             }
            },
            "type": "table"
           }
          ]
         },
         "layout": {
          "annotationdefaults": {
           "arrowcolor": "#2a3f5f",
           "arrowhead": 0,
           "arrowwidth": 1
          },
          "autotypenumbers": "strict",
          "coloraxis": {
           "colorbar": {
            "outlinewidth": 0,
            "ticks": ""
           }
          },
          "colorscale": {
           "diverging": [
            [
             0,
             "#8e0152"
            ],
            [
             0.1,
             "#c51b7d"
            ],
            [
             0.2,
             "#de77ae"
            ],
            [
             0.3,
             "#f1b6da"
            ],
            [
             0.4,
             "#fde0ef"
            ],
            [
             0.5,
             "#f7f7f7"
            ],
            [
             0.6,
             "#e6f5d0"
            ],
            [
             0.7,
             "#b8e186"
            ],
            [
             0.8,
             "#7fbc41"
            ],
            [
             0.9,
             "#4d9221"
            ],
            [
             1,
             "#276419"
            ]
           ],
           "sequential": [
            [
             0,
             "#0d0887"
            ],
            [
             0.1111111111111111,
             "#46039f"
            ],
            [
             0.2222222222222222,
             "#7201a8"
            ],
            [
             0.3333333333333333,
             "#9c179e"
            ],
            [
             0.4444444444444444,
             "#bd3786"
            ],
            [
             0.5555555555555556,
             "#d8576b"
            ],
            [
             0.6666666666666666,
             "#ed7953"
            ],
            [
             0.7777777777777778,
             "#fb9f3a"
            ],
            [
             0.8888888888888888,
             "#fdca26"
            ],
            [
             1,
             "#f0f921"
            ]
           ],
           "sequentialminus": [
            [
             0,
             "#0d0887"
            ],
            [
             0.1111111111111111,
             "#46039f"
            ],
            [
             0.2222222222222222,
             "#7201a8"
            ],
            [
             0.3333333333333333,
             "#9c179e"
            ],
            [
             0.4444444444444444,
             "#bd3786"
            ],
            [
             0.5555555555555556,
             "#d8576b"
            ],
            [
             0.6666666666666666,
             "#ed7953"
            ],
            [
             0.7777777777777778,
             "#fb9f3a"
            ],
            [
             0.8888888888888888,
             "#fdca26"
            ],
            [
             1,
             "#f0f921"
            ]
           ]
          },
          "colorway": [
           "#636efa",
           "#EF553B",
           "#00cc96",
           "#ab63fa",
           "#FFA15A",
           "#19d3f3",
           "#FF6692",
           "#B6E880",
           "#FF97FF",
           "#FECB52"
          ],
          "font": {
           "color": "#2a3f5f"
          },
          "geo": {
           "bgcolor": "white",
           "lakecolor": "white",
           "landcolor": "#E5ECF6",
           "showlakes": true,
           "showland": true,
           "subunitcolor": "white"
          },
          "hoverlabel": {
           "align": "left"
          },
          "hovermode": "closest",
          "mapbox": {
           "style": "light"
          },
          "paper_bgcolor": "white",
          "plot_bgcolor": "#E5ECF6",
          "polar": {
           "angularaxis": {
            "gridcolor": "white",
            "linecolor": "white",
            "ticks": ""
           },
           "bgcolor": "#E5ECF6",
           "radialaxis": {
            "gridcolor": "white",
            "linecolor": "white",
            "ticks": ""
           }
          },
          "scene": {
           "xaxis": {
            "backgroundcolor": "#E5ECF6",
            "gridcolor": "white",
            "gridwidth": 2,
            "linecolor": "white",
            "showbackground": true,
            "ticks": "",
            "zerolinecolor": "white"
           },
           "yaxis": {
            "backgroundcolor": "#E5ECF6",
            "gridcolor": "white",
            "gridwidth": 2,
            "linecolor": "white",
            "showbackground": true,
            "ticks": "",
            "zerolinecolor": "white"
           },
           "zaxis": {
            "backgroundcolor": "#E5ECF6",
            "gridcolor": "white",
            "gridwidth": 2,
            "linecolor": "white",
            "showbackground": true,
            "ticks": "",
            "zerolinecolor": "white"
           }
          },
          "shapedefaults": {
           "line": {
            "color": "#2a3f5f"
           }
          },
          "ternary": {
           "aaxis": {
            "gridcolor": "white",
            "linecolor": "white",
            "ticks": ""
           },
           "baxis": {
            "gridcolor": "white",
            "linecolor": "white",
            "ticks": ""
           },
           "bgcolor": "#E5ECF6",
           "caxis": {
            "gridcolor": "white",
            "linecolor": "white",
            "ticks": ""
           }
          },
          "title": {
           "x": 0.05
          },
          "xaxis": {
           "automargin": true,
           "gridcolor": "white",
           "linecolor": "white",
           "ticks": "",
           "title": {
            "standoff": 15
           },
           "zerolinecolor": "white",
           "zerolinewidth": 2
          },
          "yaxis": {
           "automargin": true,
           "gridcolor": "white",
           "linecolor": "white",
           "ticks": "",
           "title": {
            "standoff": 15
           },
           "zerolinecolor": "white",
           "zerolinewidth": 2
          }
         }
        },
        "xaxis": {
         "anchor": "y",
         "domain": [
          0,
          1
         ],
         "title": {
          "text": "Accident_Count"
         }
        },
        "yaxis": {
         "anchor": "x",
         "domain": [
          0,
          1
         ],
         "title": {
          "text": "Airport_Code"
         }
        }
       }
      },
      "text/html": [
       "<div>                            <div id=\"e8c14d06-1071-4790-9ef6-64923dcdfc3c\" class=\"plotly-graph-div\" style=\"height:525px; width:100%;\"></div>            <script type=\"text/javascript\">                require([\"plotly\"], function(Plotly) {                    window.PLOTLYENV=window.PLOTLYENV || {};                                    if (document.getElementById(\"e8c14d06-1071-4790-9ef6-64923dcdfc3c\")) {                    Plotly.newPlot(                        \"e8c14d06-1071-4790-9ef6-64923dcdfc3c\",                        [{\"alignmentgroup\":\"True\",\"hovertemplate\":\"Accident_Count=%{x}<br>Airport_Code=%{y}<extra></extra>\",\"legendgroup\":\"\",\"marker\":{\"color\":\"#636efa\",\"pattern\":{\"shape\":\"\"}},\"name\":\"\",\"offsetgroup\":\"\",\"orientation\":\"h\",\"showlegend\":false,\"textposition\":\"auto\",\"x\":[19,12,189,1,41,589,42,12,14,165,12,1277,58,415,51,40,22,82,195,54,110,202,38,17,125,32,30,2178,79,1,4,130,9,481,12,159,13,2537,859,6687,18,100,285,47,66,45,33,172,272,57,67,78,262,94,10,90,94,13,3,2,6,369,321,11,96,8,41,15,48,1409,78,49,8,40,43,15,1,8,214,198,1,4,604,29,252,174,490,1,95,11,48,102,2007,4,28,3438,198,20,57,1,2,105,8,363,976,121,27,9,9,11937,36,1202,475,21,485,65,2371,393,56,206,4,26,463,5511,3428,128,2,9,569,40,3245,58,94,7,17,7817,17,952,25,75,1966,7213,7,8,24,118,93,16,115,80,42,17,30,271,292,4970,5193,9,82,68,2,169,300,7448,5167,1529,2075,21,2,4,7,1,4,94,10,1085,22,15,15,231,50,4,432,202,15,54,738,20,24,1491,44,14,14492,5,34785,563,1616,162,18,121,1298,444,12196,113,575,1,1608,701,7,6,325,426,1609,20,1185,167,2,12,29,130,29,766,98,106,2,691,147,794,154,226,17,7,6,410,4,385,251,82,2706,8,36,139,1051,2247,3138,397,9,6302,411,140,6,19446,5091,3016,6,5,40,113,504,192,39,4,8450,11,628,164,27,53,5,537,289,11627,133,173,25,694,5524,3975,21,2,4051,77,2,219,307,1163,1569,567,92,879,169,82,44,23,107,36612,534,421,41,153,522,5895,471,47,6,1,7,233,6,221,19,10,17,369,271,20,761,32120,115,4717,477,10661,249,546,238,1,8,587,27,4,1875,1,92,3528,2,39,874,7,13,33,9,3,37,82,408,28,39,26,12673,14,238,5,16,225,218,241,3,19,6,518,17246,432,37,10,938,19,17,2204,2,7,2409,172,470,2945,383,10,38,10,869,26,4,304,119,963,41,5658,651,3957,3176,2,12,1056,5822,987,659,2,26,4,145,144,193,946,6,1,14,315,1484,23,2,10,112,285,44512,3078,5198,66,260,15,8,26,1,10,581,1,27,1589,12,187,274,5,220,796,8,1114,240,2477,38,175,547,510,15,4286,13,30,18,14,230,26,37621,39,421,102,1330,2704,25,5963,43,47,703,16,332,13,11,191,11,20,382,68,52,10668,30,17,7,106,3420,1232,6,2165,5,9,43,716,536,46,33,97,502,1109,2884,18,938,67,2,198,2,313,5986,691,215,24943,300,330,3944,38,54,9270,538,1151,46,8,135,45,733,25,780,14,14834,64,40,3820,8,323,15,3,223,435,33,3,119,236,7,1800,1670,6770,6171,58,29,911,5499,431,16,97,169,13300,43,47,27,24,1,3,22,2,2127,65,132,1639,970,136,2926,10,2,1,4,937,333,5,6,236,3685,55,7009,4224,2,3825,5,183,3294,492,34,37,124,69,71,4,1803,1,1,12,32,30,256,42,37,4,260,3,4,5920,30,108,2329,24,208,331,7,2551,2,2548,17,28,139,10,2391,55,35,980,270,105,21,236,16,19,152,55,6,8860,116,82,1,30,21625,336,7,27,161,804,1894,4,17,2,7547,219,15,9,6,30,111,6,281,72,43,5675,51,261,92,234,15,362,1,35,6746,270,8642,21,42,1207,160,53,17,7,720,4682,367,77,32,5878,197,52,310,15,7356,5091,303,3223,7,3426,134,16,76,64,9,370,12,29,3249,77,50,2695,395,41,632,730,116,121,110,18,103,436,6485,3305,2,110,1879,287,113,9,4197,15,1084,21715,22,18,383,210,14,205,624,144,6972,3,141,8,33,14,5,69,33,29,14,119,75,7,1728,11192,20471,2,394,197,10,10,2760,214,2219,4962,12,307,633,58,33,306,587,2744,10,3,20,39,12,555,2,101,51,85,90,26,5,137,332,7242,30,4,322,12,3,1276,1109,179,92,23,2,403,33,33,351,118,73,1333,24,11,36,177,48,6,25,12882,3,11,7,106,1405,131,600,1300,23,349,33,3076,382,138,797,2300,754,14,3,9883,53,96,2489,7050,48,22,2,343,32,1,83,25,1,513,39,100,33,135,1291,106,162,33,8503,53,369,1081,1366,127,3,44,18,547,125,1985,1090,105,2,2,117,387,7,5,1242,7,57,18,5068,94,50,1187,3,19743,2,90,79,2756,2561,2,665,16,1495,324,4,253,40,4,520,6,31,315,95,67,98,232,21,4,2,13,43,9836,14669,228,290,5916,1413,873,28,10,272,8,105,11,6,18,488,1674,450,51,142,217,3018,207,19,246,2,1889,4,1413,10177,8158,850,286,891,251,375,7,6,2556,366,57,37,68,19,3,56,518,53,80,5374,728,11128,32,6,1,38,77,88,7,4,1,12,37,225,210,2343,615,26,56,783,19,4,102,1732,181,33,4154,356,176,2,221,16,6436,388,92,31,19,5,1726,167,49,389,77,12,550,9,69,3519,1,45,4179,11,37,58,41,1030,7,52,60,595,10,83,219,18,11,561,15,3606,32,29,17,13,78,26,5339,257,111,591,103,29,8,4,83,103,7,278,893,515,16086,7335,8,303,10,559,4,230,6,619,71,139,5,2180,23,513,10,836,134,300,54,193,593,33,1056,62,321,5,3176,26,1156,22,10,244,137,11,83,534,942,1438,7389,31,308,960,198,3006,832,80,9287,19532,13359,378,1109,55,8,1129,286,163,119,3655,81,412,114,1564,175,405,2,42,499,1851,773,205,9,99,10,6496,19,14646,69,2810,6029,39,317,139,1797,39,93,23,636,91,3,230,75,121,3,630,2,1129,5882,142,2181,514,10348,20,1232,84,125,27,24,48,3039,31,4,24,197,15,2912,115,35,735,65,115,2157,3,81,5,4,24,7,19,37,1897,531,530,1638,1,8,319,44,12081,7,1140,766,311,47282,2,1263,6203,59,40,17,970,1,1393,16722,31,53,244,90,4529,1320,8,151,124,40,3990,62,149,4671,526,374,222,17,11,189,2860,6,4,5503,124,1932,159,12078,8605,298,405,35,119,674,4667,3047,334,337,231,3,20,1189,627,211,958,2,292,9347,368,226,118,45,11,14,79,198,122,2142,86,741,1892,1727,59,1171,1135,24,72,4,2089,5270,62,22,510,57,23,7,2695,2,4243,512,850,218,259,2,24,124,120,1160,134,1324,53,14783,40,180,758,1026,166,35,2300,35,11,3,315,58,824,78,38,67,27,12,81,6,98,4377,34,112,35,112,6,347,4100,7,4553,62,6104,31,4,4299,1274,151,66,108,1022,1730,46,166,2,24,113,86,1348,38,2070,675,483,644,12,414,33,141,87,9312,5,3,3488,1,2900,988,78,1,338,1771,1,23,82,1982,161,17,622,42,6157,63,1027,41,6849,694,324,188,1530,275,3190,121,280,4,16559,649,1979,28,24,38,49,19,413,2017,2,8467,15,3754,3308,16,14,2369,703,11684,157,289,34,1086,28,71,757,11,20,1551,8,18,4766,177,8,313,244,4,26,1039,746,9825,14,224,19,9778,45,371,1264,681,350,12,35,11793,168,3463,21,1259,18254,37,26,112,2753,142,2043,36,460,908,80,9,205,34,2073,59,88,1290,36,2317,10,7,33,591,489,100,1,1,21,9,6834,12,321,233,4600,1,57,58,17,7582,1204,134,57,18,13917,1098,12153,22,474,44,150,18,59,762,45,96,323,8317,210,4,16688,1860,131,8275,81,9,3,1107,111,95,2,6,1570,2740,1735,81,3,4,6410,179,2348,34,9,14000,1,1,4301,394,2,6,66,8,7,496,8,915,605,4,198,176,6,4,45,1276,211,826,6,8,320,773,2611,6,3,1281,3947,569,688,273,10,43,12,37,5397,2057,1139,47,4807,9,16167,57,42,7868,686,800,415,4,439,11026,3,10708,2890,470,10,2190,1318,53,12,15,31,1103,977,18,2176,47240,415,5,146,21,19,4818,8612,101,2,3830,3,200,24,1,2,15,2055,184,1021,146,1437,77,1858,3574,112,4089,4,2027,14781,29,528,8,15,13,3,60,43,167,55,16,5,10,42,458,78,5,4058,14,581,60,383,78,7100,88,155,33,1,29,857,388,192,1915,1602,133,6,184,69,19,1,1128,1,12208,252,83,5893,36,9183,1323,9,113,2253,12185,215,113,46,1273,12,215,3002,7598,8,854,4910,3234,287,4156,1846,656,4,16,460,1959,1649,173,9187,177,5,3846,4,1790,227,1086,7894,1976,57,940,1649,16,222,13,1760,1,71,197,14831,40,10,56,5085,6,22,7168,3873,10,7,4731,26,11,26,13,4,1022,3,11511,160,2127,1072,1048,17163,477,22,269,2653,2,18,4,199,151,10597,586,37,3544,117,1,134,11,58,5325,295,21,23,6272,12,851,3365,54,751,134,8,51,31,6769,8506,5700,1211,2,16,2537,30,1667,39,228,38,731,955,2432,19,52,1876,5,437,3560,58,29,40,8,1,1071,44,12,130,759,12,49,73,6,55,4394,3521,21,45,97,31,596,6533,258,28,155,5081,2,4706,16,755,826,51,380,14,1995,175,4900,842,2,1,28,112,3051,181,345,336,222,74,6,4595,3828,113,212,58,3,2629,909,91,55,435,2131,3077,308,3155,244,8248,55,2499,45,9,94,11,514,13,55,4,61,1089,171,2398,2199,858,177,30,11744,12,4325,6,232,33,671,820,8227,36,13,176,1717,3,920,158,82,5,3,98,1082,208,67,49,41,75,4,93,5068,41,2820,13,1367,29,2006,5161,124,7,396,82,877,434,102,1765,440,102,700,7012,873,10610,160,366,86,190,1635,415,121,336,348,57,1,150,31,2904,717,20,132,33,238,2,15,53,1775,2,460,19,5218,736,8,94,412,332,192,3483,82,238,4,1,333,872,164,3,194,57,37,1,1,16,70,35,95,123,2311,28,5,188,1177,155],\"xaxis\":\"x\",\"y\":[\"K01M\",\"K04V\",\"K04W\",\"K08D\",\"K0A9\",\"K0CO\",\"K0E0\",\"K0F2\",\"K0J4\",\"K0VG\",\"K11R\",\"K12N\",\"K14Y\",\"K19A\",\"K1A5\",\"K1A6\",\"K1F0\",\"K1H2\",\"K1II\",\"K1J0\",\"K1M4\",\"K1P1\",\"K1R7\",\"K1V4\",\"K1V6\",\"K1YT\",\"K20V\",\"K21D\",\"K27A\",\"K2D5\",\"K2DP\",\"K2G4\",\"K2I0\",\"K2J9\",\"K2V5\",\"K2W6\",\"K33V\",\"K36U\",\"K3A1\",\"K3A6\",\"K3DU\",\"K3I2\",\"K3J7\",\"K3LF\",\"K3R7\",\"K3T5\",\"K3TH\",\"K40J\",\"K42J\",\"K48I\",\"K4A6\",\"K4A9\",\"K4BL\",\"K4BM\",\"K4CR\",\"K4HV\",\"K4I3\",\"K4M9\",\"K4MR\",\"K4O4\",\"K4SL\",\"K54J\",\"K5C1\",\"K5M9\",\"K5SM\",\"K5T6\",\"K5W8\",\"K65S\",\"K6A1\",\"K6A2\",\"K6B0\",\"K6R3\",\"K6R6\",\"K77M\",\"K79J\",\"K7R3\",\"K7R5\",\"K82V\",\"K87Q\",\"K8A0\",\"K8D3\",\"K8S0\",\"K9A1\",\"K9A4\",\"K9BB\",\"K9L2\",\"K9MN\",\"K9V9\",\"KAAA\",\"KAAF\",\"KAAO\",\"KAAT\",\"KABE\",\"KABH\",\"KABI\",\"KABQ\",\"KABY\",\"KACB\",\"KACJ\",\"KACK\",\"KACP\",\"KACQ\",\"KACT\",\"KACV\",\"KACY\",\"KADC\",\"KADG\",\"KADH\",\"KADM\",\"KADS\",\"KADU\",\"KADW\",\"KAEG\",\"KAEJ\",\"KAEL\",\"KAEX\",\"KAFF\",\"KAFJ\",\"KAFK\",\"KAFN\",\"KAFO\",\"KAFP\",\"KAFW\",\"KAGC\",\"KAGS\",\"KAHN\",\"KAHQ\",\"KAIB\",\"KAID\",\"KAIG\",\"KAIK\",\"KAIO\",\"KAIT\",\"KAIZ\",\"KAJG\",\"KAJO\",\"KAJZ\",\"KAKH\",\"KAKO\",\"KAKQ\",\"KAKR\",\"KALB\",\"KALI\",\"KALK\",\"KALM\",\"KALN\",\"KALO\",\"KALS\",\"KALW\",\"KALX\",\"KAMA\",\"KAMG\",\"KAMN\",\"KAMW\",\"KANB\",\"KAND\",\"KANE\",\"KANJ\",\"KANK\",\"KANQ\",\"KANW\",\"KAOH\",\"KAOO\",\"KAPA\",\"KAPC\",\"KAPF\",\"KAPG\",\"KAPN\",\"KAPY\",\"KAQO\",\"KAQP\",\"KAQR\",\"KAQV\",\"KAQW\",\"KARA\",\"KARB\",\"KARG\",\"KARL\",\"KARM\",\"KARR\",\"KART\",\"KARV\",\"KARW\",\"KASD\",\"KASE\",\"KASG\",\"KASH\",\"KASJ\",\"KASL\",\"KAST\",\"KASW\",\"KASX\",\"KATL\",\"KATS\",\"KATT\",\"KATW\",\"KAUD\",\"KAUG\",\"KAUH\",\"KAUM\",\"KAUN\",\"KAUO\",\"KAUS\",\"KAUW\",\"KAVC\",\"KAVK\",\"KAVL\",\"KAVP\",\"KAWG\",\"KAWH\",\"KAWM\",\"KAWN\",\"KAWO\",\"KAXA\",\"KAXH\",\"KAXN\",\"KAXS\",\"KAXX\",\"KAYS\",\"KAZC\",\"KAZE\",\"KAZO\",\"KB23\",\"KBAB\",\"KBAC\",\"KBAD\",\"KBAF\",\"KBAK\",\"KBAN\",\"KBAZ\",\"KBBB\",\"KBBD\",\"KBBG\",\"KBBP\",\"KBBW\",\"KBCB\",\"KBCE\",\"KBCK\",\"KBCT\",\"KBDE\",\"KBDG\",\"KBDH\",\"KBDL\",\"KBDN\",\"KBDR\",\"KBDU\",\"KBEA\",\"KBED\",\"KBEH\",\"KBFD\",\"KBFF\",\"KBFI\",\"KBFL\",\"KBFM\",\"KBFW\",\"KBGD\",\"KBGE\",\"KBGF\",\"KBGM\",\"KBGR\",\"KBHB\",\"KBHK\",\"KBHM\",\"KBIE\",\"KBIF\",\"KBIH\",\"KBIJ\",\"KBIL\",\"KBIS\",\"KBIV\",\"KBIX\",\"KBJC\",\"KBJI\",\"KBJJ\",\"KBKD\",\"KBKE\",\"KBKF\",\"KBKL\",\"KBKN\",\"KBKS\",\"KBKV\",\"KBKW\",\"KBKX\",\"KBLF\",\"KBLH\",\"KBLI\",\"KBLM\",\"KBLU\",\"KBLV\",\"KBMC\",\"KBMG\",\"KBMI\",\"KBML\",\"KBMQ\",\"KBMT\",\"KBNA\",\"KBNL\",\"KBNO\",\"KBNW\",\"KBOI\",\"KBOK\",\"KBOS\",\"KBOW\",\"KBPG\",\"KBPK\",\"KBPP\",\"KBPT\",\"KBQK\",\"KBQP\",\"KBRD\",\"KBRL\",\"KBRO\",\"KBRX\",\"KBTA\",\"KBTL\",\"KBTM\",\"KBTP\",\"KBTR\",\"KBTV\",\"KBUF\",\"KBUO\",\"KBUR\",\"KBUU\",\"KBUY\",\"KBVI\",\"KBVN\",\"KBVO\",\"KBVS\",\"KBVU\",\"KBVX\",\"KBVY\",\"KBWD\",\"KBWG\",\"KBWI\",\"KBWP\",\"KBXA\",\"KBXK\",\"KBYG\",\"KBYH\",\"KBYI\",\"KBYS\",\"KBYY\",\"KBZN\",\"KC09\",\"KC29\",\"KC35\",\"KC75\",\"KCAD\",\"KCAE\",\"KCAG\",\"KCAK\",\"KCAO\",\"KCAV\",\"KCBE\",\"KCBF\",\"KCBG\",\"KCBK\",\"KCBM\",\"KCCA\",\"KCCO\",\"KCCR\",\"KCCU\",\"KCCY\",\"KCDA\",\"KCDC\",\"KCDH\",\"KCDJ\",\"KCDN\",\"KCDR\",\"KCDS\",\"KCDW\",\"KCEC\",\"KCEF\",\"KCEU\",\"KCEW\",\"KCEY\",\"KCEZ\",\"KCFD\",\"KCFE\",\"KCFS\",\"KCFV\",\"KCGC\",\"KCGE\",\"KCGF\",\"KCGI\",\"KCGS\",\"KCGZ\",\"KCHA\",\"KCHD\",\"KCHJ\",\"KCHK\",\"KCHO\",\"KCHS\",\"KCIC\",\"KCID\",\"KCIN\",\"KCIR\",\"KCIU\",\"KCJR\",\"KCKB\",\"KCKF\",\"KCKI\",\"KCKM\",\"KCKN\",\"KCKP\",\"KCKV\",\"KCLE\",\"KCLI\",\"KCLK\",\"KCLL\",\"KCLM\",\"KCLS\",\"KCLT\",\"KCMA\",\"KCMH\",\"KCMI\",\"KCMR\",\"KCMS\",\"KCMX\",\"KCMY\",\"KCNB\",\"KCNC\",\"KCNI\",\"KCNK\",\"KCNM\",\"KCNO\",\"KCNU\",\"KCNW\",\"KCNY\",\"KCOD\",\"KCOE\",\"KCOF\",\"KCOM\",\"KCON\",\"KCOQ\",\"KCOS\",\"KCOT\",\"KCOU\",\"KCPC\",\"KCPK\",\"KCPR\",\"KCPS\",\"KCPT\",\"KCPW\",\"KCQB\",\"KCQC\",\"KCQF\",\"KCQM\",\"KCQT\",\"KCQV\",\"KCQW\",\"KCQX\",\"KCRE\",\"KCRG\",\"KCRP\",\"KCRQ\",\"KCRS\",\"KCRV\",\"KCRW\",\"KCRX\",\"KCSG\",\"KCSM\",\"KCSQ\",\"KCSV\",\"KCTB\",\"KCTD\",\"KCTJ\",\"KCTY\",\"KCTZ\",\"KCUB\",\"KCUH\",\"KCUL\",\"KCUT\",\"KCVB\",\"KCVG\",\"KCVH\",\"KCVN\",\"KCVO\",\"KCVS\",\"KCVX\",\"KCWA\",\"KCWC\",\"KCWF\",\"KCWI\",\"KCWN\",\"KCWV\",\"KCXO\",\"KCXP\",\"KCXY\",\"KCYS\",\"KCZK\",\"KCZZ\",\"KD25\",\"KD39\",\"KD57\",\"KD95\",\"KDAA\",\"KDAB\",\"KDAG\",\"KDAL\",\"KDAN\",\"KDAW\",\"KDAY\",\"KDBN\",\"KDBQ\",\"KDCA\",\"KDCM\",\"KDCU\",\"KDCY\",\"KDDC\",\"KDDH\",\"KDEC\",\"KDED\",\"KDEH\",\"KDEN\",\"KDEQ\",\"KDET\",\"KDEW\",\"KDFI\",\"KDFW\",\"KDGW\",\"KDHN\",\"KDIJ\",\"KDIK\",\"KDKB\",\"KDKK\",\"KDKR\",\"KDLF\",\"KDLH\",\"KDLL\",\"KDLN\",\"KDLS\",\"KDLZ\",\"KDMA\",\"KDMH\",\"KDMN\",\"KDMO\",\"KDMW\",\"KDNL\",\"KDNN\",\"KDNS\",\"KDNV\",\"KDOV\",\"KDPA\",\"KDPG\",\"KDPL\",\"KDQH\",\"KDRA\",\"KDRC\",\"KDRI\",\"KDRO\",\"KDRT\",\"KDSM\",\"KDSV\",\"KDTL\",\"KDTN\",\"KDTO\",\"KDTS\",\"KDTW\",\"KDUA\",\"KDUB\",\"KDUC\",\"KDUG\",\"KDUH\",\"KDUJ\",\"KDUX\",\"KDVK\",\"KDVN\",\"KDVO\",\"KDVP\",\"KDVT\",\"KDWH\",\"KDWX\",\"KDXR\",\"KDXX\",\"KDYA\",\"KDYB\",\"KDYL\",\"KDYR\",\"KDYS\",\"KDYT\",\"KDZB\",\"KDZJ\",\"KE11\",\"KE16\",\"KE33\",\"KE38\",\"KE80\",\"KEAR\",\"KEAT\",\"KEAU\",\"KEBG\",\"KEBS\",\"KECG\",\"KECP\",\"KECS\",\"KECU\",\"KEDC\",\"KEDE\",\"KEDJ\",\"KEDU\",\"KEDW\",\"KEED\",\"KEEN\",\"KEEO\",\"KEET\",\"KEFC\",\"KEFD\",\"KEFK\",\"KEFT\",\"KEGE\",\"KEGV\",\"KEHO\",\"KEHR\",\"KEHY\",\"KEIK\",\"KEKA\",\"KEKM\",\"KEKN\",\"KEKO\",\"KEKQ\",\"KELD\",\"KELM\",\"KELN\",\"KELO\",\"KELP\",\"KELY\",\"KELZ\",\"KEMM\",\"KEMP\",\"KEMT\",\"KEMV\",\"KEND\",\"KENL\",\"KENV\",\"KENW\",\"KEOE\",\"KEOK\",\"KEPH\",\"KEPZ\",\"KEQY\",\"KERI\",\"KERV\",\"KERY\",\"KESC\",\"KESF\",\"KESN\",\"KEST\",\"KETB\",\"KETC\",\"KEUF\",\"KEUG\",\"KEUL\",\"KEVB\",\"KEVM\",\"KEVV\",\"KEVW\",\"KEWB\",\"KEWK\",\"KEWN\",\"KEWR\",\"KEXX\",\"KEYE\",\"KEYF\",\"KEYW\",\"KEZF\",\"KEZM\",\"KEZS\",\"KF05\",\"KF44\",\"KF46\",\"KF70\",\"KFAF\",\"KFAM\",\"KFAR\",\"KFAT\",\"KFAY\",\"KFBG\",\"KFBL\",\"KFBR\",\"KFCI\",\"KFCM\",\"KFCS\",\"KFDK\",\"KFDR\",\"KFDW\",\"KFDY\",\"KFEP\",\"KFET\",\"KFEW\",\"KFFA\",\"KFFC\",\"KFFL\",\"KFFM\",\"KFFO\",\"KFFT\",\"KFFX\",\"KFFZ\",\"KFHB\",\"KFHU\",\"KFIG\",\"KFIT\",\"KFKA\",\"KFKL\",\"KFKN\",\"KFKS\",\"KFLD\",\"KFLG\",\"KFLL\",\"KFLO\",\"KFLP\",\"KFLY\",\"KFME\",\"KFMH\",\"KFMM\",\"KFMN\",\"KFMY\",\"KFNB\",\"KFNL\",\"KFNT\",\"KFOD\",\"KFOE\",\"KFOK\",\"KFOT\",\"KFOZ\",\"KFPK\",\"KFPR\",\"KFQD\",\"KFRG\",\"KFRI\",\"KFRM\",\"KFSD\",\"KFSE\",\"KFSI\",\"KFSK\",\"KFSM\",\"KFSO\",\"KFST\",\"KFSW\",\"KFTG\",\"KFTK\",\"KFTN\",\"KFTW\",\"KFTY\",\"KFUL\",\"KFVE\",\"KFVX\",\"KFWA\",\"KFWB\",\"KFWC\",\"KFWD\",\"KFWN\",\"KFWS\",\"KFXE\",\"KFXY\",\"KFYG\",\"KFYJ\",\"KFYV\",\"KFZG\",\"KFZY\",\"KGAD\",\"KGAI\",\"KGAO\",\"KGBD\",\"KGBG\",\"KGBN\",\"KGCC\",\"KGCD\",\"KGCK\",\"KGCM\",\"KGCN\",\"KGDB\",\"KGDJ\",\"KGDP\",\"KGDV\",\"KGED\",\"KGEG\",\"KGEU\",\"KGEV\",\"KGEY\",\"KGEZ\",\"KGFA\",\"KGFK\",\"KGFL\",\"KGGE\",\"KGGG\",\"KGGI\",\"KGGP\",\"KGGW\",\"KGHG\",\"KGHW\",\"KGIC\",\"KGIF\",\"KGJT\",\"KGKJ\",\"KGKY\",\"KGLE\",\"KGLH\",\"KGLR\",\"KGLS\",\"KGLW\",\"KGLY\",\"KGMJ\",\"KGMU\",\"KGNA\",\"KGNC\",\"KGNR\",\"KGNT\",\"KGNV\",\"KGOK\",\"KGON\",\"KGOO\",\"KGOV\",\"KGPH\",\"KGPI\",\"KGPM\",\"KGPT\",\"KGPZ\",\"KGRB\",\"KGRD\",\"KGRF\",\"KGRI\",\"KGRK\",\"KGRR\",\"KGSB\",\"KGSH\",\"KGSO\",\"KGSP\",\"KGTB\",\"KGTF\",\"KGTR\",\"KGTU\",\"KGUC\",\"KGUN\",\"KGUP\",\"KGUS\",\"KGUY\",\"KGVL\",\"KGVT\",\"KGWB\",\"KGWO\",\"KGWW\",\"KGXA\",\"KGXF\",\"KGXY\",\"KGYB\",\"KGYH\",\"KGYI\",\"KGYL\",\"KGYR\",\"KGYY\",\"KGZH\",\"KGZL\",\"KH21\",\"KHAE\",\"KHAF\",\"KHAI\",\"KHAO\",\"KHBG\",\"KHBI\",\"KHBR\",\"KHBV\",\"KHCD\",\"KHDC\",\"KHDE\",\"KHDN\",\"KHEF\",\"KHEQ\",\"KHEY\",\"KHEZ\",\"KHFD\",\"KHFF\",\"KHFJ\",\"KHGR\",\"KHHF\",\"KHHR\",\"KHHW\",\"KHIB\",\"KHIE\",\"KHIF\",\"KHIO\",\"KHJH\",\"KHJO\",\"KHKA\",\"KHKS\",\"KHKY\",\"KHLC\",\"KHLG\",\"KHLN\",\"KHLR\",\"KHLX\",\"KHMM\",\"KHMS\",\"KHMZ\",\"KHNB\",\"KHND\",\"KHNR\",\"KHNZ\",\"KHOB\",\"KHOE\",\"KHON\",\"KHOP\",\"KHOT\",\"KHOU\",\"KHPN\",\"KHQM\",\"KHQU\",\"KHQZ\",\"KHRI\",\"KHRJ\",\"KHRL\",\"KHRO\",\"KHRT\",\"KHRX\",\"KHSA\",\"KHSB\",\"KHSE\",\"KHSI\",\"KHSP\",\"KHST\",\"KHSV\",\"KHTL\",\"KHTO\",\"KHTS\",\"KHUA\",\"KHUF\",\"KHUL\",\"KHUM\",\"KHUT\",\"KHVN\",\"KHVR\",\"KHVS\",\"KHWD\",\"KHWO\",\"KHWV\",\"KHWY\",\"KHXD\",\"KHYA\",\"KHYI\",\"KHYR\",\"KHYS\",\"KHYW\",\"KHYX\",\"KHZR\",\"KHZX\",\"KHZY\",\"KI16\",\"KI35\",\"KI39\",\"KI69\",\"KI75\",\"KIAB\",\"KIAD\",\"KIAG\",\"KIAH\",\"KIBM\",\"KICL\",\"KICR\",\"KICT\",\"KIDA\",\"KIDI\",\"KIDP\",\"KIDV\",\"KIEN\",\"KIER\",\"KIFA\",\"KIFP\",\"KIGM\",\"KIGQ\",\"KIGX\",\"KIIB\",\"KIIY\",\"KIJD\",\"KIJX\",\"KIKA\",\"KIKK\",\"KIKV\",\"KIKW\",\"KILE\",\"KILG\",\"KILM\",\"KILN\",\"KIML\",\"KIMM\",\"KIMT\",\"KIND\",\"KINF\",\"KINJ\",\"KINK\",\"KINL\",\"KINS\",\"KINT\",\"KINW\",\"KIOB\",\"KIOW\",\"KIPJ\",\"KIPL\",\"KIPT\",\"KIRK\",\"KIRS\",\"KISM\",\"KISN\",\"KISO\",\"KISP\",\"KISQ\",\"KISW\",\"KITH\",\"KITR\",\"KIWA\",\"KIWD\",\"KIWI\",\"KIXA\",\"KIXD\",\"KIYA\",\"KIYK\",\"KIZA\",\"KIZG\",\"KJAC\",\"KJAN\",\"KJAS\",\"KJAX\",\"KJBR\",\"KJCT\",\"KJDD\",\"KJEF\",\"KJER\",\"KJES\",\"KJFK\",\"KJFX\",\"KJFZ\",\"KJGG\",\"KJHW\",\"KJKA\",\"KJKJ\",\"KJKL\",\"KJLN\",\"KJMR\",\"KJMS\",\"KJNW\",\"KJNX\",\"KJOT\",\"KJQF\",\"KJRB\",\"KJSO\",\"KJST\",\"KJSV\",\"KJVL\",\"KJWG\",\"KJWY\",\"KJXI\",\"KJXN\",\"KJYG\",\"KJYL\",\"KJYM\",\"KJYO\",\"KJYR\",\"KJZI\",\"KK22\",\"KKLS\",\"KL35\",\"KL38\",\"KLAA\",\"KLAF\",\"KLAL\",\"KLAM\",\"KLAN\",\"KLAR\",\"KLAS\",\"KLAW\",\"KLAX\",\"KLBB\",\"KLBE\",\"KLBF\",\"KLBR\",\"KLBT\",\"KLBX\",\"KLCG\",\"KLCH\",\"KLCI\",\"KLCK\",\"KLCQ\",\"KLDJ\",\"KLDM\",\"KLEB\",\"KLEE\",\"KLEW\",\"KLEX\",\"KLFI\",\"KLFK\",\"KLFT\",\"KLGA\",\"KLGB\",\"KLGC\",\"KLGD\",\"KLGU\",\"KLHB\",\"KLHM\",\"KLHQ\",\"KLHW\",\"KLHX\",\"KLHZ\",\"KLIC\",\"KLIT\",\"KLJF\",\"KLKR\",\"KLKU\",\"KLKV\",\"KLLJ\",\"KLLQ\",\"KLMO\",\"KLMT\",\"KLNC\",\"KLNK\",\"KLNL\",\"KLNP\",\"KLNR\",\"KLNS\",\"KLOL\",\"KLOM\",\"KLOR\",\"KLOT\",\"KLOU\",\"KLOZ\",\"KLPC\",\"KLPR\",\"KLQK\",\"KLRD\",\"KLRF\",\"KLRJ\",\"KLRO\",\"KLRU\",\"KLSB\",\"KLSE\",\"KLSF\",\"KLSV\",\"KLTS\",\"KLUA\",\"KLUD\",\"KLUF\",\"KLUK\",\"KLUM\",\"KLUX\",\"KLVJ\",\"KLVK\",\"KLVM\",\"KLVN\",\"KLVS\",\"KLWA\",\"KLWB\",\"KLWC\",\"KLWD\",\"KLWM\",\"KLWS\",\"KLWT\",\"KLWV\",\"KLXL\",\"KLXN\",\"KLXT\",\"KLXV\",\"KLXY\",\"KLYH\",\"KLYV\",\"KLZK\",\"KLZU\",\"KLZZ\",\"KM16\",\"KM19\",\"KM25\",\"KM30\",\"KM40\",\"KM46\",\"KM89\",\"KMAE\",\"KMAI\",\"KMAN\",\"KMAO\",\"KMBG\",\"KMBL\",\"KMBS\",\"KMCB\",\"KMCC\",\"KMCD\",\"KMCE\",\"KMCF\",\"KMCI\",\"KMCJ\",\"KMCK\",\"KMCN\",\"KMCO\",\"KMCW\",\"KMDD\",\"KMDH\",\"KMDQ\",\"KMDS\",\"KMDT\",\"KMDW\",\"KMDZ\",\"KMEB\",\"KMEH\",\"KMEI\",\"KMEM\",\"KMER\",\"KMEZ\",\"KMFD\",\"KMFE\",\"KMFI\",\"KMFR\",\"KMFV\",\"KMGC\",\"KMGE\",\"KMGG\",\"KMGJ\",\"KMGM\",\"KMGN\",\"KMGR\",\"KMGW\",\"KMGY\",\"KMHE\",\"KMHK\",\"KMHR\",\"KMHS\",\"KMHT\",\"KMHV\",\"KMIA\",\"KMIC\",\"KMIE\",\"KMIV\",\"KMIW\",\"KMJQ\",\"KMJX\",\"KMKC\",\"KMKE\",\"KMKG\",\"KMKJ\",\"KMKL\",\"KMKN\",\"KMKO\",\"KMKS\",\"KMKT\",\"KMKY\",\"KMLB\",\"KMLC\",\"KMLD\",\"KMLE\",\"KMLF\",\"KMLI\",\"KMLJ\",\"KMLP\",\"KMLS\",\"KMLT\",\"KMLU\",\"KMMH\",\"KMMI\",\"KMMK\",\"KMML\",\"KMMT\",\"KMMU\",\"KMMV\",\"KMNE\",\"KMNH\",\"KMNI\",\"KMNM\",\"KMNN\",\"KMNZ\",\"KMOB\",\"KMOD\",\"KMOP\",\"KMOX\",\"KMPO\",\"KMPV\",\"KMPZ\",\"KMQB\",\"KMQE\",\"KMQI\",\"KMQJ\",\"KMQS\",\"KMQY\",\"KMRB\",\"KMRC\",\"KMRF\",\"KMRJ\",\"KMRN\",\"KMRT\",\"KMRY\",\"KMSL\",\"KMSN\",\"KMSO\",\"KMSP\",\"KMSS\",\"KMSV\",\"KMSY\",\"KMTC\",\"KMTH\",\"KMTJ\",\"KMTN\",\"KMTO\",\"KMTP\",\"KMTR\",\"KMTV\",\"KMTW\",\"KMUI\",\"KMUL\",\"KMUO\",\"KMUT\",\"KMVE\",\"KMVL\",\"KMVN\",\"KMVY\",\"KMWA\",\"KMWC\",\"KMWH\",\"KMWK\",\"KMWL\",\"KMWM\",\"KMWN\",\"KMWO\",\"KMWS\",\"KMWT\",\"KMXF\",\"KMXO\",\"KMYF\",\"KMYL\",\"KMYP\",\"KMYR\",\"KMYV\",\"KMZH\",\"KMZZ\",\"KN03\",\"KNAK\",\"KNBC\",\"KNBG\",\"KNBJ\",\"KNBT\",\"KNCA\",\"KNDZ\",\"KNEL\",\"KNEW\",\"KNFE\",\"KNFG\",\"KNFJ\",\"KNFL\",\"KNFW\",\"KNGP\",\"KNGU\",\"KNHK\",\"KNHZ\",\"KNID\",\"KNIP\",\"KNJK\",\"KNJM\",\"KNKA\",\"KNKT\",\"KNKX\",\"KNLC\",\"KNMM\",\"KNOG\",\"KNPA\",\"KNQA\",\"KNQI\",\"KNQX\",\"KNRB\",\"KNRS\",\"KNSE\",\"KNSI\",\"KNTU\",\"KNUI\",\"KNUQ\",\"KNUW\",\"KNXF\",\"KNXP\",\"KNYC\",\"KNYG\",\"KNYL\",\"KNZY\",\"KO22\",\"KO54\",\"KO69\",\"KO86\",\"KO87\",\"KOAJ\",\"KOAK\",\"KOBE\",\"KOCF\",\"KOCH\",\"KOCQ\",\"KOCW\",\"KODO\",\"KOEB\",\"KOEO\",\"KOFF\",\"KOFK\",\"KOFP\",\"KOGA\",\"KOGB\",\"KOGD\",\"KOGS\",\"KOJA\",\"KOJC\",\"KOKB\",\"KOKC\",\"KOKH\",\"KOKK\",\"KOKM\",\"KOKV\",\"KOKZ\",\"KOLE\",\"KOLM\",\"KOLS\",\"KOLU\",\"KOLV\",\"KOLY\",\"KOLZ\",\"KOMA\",\"KOMH\",\"KOMK\",\"KOMN\",\"KONA\",\"KONL\",\"KONM\",\"KONO\",\"KONP\",\"KONT\",\"KONX\",\"KONZ\",\"KOOA\",\"KOPF\",\"KOPL\",\"KOPN\",\"KOQN\",\"KOQT\",\"KOQU\",\"KORB\",\"KORC\",\"KORD\",\"KORE\",\"KORF\",\"KORG\",\"KORH\",\"KORL\",\"KOSA\",\"KOSC\",\"KOSH\",\"KOSU\",\"KOTG\",\"KOTH\",\"KOTM\",\"KOUN\",\"KOVE\",\"KOVL\",\"KOVS\",\"KOWA\",\"KOWB\",\"KOWD\",\"KOWP\",\"KOXB\",\"KOXC\",\"KOXI\",\"KOXR\",\"KOXV\",\"KOZA\",\"KOZR\",\"KOZW\",\"KP08\",\"KP38\",\"KP53\",\"KP58\",\"KP68\",\"KP69\",\"KPAE\",\"KPAH\",\"KPAM\",\"KPAN\",\"KPAO\",\"KPAT\",\"KPBF\",\"KPBG\",\"KPBH\",\"KPBI\",\"KPCM\",\"KPCW\",\"KPCZ\",\"KPDC\",\"KPDK\",\"KPDT\",\"KPDX\",\"KPEA\",\"KPEO\",\"KPEQ\",\"KPEX\",\"KPEZ\",\"KPGA\",\"KPGD\",\"KPGV\",\"KPHD\",\"KPHF\",\"KPHL\",\"KPHN\",\"KPHP\",\"KPHX\",\"KPIA\",\"KPIB\",\"KPIE\",\"KPIH\",\"KPIL\",\"KPIR\",\"KPIT\",\"KPKB\",\"KPKD\",\"KPKV\",\"KPLN\",\"KPLU\",\"KPMD\",\"KPMP\",\"KPMV\",\"KPNA\",\"KPNC\",\"KPNE\",\"KPNM\",\"KPNS\",\"KPNT\",\"KPOB\",\"KPOC\",\"KPOE\",\"KPOF\",\"KPOU\",\"KPOV\",\"KPPA\",\"KPPF\",\"KPPO\",\"KPPQ\",\"KPQI\",\"KPQL\",\"KPQN\",\"KPRB\",\"KPRC\",\"KPRG\",\"KPRN\",\"KPRO\",\"KPRX\",\"KPRZ\",\"KPSC\",\"KPSF\",\"KPSK\",\"KPSM\",\"KPSN\",\"KPSO\",\"KPSP\",\"KPTB\",\"KPTK\",\"KPTN\",\"KPTS\",\"KPTV\",\"KPTW\",\"KPUB\",\"KPUC\",\"KPUJ\",\"KPUM\",\"KPUW\",\"KPVB\",\"KPVC\",\"KPVD\",\"KPVF\",\"KPVG\",\"KPVJ\",\"KPVU\",\"KPVW\",\"KPWA\",\"KPWC\",\"KPWG\",\"KPWK\",\"KPWM\",\"KPWT\",\"KPYM\",\"KPZQ\",\"KRAC\",\"KRAL\",\"KRAP\",\"KRBD\",\"KRBG\",\"KRBL\",\"KRBO\",\"KRBW\",\"KRCE\",\"KRCM\",\"KRCR\",\"KRCX\",\"KRCZ\",\"KRDD\",\"KRDG\",\"KRDK\",\"KRDM\",\"KRDU\",\"KRFD\",\"KRFI\",\"KRGK\",\"KRHI\",\"KRHP\",\"KRHV\",\"KRIC\",\"KRIL\",\"KRIM\",\"KRIV\",\"KRIW\",\"KRJD\",\"KRKD\",\"KRKP\",\"KRKR\",\"KRKS\",\"KRME\",\"KRMG\",\"KRMN\",\"KRMY\",\"KRND\",\"KRNH\",\"KRNM\",\"KRNO\",\"KRNP\",\"KRNT\",\"KRNV\",\"KROA\",\"KROC\",\"KROG\",\"KROS\",\"KROW\",\"KROX\",\"KRPD\",\"KRPH\",\"KRPJ\",\"KRQB\",\"KRQE\",\"KRQO\",\"KRRL\",\"KRRT\",\"KRSL\",\"KRSN\",\"KRSP\",\"KRST\",\"KRSV\",\"KRSW\",\"KRTN\",\"KRTS\",\"KRUE\",\"KRUQ\",\"KRUT\",\"KRVS\",\"KRWF\",\"KRWI\",\"KRWL\",\"KRWV\",\"KRXE\",\"KRYN\",\"KRYT\",\"KRYV\",\"KRYW\",\"KRYY\",\"KRZL\",\"KRZN\",\"KRZR\",\"KRZZ\",\"KS14\",\"KS25\",\"KS47\",\"KSAA\",\"KSAC\",\"KSAD\",\"KSAF\",\"KSAN\",\"KSAR\",\"KSAT\",\"KSAV\",\"KSAW\",\"KSAZ\",\"KSBA\",\"KSBD\",\"KSBM\",\"KSBN\",\"KSBO\",\"KSBP\",\"KSBS\",\"KSBY\",\"KSCH\",\"KSCK\",\"KSDA\",\"KSDB\",\"KSDF\",\"KSDL\",\"KSDM\",\"KSEA\",\"KSEE\",\"KSEG\",\"KSEP\",\"KSET\",\"KSEZ\",\"KSFB\",\"KSFF\",\"KSFM\",\"KSFO\",\"KSFQ\",\"KSFY\",\"KSFZ\",\"KSGE\",\"KSGF\",\"KSGH\",\"KSGJ\",\"KSGR\",\"KSGS\",\"KSGT\",\"KSGU\",\"KSHD\",\"KSHL\",\"KSHN\",\"KSHR\",\"KSHV\",\"KSIB\",\"KSIF\",\"KSIY\",\"KSJC\",\"KSJN\",\"KSJT\",\"KSKA\",\"KSKF\",\"KSKX\",\"KSLB\",\"KSLC\",\"KSLE\",\"KSLG\",\"KSLH\",\"KSLI\",\"KSLK\",\"KSLN\",\"KSLO\",\"KSLR\",\"KSME\",\"KSMF\",\"KSMN\",\"KSMO\",\"KSMP\",\"KSMQ\",\"KSMS\",\"KSMX\",\"KSNA\",\"KSNC\",\"KSNK\",\"KSNL\",\"KSNS\",\"KSNT\",\"KSNY\",\"KSOA\",\"KSOP\",\"KSOW\",\"KSPA\",\"KSPB\",\"KSPD\",\"KSPG\",\"KSPI\",\"KSPL\",\"KSPS\",\"KSPW\",\"KSQI\",\"KSQL\",\"KSRB\",\"KSRC\",\"KSRE\",\"KSRQ\",\"KSRR\",\"KSSC\",\"KSSF\",\"KSSI\",\"KSTC\",\"KSTE\",\"KSTF\",\"KSTJ\",\"KSTK\",\"KSTL\",\"KSTP\",\"KSTS\",\"KSUA\",\"KSUE\",\"KSUN\",\"KSUS\",\"KSUT\",\"KSUU\",\"KSUW\",\"KSUX\",\"KSVC\",\"KSVH\",\"KSVN\",\"KSWF\",\"KSWO\",\"KSWW\",\"KSXT\",\"KSYF\",\"KSYN\",\"KSYR\",\"KSZL\",\"KSZT\",\"KT20\",\"KT35\",\"KT43\",\"KT62\",\"KT65\",\"KT82\",\"KTAD\",\"KTAN\",\"KTAZ\",\"KTBN\",\"KTBR\",\"KTBX\",\"KTCC\",\"KTCL\",\"KTCM\",\"KTCS\",\"KTDF\",\"KTDO\",\"KTDR\",\"KTDZ\",\"KTEB\",\"KTEW\",\"KTEX\",\"KTHA\",\"KTHV\",\"KTIF\",\"KTIK\",\"KTIP\",\"KTIW\",\"KTIX\",\"KTKC\",\"KTKI\",\"KTKV\",\"KTLH\",\"KTMA\",\"KTMB\",\"KTME\",\"KTMH\",\"KTMK\",\"KTNB\",\"KTNU\",\"KTOA\",\"KTOB\",\"KTOC\",\"KTOI\",\"KTOL\",\"KTOP\",\"KTOR\",\"KTPA\",\"KTPF\",\"KTPH\",\"KTPL\",\"KTQE\",\"KTQH\",\"KTRI\",\"KTRK\",\"KTRL\",\"KTRM\",\"KTSP\",\"KTTA\",\"KTTD\",\"KTTF\",\"KTTN\",\"KTTS\",\"KTUL\",\"KTUP\",\"KTUS\",\"KTVC\",\"KTVF\",\"KTVI\",\"KTVK\",\"KTVL\",\"KTVR\",\"KTWF\",\"KTWM\",\"KTXK\",\"KTYQ\",\"KTYR\",\"KTYS\",\"KTZR\",\"KU24\",\"KU28\",\"KU31\",\"KU42\",\"KU78\",\"KUAO\",\"KUBE\",\"KUCP\",\"KUCY\",\"KUDG\",\"KUES\",\"KUGN\",\"KUIL\",\"KUIN\",\"KUKF\",\"KUKI\",\"KUKL\",\"KUKT\",\"KULM\",\"KUNI\",\"KUNO\",\"KUNR\",\"KUNU\",\"KUNV\",\"KUOX\",\"KUSE\",\"KUTA\",\"KUTS\",\"KUUU\",\"KUVA\",\"KUXL\",\"KUZA\",\"KVAD\",\"KVAY\",\"KVBT\",\"KVCB\",\"KVCT\",\"KVCV\",\"KVDF\",\"KVDI\",\"KVDW\",\"KVEL\",\"KVER\",\"KVES\",\"KVGT\",\"KVIH\",\"KVIS\",\"KVJI\",\"KVKS\",\"KVLD\",\"KVLL\",\"KVNC\",\"KVNY\",\"KVOK\",\"KVPC\",\"KVPS\",\"KVPZ\",\"KVQQ\",\"KVRB\",\"KVSF\",\"KVSH\",\"KVTA\",\"KVTI\",\"KVTN\",\"KVTP\",\"KVUJ\",\"KVUO\",\"KVVG\",\"KVWU\",\"KVYS\",\"KW22\",\"KW29\",\"KW43\",\"KW99\",\"KWAL\",\"KWBC\",\"KWDG\",\"KWDR\",\"KWEY\",\"KWHP\",\"KWJF\",\"KWLD\",\"KWMC\",\"KWRB\",\"KWRI\",\"KWST\",\"KWVI\",\"KWVL\",\"KWWD\",\"KWWR\",\"KWYS\",\"KXFL\",\"KXLL\",\"KXMR\",\"KXNA\",\"KXSA\",\"KXVG\",\"KXVW\",\"KY19\",\"KY22\",\"KY23\",\"KY50\",\"KY51\",\"KY63\",\"KY70\",\"KYIP\",\"KYKM\",\"KYKN\",\"KYNG\",\"KZPH\",\"KZZV\"],\"yaxis\":\"y\",\"type\":\"bar\"}],                        {\"template\":{\"data\":{\"histogram2dcontour\":[{\"type\":\"histogram2dcontour\",\"colorbar\":{\"outlinewidth\":0,\"ticks\":\"\"},\"colorscale\":[[0.0,\"#0d0887\"],[0.1111111111111111,\"#46039f\"],[0.2222222222222222,\"#7201a8\"],[0.3333333333333333,\"#9c179e\"],[0.4444444444444444,\"#bd3786\"],[0.5555555555555556,\"#d8576b\"],[0.6666666666666666,\"#ed7953\"],[0.7777777777777778,\"#fb9f3a\"],[0.8888888888888888,\"#fdca26\"],[1.0,\"#f0f921\"]]}],\"choropleth\":[{\"type\":\"choropleth\",\"colorbar\":{\"outlinewidth\":0,\"ticks\":\"\"}}],\"histogram2d\":[{\"type\":\"histogram2d\",\"colorbar\":{\"outlinewidth\":0,\"ticks\":\"\"},\"colorscale\":[[0.0,\"#0d0887\"],[0.1111111111111111,\"#46039f\"],[0.2222222222222222,\"#7201a8\"],[0.3333333333333333,\"#9c179e\"],[0.4444444444444444,\"#bd3786\"],[0.5555555555555556,\"#d8576b\"],[0.6666666666666666,\"#ed7953\"],[0.7777777777777778,\"#fb9f3a\"],[0.8888888888888888,\"#fdca26\"],[1.0,\"#f0f921\"]]}],\"heatmap\":[{\"type\":\"heatmap\",\"colorbar\":{\"outlinewidth\":0,\"ticks\":\"\"},\"colorscale\":[[0.0,\"#0d0887\"],[0.1111111111111111,\"#46039f\"],[0.2222222222222222,\"#7201a8\"],[0.3333333333333333,\"#9c179e\"],[0.4444444444444444,\"#bd3786\"],[0.5555555555555556,\"#d8576b\"],[0.6666666666666666,\"#ed7953\"],[0.7777777777777778,\"#fb9f3a\"],[0.8888888888888888,\"#fdca26\"],[1.0,\"#f0f921\"]]}],\"heatmapgl\":[{\"type\":\"heatmapgl\",\"colorbar\":{\"outlinewidth\":0,\"ticks\":\"\"},\"colorscale\":[[0.0,\"#0d0887\"],[0.1111111111111111,\"#46039f\"],[0.2222222222222222,\"#7201a8\"],[0.3333333333333333,\"#9c179e\"],[0.4444444444444444,\"#bd3786\"],[0.5555555555555556,\"#d8576b\"],[0.6666666666666666,\"#ed7953\"],[0.7777777777777778,\"#fb9f3a\"],[0.8888888888888888,\"#fdca26\"],[1.0,\"#f0f921\"]]}],\"contourcarpet\":[{\"type\":\"contourcarpet\",\"colorbar\":{\"outlinewidth\":0,\"ticks\":\"\"}}],\"contour\":[{\"type\":\"contour\",\"colorbar\":{\"outlinewidth\":0,\"ticks\":\"\"},\"colorscale\":[[0.0,\"#0d0887\"],[0.1111111111111111,\"#46039f\"],[0.2222222222222222,\"#7201a8\"],[0.3333333333333333,\"#9c179e\"],[0.4444444444444444,\"#bd3786\"],[0.5555555555555556,\"#d8576b\"],[0.6666666666666666,\"#ed7953\"],[0.7777777777777778,\"#fb9f3a\"],[0.8888888888888888,\"#fdca26\"],[1.0,\"#f0f921\"]]}],\"surface\":[{\"type\":\"surface\",\"colorbar\":{\"outlinewidth\":0,\"ticks\":\"\"},\"colorscale\":[[0.0,\"#0d0887\"],[0.1111111111111111,\"#46039f\"],[0.2222222222222222,\"#7201a8\"],[0.3333333333333333,\"#9c179e\"],[0.4444444444444444,\"#bd3786\"],[0.5555555555555556,\"#d8576b\"],[0.6666666666666666,\"#ed7953\"],[0.7777777777777778,\"#fb9f3a\"],[0.8888888888888888,\"#fdca26\"],[1.0,\"#f0f921\"]]}],\"mesh3d\":[{\"type\":\"mesh3d\",\"colorbar\":{\"outlinewidth\":0,\"ticks\":\"\"}}],\"scatter\":[{\"fillpattern\":{\"fillmode\":\"overlay\",\"size\":10,\"solidity\":0.2},\"type\":\"scatter\"}],\"parcoords\":[{\"type\":\"parcoords\",\"line\":{\"colorbar\":{\"outlinewidth\":0,\"ticks\":\"\"}}}],\"scatterpolargl\":[{\"type\":\"scatterpolargl\",\"marker\":{\"colorbar\":{\"outlinewidth\":0,\"ticks\":\"\"}}}],\"bar\":[{\"error_x\":{\"color\":\"#2a3f5f\"},\"error_y\":{\"color\":\"#2a3f5f\"},\"marker\":{\"line\":{\"color\":\"#E5ECF6\",\"width\":0.5},\"pattern\":{\"fillmode\":\"overlay\",\"size\":10,\"solidity\":0.2}},\"type\":\"bar\"}],\"scattergeo\":[{\"type\":\"scattergeo\",\"marker\":{\"colorbar\":{\"outlinewidth\":0,\"ticks\":\"\"}}}],\"scatterpolar\":[{\"type\":\"scatterpolar\",\"marker\":{\"colorbar\":{\"outlinewidth\":0,\"ticks\":\"\"}}}],\"histogram\":[{\"marker\":{\"pattern\":{\"fillmode\":\"overlay\",\"size\":10,\"solidity\":0.2}},\"type\":\"histogram\"}],\"scattergl\":[{\"type\":\"scattergl\",\"marker\":{\"colorbar\":{\"outlinewidth\":0,\"ticks\":\"\"}}}],\"scatter3d\":[{\"type\":\"scatter3d\",\"line\":{\"colorbar\":{\"outlinewidth\":0,\"ticks\":\"\"}},\"marker\":{\"colorbar\":{\"outlinewidth\":0,\"ticks\":\"\"}}}],\"scattermapbox\":[{\"type\":\"scattermapbox\",\"marker\":{\"colorbar\":{\"outlinewidth\":0,\"ticks\":\"\"}}}],\"scatterternary\":[{\"type\":\"scatterternary\",\"marker\":{\"colorbar\":{\"outlinewidth\":0,\"ticks\":\"\"}}}],\"scattercarpet\":[{\"type\":\"scattercarpet\",\"marker\":{\"colorbar\":{\"outlinewidth\":0,\"ticks\":\"\"}}}],\"carpet\":[{\"aaxis\":{\"endlinecolor\":\"#2a3f5f\",\"gridcolor\":\"white\",\"linecolor\":\"white\",\"minorgridcolor\":\"white\",\"startlinecolor\":\"#2a3f5f\"},\"baxis\":{\"endlinecolor\":\"#2a3f5f\",\"gridcolor\":\"white\",\"linecolor\":\"white\",\"minorgridcolor\":\"white\",\"startlinecolor\":\"#2a3f5f\"},\"type\":\"carpet\"}],\"table\":[{\"cells\":{\"fill\":{\"color\":\"#EBF0F8\"},\"line\":{\"color\":\"white\"}},\"header\":{\"fill\":{\"color\":\"#C8D4E3\"},\"line\":{\"color\":\"white\"}},\"type\":\"table\"}],\"barpolar\":[{\"marker\":{\"line\":{\"color\":\"#E5ECF6\",\"width\":0.5},\"pattern\":{\"fillmode\":\"overlay\",\"size\":10,\"solidity\":0.2}},\"type\":\"barpolar\"}],\"pie\":[{\"automargin\":true,\"type\":\"pie\"}]},\"layout\":{\"autotypenumbers\":\"strict\",\"colorway\":[\"#636efa\",\"#EF553B\",\"#00cc96\",\"#ab63fa\",\"#FFA15A\",\"#19d3f3\",\"#FF6692\",\"#B6E880\",\"#FF97FF\",\"#FECB52\"],\"font\":{\"color\":\"#2a3f5f\"},\"hovermode\":\"closest\",\"hoverlabel\":{\"align\":\"left\"},\"paper_bgcolor\":\"white\",\"plot_bgcolor\":\"#E5ECF6\",\"polar\":{\"bgcolor\":\"#E5ECF6\",\"angularaxis\":{\"gridcolor\":\"white\",\"linecolor\":\"white\",\"ticks\":\"\"},\"radialaxis\":{\"gridcolor\":\"white\",\"linecolor\":\"white\",\"ticks\":\"\"}},\"ternary\":{\"bgcolor\":\"#E5ECF6\",\"aaxis\":{\"gridcolor\":\"white\",\"linecolor\":\"white\",\"ticks\":\"\"},\"baxis\":{\"gridcolor\":\"white\",\"linecolor\":\"white\",\"ticks\":\"\"},\"caxis\":{\"gridcolor\":\"white\",\"linecolor\":\"white\",\"ticks\":\"\"}},\"coloraxis\":{\"colorbar\":{\"outlinewidth\":0,\"ticks\":\"\"}},\"colorscale\":{\"sequential\":[[0.0,\"#0d0887\"],[0.1111111111111111,\"#46039f\"],[0.2222222222222222,\"#7201a8\"],[0.3333333333333333,\"#9c179e\"],[0.4444444444444444,\"#bd3786\"],[0.5555555555555556,\"#d8576b\"],[0.6666666666666666,\"#ed7953\"],[0.7777777777777778,\"#fb9f3a\"],[0.8888888888888888,\"#fdca26\"],[1.0,\"#f0f921\"]],\"sequentialminus\":[[0.0,\"#0d0887\"],[0.1111111111111111,\"#46039f\"],[0.2222222222222222,\"#7201a8\"],[0.3333333333333333,\"#9c179e\"],[0.4444444444444444,\"#bd3786\"],[0.5555555555555556,\"#d8576b\"],[0.6666666666666666,\"#ed7953\"],[0.7777777777777778,\"#fb9f3a\"],[0.8888888888888888,\"#fdca26\"],[1.0,\"#f0f921\"]],\"diverging\":[[0,\"#8e0152\"],[0.1,\"#c51b7d\"],[0.2,\"#de77ae\"],[0.3,\"#f1b6da\"],[0.4,\"#fde0ef\"],[0.5,\"#f7f7f7\"],[0.6,\"#e6f5d0\"],[0.7,\"#b8e186\"],[0.8,\"#7fbc41\"],[0.9,\"#4d9221\"],[1,\"#276419\"]]},\"xaxis\":{\"gridcolor\":\"white\",\"linecolor\":\"white\",\"ticks\":\"\",\"title\":{\"standoff\":15},\"zerolinecolor\":\"white\",\"automargin\":true,\"zerolinewidth\":2},\"yaxis\":{\"gridcolor\":\"white\",\"linecolor\":\"white\",\"ticks\":\"\",\"title\":{\"standoff\":15},\"zerolinecolor\":\"white\",\"automargin\":true,\"zerolinewidth\":2},\"scene\":{\"xaxis\":{\"backgroundcolor\":\"#E5ECF6\",\"gridcolor\":\"white\",\"linecolor\":\"white\",\"showbackground\":true,\"ticks\":\"\",\"zerolinecolor\":\"white\",\"gridwidth\":2},\"yaxis\":{\"backgroundcolor\":\"#E5ECF6\",\"gridcolor\":\"white\",\"linecolor\":\"white\",\"showbackground\":true,\"ticks\":\"\",\"zerolinecolor\":\"white\",\"gridwidth\":2},\"zaxis\":{\"backgroundcolor\":\"#E5ECF6\",\"gridcolor\":\"white\",\"linecolor\":\"white\",\"showbackground\":true,\"ticks\":\"\",\"zerolinecolor\":\"white\",\"gridwidth\":2}},\"shapedefaults\":{\"line\":{\"color\":\"#2a3f5f\"}},\"annotationdefaults\":{\"arrowcolor\":\"#2a3f5f\",\"arrowhead\":0,\"arrowwidth\":1},\"geo\":{\"bgcolor\":\"white\",\"landcolor\":\"#E5ECF6\",\"subunitcolor\":\"white\",\"showland\":true,\"showlakes\":true,\"lakecolor\":\"white\"},\"title\":{\"x\":0.05},\"mapbox\":{\"style\":\"light\"}}},\"xaxis\":{\"anchor\":\"y\",\"domain\":[0.0,1.0],\"title\":{\"text\":\"Accident_Count\"}},\"yaxis\":{\"anchor\":\"x\",\"domain\":[0.0,1.0],\"title\":{\"text\":\"Airport_Code\"}},\"legend\":{\"tracegroupgap\":0},\"margin\":{\"t\":60},\"barmode\":\"relative\"},                        {\"responsive\": true}                    ).then(function(){\n",
       "                            \n",
       "var gd = document.getElementById('e8c14d06-1071-4790-9ef6-64923dcdfc3c');\n",
       "var x = new MutationObserver(function (mutations, observer) {{\n",
       "        var display = window.getComputedStyle(gd).display;\n",
       "        if (!display || display === 'none') {{\n",
       "            console.log([gd, 'removed!']);\n",
       "            Plotly.purge(gd);\n",
       "            observer.disconnect();\n",
       "        }}\n",
       "}});\n",
       "\n",
       "// Listen for the removal of the full notebook cells\n",
       "var notebookContainer = gd.closest('#notebook-container');\n",
       "if (notebookContainer) {{\n",
       "    x.observe(notebookContainer, {childList: true});\n",
       "}}\n",
       "\n",
       "// Listen for the clearing of the current output cell\n",
       "var outputEl = gd.closest('.output');\n",
       "if (outputEl) {{\n",
       "    x.observe(outputEl, {childList: true});\n",
       "}}\n",
       "\n",
       "                        })                };                });            </script>        </div>"
      ]
     },
     "metadata": {},
     "output_type": "display_data"
    },
    {
     "data": {
      "application/vnd.plotly.v1+json": {
       "config": {
        "plotlyServerURL": "https://plot.ly"
       },
       "data": [
        {
         "alignmentgroup": "True",
         "hovertemplate": "Accident_Count=%{x}<br>Wind_Direction=%{y}<extra></extra>",
         "legendgroup": "",
         "marker": {
          "color": "#636efa",
          "pattern": {
           "shape": ""
          }
         },
         "name": "",
         "offsetgroup": "",
         "orientation": "h",
         "showlegend": false,
         "textposition": "auto",
         "type": "bar",
         "x": [
          136086,
          299386,
          34772,
          83831,
          83443,
          85934,
          40762,
          87144,
          88288,
          107779,
          119640,
          127953,
          59500,
          96684,
          120586,
          130009,
          123168,
          145220,
          40279,
          90382,
          52342,
          122901,
          116895,
          128935
         ],
         "xaxis": "x",
         "y": [
          "CALM",
          "Calm",
          "E",
          "ENE",
          "ESE",
          "East",
          "N",
          "NE",
          "NNE",
          "NNW",
          "NW",
          "North",
          "S",
          "SE",
          "SSE",
          "SSW",
          "SW",
          "South",
          "VAR",
          "Variable",
          "W",
          "WNW",
          "WSW",
          "West"
         ],
         "yaxis": "y"
        }
       ],
       "layout": {
        "barmode": "relative",
        "legend": {
         "tracegroupgap": 0
        },
        "margin": {
         "t": 60
        },
        "template": {
         "data": {
          "bar": [
           {
            "error_x": {
             "color": "#2a3f5f"
            },
            "error_y": {
             "color": "#2a3f5f"
            },
            "marker": {
             "line": {
              "color": "#E5ECF6",
              "width": 0.5
             },
             "pattern": {
              "fillmode": "overlay",
              "size": 10,
              "solidity": 0.2
             }
            },
            "type": "bar"
           }
          ],
          "barpolar": [
           {
            "marker": {
             "line": {
              "color": "#E5ECF6",
              "width": 0.5
             },
             "pattern": {
              "fillmode": "overlay",
              "size": 10,
              "solidity": 0.2
             }
            },
            "type": "barpolar"
           }
          ],
          "carpet": [
           {
            "aaxis": {
             "endlinecolor": "#2a3f5f",
             "gridcolor": "white",
             "linecolor": "white",
             "minorgridcolor": "white",
             "startlinecolor": "#2a3f5f"
            },
            "baxis": {
             "endlinecolor": "#2a3f5f",
             "gridcolor": "white",
             "linecolor": "white",
             "minorgridcolor": "white",
             "startlinecolor": "#2a3f5f"
            },
            "type": "carpet"
           }
          ],
          "choropleth": [
           {
            "colorbar": {
             "outlinewidth": 0,
             "ticks": ""
            },
            "type": "choropleth"
           }
          ],
          "contour": [
           {
            "colorbar": {
             "outlinewidth": 0,
             "ticks": ""
            },
            "colorscale": [
             [
              0,
              "#0d0887"
             ],
             [
              0.1111111111111111,
              "#46039f"
             ],
             [
              0.2222222222222222,
              "#7201a8"
             ],
             [
              0.3333333333333333,
              "#9c179e"
             ],
             [
              0.4444444444444444,
              "#bd3786"
             ],
             [
              0.5555555555555556,
              "#d8576b"
             ],
             [
              0.6666666666666666,
              "#ed7953"
             ],
             [
              0.7777777777777778,
              "#fb9f3a"
             ],
             [
              0.8888888888888888,
              "#fdca26"
             ],
             [
              1,
              "#f0f921"
             ]
            ],
            "type": "contour"
           }
          ],
          "contourcarpet": [
           {
            "colorbar": {
             "outlinewidth": 0,
             "ticks": ""
            },
            "type": "contourcarpet"
           }
          ],
          "heatmap": [
           {
            "colorbar": {
             "outlinewidth": 0,
             "ticks": ""
            },
            "colorscale": [
             [
              0,
              "#0d0887"
             ],
             [
              0.1111111111111111,
              "#46039f"
             ],
             [
              0.2222222222222222,
              "#7201a8"
             ],
             [
              0.3333333333333333,
              "#9c179e"
             ],
             [
              0.4444444444444444,
              "#bd3786"
             ],
             [
              0.5555555555555556,
              "#d8576b"
             ],
             [
              0.6666666666666666,
              "#ed7953"
             ],
             [
              0.7777777777777778,
              "#fb9f3a"
             ],
             [
              0.8888888888888888,
              "#fdca26"
             ],
             [
              1,
              "#f0f921"
             ]
            ],
            "type": "heatmap"
           }
          ],
          "heatmapgl": [
           {
            "colorbar": {
             "outlinewidth": 0,
             "ticks": ""
            },
            "colorscale": [
             [
              0,
              "#0d0887"
             ],
             [
              0.1111111111111111,
              "#46039f"
             ],
             [
              0.2222222222222222,
              "#7201a8"
             ],
             [
              0.3333333333333333,
              "#9c179e"
             ],
             [
              0.4444444444444444,
              "#bd3786"
             ],
             [
              0.5555555555555556,
              "#d8576b"
             ],
             [
              0.6666666666666666,
              "#ed7953"
             ],
             [
              0.7777777777777778,
              "#fb9f3a"
             ],
             [
              0.8888888888888888,
              "#fdca26"
             ],
             [
              1,
              "#f0f921"
             ]
            ],
            "type": "heatmapgl"
           }
          ],
          "histogram": [
           {
            "marker": {
             "pattern": {
              "fillmode": "overlay",
              "size": 10,
              "solidity": 0.2
             }
            },
            "type": "histogram"
           }
          ],
          "histogram2d": [
           {
            "colorbar": {
             "outlinewidth": 0,
             "ticks": ""
            },
            "colorscale": [
             [
              0,
              "#0d0887"
             ],
             [
              0.1111111111111111,
              "#46039f"
             ],
             [
              0.2222222222222222,
              "#7201a8"
             ],
             [
              0.3333333333333333,
              "#9c179e"
             ],
             [
              0.4444444444444444,
              "#bd3786"
             ],
             [
              0.5555555555555556,
              "#d8576b"
             ],
             [
              0.6666666666666666,
              "#ed7953"
             ],
             [
              0.7777777777777778,
              "#fb9f3a"
             ],
             [
              0.8888888888888888,
              "#fdca26"
             ],
             [
              1,
              "#f0f921"
             ]
            ],
            "type": "histogram2d"
           }
          ],
          "histogram2dcontour": [
           {
            "colorbar": {
             "outlinewidth": 0,
             "ticks": ""
            },
            "colorscale": [
             [
              0,
              "#0d0887"
             ],
             [
              0.1111111111111111,
              "#46039f"
             ],
             [
              0.2222222222222222,
              "#7201a8"
             ],
             [
              0.3333333333333333,
              "#9c179e"
             ],
             [
              0.4444444444444444,
              "#bd3786"
             ],
             [
              0.5555555555555556,
              "#d8576b"
             ],
             [
              0.6666666666666666,
              "#ed7953"
             ],
             [
              0.7777777777777778,
              "#fb9f3a"
             ],
             [
              0.8888888888888888,
              "#fdca26"
             ],
             [
              1,
              "#f0f921"
             ]
            ],
            "type": "histogram2dcontour"
           }
          ],
          "mesh3d": [
           {
            "colorbar": {
             "outlinewidth": 0,
             "ticks": ""
            },
            "type": "mesh3d"
           }
          ],
          "parcoords": [
           {
            "line": {
             "colorbar": {
              "outlinewidth": 0,
              "ticks": ""
             }
            },
            "type": "parcoords"
           }
          ],
          "pie": [
           {
            "automargin": true,
            "type": "pie"
           }
          ],
          "scatter": [
           {
            "fillpattern": {
             "fillmode": "overlay",
             "size": 10,
             "solidity": 0.2
            },
            "type": "scatter"
           }
          ],
          "scatter3d": [
           {
            "line": {
             "colorbar": {
              "outlinewidth": 0,
              "ticks": ""
             }
            },
            "marker": {
             "colorbar": {
              "outlinewidth": 0,
              "ticks": ""
             }
            },
            "type": "scatter3d"
           }
          ],
          "scattercarpet": [
           {
            "marker": {
             "colorbar": {
              "outlinewidth": 0,
              "ticks": ""
             }
            },
            "type": "scattercarpet"
           }
          ],
          "scattergeo": [
           {
            "marker": {
             "colorbar": {
              "outlinewidth": 0,
              "ticks": ""
             }
            },
            "type": "scattergeo"
           }
          ],
          "scattergl": [
           {
            "marker": {
             "colorbar": {
              "outlinewidth": 0,
              "ticks": ""
             }
            },
            "type": "scattergl"
           }
          ],
          "scattermapbox": [
           {
            "marker": {
             "colorbar": {
              "outlinewidth": 0,
              "ticks": ""
             }
            },
            "type": "scattermapbox"
           }
          ],
          "scatterpolar": [
           {
            "marker": {
             "colorbar": {
              "outlinewidth": 0,
              "ticks": ""
             }
            },
            "type": "scatterpolar"
           }
          ],
          "scatterpolargl": [
           {
            "marker": {
             "colorbar": {
              "outlinewidth": 0,
              "ticks": ""
             }
            },
            "type": "scatterpolargl"
           }
          ],
          "scatterternary": [
           {
            "marker": {
             "colorbar": {
              "outlinewidth": 0,
              "ticks": ""
             }
            },
            "type": "scatterternary"
           }
          ],
          "surface": [
           {
            "colorbar": {
             "outlinewidth": 0,
             "ticks": ""
            },
            "colorscale": [
             [
              0,
              "#0d0887"
             ],
             [
              0.1111111111111111,
              "#46039f"
             ],
             [
              0.2222222222222222,
              "#7201a8"
             ],
             [
              0.3333333333333333,
              "#9c179e"
             ],
             [
              0.4444444444444444,
              "#bd3786"
             ],
             [
              0.5555555555555556,
              "#d8576b"
             ],
             [
              0.6666666666666666,
              "#ed7953"
             ],
             [
              0.7777777777777778,
              "#fb9f3a"
             ],
             [
              0.8888888888888888,
              "#fdca26"
             ],
             [
              1,
              "#f0f921"
             ]
            ],
            "type": "surface"
           }
          ],
          "table": [
           {
            "cells": {
             "fill": {
              "color": "#EBF0F8"
             },
             "line": {
              "color": "white"
             }
            },
            "header": {
             "fill": {
              "color": "#C8D4E3"
             },
             "line": {
              "color": "white"
             }
            },
            "type": "table"
           }
          ]
         },
         "layout": {
          "annotationdefaults": {
           "arrowcolor": "#2a3f5f",
           "arrowhead": 0,
           "arrowwidth": 1
          },
          "autotypenumbers": "strict",
          "coloraxis": {
           "colorbar": {
            "outlinewidth": 0,
            "ticks": ""
           }
          },
          "colorscale": {
           "diverging": [
            [
             0,
             "#8e0152"
            ],
            [
             0.1,
             "#c51b7d"
            ],
            [
             0.2,
             "#de77ae"
            ],
            [
             0.3,
             "#f1b6da"
            ],
            [
             0.4,
             "#fde0ef"
            ],
            [
             0.5,
             "#f7f7f7"
            ],
            [
             0.6,
             "#e6f5d0"
            ],
            [
             0.7,
             "#b8e186"
            ],
            [
             0.8,
             "#7fbc41"
            ],
            [
             0.9,
             "#4d9221"
            ],
            [
             1,
             "#276419"
            ]
           ],
           "sequential": [
            [
             0,
             "#0d0887"
            ],
            [
             0.1111111111111111,
             "#46039f"
            ],
            [
             0.2222222222222222,
             "#7201a8"
            ],
            [
             0.3333333333333333,
             "#9c179e"
            ],
            [
             0.4444444444444444,
             "#bd3786"
            ],
            [
             0.5555555555555556,
             "#d8576b"
            ],
            [
             0.6666666666666666,
             "#ed7953"
            ],
            [
             0.7777777777777778,
             "#fb9f3a"
            ],
            [
             0.8888888888888888,
             "#fdca26"
            ],
            [
             1,
             "#f0f921"
            ]
           ],
           "sequentialminus": [
            [
             0,
             "#0d0887"
            ],
            [
             0.1111111111111111,
             "#46039f"
            ],
            [
             0.2222222222222222,
             "#7201a8"
            ],
            [
             0.3333333333333333,
             "#9c179e"
            ],
            [
             0.4444444444444444,
             "#bd3786"
            ],
            [
             0.5555555555555556,
             "#d8576b"
            ],
            [
             0.6666666666666666,
             "#ed7953"
            ],
            [
             0.7777777777777778,
             "#fb9f3a"
            ],
            [
             0.8888888888888888,
             "#fdca26"
            ],
            [
             1,
             "#f0f921"
            ]
           ]
          },
          "colorway": [
           "#636efa",
           "#EF553B",
           "#00cc96",
           "#ab63fa",
           "#FFA15A",
           "#19d3f3",
           "#FF6692",
           "#B6E880",
           "#FF97FF",
           "#FECB52"
          ],
          "font": {
           "color": "#2a3f5f"
          },
          "geo": {
           "bgcolor": "white",
           "lakecolor": "white",
           "landcolor": "#E5ECF6",
           "showlakes": true,
           "showland": true,
           "subunitcolor": "white"
          },
          "hoverlabel": {
           "align": "left"
          },
          "hovermode": "closest",
          "mapbox": {
           "style": "light"
          },
          "paper_bgcolor": "white",
          "plot_bgcolor": "#E5ECF6",
          "polar": {
           "angularaxis": {
            "gridcolor": "white",
            "linecolor": "white",
            "ticks": ""
           },
           "bgcolor": "#E5ECF6",
           "radialaxis": {
            "gridcolor": "white",
            "linecolor": "white",
            "ticks": ""
           }
          },
          "scene": {
           "xaxis": {
            "backgroundcolor": "#E5ECF6",
            "gridcolor": "white",
            "gridwidth": 2,
            "linecolor": "white",
            "showbackground": true,
            "ticks": "",
            "zerolinecolor": "white"
           },
           "yaxis": {
            "backgroundcolor": "#E5ECF6",
            "gridcolor": "white",
            "gridwidth": 2,
            "linecolor": "white",
            "showbackground": true,
            "ticks": "",
            "zerolinecolor": "white"
           },
           "zaxis": {
            "backgroundcolor": "#E5ECF6",
            "gridcolor": "white",
            "gridwidth": 2,
            "linecolor": "white",
            "showbackground": true,
            "ticks": "",
            "zerolinecolor": "white"
           }
          },
          "shapedefaults": {
           "line": {
            "color": "#2a3f5f"
           }
          },
          "ternary": {
           "aaxis": {
            "gridcolor": "white",
            "linecolor": "white",
            "ticks": ""
           },
           "baxis": {
            "gridcolor": "white",
            "linecolor": "white",
            "ticks": ""
           },
           "bgcolor": "#E5ECF6",
           "caxis": {
            "gridcolor": "white",
            "linecolor": "white",
            "ticks": ""
           }
          },
          "title": {
           "x": 0.05
          },
          "xaxis": {
           "automargin": true,
           "gridcolor": "white",
           "linecolor": "white",
           "ticks": "",
           "title": {
            "standoff": 15
           },
           "zerolinecolor": "white",
           "zerolinewidth": 2
          },
          "yaxis": {
           "automargin": true,
           "gridcolor": "white",
           "linecolor": "white",
           "ticks": "",
           "title": {
            "standoff": 15
           },
           "zerolinecolor": "white",
           "zerolinewidth": 2
          }
         }
        },
        "xaxis": {
         "anchor": "y",
         "domain": [
          0,
          1
         ],
         "title": {
          "text": "Accident_Count"
         }
        },
        "yaxis": {
         "anchor": "x",
         "domain": [
          0,
          1
         ],
         "title": {
          "text": "Wind_Direction"
         }
        }
       }
      },
      "text/html": [
       "<div>                            <div id=\"5bd8a51c-58de-44e3-94cf-4473b1765687\" class=\"plotly-graph-div\" style=\"height:525px; width:100%;\"></div>            <script type=\"text/javascript\">                require([\"plotly\"], function(Plotly) {                    window.PLOTLYENV=window.PLOTLYENV || {};                                    if (document.getElementById(\"5bd8a51c-58de-44e3-94cf-4473b1765687\")) {                    Plotly.newPlot(                        \"5bd8a51c-58de-44e3-94cf-4473b1765687\",                        [{\"alignmentgroup\":\"True\",\"hovertemplate\":\"Accident_Count=%{x}<br>Wind_Direction=%{y}<extra></extra>\",\"legendgroup\":\"\",\"marker\":{\"color\":\"#636efa\",\"pattern\":{\"shape\":\"\"}},\"name\":\"\",\"offsetgroup\":\"\",\"orientation\":\"h\",\"showlegend\":false,\"textposition\":\"auto\",\"x\":[136086,299386,34772,83831,83443,85934,40762,87144,88288,107779,119640,127953,59500,96684,120586,130009,123168,145220,40279,90382,52342,122901,116895,128935],\"xaxis\":\"x\",\"y\":[\"CALM\",\"Calm\",\"E\",\"ENE\",\"ESE\",\"East\",\"N\",\"NE\",\"NNE\",\"NNW\",\"NW\",\"North\",\"S\",\"SE\",\"SSE\",\"SSW\",\"SW\",\"South\",\"VAR\",\"Variable\",\"W\",\"WNW\",\"WSW\",\"West\"],\"yaxis\":\"y\",\"type\":\"bar\"}],                        {\"template\":{\"data\":{\"histogram2dcontour\":[{\"type\":\"histogram2dcontour\",\"colorbar\":{\"outlinewidth\":0,\"ticks\":\"\"},\"colorscale\":[[0.0,\"#0d0887\"],[0.1111111111111111,\"#46039f\"],[0.2222222222222222,\"#7201a8\"],[0.3333333333333333,\"#9c179e\"],[0.4444444444444444,\"#bd3786\"],[0.5555555555555556,\"#d8576b\"],[0.6666666666666666,\"#ed7953\"],[0.7777777777777778,\"#fb9f3a\"],[0.8888888888888888,\"#fdca26\"],[1.0,\"#f0f921\"]]}],\"choropleth\":[{\"type\":\"choropleth\",\"colorbar\":{\"outlinewidth\":0,\"ticks\":\"\"}}],\"histogram2d\":[{\"type\":\"histogram2d\",\"colorbar\":{\"outlinewidth\":0,\"ticks\":\"\"},\"colorscale\":[[0.0,\"#0d0887\"],[0.1111111111111111,\"#46039f\"],[0.2222222222222222,\"#7201a8\"],[0.3333333333333333,\"#9c179e\"],[0.4444444444444444,\"#bd3786\"],[0.5555555555555556,\"#d8576b\"],[0.6666666666666666,\"#ed7953\"],[0.7777777777777778,\"#fb9f3a\"],[0.8888888888888888,\"#fdca26\"],[1.0,\"#f0f921\"]]}],\"heatmap\":[{\"type\":\"heatmap\",\"colorbar\":{\"outlinewidth\":0,\"ticks\":\"\"},\"colorscale\":[[0.0,\"#0d0887\"],[0.1111111111111111,\"#46039f\"],[0.2222222222222222,\"#7201a8\"],[0.3333333333333333,\"#9c179e\"],[0.4444444444444444,\"#bd3786\"],[0.5555555555555556,\"#d8576b\"],[0.6666666666666666,\"#ed7953\"],[0.7777777777777778,\"#fb9f3a\"],[0.8888888888888888,\"#fdca26\"],[1.0,\"#f0f921\"]]}],\"heatmapgl\":[{\"type\":\"heatmapgl\",\"colorbar\":{\"outlinewidth\":0,\"ticks\":\"\"},\"colorscale\":[[0.0,\"#0d0887\"],[0.1111111111111111,\"#46039f\"],[0.2222222222222222,\"#7201a8\"],[0.3333333333333333,\"#9c179e\"],[0.4444444444444444,\"#bd3786\"],[0.5555555555555556,\"#d8576b\"],[0.6666666666666666,\"#ed7953\"],[0.7777777777777778,\"#fb9f3a\"],[0.8888888888888888,\"#fdca26\"],[1.0,\"#f0f921\"]]}],\"contourcarpet\":[{\"type\":\"contourcarpet\",\"colorbar\":{\"outlinewidth\":0,\"ticks\":\"\"}}],\"contour\":[{\"type\":\"contour\",\"colorbar\":{\"outlinewidth\":0,\"ticks\":\"\"},\"colorscale\":[[0.0,\"#0d0887\"],[0.1111111111111111,\"#46039f\"],[0.2222222222222222,\"#7201a8\"],[0.3333333333333333,\"#9c179e\"],[0.4444444444444444,\"#bd3786\"],[0.5555555555555556,\"#d8576b\"],[0.6666666666666666,\"#ed7953\"],[0.7777777777777778,\"#fb9f3a\"],[0.8888888888888888,\"#fdca26\"],[1.0,\"#f0f921\"]]}],\"surface\":[{\"type\":\"surface\",\"colorbar\":{\"outlinewidth\":0,\"ticks\":\"\"},\"colorscale\":[[0.0,\"#0d0887\"],[0.1111111111111111,\"#46039f\"],[0.2222222222222222,\"#7201a8\"],[0.3333333333333333,\"#9c179e\"],[0.4444444444444444,\"#bd3786\"],[0.5555555555555556,\"#d8576b\"],[0.6666666666666666,\"#ed7953\"],[0.7777777777777778,\"#fb9f3a\"],[0.8888888888888888,\"#fdca26\"],[1.0,\"#f0f921\"]]}],\"mesh3d\":[{\"type\":\"mesh3d\",\"colorbar\":{\"outlinewidth\":0,\"ticks\":\"\"}}],\"scatter\":[{\"fillpattern\":{\"fillmode\":\"overlay\",\"size\":10,\"solidity\":0.2},\"type\":\"scatter\"}],\"parcoords\":[{\"type\":\"parcoords\",\"line\":{\"colorbar\":{\"outlinewidth\":0,\"ticks\":\"\"}}}],\"scatterpolargl\":[{\"type\":\"scatterpolargl\",\"marker\":{\"colorbar\":{\"outlinewidth\":0,\"ticks\":\"\"}}}],\"bar\":[{\"error_x\":{\"color\":\"#2a3f5f\"},\"error_y\":{\"color\":\"#2a3f5f\"},\"marker\":{\"line\":{\"color\":\"#E5ECF6\",\"width\":0.5},\"pattern\":{\"fillmode\":\"overlay\",\"size\":10,\"solidity\":0.2}},\"type\":\"bar\"}],\"scattergeo\":[{\"type\":\"scattergeo\",\"marker\":{\"colorbar\":{\"outlinewidth\":0,\"ticks\":\"\"}}}],\"scatterpolar\":[{\"type\":\"scatterpolar\",\"marker\":{\"colorbar\":{\"outlinewidth\":0,\"ticks\":\"\"}}}],\"histogram\":[{\"marker\":{\"pattern\":{\"fillmode\":\"overlay\",\"size\":10,\"solidity\":0.2}},\"type\":\"histogram\"}],\"scattergl\":[{\"type\":\"scattergl\",\"marker\":{\"colorbar\":{\"outlinewidth\":0,\"ticks\":\"\"}}}],\"scatter3d\":[{\"type\":\"scatter3d\",\"line\":{\"colorbar\":{\"outlinewidth\":0,\"ticks\":\"\"}},\"marker\":{\"colorbar\":{\"outlinewidth\":0,\"ticks\":\"\"}}}],\"scattermapbox\":[{\"type\":\"scattermapbox\",\"marker\":{\"colorbar\":{\"outlinewidth\":0,\"ticks\":\"\"}}}],\"scatterternary\":[{\"type\":\"scatterternary\",\"marker\":{\"colorbar\":{\"outlinewidth\":0,\"ticks\":\"\"}}}],\"scattercarpet\":[{\"type\":\"scattercarpet\",\"marker\":{\"colorbar\":{\"outlinewidth\":0,\"ticks\":\"\"}}}],\"carpet\":[{\"aaxis\":{\"endlinecolor\":\"#2a3f5f\",\"gridcolor\":\"white\",\"linecolor\":\"white\",\"minorgridcolor\":\"white\",\"startlinecolor\":\"#2a3f5f\"},\"baxis\":{\"endlinecolor\":\"#2a3f5f\",\"gridcolor\":\"white\",\"linecolor\":\"white\",\"minorgridcolor\":\"white\",\"startlinecolor\":\"#2a3f5f\"},\"type\":\"carpet\"}],\"table\":[{\"cells\":{\"fill\":{\"color\":\"#EBF0F8\"},\"line\":{\"color\":\"white\"}},\"header\":{\"fill\":{\"color\":\"#C8D4E3\"},\"line\":{\"color\":\"white\"}},\"type\":\"table\"}],\"barpolar\":[{\"marker\":{\"line\":{\"color\":\"#E5ECF6\",\"width\":0.5},\"pattern\":{\"fillmode\":\"overlay\",\"size\":10,\"solidity\":0.2}},\"type\":\"barpolar\"}],\"pie\":[{\"automargin\":true,\"type\":\"pie\"}]},\"layout\":{\"autotypenumbers\":\"strict\",\"colorway\":[\"#636efa\",\"#EF553B\",\"#00cc96\",\"#ab63fa\",\"#FFA15A\",\"#19d3f3\",\"#FF6692\",\"#B6E880\",\"#FF97FF\",\"#FECB52\"],\"font\":{\"color\":\"#2a3f5f\"},\"hovermode\":\"closest\",\"hoverlabel\":{\"align\":\"left\"},\"paper_bgcolor\":\"white\",\"plot_bgcolor\":\"#E5ECF6\",\"polar\":{\"bgcolor\":\"#E5ECF6\",\"angularaxis\":{\"gridcolor\":\"white\",\"linecolor\":\"white\",\"ticks\":\"\"},\"radialaxis\":{\"gridcolor\":\"white\",\"linecolor\":\"white\",\"ticks\":\"\"}},\"ternary\":{\"bgcolor\":\"#E5ECF6\",\"aaxis\":{\"gridcolor\":\"white\",\"linecolor\":\"white\",\"ticks\":\"\"},\"baxis\":{\"gridcolor\":\"white\",\"linecolor\":\"white\",\"ticks\":\"\"},\"caxis\":{\"gridcolor\":\"white\",\"linecolor\":\"white\",\"ticks\":\"\"}},\"coloraxis\":{\"colorbar\":{\"outlinewidth\":0,\"ticks\":\"\"}},\"colorscale\":{\"sequential\":[[0.0,\"#0d0887\"],[0.1111111111111111,\"#46039f\"],[0.2222222222222222,\"#7201a8\"],[0.3333333333333333,\"#9c179e\"],[0.4444444444444444,\"#bd3786\"],[0.5555555555555556,\"#d8576b\"],[0.6666666666666666,\"#ed7953\"],[0.7777777777777778,\"#fb9f3a\"],[0.8888888888888888,\"#fdca26\"],[1.0,\"#f0f921\"]],\"sequentialminus\":[[0.0,\"#0d0887\"],[0.1111111111111111,\"#46039f\"],[0.2222222222222222,\"#7201a8\"],[0.3333333333333333,\"#9c179e\"],[0.4444444444444444,\"#bd3786\"],[0.5555555555555556,\"#d8576b\"],[0.6666666666666666,\"#ed7953\"],[0.7777777777777778,\"#fb9f3a\"],[0.8888888888888888,\"#fdca26\"],[1.0,\"#f0f921\"]],\"diverging\":[[0,\"#8e0152\"],[0.1,\"#c51b7d\"],[0.2,\"#de77ae\"],[0.3,\"#f1b6da\"],[0.4,\"#fde0ef\"],[0.5,\"#f7f7f7\"],[0.6,\"#e6f5d0\"],[0.7,\"#b8e186\"],[0.8,\"#7fbc41\"],[0.9,\"#4d9221\"],[1,\"#276419\"]]},\"xaxis\":{\"gridcolor\":\"white\",\"linecolor\":\"white\",\"ticks\":\"\",\"title\":{\"standoff\":15},\"zerolinecolor\":\"white\",\"automargin\":true,\"zerolinewidth\":2},\"yaxis\":{\"gridcolor\":\"white\",\"linecolor\":\"white\",\"ticks\":\"\",\"title\":{\"standoff\":15},\"zerolinecolor\":\"white\",\"automargin\":true,\"zerolinewidth\":2},\"scene\":{\"xaxis\":{\"backgroundcolor\":\"#E5ECF6\",\"gridcolor\":\"white\",\"linecolor\":\"white\",\"showbackground\":true,\"ticks\":\"\",\"zerolinecolor\":\"white\",\"gridwidth\":2},\"yaxis\":{\"backgroundcolor\":\"#E5ECF6\",\"gridcolor\":\"white\",\"linecolor\":\"white\",\"showbackground\":true,\"ticks\":\"\",\"zerolinecolor\":\"white\",\"gridwidth\":2},\"zaxis\":{\"backgroundcolor\":\"#E5ECF6\",\"gridcolor\":\"white\",\"linecolor\":\"white\",\"showbackground\":true,\"ticks\":\"\",\"zerolinecolor\":\"white\",\"gridwidth\":2}},\"shapedefaults\":{\"line\":{\"color\":\"#2a3f5f\"}},\"annotationdefaults\":{\"arrowcolor\":\"#2a3f5f\",\"arrowhead\":0,\"arrowwidth\":1},\"geo\":{\"bgcolor\":\"white\",\"landcolor\":\"#E5ECF6\",\"subunitcolor\":\"white\",\"showland\":true,\"showlakes\":true,\"lakecolor\":\"white\"},\"title\":{\"x\":0.05},\"mapbox\":{\"style\":\"light\"}}},\"xaxis\":{\"anchor\":\"y\",\"domain\":[0.0,1.0],\"title\":{\"text\":\"Accident_Count\"}},\"yaxis\":{\"anchor\":\"x\",\"domain\":[0.0,1.0],\"title\":{\"text\":\"Wind_Direction\"}},\"legend\":{\"tracegroupgap\":0},\"margin\":{\"t\":60},\"barmode\":\"relative\"},                        {\"responsive\": true}                    ).then(function(){\n",
       "                            \n",
       "var gd = document.getElementById('5bd8a51c-58de-44e3-94cf-4473b1765687');\n",
       "var x = new MutationObserver(function (mutations, observer) {{\n",
       "        var display = window.getComputedStyle(gd).display;\n",
       "        if (!display || display === 'none') {{\n",
       "            console.log([gd, 'removed!']);\n",
       "            Plotly.purge(gd);\n",
       "            observer.disconnect();\n",
       "        }}\n",
       "}});\n",
       "\n",
       "// Listen for the removal of the full notebook cells\n",
       "var notebookContainer = gd.closest('#notebook-container');\n",
       "if (notebookContainer) {{\n",
       "    x.observe(notebookContainer, {childList: true});\n",
       "}}\n",
       "\n",
       "// Listen for the clearing of the current output cell\n",
       "var outputEl = gd.closest('.output');\n",
       "if (outputEl) {{\n",
       "    x.observe(outputEl, {childList: true});\n",
       "}}\n",
       "\n",
       "                        })                };                });            </script>        </div>"
      ]
     },
     "metadata": {},
     "output_type": "display_data"
    },
    {
     "data": {
      "application/vnd.plotly.v1+json": {
       "config": {
        "plotlyServerURL": "https://plot.ly"
       },
       "data": [
        {
         "alignmentgroup": "True",
         "hovertemplate": "Accident_Count=%{x}<br>Weather_Condition=%{y}<extra></extra>",
         "legendgroup": "",
         "marker": {
          "color": "#636efa",
          "pattern": {
           "shape": ""
          }
         },
         "name": "",
         "offsetgroup": "",
         "orientation": "h",
         "showlegend": false,
         "textposition": "auto",
         "type": "bar",
         "x": [
          43,
          62,
          252,
          10,
          633870,
          115037,
          2092,
          1929,
          4,
          65,
          1,
          332937,
          3734,
          20764,
          59,
          17,
          1,
          17,
          1,
          29468,
          66,
          4,
          247,
          2,
          2,
          4,
          11053,
          158,
          7,
          6,
          1,
          1215,
          23,
          6,
          1260,
          145,
          2132,
          3,
          7,
          101,
          3,
          9548,
          28,
          3,
          710,
          948,
          2013,
          6,
          3,
          10,
          245,
          126903,
          1041,
          55,
          1,
          128,
          1925,
          4,
          39734,
          453,
          6,
          1,
          22,
          9,
          4,
          9,
          3,
          4028,
          21,
          4,
          1961,
          358915,
          1982,
          198,
          325093,
          10,
          1,
          253578,
          1308,
          2190,
          29891,
          302,
          6,
          97,
          16,
          27,
          2,
          164402,
          971,
          264,
          3,
          30,
          3208,
          7,
          4564,
          50,
          4,
          2,
          9,
          9,
          1,
          23,
          5,
          2152,
          128,
          1650,
          80,
          1,
          1,
          2159,
          3594,
          1854,
          3,
          3,
          20,
          104,
          1,
          798,
          20
         ],
         "xaxis": "x",
         "y": [
          "Blowing Dust",
          "Blowing Dust / Windy",
          "Blowing Snow",
          "Blowing Snow / Windy",
          "Clear",
          "Cloudy",
          "Cloudy / Windy",
          "Drizzle",
          "Drizzle / Windy",
          "Drizzle and Fog",
          "Dust Whirls",
          "Fair",
          "Fair / Windy",
          "Fog",
          "Fog / Windy",
          "Freezing Rain",
          "Freezing Rain / Windy",
          "Funnel Cloud",
          "Hail",
          "Haze",
          "Haze / Windy",
          "Heavy Blowing Snow",
          "Heavy Drizzle",
          "Heavy Freezing Drizzle",
          "Heavy Freezing Rain",
          "Heavy Ice Pellets",
          "Heavy Rain",
          "Heavy Rain / Windy",
          "Heavy Rain Showers",
          "Heavy Sleet",
          "Heavy Smoke",
          "Heavy Snow",
          "Heavy Snow / Windy",
          "Heavy Snow with Thunder",
          "Heavy T-Storm",
          "Heavy T-Storm / Windy",
          "Heavy Thunderstorms and Rain",
          "Heavy Thunderstorms and Snow",
          "Heavy Thunderstorms with Small Hail",
          "Ice Pellets",
          "Light Blowing Snow",
          "Light Drizzle",
          "Light Drizzle / Windy",
          "Light Fog",
          "Light Freezing Drizzle",
          "Light Freezing Fog",
          "Light Freezing Rain",
          "Light Freezing Rain / Windy",
          "Light Hail",
          "Light Haze",
          "Light Ice Pellets",
          "Light Rain",
          "Light Rain / Windy",
          "Light Rain Shower",
          "Light Rain Shower / Windy",
          "Light Rain Showers",
          "Light Rain with Thunder",
          "Light Sleet",
          "Light Snow",
          "Light Snow / Windy",
          "Light Snow Grains",
          "Light Snow Shower",
          "Light Snow Showers",
          "Light Snow and Sleet",
          "Light Snow and Sleet / Windy",
          "Light Snow with Thunder",
          "Light Thunderstorm",
          "Light Thunderstorms and Rain",
          "Light Thunderstorms and Snow",
          "Low Drifting Snow",
          "Mist",
          "Mostly Cloudy",
          "Mostly Cloudy / Windy",
          "N/A Precipitation",
          "Overcast",
          "Partial Fog",
          "Partial Fog / Windy",
          "Partly Cloudy",
          "Partly Cloudy / Windy",
          "Patches of Fog",
          "Rain",
          "Rain / Windy",
          "Rain Shower",
          "Rain Showers",
          "Sand",
          "Sand / Dust Whirlwinds",
          "Sand / Dust Whirlwinds / Windy",
          "Scattered Clouds",
          "Shallow Fog",
          "Showers in the Vicinity",
          "Sleet",
          "Small Hail",
          "Smoke",
          "Smoke / Windy",
          "Snow",
          "Snow / Windy",
          "Snow Grains",
          "Snow Showers",
          "Snow and Sleet",
          "Snow and Sleet / Windy",
          "Snow and Thunder",
          "Squalls",
          "Squalls / Windy",
          "T-Storm",
          "T-Storm / Windy",
          "Thunder",
          "Thunder / Windy",
          "Thunder / Wintry Mix / Windy",
          "Thunder and Hail / Windy",
          "Thunder in the Vicinity",
          "Thunderstorm",
          "Thunderstorms and Rain",
          "Thunderstorms and Snow",
          "Tornado",
          "Volcanic Ash",
          "Widespread Dust",
          "Widespread Dust / Windy",
          "Wintry Mix",
          "Wintry Mix / Windy"
         ],
         "yaxis": "y"
        }
       ],
       "layout": {
        "barmode": "relative",
        "legend": {
         "tracegroupgap": 0
        },
        "margin": {
         "t": 60
        },
        "template": {
         "data": {
          "bar": [
           {
            "error_x": {
             "color": "#2a3f5f"
            },
            "error_y": {
             "color": "#2a3f5f"
            },
            "marker": {
             "line": {
              "color": "#E5ECF6",
              "width": 0.5
             },
             "pattern": {
              "fillmode": "overlay",
              "size": 10,
              "solidity": 0.2
             }
            },
            "type": "bar"
           }
          ],
          "barpolar": [
           {
            "marker": {
             "line": {
              "color": "#E5ECF6",
              "width": 0.5
             },
             "pattern": {
              "fillmode": "overlay",
              "size": 10,
              "solidity": 0.2
             }
            },
            "type": "barpolar"
           }
          ],
          "carpet": [
           {
            "aaxis": {
             "endlinecolor": "#2a3f5f",
             "gridcolor": "white",
             "linecolor": "white",
             "minorgridcolor": "white",
             "startlinecolor": "#2a3f5f"
            },
            "baxis": {
             "endlinecolor": "#2a3f5f",
             "gridcolor": "white",
             "linecolor": "white",
             "minorgridcolor": "white",
             "startlinecolor": "#2a3f5f"
            },
            "type": "carpet"
           }
          ],
          "choropleth": [
           {
            "colorbar": {
             "outlinewidth": 0,
             "ticks": ""
            },
            "type": "choropleth"
           }
          ],
          "contour": [
           {
            "colorbar": {
             "outlinewidth": 0,
             "ticks": ""
            },
            "colorscale": [
             [
              0,
              "#0d0887"
             ],
             [
              0.1111111111111111,
              "#46039f"
             ],
             [
              0.2222222222222222,
              "#7201a8"
             ],
             [
              0.3333333333333333,
              "#9c179e"
             ],
             [
              0.4444444444444444,
              "#bd3786"
             ],
             [
              0.5555555555555556,
              "#d8576b"
             ],
             [
              0.6666666666666666,
              "#ed7953"
             ],
             [
              0.7777777777777778,
              "#fb9f3a"
             ],
             [
              0.8888888888888888,
              "#fdca26"
             ],
             [
              1,
              "#f0f921"
             ]
            ],
            "type": "contour"
           }
          ],
          "contourcarpet": [
           {
            "colorbar": {
             "outlinewidth": 0,
             "ticks": ""
            },
            "type": "contourcarpet"
           }
          ],
          "heatmap": [
           {
            "colorbar": {
             "outlinewidth": 0,
             "ticks": ""
            },
            "colorscale": [
             [
              0,
              "#0d0887"
             ],
             [
              0.1111111111111111,
              "#46039f"
             ],
             [
              0.2222222222222222,
              "#7201a8"
             ],
             [
              0.3333333333333333,
              "#9c179e"
             ],
             [
              0.4444444444444444,
              "#bd3786"
             ],
             [
              0.5555555555555556,
              "#d8576b"
             ],
             [
              0.6666666666666666,
              "#ed7953"
             ],
             [
              0.7777777777777778,
              "#fb9f3a"
             ],
             [
              0.8888888888888888,
              "#fdca26"
             ],
             [
              1,
              "#f0f921"
             ]
            ],
            "type": "heatmap"
           }
          ],
          "heatmapgl": [
           {
            "colorbar": {
             "outlinewidth": 0,
             "ticks": ""
            },
            "colorscale": [
             [
              0,
              "#0d0887"
             ],
             [
              0.1111111111111111,
              "#46039f"
             ],
             [
              0.2222222222222222,
              "#7201a8"
             ],
             [
              0.3333333333333333,
              "#9c179e"
             ],
             [
              0.4444444444444444,
              "#bd3786"
             ],
             [
              0.5555555555555556,
              "#d8576b"
             ],
             [
              0.6666666666666666,
              "#ed7953"
             ],
             [
              0.7777777777777778,
              "#fb9f3a"
             ],
             [
              0.8888888888888888,
              "#fdca26"
             ],
             [
              1,
              "#f0f921"
             ]
            ],
            "type": "heatmapgl"
           }
          ],
          "histogram": [
           {
            "marker": {
             "pattern": {
              "fillmode": "overlay",
              "size": 10,
              "solidity": 0.2
             }
            },
            "type": "histogram"
           }
          ],
          "histogram2d": [
           {
            "colorbar": {
             "outlinewidth": 0,
             "ticks": ""
            },
            "colorscale": [
             [
              0,
              "#0d0887"
             ],
             [
              0.1111111111111111,
              "#46039f"
             ],
             [
              0.2222222222222222,
              "#7201a8"
             ],
             [
              0.3333333333333333,
              "#9c179e"
             ],
             [
              0.4444444444444444,
              "#bd3786"
             ],
             [
              0.5555555555555556,
              "#d8576b"
             ],
             [
              0.6666666666666666,
              "#ed7953"
             ],
             [
              0.7777777777777778,
              "#fb9f3a"
             ],
             [
              0.8888888888888888,
              "#fdca26"
             ],
             [
              1,
              "#f0f921"
             ]
            ],
            "type": "histogram2d"
           }
          ],
          "histogram2dcontour": [
           {
            "colorbar": {
             "outlinewidth": 0,
             "ticks": ""
            },
            "colorscale": [
             [
              0,
              "#0d0887"
             ],
             [
              0.1111111111111111,
              "#46039f"
             ],
             [
              0.2222222222222222,
              "#7201a8"
             ],
             [
              0.3333333333333333,
              "#9c179e"
             ],
             [
              0.4444444444444444,
              "#bd3786"
             ],
             [
              0.5555555555555556,
              "#d8576b"
             ],
             [
              0.6666666666666666,
              "#ed7953"
             ],
             [
              0.7777777777777778,
              "#fb9f3a"
             ],
             [
              0.8888888888888888,
              "#fdca26"
             ],
             [
              1,
              "#f0f921"
             ]
            ],
            "type": "histogram2dcontour"
           }
          ],
          "mesh3d": [
           {
            "colorbar": {
             "outlinewidth": 0,
             "ticks": ""
            },
            "type": "mesh3d"
           }
          ],
          "parcoords": [
           {
            "line": {
             "colorbar": {
              "outlinewidth": 0,
              "ticks": ""
             }
            },
            "type": "parcoords"
           }
          ],
          "pie": [
           {
            "automargin": true,
            "type": "pie"
           }
          ],
          "scatter": [
           {
            "fillpattern": {
             "fillmode": "overlay",
             "size": 10,
             "solidity": 0.2
            },
            "type": "scatter"
           }
          ],
          "scatter3d": [
           {
            "line": {
             "colorbar": {
              "outlinewidth": 0,
              "ticks": ""
             }
            },
            "marker": {
             "colorbar": {
              "outlinewidth": 0,
              "ticks": ""
             }
            },
            "type": "scatter3d"
           }
          ],
          "scattercarpet": [
           {
            "marker": {
             "colorbar": {
              "outlinewidth": 0,
              "ticks": ""
             }
            },
            "type": "scattercarpet"
           }
          ],
          "scattergeo": [
           {
            "marker": {
             "colorbar": {
              "outlinewidth": 0,
              "ticks": ""
             }
            },
            "type": "scattergeo"
           }
          ],
          "scattergl": [
           {
            "marker": {
             "colorbar": {
              "outlinewidth": 0,
              "ticks": ""
             }
            },
            "type": "scattergl"
           }
          ],
          "scattermapbox": [
           {
            "marker": {
             "colorbar": {
              "outlinewidth": 0,
              "ticks": ""
             }
            },
            "type": "scattermapbox"
           }
          ],
          "scatterpolar": [
           {
            "marker": {
             "colorbar": {
              "outlinewidth": 0,
              "ticks": ""
             }
            },
            "type": "scatterpolar"
           }
          ],
          "scatterpolargl": [
           {
            "marker": {
             "colorbar": {
              "outlinewidth": 0,
              "ticks": ""
             }
            },
            "type": "scatterpolargl"
           }
          ],
          "scatterternary": [
           {
            "marker": {
             "colorbar": {
              "outlinewidth": 0,
              "ticks": ""
             }
            },
            "type": "scatterternary"
           }
          ],
          "surface": [
           {
            "colorbar": {
             "outlinewidth": 0,
             "ticks": ""
            },
            "colorscale": [
             [
              0,
              "#0d0887"
             ],
             [
              0.1111111111111111,
              "#46039f"
             ],
             [
              0.2222222222222222,
              "#7201a8"
             ],
             [
              0.3333333333333333,
              "#9c179e"
             ],
             [
              0.4444444444444444,
              "#bd3786"
             ],
             [
              0.5555555555555556,
              "#d8576b"
             ],
             [
              0.6666666666666666,
              "#ed7953"
             ],
             [
              0.7777777777777778,
              "#fb9f3a"
             ],
             [
              0.8888888888888888,
              "#fdca26"
             ],
             [
              1,
              "#f0f921"
             ]
            ],
            "type": "surface"
           }
          ],
          "table": [
           {
            "cells": {
             "fill": {
              "color": "#EBF0F8"
             },
             "line": {
              "color": "white"
             }
            },
            "header": {
             "fill": {
              "color": "#C8D4E3"
             },
             "line": {
              "color": "white"
             }
            },
            "type": "table"
           }
          ]
         },
         "layout": {
          "annotationdefaults": {
           "arrowcolor": "#2a3f5f",
           "arrowhead": 0,
           "arrowwidth": 1
          },
          "autotypenumbers": "strict",
          "coloraxis": {
           "colorbar": {
            "outlinewidth": 0,
            "ticks": ""
           }
          },
          "colorscale": {
           "diverging": [
            [
             0,
             "#8e0152"
            ],
            [
             0.1,
             "#c51b7d"
            ],
            [
             0.2,
             "#de77ae"
            ],
            [
             0.3,
             "#f1b6da"
            ],
            [
             0.4,
             "#fde0ef"
            ],
            [
             0.5,
             "#f7f7f7"
            ],
            [
             0.6,
             "#e6f5d0"
            ],
            [
             0.7,
             "#b8e186"
            ],
            [
             0.8,
             "#7fbc41"
            ],
            [
             0.9,
             "#4d9221"
            ],
            [
             1,
             "#276419"
            ]
           ],
           "sequential": [
            [
             0,
             "#0d0887"
            ],
            [
             0.1111111111111111,
             "#46039f"
            ],
            [
             0.2222222222222222,
             "#7201a8"
            ],
            [
             0.3333333333333333,
             "#9c179e"
            ],
            [
             0.4444444444444444,
             "#bd3786"
            ],
            [
             0.5555555555555556,
             "#d8576b"
            ],
            [
             0.6666666666666666,
             "#ed7953"
            ],
            [
             0.7777777777777778,
             "#fb9f3a"
            ],
            [
             0.8888888888888888,
             "#fdca26"
            ],
            [
             1,
             "#f0f921"
            ]
           ],
           "sequentialminus": [
            [
             0,
             "#0d0887"
            ],
            [
             0.1111111111111111,
             "#46039f"
            ],
            [
             0.2222222222222222,
             "#7201a8"
            ],
            [
             0.3333333333333333,
             "#9c179e"
            ],
            [
             0.4444444444444444,
             "#bd3786"
            ],
            [
             0.5555555555555556,
             "#d8576b"
            ],
            [
             0.6666666666666666,
             "#ed7953"
            ],
            [
             0.7777777777777778,
             "#fb9f3a"
            ],
            [
             0.8888888888888888,
             "#fdca26"
            ],
            [
             1,
             "#f0f921"
            ]
           ]
          },
          "colorway": [
           "#636efa",
           "#EF553B",
           "#00cc96",
           "#ab63fa",
           "#FFA15A",
           "#19d3f3",
           "#FF6692",
           "#B6E880",
           "#FF97FF",
           "#FECB52"
          ],
          "font": {
           "color": "#2a3f5f"
          },
          "geo": {
           "bgcolor": "white",
           "lakecolor": "white",
           "landcolor": "#E5ECF6",
           "showlakes": true,
           "showland": true,
           "subunitcolor": "white"
          },
          "hoverlabel": {
           "align": "left"
          },
          "hovermode": "closest",
          "mapbox": {
           "style": "light"
          },
          "paper_bgcolor": "white",
          "plot_bgcolor": "#E5ECF6",
          "polar": {
           "angularaxis": {
            "gridcolor": "white",
            "linecolor": "white",
            "ticks": ""
           },
           "bgcolor": "#E5ECF6",
           "radialaxis": {
            "gridcolor": "white",
            "linecolor": "white",
            "ticks": ""
           }
          },
          "scene": {
           "xaxis": {
            "backgroundcolor": "#E5ECF6",
            "gridcolor": "white",
            "gridwidth": 2,
            "linecolor": "white",
            "showbackground": true,
            "ticks": "",
            "zerolinecolor": "white"
           },
           "yaxis": {
            "backgroundcolor": "#E5ECF6",
            "gridcolor": "white",
            "gridwidth": 2,
            "linecolor": "white",
            "showbackground": true,
            "ticks": "",
            "zerolinecolor": "white"
           },
           "zaxis": {
            "backgroundcolor": "#E5ECF6",
            "gridcolor": "white",
            "gridwidth": 2,
            "linecolor": "white",
            "showbackground": true,
            "ticks": "",
            "zerolinecolor": "white"
           }
          },
          "shapedefaults": {
           "line": {
            "color": "#2a3f5f"
           }
          },
          "ternary": {
           "aaxis": {
            "gridcolor": "white",
            "linecolor": "white",
            "ticks": ""
           },
           "baxis": {
            "gridcolor": "white",
            "linecolor": "white",
            "ticks": ""
           },
           "bgcolor": "#E5ECF6",
           "caxis": {
            "gridcolor": "white",
            "linecolor": "white",
            "ticks": ""
           }
          },
          "title": {
           "x": 0.05
          },
          "xaxis": {
           "automargin": true,
           "gridcolor": "white",
           "linecolor": "white",
           "ticks": "",
           "title": {
            "standoff": 15
           },
           "zerolinecolor": "white",
           "zerolinewidth": 2
          },
          "yaxis": {
           "automargin": true,
           "gridcolor": "white",
           "linecolor": "white",
           "ticks": "",
           "title": {
            "standoff": 15
           },
           "zerolinecolor": "white",
           "zerolinewidth": 2
          }
         }
        },
        "xaxis": {
         "anchor": "y",
         "domain": [
          0,
          1
         ],
         "title": {
          "text": "Accident_Count"
         }
        },
        "yaxis": {
         "anchor": "x",
         "domain": [
          0,
          1
         ],
         "title": {
          "text": "Weather_Condition"
         }
        }
       }
      },
      "text/html": [
       "<div>                            <div id=\"6dde6042-b78b-4a60-a5e2-43901865e827\" class=\"plotly-graph-div\" style=\"height:525px; width:100%;\"></div>            <script type=\"text/javascript\">                require([\"plotly\"], function(Plotly) {                    window.PLOTLYENV=window.PLOTLYENV || {};                                    if (document.getElementById(\"6dde6042-b78b-4a60-a5e2-43901865e827\")) {                    Plotly.newPlot(                        \"6dde6042-b78b-4a60-a5e2-43901865e827\",                        [{\"alignmentgroup\":\"True\",\"hovertemplate\":\"Accident_Count=%{x}<br>Weather_Condition=%{y}<extra></extra>\",\"legendgroup\":\"\",\"marker\":{\"color\":\"#636efa\",\"pattern\":{\"shape\":\"\"}},\"name\":\"\",\"offsetgroup\":\"\",\"orientation\":\"h\",\"showlegend\":false,\"textposition\":\"auto\",\"x\":[43,62,252,10,633870,115037,2092,1929,4,65,1,332937,3734,20764,59,17,1,17,1,29468,66,4,247,2,2,4,11053,158,7,6,1,1215,23,6,1260,145,2132,3,7,101,3,9548,28,3,710,948,2013,6,3,10,245,126903,1041,55,1,128,1925,4,39734,453,6,1,22,9,4,9,3,4028,21,4,1961,358915,1982,198,325093,10,1,253578,1308,2190,29891,302,6,97,16,27,2,164402,971,264,3,30,3208,7,4564,50,4,2,9,9,1,23,5,2152,128,1650,80,1,1,2159,3594,1854,3,3,20,104,1,798,20],\"xaxis\":\"x\",\"y\":[\"Blowing Dust\",\"Blowing Dust / Windy\",\"Blowing Snow\",\"Blowing Snow / Windy\",\"Clear\",\"Cloudy\",\"Cloudy / Windy\",\"Drizzle\",\"Drizzle / Windy\",\"Drizzle and Fog\",\"Dust Whirls\",\"Fair\",\"Fair / Windy\",\"Fog\",\"Fog / Windy\",\"Freezing Rain\",\"Freezing Rain / Windy\",\"Funnel Cloud\",\"Hail\",\"Haze\",\"Haze / Windy\",\"Heavy Blowing Snow\",\"Heavy Drizzle\",\"Heavy Freezing Drizzle\",\"Heavy Freezing Rain\",\"Heavy Ice Pellets\",\"Heavy Rain\",\"Heavy Rain / Windy\",\"Heavy Rain Showers\",\"Heavy Sleet\",\"Heavy Smoke\",\"Heavy Snow\",\"Heavy Snow / Windy\",\"Heavy Snow with Thunder\",\"Heavy T-Storm\",\"Heavy T-Storm / Windy\",\"Heavy Thunderstorms and Rain\",\"Heavy Thunderstorms and Snow\",\"Heavy Thunderstorms with Small Hail\",\"Ice Pellets\",\"Light Blowing Snow\",\"Light Drizzle\",\"Light Drizzle / Windy\",\"Light Fog\",\"Light Freezing Drizzle\",\"Light Freezing Fog\",\"Light Freezing Rain\",\"Light Freezing Rain / Windy\",\"Light Hail\",\"Light Haze\",\"Light Ice Pellets\",\"Light Rain\",\"Light Rain / Windy\",\"Light Rain Shower\",\"Light Rain Shower / Windy\",\"Light Rain Showers\",\"Light Rain with Thunder\",\"Light Sleet\",\"Light Snow\",\"Light Snow / Windy\",\"Light Snow Grains\",\"Light Snow Shower\",\"Light Snow Showers\",\"Light Snow and Sleet\",\"Light Snow and Sleet / Windy\",\"Light Snow with Thunder\",\"Light Thunderstorm\",\"Light Thunderstorms and Rain\",\"Light Thunderstorms and Snow\",\"Low Drifting Snow\",\"Mist\",\"Mostly Cloudy\",\"Mostly Cloudy / Windy\",\"N/A Precipitation\",\"Overcast\",\"Partial Fog\",\"Partial Fog / Windy\",\"Partly Cloudy\",\"Partly Cloudy / Windy\",\"Patches of Fog\",\"Rain\",\"Rain / Windy\",\"Rain Shower\",\"Rain Showers\",\"Sand\",\"Sand / Dust Whirlwinds\",\"Sand / Dust Whirlwinds / Windy\",\"Scattered Clouds\",\"Shallow Fog\",\"Showers in the Vicinity\",\"Sleet\",\"Small Hail\",\"Smoke\",\"Smoke / Windy\",\"Snow\",\"Snow / Windy\",\"Snow Grains\",\"Snow Showers\",\"Snow and Sleet\",\"Snow and Sleet / Windy\",\"Snow and Thunder\",\"Squalls\",\"Squalls / Windy\",\"T-Storm\",\"T-Storm / Windy\",\"Thunder\",\"Thunder / Windy\",\"Thunder / Wintry Mix / Windy\",\"Thunder and Hail / Windy\",\"Thunder in the Vicinity\",\"Thunderstorm\",\"Thunderstorms and Rain\",\"Thunderstorms and Snow\",\"Tornado\",\"Volcanic Ash\",\"Widespread Dust\",\"Widespread Dust / Windy\",\"Wintry Mix\",\"Wintry Mix / Windy\"],\"yaxis\":\"y\",\"type\":\"bar\"}],                        {\"template\":{\"data\":{\"histogram2dcontour\":[{\"type\":\"histogram2dcontour\",\"colorbar\":{\"outlinewidth\":0,\"ticks\":\"\"},\"colorscale\":[[0.0,\"#0d0887\"],[0.1111111111111111,\"#46039f\"],[0.2222222222222222,\"#7201a8\"],[0.3333333333333333,\"#9c179e\"],[0.4444444444444444,\"#bd3786\"],[0.5555555555555556,\"#d8576b\"],[0.6666666666666666,\"#ed7953\"],[0.7777777777777778,\"#fb9f3a\"],[0.8888888888888888,\"#fdca26\"],[1.0,\"#f0f921\"]]}],\"choropleth\":[{\"type\":\"choropleth\",\"colorbar\":{\"outlinewidth\":0,\"ticks\":\"\"}}],\"histogram2d\":[{\"type\":\"histogram2d\",\"colorbar\":{\"outlinewidth\":0,\"ticks\":\"\"},\"colorscale\":[[0.0,\"#0d0887\"],[0.1111111111111111,\"#46039f\"],[0.2222222222222222,\"#7201a8\"],[0.3333333333333333,\"#9c179e\"],[0.4444444444444444,\"#bd3786\"],[0.5555555555555556,\"#d8576b\"],[0.6666666666666666,\"#ed7953\"],[0.7777777777777778,\"#fb9f3a\"],[0.8888888888888888,\"#fdca26\"],[1.0,\"#f0f921\"]]}],\"heatmap\":[{\"type\":\"heatmap\",\"colorbar\":{\"outlinewidth\":0,\"ticks\":\"\"},\"colorscale\":[[0.0,\"#0d0887\"],[0.1111111111111111,\"#46039f\"],[0.2222222222222222,\"#7201a8\"],[0.3333333333333333,\"#9c179e\"],[0.4444444444444444,\"#bd3786\"],[0.5555555555555556,\"#d8576b\"],[0.6666666666666666,\"#ed7953\"],[0.7777777777777778,\"#fb9f3a\"],[0.8888888888888888,\"#fdca26\"],[1.0,\"#f0f921\"]]}],\"heatmapgl\":[{\"type\":\"heatmapgl\",\"colorbar\":{\"outlinewidth\":0,\"ticks\":\"\"},\"colorscale\":[[0.0,\"#0d0887\"],[0.1111111111111111,\"#46039f\"],[0.2222222222222222,\"#7201a8\"],[0.3333333333333333,\"#9c179e\"],[0.4444444444444444,\"#bd3786\"],[0.5555555555555556,\"#d8576b\"],[0.6666666666666666,\"#ed7953\"],[0.7777777777777778,\"#fb9f3a\"],[0.8888888888888888,\"#fdca26\"],[1.0,\"#f0f921\"]]}],\"contourcarpet\":[{\"type\":\"contourcarpet\",\"colorbar\":{\"outlinewidth\":0,\"ticks\":\"\"}}],\"contour\":[{\"type\":\"contour\",\"colorbar\":{\"outlinewidth\":0,\"ticks\":\"\"},\"colorscale\":[[0.0,\"#0d0887\"],[0.1111111111111111,\"#46039f\"],[0.2222222222222222,\"#7201a8\"],[0.3333333333333333,\"#9c179e\"],[0.4444444444444444,\"#bd3786\"],[0.5555555555555556,\"#d8576b\"],[0.6666666666666666,\"#ed7953\"],[0.7777777777777778,\"#fb9f3a\"],[0.8888888888888888,\"#fdca26\"],[1.0,\"#f0f921\"]]}],\"surface\":[{\"type\":\"surface\",\"colorbar\":{\"outlinewidth\":0,\"ticks\":\"\"},\"colorscale\":[[0.0,\"#0d0887\"],[0.1111111111111111,\"#46039f\"],[0.2222222222222222,\"#7201a8\"],[0.3333333333333333,\"#9c179e\"],[0.4444444444444444,\"#bd3786\"],[0.5555555555555556,\"#d8576b\"],[0.6666666666666666,\"#ed7953\"],[0.7777777777777778,\"#fb9f3a\"],[0.8888888888888888,\"#fdca26\"],[1.0,\"#f0f921\"]]}],\"mesh3d\":[{\"type\":\"mesh3d\",\"colorbar\":{\"outlinewidth\":0,\"ticks\":\"\"}}],\"scatter\":[{\"fillpattern\":{\"fillmode\":\"overlay\",\"size\":10,\"solidity\":0.2},\"type\":\"scatter\"}],\"parcoords\":[{\"type\":\"parcoords\",\"line\":{\"colorbar\":{\"outlinewidth\":0,\"ticks\":\"\"}}}],\"scatterpolargl\":[{\"type\":\"scatterpolargl\",\"marker\":{\"colorbar\":{\"outlinewidth\":0,\"ticks\":\"\"}}}],\"bar\":[{\"error_x\":{\"color\":\"#2a3f5f\"},\"error_y\":{\"color\":\"#2a3f5f\"},\"marker\":{\"line\":{\"color\":\"#E5ECF6\",\"width\":0.5},\"pattern\":{\"fillmode\":\"overlay\",\"size\":10,\"solidity\":0.2}},\"type\":\"bar\"}],\"scattergeo\":[{\"type\":\"scattergeo\",\"marker\":{\"colorbar\":{\"outlinewidth\":0,\"ticks\":\"\"}}}],\"scatterpolar\":[{\"type\":\"scatterpolar\",\"marker\":{\"colorbar\":{\"outlinewidth\":0,\"ticks\":\"\"}}}],\"histogram\":[{\"marker\":{\"pattern\":{\"fillmode\":\"overlay\",\"size\":10,\"solidity\":0.2}},\"type\":\"histogram\"}],\"scattergl\":[{\"type\":\"scattergl\",\"marker\":{\"colorbar\":{\"outlinewidth\":0,\"ticks\":\"\"}}}],\"scatter3d\":[{\"type\":\"scatter3d\",\"line\":{\"colorbar\":{\"outlinewidth\":0,\"ticks\":\"\"}},\"marker\":{\"colorbar\":{\"outlinewidth\":0,\"ticks\":\"\"}}}],\"scattermapbox\":[{\"type\":\"scattermapbox\",\"marker\":{\"colorbar\":{\"outlinewidth\":0,\"ticks\":\"\"}}}],\"scatterternary\":[{\"type\":\"scatterternary\",\"marker\":{\"colorbar\":{\"outlinewidth\":0,\"ticks\":\"\"}}}],\"scattercarpet\":[{\"type\":\"scattercarpet\",\"marker\":{\"colorbar\":{\"outlinewidth\":0,\"ticks\":\"\"}}}],\"carpet\":[{\"aaxis\":{\"endlinecolor\":\"#2a3f5f\",\"gridcolor\":\"white\",\"linecolor\":\"white\",\"minorgridcolor\":\"white\",\"startlinecolor\":\"#2a3f5f\"},\"baxis\":{\"endlinecolor\":\"#2a3f5f\",\"gridcolor\":\"white\",\"linecolor\":\"white\",\"minorgridcolor\":\"white\",\"startlinecolor\":\"#2a3f5f\"},\"type\":\"carpet\"}],\"table\":[{\"cells\":{\"fill\":{\"color\":\"#EBF0F8\"},\"line\":{\"color\":\"white\"}},\"header\":{\"fill\":{\"color\":\"#C8D4E3\"},\"line\":{\"color\":\"white\"}},\"type\":\"table\"}],\"barpolar\":[{\"marker\":{\"line\":{\"color\":\"#E5ECF6\",\"width\":0.5},\"pattern\":{\"fillmode\":\"overlay\",\"size\":10,\"solidity\":0.2}},\"type\":\"barpolar\"}],\"pie\":[{\"automargin\":true,\"type\":\"pie\"}]},\"layout\":{\"autotypenumbers\":\"strict\",\"colorway\":[\"#636efa\",\"#EF553B\",\"#00cc96\",\"#ab63fa\",\"#FFA15A\",\"#19d3f3\",\"#FF6692\",\"#B6E880\",\"#FF97FF\",\"#FECB52\"],\"font\":{\"color\":\"#2a3f5f\"},\"hovermode\":\"closest\",\"hoverlabel\":{\"align\":\"left\"},\"paper_bgcolor\":\"white\",\"plot_bgcolor\":\"#E5ECF6\",\"polar\":{\"bgcolor\":\"#E5ECF6\",\"angularaxis\":{\"gridcolor\":\"white\",\"linecolor\":\"white\",\"ticks\":\"\"},\"radialaxis\":{\"gridcolor\":\"white\",\"linecolor\":\"white\",\"ticks\":\"\"}},\"ternary\":{\"bgcolor\":\"#E5ECF6\",\"aaxis\":{\"gridcolor\":\"white\",\"linecolor\":\"white\",\"ticks\":\"\"},\"baxis\":{\"gridcolor\":\"white\",\"linecolor\":\"white\",\"ticks\":\"\"},\"caxis\":{\"gridcolor\":\"white\",\"linecolor\":\"white\",\"ticks\":\"\"}},\"coloraxis\":{\"colorbar\":{\"outlinewidth\":0,\"ticks\":\"\"}},\"colorscale\":{\"sequential\":[[0.0,\"#0d0887\"],[0.1111111111111111,\"#46039f\"],[0.2222222222222222,\"#7201a8\"],[0.3333333333333333,\"#9c179e\"],[0.4444444444444444,\"#bd3786\"],[0.5555555555555556,\"#d8576b\"],[0.6666666666666666,\"#ed7953\"],[0.7777777777777778,\"#fb9f3a\"],[0.8888888888888888,\"#fdca26\"],[1.0,\"#f0f921\"]],\"sequentialminus\":[[0.0,\"#0d0887\"],[0.1111111111111111,\"#46039f\"],[0.2222222222222222,\"#7201a8\"],[0.3333333333333333,\"#9c179e\"],[0.4444444444444444,\"#bd3786\"],[0.5555555555555556,\"#d8576b\"],[0.6666666666666666,\"#ed7953\"],[0.7777777777777778,\"#fb9f3a\"],[0.8888888888888888,\"#fdca26\"],[1.0,\"#f0f921\"]],\"diverging\":[[0,\"#8e0152\"],[0.1,\"#c51b7d\"],[0.2,\"#de77ae\"],[0.3,\"#f1b6da\"],[0.4,\"#fde0ef\"],[0.5,\"#f7f7f7\"],[0.6,\"#e6f5d0\"],[0.7,\"#b8e186\"],[0.8,\"#7fbc41\"],[0.9,\"#4d9221\"],[1,\"#276419\"]]},\"xaxis\":{\"gridcolor\":\"white\",\"linecolor\":\"white\",\"ticks\":\"\",\"title\":{\"standoff\":15},\"zerolinecolor\":\"white\",\"automargin\":true,\"zerolinewidth\":2},\"yaxis\":{\"gridcolor\":\"white\",\"linecolor\":\"white\",\"ticks\":\"\",\"title\":{\"standoff\":15},\"zerolinecolor\":\"white\",\"automargin\":true,\"zerolinewidth\":2},\"scene\":{\"xaxis\":{\"backgroundcolor\":\"#E5ECF6\",\"gridcolor\":\"white\",\"linecolor\":\"white\",\"showbackground\":true,\"ticks\":\"\",\"zerolinecolor\":\"white\",\"gridwidth\":2},\"yaxis\":{\"backgroundcolor\":\"#E5ECF6\",\"gridcolor\":\"white\",\"linecolor\":\"white\",\"showbackground\":true,\"ticks\":\"\",\"zerolinecolor\":\"white\",\"gridwidth\":2},\"zaxis\":{\"backgroundcolor\":\"#E5ECF6\",\"gridcolor\":\"white\",\"linecolor\":\"white\",\"showbackground\":true,\"ticks\":\"\",\"zerolinecolor\":\"white\",\"gridwidth\":2}},\"shapedefaults\":{\"line\":{\"color\":\"#2a3f5f\"}},\"annotationdefaults\":{\"arrowcolor\":\"#2a3f5f\",\"arrowhead\":0,\"arrowwidth\":1},\"geo\":{\"bgcolor\":\"white\",\"landcolor\":\"#E5ECF6\",\"subunitcolor\":\"white\",\"showland\":true,\"showlakes\":true,\"lakecolor\":\"white\"},\"title\":{\"x\":0.05},\"mapbox\":{\"style\":\"light\"}}},\"xaxis\":{\"anchor\":\"y\",\"domain\":[0.0,1.0],\"title\":{\"text\":\"Accident_Count\"}},\"yaxis\":{\"anchor\":\"x\",\"domain\":[0.0,1.0],\"title\":{\"text\":\"Weather_Condition\"}},\"legend\":{\"tracegroupgap\":0},\"margin\":{\"t\":60},\"barmode\":\"relative\"},                        {\"responsive\": true}                    ).then(function(){\n",
       "                            \n",
       "var gd = document.getElementById('6dde6042-b78b-4a60-a5e2-43901865e827');\n",
       "var x = new MutationObserver(function (mutations, observer) {{\n",
       "        var display = window.getComputedStyle(gd).display;\n",
       "        if (!display || display === 'none') {{\n",
       "            console.log([gd, 'removed!']);\n",
       "            Plotly.purge(gd);\n",
       "            observer.disconnect();\n",
       "        }}\n",
       "}});\n",
       "\n",
       "// Listen for the removal of the full notebook cells\n",
       "var notebookContainer = gd.closest('#notebook-container');\n",
       "if (notebookContainer) {{\n",
       "    x.observe(notebookContainer, {childList: true});\n",
       "}}\n",
       "\n",
       "// Listen for the clearing of the current output cell\n",
       "var outputEl = gd.closest('.output');\n",
       "if (outputEl) {{\n",
       "    x.observe(outputEl, {childList: true});\n",
       "}}\n",
       "\n",
       "                        })                };                });            </script>        </div>"
      ]
     },
     "metadata": {},
     "output_type": "display_data"
    },
    {
     "data": {
      "application/vnd.plotly.v1+json": {
       "config": {
        "plotlyServerURL": "https://plot.ly"
       },
       "data": [
        {
         "alignmentgroup": "True",
         "hovertemplate": "Accident_Count=%{x}<br>Sunrise_Sunset=%{y}<extra></extra>",
         "legendgroup": "",
         "marker": {
          "color": "#636efa",
          "pattern": {
           "shape": ""
          }
         },
         "name": "",
         "offsetgroup": "",
         "orientation": "h",
         "showlegend": false,
         "textposition": "auto",
         "type": "bar",
         "x": [
          1896203,
          667466
         ],
         "xaxis": "x",
         "y": [
          "Day",
          "Night"
         ],
         "yaxis": "y"
        }
       ],
       "layout": {
        "barmode": "relative",
        "legend": {
         "tracegroupgap": 0
        },
        "margin": {
         "t": 60
        },
        "template": {
         "data": {
          "bar": [
           {
            "error_x": {
             "color": "#2a3f5f"
            },
            "error_y": {
             "color": "#2a3f5f"
            },
            "marker": {
             "line": {
              "color": "#E5ECF6",
              "width": 0.5
             },
             "pattern": {
              "fillmode": "overlay",
              "size": 10,
              "solidity": 0.2
             }
            },
            "type": "bar"
           }
          ],
          "barpolar": [
           {
            "marker": {
             "line": {
              "color": "#E5ECF6",
              "width": 0.5
             },
             "pattern": {
              "fillmode": "overlay",
              "size": 10,
              "solidity": 0.2
             }
            },
            "type": "barpolar"
           }
          ],
          "carpet": [
           {
            "aaxis": {
             "endlinecolor": "#2a3f5f",
             "gridcolor": "white",
             "linecolor": "white",
             "minorgridcolor": "white",
             "startlinecolor": "#2a3f5f"
            },
            "baxis": {
             "endlinecolor": "#2a3f5f",
             "gridcolor": "white",
             "linecolor": "white",
             "minorgridcolor": "white",
             "startlinecolor": "#2a3f5f"
            },
            "type": "carpet"
           }
          ],
          "choropleth": [
           {
            "colorbar": {
             "outlinewidth": 0,
             "ticks": ""
            },
            "type": "choropleth"
           }
          ],
          "contour": [
           {
            "colorbar": {
             "outlinewidth": 0,
             "ticks": ""
            },
            "colorscale": [
             [
              0,
              "#0d0887"
             ],
             [
              0.1111111111111111,
              "#46039f"
             ],
             [
              0.2222222222222222,
              "#7201a8"
             ],
             [
              0.3333333333333333,
              "#9c179e"
             ],
             [
              0.4444444444444444,
              "#bd3786"
             ],
             [
              0.5555555555555556,
              "#d8576b"
             ],
             [
              0.6666666666666666,
              "#ed7953"
             ],
             [
              0.7777777777777778,
              "#fb9f3a"
             ],
             [
              0.8888888888888888,
              "#fdca26"
             ],
             [
              1,
              "#f0f921"
             ]
            ],
            "type": "contour"
           }
          ],
          "contourcarpet": [
           {
            "colorbar": {
             "outlinewidth": 0,
             "ticks": ""
            },
            "type": "contourcarpet"
           }
          ],
          "heatmap": [
           {
            "colorbar": {
             "outlinewidth": 0,
             "ticks": ""
            },
            "colorscale": [
             [
              0,
              "#0d0887"
             ],
             [
              0.1111111111111111,
              "#46039f"
             ],
             [
              0.2222222222222222,
              "#7201a8"
             ],
             [
              0.3333333333333333,
              "#9c179e"
             ],
             [
              0.4444444444444444,
              "#bd3786"
             ],
             [
              0.5555555555555556,
              "#d8576b"
             ],
             [
              0.6666666666666666,
              "#ed7953"
             ],
             [
              0.7777777777777778,
              "#fb9f3a"
             ],
             [
              0.8888888888888888,
              "#fdca26"
             ],
             [
              1,
              "#f0f921"
             ]
            ],
            "type": "heatmap"
           }
          ],
          "heatmapgl": [
           {
            "colorbar": {
             "outlinewidth": 0,
             "ticks": ""
            },
            "colorscale": [
             [
              0,
              "#0d0887"
             ],
             [
              0.1111111111111111,
              "#46039f"
             ],
             [
              0.2222222222222222,
              "#7201a8"
             ],
             [
              0.3333333333333333,
              "#9c179e"
             ],
             [
              0.4444444444444444,
              "#bd3786"
             ],
             [
              0.5555555555555556,
              "#d8576b"
             ],
             [
              0.6666666666666666,
              "#ed7953"
             ],
             [
              0.7777777777777778,
              "#fb9f3a"
             ],
             [
              0.8888888888888888,
              "#fdca26"
             ],
             [
              1,
              "#f0f921"
             ]
            ],
            "type": "heatmapgl"
           }
          ],
          "histogram": [
           {
            "marker": {
             "pattern": {
              "fillmode": "overlay",
              "size": 10,
              "solidity": 0.2
             }
            },
            "type": "histogram"
           }
          ],
          "histogram2d": [
           {
            "colorbar": {
             "outlinewidth": 0,
             "ticks": ""
            },
            "colorscale": [
             [
              0,
              "#0d0887"
             ],
             [
              0.1111111111111111,
              "#46039f"
             ],
             [
              0.2222222222222222,
              "#7201a8"
             ],
             [
              0.3333333333333333,
              "#9c179e"
             ],
             [
              0.4444444444444444,
              "#bd3786"
             ],
             [
              0.5555555555555556,
              "#d8576b"
             ],
             [
              0.6666666666666666,
              "#ed7953"
             ],
             [
              0.7777777777777778,
              "#fb9f3a"
             ],
             [
              0.8888888888888888,
              "#fdca26"
             ],
             [
              1,
              "#f0f921"
             ]
            ],
            "type": "histogram2d"
           }
          ],
          "histogram2dcontour": [
           {
            "colorbar": {
             "outlinewidth": 0,
             "ticks": ""
            },
            "colorscale": [
             [
              0,
              "#0d0887"
             ],
             [
              0.1111111111111111,
              "#46039f"
             ],
             [
              0.2222222222222222,
              "#7201a8"
             ],
             [
              0.3333333333333333,
              "#9c179e"
             ],
             [
              0.4444444444444444,
              "#bd3786"
             ],
             [
              0.5555555555555556,
              "#d8576b"
             ],
             [
              0.6666666666666666,
              "#ed7953"
             ],
             [
              0.7777777777777778,
              "#fb9f3a"
             ],
             [
              0.8888888888888888,
              "#fdca26"
             ],
             [
              1,
              "#f0f921"
             ]
            ],
            "type": "histogram2dcontour"
           }
          ],
          "mesh3d": [
           {
            "colorbar": {
             "outlinewidth": 0,
             "ticks": ""
            },
            "type": "mesh3d"
           }
          ],
          "parcoords": [
           {
            "line": {
             "colorbar": {
              "outlinewidth": 0,
              "ticks": ""
             }
            },
            "type": "parcoords"
           }
          ],
          "pie": [
           {
            "automargin": true,
            "type": "pie"
           }
          ],
          "scatter": [
           {
            "fillpattern": {
             "fillmode": "overlay",
             "size": 10,
             "solidity": 0.2
            },
            "type": "scatter"
           }
          ],
          "scatter3d": [
           {
            "line": {
             "colorbar": {
              "outlinewidth": 0,
              "ticks": ""
             }
            },
            "marker": {
             "colorbar": {
              "outlinewidth": 0,
              "ticks": ""
             }
            },
            "type": "scatter3d"
           }
          ],
          "scattercarpet": [
           {
            "marker": {
             "colorbar": {
              "outlinewidth": 0,
              "ticks": ""
             }
            },
            "type": "scattercarpet"
           }
          ],
          "scattergeo": [
           {
            "marker": {
             "colorbar": {
              "outlinewidth": 0,
              "ticks": ""
             }
            },
            "type": "scattergeo"
           }
          ],
          "scattergl": [
           {
            "marker": {
             "colorbar": {
              "outlinewidth": 0,
              "ticks": ""
             }
            },
            "type": "scattergl"
           }
          ],
          "scattermapbox": [
           {
            "marker": {
             "colorbar": {
              "outlinewidth": 0,
              "ticks": ""
             }
            },
            "type": "scattermapbox"
           }
          ],
          "scatterpolar": [
           {
            "marker": {
             "colorbar": {
              "outlinewidth": 0,
              "ticks": ""
             }
            },
            "type": "scatterpolar"
           }
          ],
          "scatterpolargl": [
           {
            "marker": {
             "colorbar": {
              "outlinewidth": 0,
              "ticks": ""
             }
            },
            "type": "scatterpolargl"
           }
          ],
          "scatterternary": [
           {
            "marker": {
             "colorbar": {
              "outlinewidth": 0,
              "ticks": ""
             }
            },
            "type": "scatterternary"
           }
          ],
          "surface": [
           {
            "colorbar": {
             "outlinewidth": 0,
             "ticks": ""
            },
            "colorscale": [
             [
              0,
              "#0d0887"
             ],
             [
              0.1111111111111111,
              "#46039f"
             ],
             [
              0.2222222222222222,
              "#7201a8"
             ],
             [
              0.3333333333333333,
              "#9c179e"
             ],
             [
              0.4444444444444444,
              "#bd3786"
             ],
             [
              0.5555555555555556,
              "#d8576b"
             ],
             [
              0.6666666666666666,
              "#ed7953"
             ],
             [
              0.7777777777777778,
              "#fb9f3a"
             ],
             [
              0.8888888888888888,
              "#fdca26"
             ],
             [
              1,
              "#f0f921"
             ]
            ],
            "type": "surface"
           }
          ],
          "table": [
           {
            "cells": {
             "fill": {
              "color": "#EBF0F8"
             },
             "line": {
              "color": "white"
             }
            },
            "header": {
             "fill": {
              "color": "#C8D4E3"
             },
             "line": {
              "color": "white"
             }
            },
            "type": "table"
           }
          ]
         },
         "layout": {
          "annotationdefaults": {
           "arrowcolor": "#2a3f5f",
           "arrowhead": 0,
           "arrowwidth": 1
          },
          "autotypenumbers": "strict",
          "coloraxis": {
           "colorbar": {
            "outlinewidth": 0,
            "ticks": ""
           }
          },
          "colorscale": {
           "diverging": [
            [
             0,
             "#8e0152"
            ],
            [
             0.1,
             "#c51b7d"
            ],
            [
             0.2,
             "#de77ae"
            ],
            [
             0.3,
             "#f1b6da"
            ],
            [
             0.4,
             "#fde0ef"
            ],
            [
             0.5,
             "#f7f7f7"
            ],
            [
             0.6,
             "#e6f5d0"
            ],
            [
             0.7,
             "#b8e186"
            ],
            [
             0.8,
             "#7fbc41"
            ],
            [
             0.9,
             "#4d9221"
            ],
            [
             1,
             "#276419"
            ]
           ],
           "sequential": [
            [
             0,
             "#0d0887"
            ],
            [
             0.1111111111111111,
             "#46039f"
            ],
            [
             0.2222222222222222,
             "#7201a8"
            ],
            [
             0.3333333333333333,
             "#9c179e"
            ],
            [
             0.4444444444444444,
             "#bd3786"
            ],
            [
             0.5555555555555556,
             "#d8576b"
            ],
            [
             0.6666666666666666,
             "#ed7953"
            ],
            [
             0.7777777777777778,
             "#fb9f3a"
            ],
            [
             0.8888888888888888,
             "#fdca26"
            ],
            [
             1,
             "#f0f921"
            ]
           ],
           "sequentialminus": [
            [
             0,
             "#0d0887"
            ],
            [
             0.1111111111111111,
             "#46039f"
            ],
            [
             0.2222222222222222,
             "#7201a8"
            ],
            [
             0.3333333333333333,
             "#9c179e"
            ],
            [
             0.4444444444444444,
             "#bd3786"
            ],
            [
             0.5555555555555556,
             "#d8576b"
            ],
            [
             0.6666666666666666,
             "#ed7953"
            ],
            [
             0.7777777777777778,
             "#fb9f3a"
            ],
            [
             0.8888888888888888,
             "#fdca26"
            ],
            [
             1,
             "#f0f921"
            ]
           ]
          },
          "colorway": [
           "#636efa",
           "#EF553B",
           "#00cc96",
           "#ab63fa",
           "#FFA15A",
           "#19d3f3",
           "#FF6692",
           "#B6E880",
           "#FF97FF",
           "#FECB52"
          ],
          "font": {
           "color": "#2a3f5f"
          },
          "geo": {
           "bgcolor": "white",
           "lakecolor": "white",
           "landcolor": "#E5ECF6",
           "showlakes": true,
           "showland": true,
           "subunitcolor": "white"
          },
          "hoverlabel": {
           "align": "left"
          },
          "hovermode": "closest",
          "mapbox": {
           "style": "light"
          },
          "paper_bgcolor": "white",
          "plot_bgcolor": "#E5ECF6",
          "polar": {
           "angularaxis": {
            "gridcolor": "white",
            "linecolor": "white",
            "ticks": ""
           },
           "bgcolor": "#E5ECF6",
           "radialaxis": {
            "gridcolor": "white",
            "linecolor": "white",
            "ticks": ""
           }
          },
          "scene": {
           "xaxis": {
            "backgroundcolor": "#E5ECF6",
            "gridcolor": "white",
            "gridwidth": 2,
            "linecolor": "white",
            "showbackground": true,
            "ticks": "",
            "zerolinecolor": "white"
           },
           "yaxis": {
            "backgroundcolor": "#E5ECF6",
            "gridcolor": "white",
            "gridwidth": 2,
            "linecolor": "white",
            "showbackground": true,
            "ticks": "",
            "zerolinecolor": "white"
           },
           "zaxis": {
            "backgroundcolor": "#E5ECF6",
            "gridcolor": "white",
            "gridwidth": 2,
            "linecolor": "white",
            "showbackground": true,
            "ticks": "",
            "zerolinecolor": "white"
           }
          },
          "shapedefaults": {
           "line": {
            "color": "#2a3f5f"
           }
          },
          "ternary": {
           "aaxis": {
            "gridcolor": "white",
            "linecolor": "white",
            "ticks": ""
           },
           "baxis": {
            "gridcolor": "white",
            "linecolor": "white",
            "ticks": ""
           },
           "bgcolor": "#E5ECF6",
           "caxis": {
            "gridcolor": "white",
            "linecolor": "white",
            "ticks": ""
           }
          },
          "title": {
           "x": 0.05
          },
          "xaxis": {
           "automargin": true,
           "gridcolor": "white",
           "linecolor": "white",
           "ticks": "",
           "title": {
            "standoff": 15
           },
           "zerolinecolor": "white",
           "zerolinewidth": 2
          },
          "yaxis": {
           "automargin": true,
           "gridcolor": "white",
           "linecolor": "white",
           "ticks": "",
           "title": {
            "standoff": 15
           },
           "zerolinecolor": "white",
           "zerolinewidth": 2
          }
         }
        },
        "xaxis": {
         "anchor": "y",
         "domain": [
          0,
          1
         ],
         "title": {
          "text": "Accident_Count"
         }
        },
        "yaxis": {
         "anchor": "x",
         "domain": [
          0,
          1
         ],
         "title": {
          "text": "Sunrise_Sunset"
         }
        }
       }
      },
      "text/html": [
       "<div>                            <div id=\"84bd54e1-32f0-474d-9392-554bd7cf331c\" class=\"plotly-graph-div\" style=\"height:525px; width:100%;\"></div>            <script type=\"text/javascript\">                require([\"plotly\"], function(Plotly) {                    window.PLOTLYENV=window.PLOTLYENV || {};                                    if (document.getElementById(\"84bd54e1-32f0-474d-9392-554bd7cf331c\")) {                    Plotly.newPlot(                        \"84bd54e1-32f0-474d-9392-554bd7cf331c\",                        [{\"alignmentgroup\":\"True\",\"hovertemplate\":\"Accident_Count=%{x}<br>Sunrise_Sunset=%{y}<extra></extra>\",\"legendgroup\":\"\",\"marker\":{\"color\":\"#636efa\",\"pattern\":{\"shape\":\"\"}},\"name\":\"\",\"offsetgroup\":\"\",\"orientation\":\"h\",\"showlegend\":false,\"textposition\":\"auto\",\"x\":[1896203,667466],\"xaxis\":\"x\",\"y\":[\"Day\",\"Night\"],\"yaxis\":\"y\",\"type\":\"bar\"}],                        {\"template\":{\"data\":{\"histogram2dcontour\":[{\"type\":\"histogram2dcontour\",\"colorbar\":{\"outlinewidth\":0,\"ticks\":\"\"},\"colorscale\":[[0.0,\"#0d0887\"],[0.1111111111111111,\"#46039f\"],[0.2222222222222222,\"#7201a8\"],[0.3333333333333333,\"#9c179e\"],[0.4444444444444444,\"#bd3786\"],[0.5555555555555556,\"#d8576b\"],[0.6666666666666666,\"#ed7953\"],[0.7777777777777778,\"#fb9f3a\"],[0.8888888888888888,\"#fdca26\"],[1.0,\"#f0f921\"]]}],\"choropleth\":[{\"type\":\"choropleth\",\"colorbar\":{\"outlinewidth\":0,\"ticks\":\"\"}}],\"histogram2d\":[{\"type\":\"histogram2d\",\"colorbar\":{\"outlinewidth\":0,\"ticks\":\"\"},\"colorscale\":[[0.0,\"#0d0887\"],[0.1111111111111111,\"#46039f\"],[0.2222222222222222,\"#7201a8\"],[0.3333333333333333,\"#9c179e\"],[0.4444444444444444,\"#bd3786\"],[0.5555555555555556,\"#d8576b\"],[0.6666666666666666,\"#ed7953\"],[0.7777777777777778,\"#fb9f3a\"],[0.8888888888888888,\"#fdca26\"],[1.0,\"#f0f921\"]]}],\"heatmap\":[{\"type\":\"heatmap\",\"colorbar\":{\"outlinewidth\":0,\"ticks\":\"\"},\"colorscale\":[[0.0,\"#0d0887\"],[0.1111111111111111,\"#46039f\"],[0.2222222222222222,\"#7201a8\"],[0.3333333333333333,\"#9c179e\"],[0.4444444444444444,\"#bd3786\"],[0.5555555555555556,\"#d8576b\"],[0.6666666666666666,\"#ed7953\"],[0.7777777777777778,\"#fb9f3a\"],[0.8888888888888888,\"#fdca26\"],[1.0,\"#f0f921\"]]}],\"heatmapgl\":[{\"type\":\"heatmapgl\",\"colorbar\":{\"outlinewidth\":0,\"ticks\":\"\"},\"colorscale\":[[0.0,\"#0d0887\"],[0.1111111111111111,\"#46039f\"],[0.2222222222222222,\"#7201a8\"],[0.3333333333333333,\"#9c179e\"],[0.4444444444444444,\"#bd3786\"],[0.5555555555555556,\"#d8576b\"],[0.6666666666666666,\"#ed7953\"],[0.7777777777777778,\"#fb9f3a\"],[0.8888888888888888,\"#fdca26\"],[1.0,\"#f0f921\"]]}],\"contourcarpet\":[{\"type\":\"contourcarpet\",\"colorbar\":{\"outlinewidth\":0,\"ticks\":\"\"}}],\"contour\":[{\"type\":\"contour\",\"colorbar\":{\"outlinewidth\":0,\"ticks\":\"\"},\"colorscale\":[[0.0,\"#0d0887\"],[0.1111111111111111,\"#46039f\"],[0.2222222222222222,\"#7201a8\"],[0.3333333333333333,\"#9c179e\"],[0.4444444444444444,\"#bd3786\"],[0.5555555555555556,\"#d8576b\"],[0.6666666666666666,\"#ed7953\"],[0.7777777777777778,\"#fb9f3a\"],[0.8888888888888888,\"#fdca26\"],[1.0,\"#f0f921\"]]}],\"surface\":[{\"type\":\"surface\",\"colorbar\":{\"outlinewidth\":0,\"ticks\":\"\"},\"colorscale\":[[0.0,\"#0d0887\"],[0.1111111111111111,\"#46039f\"],[0.2222222222222222,\"#7201a8\"],[0.3333333333333333,\"#9c179e\"],[0.4444444444444444,\"#bd3786\"],[0.5555555555555556,\"#d8576b\"],[0.6666666666666666,\"#ed7953\"],[0.7777777777777778,\"#fb9f3a\"],[0.8888888888888888,\"#fdca26\"],[1.0,\"#f0f921\"]]}],\"mesh3d\":[{\"type\":\"mesh3d\",\"colorbar\":{\"outlinewidth\":0,\"ticks\":\"\"}}],\"scatter\":[{\"fillpattern\":{\"fillmode\":\"overlay\",\"size\":10,\"solidity\":0.2},\"type\":\"scatter\"}],\"parcoords\":[{\"type\":\"parcoords\",\"line\":{\"colorbar\":{\"outlinewidth\":0,\"ticks\":\"\"}}}],\"scatterpolargl\":[{\"type\":\"scatterpolargl\",\"marker\":{\"colorbar\":{\"outlinewidth\":0,\"ticks\":\"\"}}}],\"bar\":[{\"error_x\":{\"color\":\"#2a3f5f\"},\"error_y\":{\"color\":\"#2a3f5f\"},\"marker\":{\"line\":{\"color\":\"#E5ECF6\",\"width\":0.5},\"pattern\":{\"fillmode\":\"overlay\",\"size\":10,\"solidity\":0.2}},\"type\":\"bar\"}],\"scattergeo\":[{\"type\":\"scattergeo\",\"marker\":{\"colorbar\":{\"outlinewidth\":0,\"ticks\":\"\"}}}],\"scatterpolar\":[{\"type\":\"scatterpolar\",\"marker\":{\"colorbar\":{\"outlinewidth\":0,\"ticks\":\"\"}}}],\"histogram\":[{\"marker\":{\"pattern\":{\"fillmode\":\"overlay\",\"size\":10,\"solidity\":0.2}},\"type\":\"histogram\"}],\"scattergl\":[{\"type\":\"scattergl\",\"marker\":{\"colorbar\":{\"outlinewidth\":0,\"ticks\":\"\"}}}],\"scatter3d\":[{\"type\":\"scatter3d\",\"line\":{\"colorbar\":{\"outlinewidth\":0,\"ticks\":\"\"}},\"marker\":{\"colorbar\":{\"outlinewidth\":0,\"ticks\":\"\"}}}],\"scattermapbox\":[{\"type\":\"scattermapbox\",\"marker\":{\"colorbar\":{\"outlinewidth\":0,\"ticks\":\"\"}}}],\"scatterternary\":[{\"type\":\"scatterternary\",\"marker\":{\"colorbar\":{\"outlinewidth\":0,\"ticks\":\"\"}}}],\"scattercarpet\":[{\"type\":\"scattercarpet\",\"marker\":{\"colorbar\":{\"outlinewidth\":0,\"ticks\":\"\"}}}],\"carpet\":[{\"aaxis\":{\"endlinecolor\":\"#2a3f5f\",\"gridcolor\":\"white\",\"linecolor\":\"white\",\"minorgridcolor\":\"white\",\"startlinecolor\":\"#2a3f5f\"},\"baxis\":{\"endlinecolor\":\"#2a3f5f\",\"gridcolor\":\"white\",\"linecolor\":\"white\",\"minorgridcolor\":\"white\",\"startlinecolor\":\"#2a3f5f\"},\"type\":\"carpet\"}],\"table\":[{\"cells\":{\"fill\":{\"color\":\"#EBF0F8\"},\"line\":{\"color\":\"white\"}},\"header\":{\"fill\":{\"color\":\"#C8D4E3\"},\"line\":{\"color\":\"white\"}},\"type\":\"table\"}],\"barpolar\":[{\"marker\":{\"line\":{\"color\":\"#E5ECF6\",\"width\":0.5},\"pattern\":{\"fillmode\":\"overlay\",\"size\":10,\"solidity\":0.2}},\"type\":\"barpolar\"}],\"pie\":[{\"automargin\":true,\"type\":\"pie\"}]},\"layout\":{\"autotypenumbers\":\"strict\",\"colorway\":[\"#636efa\",\"#EF553B\",\"#00cc96\",\"#ab63fa\",\"#FFA15A\",\"#19d3f3\",\"#FF6692\",\"#B6E880\",\"#FF97FF\",\"#FECB52\"],\"font\":{\"color\":\"#2a3f5f\"},\"hovermode\":\"closest\",\"hoverlabel\":{\"align\":\"left\"},\"paper_bgcolor\":\"white\",\"plot_bgcolor\":\"#E5ECF6\",\"polar\":{\"bgcolor\":\"#E5ECF6\",\"angularaxis\":{\"gridcolor\":\"white\",\"linecolor\":\"white\",\"ticks\":\"\"},\"radialaxis\":{\"gridcolor\":\"white\",\"linecolor\":\"white\",\"ticks\":\"\"}},\"ternary\":{\"bgcolor\":\"#E5ECF6\",\"aaxis\":{\"gridcolor\":\"white\",\"linecolor\":\"white\",\"ticks\":\"\"},\"baxis\":{\"gridcolor\":\"white\",\"linecolor\":\"white\",\"ticks\":\"\"},\"caxis\":{\"gridcolor\":\"white\",\"linecolor\":\"white\",\"ticks\":\"\"}},\"coloraxis\":{\"colorbar\":{\"outlinewidth\":0,\"ticks\":\"\"}},\"colorscale\":{\"sequential\":[[0.0,\"#0d0887\"],[0.1111111111111111,\"#46039f\"],[0.2222222222222222,\"#7201a8\"],[0.3333333333333333,\"#9c179e\"],[0.4444444444444444,\"#bd3786\"],[0.5555555555555556,\"#d8576b\"],[0.6666666666666666,\"#ed7953\"],[0.7777777777777778,\"#fb9f3a\"],[0.8888888888888888,\"#fdca26\"],[1.0,\"#f0f921\"]],\"sequentialminus\":[[0.0,\"#0d0887\"],[0.1111111111111111,\"#46039f\"],[0.2222222222222222,\"#7201a8\"],[0.3333333333333333,\"#9c179e\"],[0.4444444444444444,\"#bd3786\"],[0.5555555555555556,\"#d8576b\"],[0.6666666666666666,\"#ed7953\"],[0.7777777777777778,\"#fb9f3a\"],[0.8888888888888888,\"#fdca26\"],[1.0,\"#f0f921\"]],\"diverging\":[[0,\"#8e0152\"],[0.1,\"#c51b7d\"],[0.2,\"#de77ae\"],[0.3,\"#f1b6da\"],[0.4,\"#fde0ef\"],[0.5,\"#f7f7f7\"],[0.6,\"#e6f5d0\"],[0.7,\"#b8e186\"],[0.8,\"#7fbc41\"],[0.9,\"#4d9221\"],[1,\"#276419\"]]},\"xaxis\":{\"gridcolor\":\"white\",\"linecolor\":\"white\",\"ticks\":\"\",\"title\":{\"standoff\":15},\"zerolinecolor\":\"white\",\"automargin\":true,\"zerolinewidth\":2},\"yaxis\":{\"gridcolor\":\"white\",\"linecolor\":\"white\",\"ticks\":\"\",\"title\":{\"standoff\":15},\"zerolinecolor\":\"white\",\"automargin\":true,\"zerolinewidth\":2},\"scene\":{\"xaxis\":{\"backgroundcolor\":\"#E5ECF6\",\"gridcolor\":\"white\",\"linecolor\":\"white\",\"showbackground\":true,\"ticks\":\"\",\"zerolinecolor\":\"white\",\"gridwidth\":2},\"yaxis\":{\"backgroundcolor\":\"#E5ECF6\",\"gridcolor\":\"white\",\"linecolor\":\"white\",\"showbackground\":true,\"ticks\":\"\",\"zerolinecolor\":\"white\",\"gridwidth\":2},\"zaxis\":{\"backgroundcolor\":\"#E5ECF6\",\"gridcolor\":\"white\",\"linecolor\":\"white\",\"showbackground\":true,\"ticks\":\"\",\"zerolinecolor\":\"white\",\"gridwidth\":2}},\"shapedefaults\":{\"line\":{\"color\":\"#2a3f5f\"}},\"annotationdefaults\":{\"arrowcolor\":\"#2a3f5f\",\"arrowhead\":0,\"arrowwidth\":1},\"geo\":{\"bgcolor\":\"white\",\"landcolor\":\"#E5ECF6\",\"subunitcolor\":\"white\",\"showland\":true,\"showlakes\":true,\"lakecolor\":\"white\"},\"title\":{\"x\":0.05},\"mapbox\":{\"style\":\"light\"}}},\"xaxis\":{\"anchor\":\"y\",\"domain\":[0.0,1.0],\"title\":{\"text\":\"Accident_Count\"}},\"yaxis\":{\"anchor\":\"x\",\"domain\":[0.0,1.0],\"title\":{\"text\":\"Sunrise_Sunset\"}},\"legend\":{\"tracegroupgap\":0},\"margin\":{\"t\":60},\"barmode\":\"relative\"},                        {\"responsive\": true}                    ).then(function(){\n",
       "                            \n",
       "var gd = document.getElementById('84bd54e1-32f0-474d-9392-554bd7cf331c');\n",
       "var x = new MutationObserver(function (mutations, observer) {{\n",
       "        var display = window.getComputedStyle(gd).display;\n",
       "        if (!display || display === 'none') {{\n",
       "            console.log([gd, 'removed!']);\n",
       "            Plotly.purge(gd);\n",
       "            observer.disconnect();\n",
       "        }}\n",
       "}});\n",
       "\n",
       "// Listen for the removal of the full notebook cells\n",
       "var notebookContainer = gd.closest('#notebook-container');\n",
       "if (notebookContainer) {{\n",
       "    x.observe(notebookContainer, {childList: true});\n",
       "}}\n",
       "\n",
       "// Listen for the clearing of the current output cell\n",
       "var outputEl = gd.closest('.output');\n",
       "if (outputEl) {{\n",
       "    x.observe(outputEl, {childList: true});\n",
       "}}\n",
       "\n",
       "                        })                };                });            </script>        </div>"
      ]
     },
     "metadata": {},
     "output_type": "display_data"
    },
    {
     "data": {
      "application/vnd.plotly.v1+json": {
       "config": {
        "plotlyServerURL": "https://plot.ly"
       },
       "data": [
        {
         "alignmentgroup": "True",
         "hovertemplate": "Accident_Count=%{x}<br>Civil_Twilight=%{y}<extra></extra>",
         "legendgroup": "",
         "marker": {
          "color": "#636efa",
          "pattern": {
           "shape": ""
          }
         },
         "name": "",
         "offsetgroup": "",
         "orientation": "h",
         "showlegend": false,
         "textposition": "auto",
         "type": "bar",
         "x": [
          2025670,
          537999
         ],
         "xaxis": "x",
         "y": [
          "Day",
          "Night"
         ],
         "yaxis": "y"
        }
       ],
       "layout": {
        "barmode": "relative",
        "legend": {
         "tracegroupgap": 0
        },
        "margin": {
         "t": 60
        },
        "template": {
         "data": {
          "bar": [
           {
            "error_x": {
             "color": "#2a3f5f"
            },
            "error_y": {
             "color": "#2a3f5f"
            },
            "marker": {
             "line": {
              "color": "#E5ECF6",
              "width": 0.5
             },
             "pattern": {
              "fillmode": "overlay",
              "size": 10,
              "solidity": 0.2
             }
            },
            "type": "bar"
           }
          ],
          "barpolar": [
           {
            "marker": {
             "line": {
              "color": "#E5ECF6",
              "width": 0.5
             },
             "pattern": {
              "fillmode": "overlay",
              "size": 10,
              "solidity": 0.2
             }
            },
            "type": "barpolar"
           }
          ],
          "carpet": [
           {
            "aaxis": {
             "endlinecolor": "#2a3f5f",
             "gridcolor": "white",
             "linecolor": "white",
             "minorgridcolor": "white",
             "startlinecolor": "#2a3f5f"
            },
            "baxis": {
             "endlinecolor": "#2a3f5f",
             "gridcolor": "white",
             "linecolor": "white",
             "minorgridcolor": "white",
             "startlinecolor": "#2a3f5f"
            },
            "type": "carpet"
           }
          ],
          "choropleth": [
           {
            "colorbar": {
             "outlinewidth": 0,
             "ticks": ""
            },
            "type": "choropleth"
           }
          ],
          "contour": [
           {
            "colorbar": {
             "outlinewidth": 0,
             "ticks": ""
            },
            "colorscale": [
             [
              0,
              "#0d0887"
             ],
             [
              0.1111111111111111,
              "#46039f"
             ],
             [
              0.2222222222222222,
              "#7201a8"
             ],
             [
              0.3333333333333333,
              "#9c179e"
             ],
             [
              0.4444444444444444,
              "#bd3786"
             ],
             [
              0.5555555555555556,
              "#d8576b"
             ],
             [
              0.6666666666666666,
              "#ed7953"
             ],
             [
              0.7777777777777778,
              "#fb9f3a"
             ],
             [
              0.8888888888888888,
              "#fdca26"
             ],
             [
              1,
              "#f0f921"
             ]
            ],
            "type": "contour"
           }
          ],
          "contourcarpet": [
           {
            "colorbar": {
             "outlinewidth": 0,
             "ticks": ""
            },
            "type": "contourcarpet"
           }
          ],
          "heatmap": [
           {
            "colorbar": {
             "outlinewidth": 0,
             "ticks": ""
            },
            "colorscale": [
             [
              0,
              "#0d0887"
             ],
             [
              0.1111111111111111,
              "#46039f"
             ],
             [
              0.2222222222222222,
              "#7201a8"
             ],
             [
              0.3333333333333333,
              "#9c179e"
             ],
             [
              0.4444444444444444,
              "#bd3786"
             ],
             [
              0.5555555555555556,
              "#d8576b"
             ],
             [
              0.6666666666666666,
              "#ed7953"
             ],
             [
              0.7777777777777778,
              "#fb9f3a"
             ],
             [
              0.8888888888888888,
              "#fdca26"
             ],
             [
              1,
              "#f0f921"
             ]
            ],
            "type": "heatmap"
           }
          ],
          "heatmapgl": [
           {
            "colorbar": {
             "outlinewidth": 0,
             "ticks": ""
            },
            "colorscale": [
             [
              0,
              "#0d0887"
             ],
             [
              0.1111111111111111,
              "#46039f"
             ],
             [
              0.2222222222222222,
              "#7201a8"
             ],
             [
              0.3333333333333333,
              "#9c179e"
             ],
             [
              0.4444444444444444,
              "#bd3786"
             ],
             [
              0.5555555555555556,
              "#d8576b"
             ],
             [
              0.6666666666666666,
              "#ed7953"
             ],
             [
              0.7777777777777778,
              "#fb9f3a"
             ],
             [
              0.8888888888888888,
              "#fdca26"
             ],
             [
              1,
              "#f0f921"
             ]
            ],
            "type": "heatmapgl"
           }
          ],
          "histogram": [
           {
            "marker": {
             "pattern": {
              "fillmode": "overlay",
              "size": 10,
              "solidity": 0.2
             }
            },
            "type": "histogram"
           }
          ],
          "histogram2d": [
           {
            "colorbar": {
             "outlinewidth": 0,
             "ticks": ""
            },
            "colorscale": [
             [
              0,
              "#0d0887"
             ],
             [
              0.1111111111111111,
              "#46039f"
             ],
             [
              0.2222222222222222,
              "#7201a8"
             ],
             [
              0.3333333333333333,
              "#9c179e"
             ],
             [
              0.4444444444444444,
              "#bd3786"
             ],
             [
              0.5555555555555556,
              "#d8576b"
             ],
             [
              0.6666666666666666,
              "#ed7953"
             ],
             [
              0.7777777777777778,
              "#fb9f3a"
             ],
             [
              0.8888888888888888,
              "#fdca26"
             ],
             [
              1,
              "#f0f921"
             ]
            ],
            "type": "histogram2d"
           }
          ],
          "histogram2dcontour": [
           {
            "colorbar": {
             "outlinewidth": 0,
             "ticks": ""
            },
            "colorscale": [
             [
              0,
              "#0d0887"
             ],
             [
              0.1111111111111111,
              "#46039f"
             ],
             [
              0.2222222222222222,
              "#7201a8"
             ],
             [
              0.3333333333333333,
              "#9c179e"
             ],
             [
              0.4444444444444444,
              "#bd3786"
             ],
             [
              0.5555555555555556,
              "#d8576b"
             ],
             [
              0.6666666666666666,
              "#ed7953"
             ],
             [
              0.7777777777777778,
              "#fb9f3a"
             ],
             [
              0.8888888888888888,
              "#fdca26"
             ],
             [
              1,
              "#f0f921"
             ]
            ],
            "type": "histogram2dcontour"
           }
          ],
          "mesh3d": [
           {
            "colorbar": {
             "outlinewidth": 0,
             "ticks": ""
            },
            "type": "mesh3d"
           }
          ],
          "parcoords": [
           {
            "line": {
             "colorbar": {
              "outlinewidth": 0,
              "ticks": ""
             }
            },
            "type": "parcoords"
           }
          ],
          "pie": [
           {
            "automargin": true,
            "type": "pie"
           }
          ],
          "scatter": [
           {
            "fillpattern": {
             "fillmode": "overlay",
             "size": 10,
             "solidity": 0.2
            },
            "type": "scatter"
           }
          ],
          "scatter3d": [
           {
            "line": {
             "colorbar": {
              "outlinewidth": 0,
              "ticks": ""
             }
            },
            "marker": {
             "colorbar": {
              "outlinewidth": 0,
              "ticks": ""
             }
            },
            "type": "scatter3d"
           }
          ],
          "scattercarpet": [
           {
            "marker": {
             "colorbar": {
              "outlinewidth": 0,
              "ticks": ""
             }
            },
            "type": "scattercarpet"
           }
          ],
          "scattergeo": [
           {
            "marker": {
             "colorbar": {
              "outlinewidth": 0,
              "ticks": ""
             }
            },
            "type": "scattergeo"
           }
          ],
          "scattergl": [
           {
            "marker": {
             "colorbar": {
              "outlinewidth": 0,
              "ticks": ""
             }
            },
            "type": "scattergl"
           }
          ],
          "scattermapbox": [
           {
            "marker": {
             "colorbar": {
              "outlinewidth": 0,
              "ticks": ""
             }
            },
            "type": "scattermapbox"
           }
          ],
          "scatterpolar": [
           {
            "marker": {
             "colorbar": {
              "outlinewidth": 0,
              "ticks": ""
             }
            },
            "type": "scatterpolar"
           }
          ],
          "scatterpolargl": [
           {
            "marker": {
             "colorbar": {
              "outlinewidth": 0,
              "ticks": ""
             }
            },
            "type": "scatterpolargl"
           }
          ],
          "scatterternary": [
           {
            "marker": {
             "colorbar": {
              "outlinewidth": 0,
              "ticks": ""
             }
            },
            "type": "scatterternary"
           }
          ],
          "surface": [
           {
            "colorbar": {
             "outlinewidth": 0,
             "ticks": ""
            },
            "colorscale": [
             [
              0,
              "#0d0887"
             ],
             [
              0.1111111111111111,
              "#46039f"
             ],
             [
              0.2222222222222222,
              "#7201a8"
             ],
             [
              0.3333333333333333,
              "#9c179e"
             ],
             [
              0.4444444444444444,
              "#bd3786"
             ],
             [
              0.5555555555555556,
              "#d8576b"
             ],
             [
              0.6666666666666666,
              "#ed7953"
             ],
             [
              0.7777777777777778,
              "#fb9f3a"
             ],
             [
              0.8888888888888888,
              "#fdca26"
             ],
             [
              1,
              "#f0f921"
             ]
            ],
            "type": "surface"
           }
          ],
          "table": [
           {
            "cells": {
             "fill": {
              "color": "#EBF0F8"
             },
             "line": {
              "color": "white"
             }
            },
            "header": {
             "fill": {
              "color": "#C8D4E3"
             },
             "line": {
              "color": "white"
             }
            },
            "type": "table"
           }
          ]
         },
         "layout": {
          "annotationdefaults": {
           "arrowcolor": "#2a3f5f",
           "arrowhead": 0,
           "arrowwidth": 1
          },
          "autotypenumbers": "strict",
          "coloraxis": {
           "colorbar": {
            "outlinewidth": 0,
            "ticks": ""
           }
          },
          "colorscale": {
           "diverging": [
            [
             0,
             "#8e0152"
            ],
            [
             0.1,
             "#c51b7d"
            ],
            [
             0.2,
             "#de77ae"
            ],
            [
             0.3,
             "#f1b6da"
            ],
            [
             0.4,
             "#fde0ef"
            ],
            [
             0.5,
             "#f7f7f7"
            ],
            [
             0.6,
             "#e6f5d0"
            ],
            [
             0.7,
             "#b8e186"
            ],
            [
             0.8,
             "#7fbc41"
            ],
            [
             0.9,
             "#4d9221"
            ],
            [
             1,
             "#276419"
            ]
           ],
           "sequential": [
            [
             0,
             "#0d0887"
            ],
            [
             0.1111111111111111,
             "#46039f"
            ],
            [
             0.2222222222222222,
             "#7201a8"
            ],
            [
             0.3333333333333333,
             "#9c179e"
            ],
            [
             0.4444444444444444,
             "#bd3786"
            ],
            [
             0.5555555555555556,
             "#d8576b"
            ],
            [
             0.6666666666666666,
             "#ed7953"
            ],
            [
             0.7777777777777778,
             "#fb9f3a"
            ],
            [
             0.8888888888888888,
             "#fdca26"
            ],
            [
             1,
             "#f0f921"
            ]
           ],
           "sequentialminus": [
            [
             0,
             "#0d0887"
            ],
            [
             0.1111111111111111,
             "#46039f"
            ],
            [
             0.2222222222222222,
             "#7201a8"
            ],
            [
             0.3333333333333333,
             "#9c179e"
            ],
            [
             0.4444444444444444,
             "#bd3786"
            ],
            [
             0.5555555555555556,
             "#d8576b"
            ],
            [
             0.6666666666666666,
             "#ed7953"
            ],
            [
             0.7777777777777778,
             "#fb9f3a"
            ],
            [
             0.8888888888888888,
             "#fdca26"
            ],
            [
             1,
             "#f0f921"
            ]
           ]
          },
          "colorway": [
           "#636efa",
           "#EF553B",
           "#00cc96",
           "#ab63fa",
           "#FFA15A",
           "#19d3f3",
           "#FF6692",
           "#B6E880",
           "#FF97FF",
           "#FECB52"
          ],
          "font": {
           "color": "#2a3f5f"
          },
          "geo": {
           "bgcolor": "white",
           "lakecolor": "white",
           "landcolor": "#E5ECF6",
           "showlakes": true,
           "showland": true,
           "subunitcolor": "white"
          },
          "hoverlabel": {
           "align": "left"
          },
          "hovermode": "closest",
          "mapbox": {
           "style": "light"
          },
          "paper_bgcolor": "white",
          "plot_bgcolor": "#E5ECF6",
          "polar": {
           "angularaxis": {
            "gridcolor": "white",
            "linecolor": "white",
            "ticks": ""
           },
           "bgcolor": "#E5ECF6",
           "radialaxis": {
            "gridcolor": "white",
            "linecolor": "white",
            "ticks": ""
           }
          },
          "scene": {
           "xaxis": {
            "backgroundcolor": "#E5ECF6",
            "gridcolor": "white",
            "gridwidth": 2,
            "linecolor": "white",
            "showbackground": true,
            "ticks": "",
            "zerolinecolor": "white"
           },
           "yaxis": {
            "backgroundcolor": "#E5ECF6",
            "gridcolor": "white",
            "gridwidth": 2,
            "linecolor": "white",
            "showbackground": true,
            "ticks": "",
            "zerolinecolor": "white"
           },
           "zaxis": {
            "backgroundcolor": "#E5ECF6",
            "gridcolor": "white",
            "gridwidth": 2,
            "linecolor": "white",
            "showbackground": true,
            "ticks": "",
            "zerolinecolor": "white"
           }
          },
          "shapedefaults": {
           "line": {
            "color": "#2a3f5f"
           }
          },
          "ternary": {
           "aaxis": {
            "gridcolor": "white",
            "linecolor": "white",
            "ticks": ""
           },
           "baxis": {
            "gridcolor": "white",
            "linecolor": "white",
            "ticks": ""
           },
           "bgcolor": "#E5ECF6",
           "caxis": {
            "gridcolor": "white",
            "linecolor": "white",
            "ticks": ""
           }
          },
          "title": {
           "x": 0.05
          },
          "xaxis": {
           "automargin": true,
           "gridcolor": "white",
           "linecolor": "white",
           "ticks": "",
           "title": {
            "standoff": 15
           },
           "zerolinecolor": "white",
           "zerolinewidth": 2
          },
          "yaxis": {
           "automargin": true,
           "gridcolor": "white",
           "linecolor": "white",
           "ticks": "",
           "title": {
            "standoff": 15
           },
           "zerolinecolor": "white",
           "zerolinewidth": 2
          }
         }
        },
        "xaxis": {
         "anchor": "y",
         "domain": [
          0,
          1
         ],
         "title": {
          "text": "Accident_Count"
         }
        },
        "yaxis": {
         "anchor": "x",
         "domain": [
          0,
          1
         ],
         "title": {
          "text": "Civil_Twilight"
         }
        }
       }
      },
      "text/html": [
       "<div>                            <div id=\"f5c38e7a-64eb-47d2-b8d1-eb1f4459c622\" class=\"plotly-graph-div\" style=\"height:525px; width:100%;\"></div>            <script type=\"text/javascript\">                require([\"plotly\"], function(Plotly) {                    window.PLOTLYENV=window.PLOTLYENV || {};                                    if (document.getElementById(\"f5c38e7a-64eb-47d2-b8d1-eb1f4459c622\")) {                    Plotly.newPlot(                        \"f5c38e7a-64eb-47d2-b8d1-eb1f4459c622\",                        [{\"alignmentgroup\":\"True\",\"hovertemplate\":\"Accident_Count=%{x}<br>Civil_Twilight=%{y}<extra></extra>\",\"legendgroup\":\"\",\"marker\":{\"color\":\"#636efa\",\"pattern\":{\"shape\":\"\"}},\"name\":\"\",\"offsetgroup\":\"\",\"orientation\":\"h\",\"showlegend\":false,\"textposition\":\"auto\",\"x\":[2025670,537999],\"xaxis\":\"x\",\"y\":[\"Day\",\"Night\"],\"yaxis\":\"y\",\"type\":\"bar\"}],                        {\"template\":{\"data\":{\"histogram2dcontour\":[{\"type\":\"histogram2dcontour\",\"colorbar\":{\"outlinewidth\":0,\"ticks\":\"\"},\"colorscale\":[[0.0,\"#0d0887\"],[0.1111111111111111,\"#46039f\"],[0.2222222222222222,\"#7201a8\"],[0.3333333333333333,\"#9c179e\"],[0.4444444444444444,\"#bd3786\"],[0.5555555555555556,\"#d8576b\"],[0.6666666666666666,\"#ed7953\"],[0.7777777777777778,\"#fb9f3a\"],[0.8888888888888888,\"#fdca26\"],[1.0,\"#f0f921\"]]}],\"choropleth\":[{\"type\":\"choropleth\",\"colorbar\":{\"outlinewidth\":0,\"ticks\":\"\"}}],\"histogram2d\":[{\"type\":\"histogram2d\",\"colorbar\":{\"outlinewidth\":0,\"ticks\":\"\"},\"colorscale\":[[0.0,\"#0d0887\"],[0.1111111111111111,\"#46039f\"],[0.2222222222222222,\"#7201a8\"],[0.3333333333333333,\"#9c179e\"],[0.4444444444444444,\"#bd3786\"],[0.5555555555555556,\"#d8576b\"],[0.6666666666666666,\"#ed7953\"],[0.7777777777777778,\"#fb9f3a\"],[0.8888888888888888,\"#fdca26\"],[1.0,\"#f0f921\"]]}],\"heatmap\":[{\"type\":\"heatmap\",\"colorbar\":{\"outlinewidth\":0,\"ticks\":\"\"},\"colorscale\":[[0.0,\"#0d0887\"],[0.1111111111111111,\"#46039f\"],[0.2222222222222222,\"#7201a8\"],[0.3333333333333333,\"#9c179e\"],[0.4444444444444444,\"#bd3786\"],[0.5555555555555556,\"#d8576b\"],[0.6666666666666666,\"#ed7953\"],[0.7777777777777778,\"#fb9f3a\"],[0.8888888888888888,\"#fdca26\"],[1.0,\"#f0f921\"]]}],\"heatmapgl\":[{\"type\":\"heatmapgl\",\"colorbar\":{\"outlinewidth\":0,\"ticks\":\"\"},\"colorscale\":[[0.0,\"#0d0887\"],[0.1111111111111111,\"#46039f\"],[0.2222222222222222,\"#7201a8\"],[0.3333333333333333,\"#9c179e\"],[0.4444444444444444,\"#bd3786\"],[0.5555555555555556,\"#d8576b\"],[0.6666666666666666,\"#ed7953\"],[0.7777777777777778,\"#fb9f3a\"],[0.8888888888888888,\"#fdca26\"],[1.0,\"#f0f921\"]]}],\"contourcarpet\":[{\"type\":\"contourcarpet\",\"colorbar\":{\"outlinewidth\":0,\"ticks\":\"\"}}],\"contour\":[{\"type\":\"contour\",\"colorbar\":{\"outlinewidth\":0,\"ticks\":\"\"},\"colorscale\":[[0.0,\"#0d0887\"],[0.1111111111111111,\"#46039f\"],[0.2222222222222222,\"#7201a8\"],[0.3333333333333333,\"#9c179e\"],[0.4444444444444444,\"#bd3786\"],[0.5555555555555556,\"#d8576b\"],[0.6666666666666666,\"#ed7953\"],[0.7777777777777778,\"#fb9f3a\"],[0.8888888888888888,\"#fdca26\"],[1.0,\"#f0f921\"]]}],\"surface\":[{\"type\":\"surface\",\"colorbar\":{\"outlinewidth\":0,\"ticks\":\"\"},\"colorscale\":[[0.0,\"#0d0887\"],[0.1111111111111111,\"#46039f\"],[0.2222222222222222,\"#7201a8\"],[0.3333333333333333,\"#9c179e\"],[0.4444444444444444,\"#bd3786\"],[0.5555555555555556,\"#d8576b\"],[0.6666666666666666,\"#ed7953\"],[0.7777777777777778,\"#fb9f3a\"],[0.8888888888888888,\"#fdca26\"],[1.0,\"#f0f921\"]]}],\"mesh3d\":[{\"type\":\"mesh3d\",\"colorbar\":{\"outlinewidth\":0,\"ticks\":\"\"}}],\"scatter\":[{\"fillpattern\":{\"fillmode\":\"overlay\",\"size\":10,\"solidity\":0.2},\"type\":\"scatter\"}],\"parcoords\":[{\"type\":\"parcoords\",\"line\":{\"colorbar\":{\"outlinewidth\":0,\"ticks\":\"\"}}}],\"scatterpolargl\":[{\"type\":\"scatterpolargl\",\"marker\":{\"colorbar\":{\"outlinewidth\":0,\"ticks\":\"\"}}}],\"bar\":[{\"error_x\":{\"color\":\"#2a3f5f\"},\"error_y\":{\"color\":\"#2a3f5f\"},\"marker\":{\"line\":{\"color\":\"#E5ECF6\",\"width\":0.5},\"pattern\":{\"fillmode\":\"overlay\",\"size\":10,\"solidity\":0.2}},\"type\":\"bar\"}],\"scattergeo\":[{\"type\":\"scattergeo\",\"marker\":{\"colorbar\":{\"outlinewidth\":0,\"ticks\":\"\"}}}],\"scatterpolar\":[{\"type\":\"scatterpolar\",\"marker\":{\"colorbar\":{\"outlinewidth\":0,\"ticks\":\"\"}}}],\"histogram\":[{\"marker\":{\"pattern\":{\"fillmode\":\"overlay\",\"size\":10,\"solidity\":0.2}},\"type\":\"histogram\"}],\"scattergl\":[{\"type\":\"scattergl\",\"marker\":{\"colorbar\":{\"outlinewidth\":0,\"ticks\":\"\"}}}],\"scatter3d\":[{\"type\":\"scatter3d\",\"line\":{\"colorbar\":{\"outlinewidth\":0,\"ticks\":\"\"}},\"marker\":{\"colorbar\":{\"outlinewidth\":0,\"ticks\":\"\"}}}],\"scattermapbox\":[{\"type\":\"scattermapbox\",\"marker\":{\"colorbar\":{\"outlinewidth\":0,\"ticks\":\"\"}}}],\"scatterternary\":[{\"type\":\"scatterternary\",\"marker\":{\"colorbar\":{\"outlinewidth\":0,\"ticks\":\"\"}}}],\"scattercarpet\":[{\"type\":\"scattercarpet\",\"marker\":{\"colorbar\":{\"outlinewidth\":0,\"ticks\":\"\"}}}],\"carpet\":[{\"aaxis\":{\"endlinecolor\":\"#2a3f5f\",\"gridcolor\":\"white\",\"linecolor\":\"white\",\"minorgridcolor\":\"white\",\"startlinecolor\":\"#2a3f5f\"},\"baxis\":{\"endlinecolor\":\"#2a3f5f\",\"gridcolor\":\"white\",\"linecolor\":\"white\",\"minorgridcolor\":\"white\",\"startlinecolor\":\"#2a3f5f\"},\"type\":\"carpet\"}],\"table\":[{\"cells\":{\"fill\":{\"color\":\"#EBF0F8\"},\"line\":{\"color\":\"white\"}},\"header\":{\"fill\":{\"color\":\"#C8D4E3\"},\"line\":{\"color\":\"white\"}},\"type\":\"table\"}],\"barpolar\":[{\"marker\":{\"line\":{\"color\":\"#E5ECF6\",\"width\":0.5},\"pattern\":{\"fillmode\":\"overlay\",\"size\":10,\"solidity\":0.2}},\"type\":\"barpolar\"}],\"pie\":[{\"automargin\":true,\"type\":\"pie\"}]},\"layout\":{\"autotypenumbers\":\"strict\",\"colorway\":[\"#636efa\",\"#EF553B\",\"#00cc96\",\"#ab63fa\",\"#FFA15A\",\"#19d3f3\",\"#FF6692\",\"#B6E880\",\"#FF97FF\",\"#FECB52\"],\"font\":{\"color\":\"#2a3f5f\"},\"hovermode\":\"closest\",\"hoverlabel\":{\"align\":\"left\"},\"paper_bgcolor\":\"white\",\"plot_bgcolor\":\"#E5ECF6\",\"polar\":{\"bgcolor\":\"#E5ECF6\",\"angularaxis\":{\"gridcolor\":\"white\",\"linecolor\":\"white\",\"ticks\":\"\"},\"radialaxis\":{\"gridcolor\":\"white\",\"linecolor\":\"white\",\"ticks\":\"\"}},\"ternary\":{\"bgcolor\":\"#E5ECF6\",\"aaxis\":{\"gridcolor\":\"white\",\"linecolor\":\"white\",\"ticks\":\"\"},\"baxis\":{\"gridcolor\":\"white\",\"linecolor\":\"white\",\"ticks\":\"\"},\"caxis\":{\"gridcolor\":\"white\",\"linecolor\":\"white\",\"ticks\":\"\"}},\"coloraxis\":{\"colorbar\":{\"outlinewidth\":0,\"ticks\":\"\"}},\"colorscale\":{\"sequential\":[[0.0,\"#0d0887\"],[0.1111111111111111,\"#46039f\"],[0.2222222222222222,\"#7201a8\"],[0.3333333333333333,\"#9c179e\"],[0.4444444444444444,\"#bd3786\"],[0.5555555555555556,\"#d8576b\"],[0.6666666666666666,\"#ed7953\"],[0.7777777777777778,\"#fb9f3a\"],[0.8888888888888888,\"#fdca26\"],[1.0,\"#f0f921\"]],\"sequentialminus\":[[0.0,\"#0d0887\"],[0.1111111111111111,\"#46039f\"],[0.2222222222222222,\"#7201a8\"],[0.3333333333333333,\"#9c179e\"],[0.4444444444444444,\"#bd3786\"],[0.5555555555555556,\"#d8576b\"],[0.6666666666666666,\"#ed7953\"],[0.7777777777777778,\"#fb9f3a\"],[0.8888888888888888,\"#fdca26\"],[1.0,\"#f0f921\"]],\"diverging\":[[0,\"#8e0152\"],[0.1,\"#c51b7d\"],[0.2,\"#de77ae\"],[0.3,\"#f1b6da\"],[0.4,\"#fde0ef\"],[0.5,\"#f7f7f7\"],[0.6,\"#e6f5d0\"],[0.7,\"#b8e186\"],[0.8,\"#7fbc41\"],[0.9,\"#4d9221\"],[1,\"#276419\"]]},\"xaxis\":{\"gridcolor\":\"white\",\"linecolor\":\"white\",\"ticks\":\"\",\"title\":{\"standoff\":15},\"zerolinecolor\":\"white\",\"automargin\":true,\"zerolinewidth\":2},\"yaxis\":{\"gridcolor\":\"white\",\"linecolor\":\"white\",\"ticks\":\"\",\"title\":{\"standoff\":15},\"zerolinecolor\":\"white\",\"automargin\":true,\"zerolinewidth\":2},\"scene\":{\"xaxis\":{\"backgroundcolor\":\"#E5ECF6\",\"gridcolor\":\"white\",\"linecolor\":\"white\",\"showbackground\":true,\"ticks\":\"\",\"zerolinecolor\":\"white\",\"gridwidth\":2},\"yaxis\":{\"backgroundcolor\":\"#E5ECF6\",\"gridcolor\":\"white\",\"linecolor\":\"white\",\"showbackground\":true,\"ticks\":\"\",\"zerolinecolor\":\"white\",\"gridwidth\":2},\"zaxis\":{\"backgroundcolor\":\"#E5ECF6\",\"gridcolor\":\"white\",\"linecolor\":\"white\",\"showbackground\":true,\"ticks\":\"\",\"zerolinecolor\":\"white\",\"gridwidth\":2}},\"shapedefaults\":{\"line\":{\"color\":\"#2a3f5f\"}},\"annotationdefaults\":{\"arrowcolor\":\"#2a3f5f\",\"arrowhead\":0,\"arrowwidth\":1},\"geo\":{\"bgcolor\":\"white\",\"landcolor\":\"#E5ECF6\",\"subunitcolor\":\"white\",\"showland\":true,\"showlakes\":true,\"lakecolor\":\"white\"},\"title\":{\"x\":0.05},\"mapbox\":{\"style\":\"light\"}}},\"xaxis\":{\"anchor\":\"y\",\"domain\":[0.0,1.0],\"title\":{\"text\":\"Accident_Count\"}},\"yaxis\":{\"anchor\":\"x\",\"domain\":[0.0,1.0],\"title\":{\"text\":\"Civil_Twilight\"}},\"legend\":{\"tracegroupgap\":0},\"margin\":{\"t\":60},\"barmode\":\"relative\"},                        {\"responsive\": true}                    ).then(function(){\n",
       "                            \n",
       "var gd = document.getElementById('f5c38e7a-64eb-47d2-b8d1-eb1f4459c622');\n",
       "var x = new MutationObserver(function (mutations, observer) {{\n",
       "        var display = window.getComputedStyle(gd).display;\n",
       "        if (!display || display === 'none') {{\n",
       "            console.log([gd, 'removed!']);\n",
       "            Plotly.purge(gd);\n",
       "            observer.disconnect();\n",
       "        }}\n",
       "}});\n",
       "\n",
       "// Listen for the removal of the full notebook cells\n",
       "var notebookContainer = gd.closest('#notebook-container');\n",
       "if (notebookContainer) {{\n",
       "    x.observe(notebookContainer, {childList: true});\n",
       "}}\n",
       "\n",
       "// Listen for the clearing of the current output cell\n",
       "var outputEl = gd.closest('.output');\n",
       "if (outputEl) {{\n",
       "    x.observe(outputEl, {childList: true});\n",
       "}}\n",
       "\n",
       "                        })                };                });            </script>        </div>"
      ]
     },
     "metadata": {},
     "output_type": "display_data"
    },
    {
     "data": {
      "application/vnd.plotly.v1+json": {
       "config": {
        "plotlyServerURL": "https://plot.ly"
       },
       "data": [
        {
         "alignmentgroup": "True",
         "hovertemplate": "Accident_Count=%{x}<br>Nautical_Twilight=%{y}<extra></extra>",
         "legendgroup": "",
         "marker": {
          "color": "#636efa",
          "pattern": {
           "shape": ""
          }
         },
         "name": "",
         "offsetgroup": "",
         "orientation": "h",
         "showlegend": false,
         "textposition": "auto",
         "type": "bar",
         "x": [
          2156119,
          407550
         ],
         "xaxis": "x",
         "y": [
          "Day",
          "Night"
         ],
         "yaxis": "y"
        }
       ],
       "layout": {
        "barmode": "relative",
        "legend": {
         "tracegroupgap": 0
        },
        "margin": {
         "t": 60
        },
        "template": {
         "data": {
          "bar": [
           {
            "error_x": {
             "color": "#2a3f5f"
            },
            "error_y": {
             "color": "#2a3f5f"
            },
            "marker": {
             "line": {
              "color": "#E5ECF6",
              "width": 0.5
             },
             "pattern": {
              "fillmode": "overlay",
              "size": 10,
              "solidity": 0.2
             }
            },
            "type": "bar"
           }
          ],
          "barpolar": [
           {
            "marker": {
             "line": {
              "color": "#E5ECF6",
              "width": 0.5
             },
             "pattern": {
              "fillmode": "overlay",
              "size": 10,
              "solidity": 0.2
             }
            },
            "type": "barpolar"
           }
          ],
          "carpet": [
           {
            "aaxis": {
             "endlinecolor": "#2a3f5f",
             "gridcolor": "white",
             "linecolor": "white",
             "minorgridcolor": "white",
             "startlinecolor": "#2a3f5f"
            },
            "baxis": {
             "endlinecolor": "#2a3f5f",
             "gridcolor": "white",
             "linecolor": "white",
             "minorgridcolor": "white",
             "startlinecolor": "#2a3f5f"
            },
            "type": "carpet"
           }
          ],
          "choropleth": [
           {
            "colorbar": {
             "outlinewidth": 0,
             "ticks": ""
            },
            "type": "choropleth"
           }
          ],
          "contour": [
           {
            "colorbar": {
             "outlinewidth": 0,
             "ticks": ""
            },
            "colorscale": [
             [
              0,
              "#0d0887"
             ],
             [
              0.1111111111111111,
              "#46039f"
             ],
             [
              0.2222222222222222,
              "#7201a8"
             ],
             [
              0.3333333333333333,
              "#9c179e"
             ],
             [
              0.4444444444444444,
              "#bd3786"
             ],
             [
              0.5555555555555556,
              "#d8576b"
             ],
             [
              0.6666666666666666,
              "#ed7953"
             ],
             [
              0.7777777777777778,
              "#fb9f3a"
             ],
             [
              0.8888888888888888,
              "#fdca26"
             ],
             [
              1,
              "#f0f921"
             ]
            ],
            "type": "contour"
           }
          ],
          "contourcarpet": [
           {
            "colorbar": {
             "outlinewidth": 0,
             "ticks": ""
            },
            "type": "contourcarpet"
           }
          ],
          "heatmap": [
           {
            "colorbar": {
             "outlinewidth": 0,
             "ticks": ""
            },
            "colorscale": [
             [
              0,
              "#0d0887"
             ],
             [
              0.1111111111111111,
              "#46039f"
             ],
             [
              0.2222222222222222,
              "#7201a8"
             ],
             [
              0.3333333333333333,
              "#9c179e"
             ],
             [
              0.4444444444444444,
              "#bd3786"
             ],
             [
              0.5555555555555556,
              "#d8576b"
             ],
             [
              0.6666666666666666,
              "#ed7953"
             ],
             [
              0.7777777777777778,
              "#fb9f3a"
             ],
             [
              0.8888888888888888,
              "#fdca26"
             ],
             [
              1,
              "#f0f921"
             ]
            ],
            "type": "heatmap"
           }
          ],
          "heatmapgl": [
           {
            "colorbar": {
             "outlinewidth": 0,
             "ticks": ""
            },
            "colorscale": [
             [
              0,
              "#0d0887"
             ],
             [
              0.1111111111111111,
              "#46039f"
             ],
             [
              0.2222222222222222,
              "#7201a8"
             ],
             [
              0.3333333333333333,
              "#9c179e"
             ],
             [
              0.4444444444444444,
              "#bd3786"
             ],
             [
              0.5555555555555556,
              "#d8576b"
             ],
             [
              0.6666666666666666,
              "#ed7953"
             ],
             [
              0.7777777777777778,
              "#fb9f3a"
             ],
             [
              0.8888888888888888,
              "#fdca26"
             ],
             [
              1,
              "#f0f921"
             ]
            ],
            "type": "heatmapgl"
           }
          ],
          "histogram": [
           {
            "marker": {
             "pattern": {
              "fillmode": "overlay",
              "size": 10,
              "solidity": 0.2
             }
            },
            "type": "histogram"
           }
          ],
          "histogram2d": [
           {
            "colorbar": {
             "outlinewidth": 0,
             "ticks": ""
            },
            "colorscale": [
             [
              0,
              "#0d0887"
             ],
             [
              0.1111111111111111,
              "#46039f"
             ],
             [
              0.2222222222222222,
              "#7201a8"
             ],
             [
              0.3333333333333333,
              "#9c179e"
             ],
             [
              0.4444444444444444,
              "#bd3786"
             ],
             [
              0.5555555555555556,
              "#d8576b"
             ],
             [
              0.6666666666666666,
              "#ed7953"
             ],
             [
              0.7777777777777778,
              "#fb9f3a"
             ],
             [
              0.8888888888888888,
              "#fdca26"
             ],
             [
              1,
              "#f0f921"
             ]
            ],
            "type": "histogram2d"
           }
          ],
          "histogram2dcontour": [
           {
            "colorbar": {
             "outlinewidth": 0,
             "ticks": ""
            },
            "colorscale": [
             [
              0,
              "#0d0887"
             ],
             [
              0.1111111111111111,
              "#46039f"
             ],
             [
              0.2222222222222222,
              "#7201a8"
             ],
             [
              0.3333333333333333,
              "#9c179e"
             ],
             [
              0.4444444444444444,
              "#bd3786"
             ],
             [
              0.5555555555555556,
              "#d8576b"
             ],
             [
              0.6666666666666666,
              "#ed7953"
             ],
             [
              0.7777777777777778,
              "#fb9f3a"
             ],
             [
              0.8888888888888888,
              "#fdca26"
             ],
             [
              1,
              "#f0f921"
             ]
            ],
            "type": "histogram2dcontour"
           }
          ],
          "mesh3d": [
           {
            "colorbar": {
             "outlinewidth": 0,
             "ticks": ""
            },
            "type": "mesh3d"
           }
          ],
          "parcoords": [
           {
            "line": {
             "colorbar": {
              "outlinewidth": 0,
              "ticks": ""
             }
            },
            "type": "parcoords"
           }
          ],
          "pie": [
           {
            "automargin": true,
            "type": "pie"
           }
          ],
          "scatter": [
           {
            "fillpattern": {
             "fillmode": "overlay",
             "size": 10,
             "solidity": 0.2
            },
            "type": "scatter"
           }
          ],
          "scatter3d": [
           {
            "line": {
             "colorbar": {
              "outlinewidth": 0,
              "ticks": ""
             }
            },
            "marker": {
             "colorbar": {
              "outlinewidth": 0,
              "ticks": ""
             }
            },
            "type": "scatter3d"
           }
          ],
          "scattercarpet": [
           {
            "marker": {
             "colorbar": {
              "outlinewidth": 0,
              "ticks": ""
             }
            },
            "type": "scattercarpet"
           }
          ],
          "scattergeo": [
           {
            "marker": {
             "colorbar": {
              "outlinewidth": 0,
              "ticks": ""
             }
            },
            "type": "scattergeo"
           }
          ],
          "scattergl": [
           {
            "marker": {
             "colorbar": {
              "outlinewidth": 0,
              "ticks": ""
             }
            },
            "type": "scattergl"
           }
          ],
          "scattermapbox": [
           {
            "marker": {
             "colorbar": {
              "outlinewidth": 0,
              "ticks": ""
             }
            },
            "type": "scattermapbox"
           }
          ],
          "scatterpolar": [
           {
            "marker": {
             "colorbar": {
              "outlinewidth": 0,
              "ticks": ""
             }
            },
            "type": "scatterpolar"
           }
          ],
          "scatterpolargl": [
           {
            "marker": {
             "colorbar": {
              "outlinewidth": 0,
              "ticks": ""
             }
            },
            "type": "scatterpolargl"
           }
          ],
          "scatterternary": [
           {
            "marker": {
             "colorbar": {
              "outlinewidth": 0,
              "ticks": ""
             }
            },
            "type": "scatterternary"
           }
          ],
          "surface": [
           {
            "colorbar": {
             "outlinewidth": 0,
             "ticks": ""
            },
            "colorscale": [
             [
              0,
              "#0d0887"
             ],
             [
              0.1111111111111111,
              "#46039f"
             ],
             [
              0.2222222222222222,
              "#7201a8"
             ],
             [
              0.3333333333333333,
              "#9c179e"
             ],
             [
              0.4444444444444444,
              "#bd3786"
             ],
             [
              0.5555555555555556,
              "#d8576b"
             ],
             [
              0.6666666666666666,
              "#ed7953"
             ],
             [
              0.7777777777777778,
              "#fb9f3a"
             ],
             [
              0.8888888888888888,
              "#fdca26"
             ],
             [
              1,
              "#f0f921"
             ]
            ],
            "type": "surface"
           }
          ],
          "table": [
           {
            "cells": {
             "fill": {
              "color": "#EBF0F8"
             },
             "line": {
              "color": "white"
             }
            },
            "header": {
             "fill": {
              "color": "#C8D4E3"
             },
             "line": {
              "color": "white"
             }
            },
            "type": "table"
           }
          ]
         },
         "layout": {
          "annotationdefaults": {
           "arrowcolor": "#2a3f5f",
           "arrowhead": 0,
           "arrowwidth": 1
          },
          "autotypenumbers": "strict",
          "coloraxis": {
           "colorbar": {
            "outlinewidth": 0,
            "ticks": ""
           }
          },
          "colorscale": {
           "diverging": [
            [
             0,
             "#8e0152"
            ],
            [
             0.1,
             "#c51b7d"
            ],
            [
             0.2,
             "#de77ae"
            ],
            [
             0.3,
             "#f1b6da"
            ],
            [
             0.4,
             "#fde0ef"
            ],
            [
             0.5,
             "#f7f7f7"
            ],
            [
             0.6,
             "#e6f5d0"
            ],
            [
             0.7,
             "#b8e186"
            ],
            [
             0.8,
             "#7fbc41"
            ],
            [
             0.9,
             "#4d9221"
            ],
            [
             1,
             "#276419"
            ]
           ],
           "sequential": [
            [
             0,
             "#0d0887"
            ],
            [
             0.1111111111111111,
             "#46039f"
            ],
            [
             0.2222222222222222,
             "#7201a8"
            ],
            [
             0.3333333333333333,
             "#9c179e"
            ],
            [
             0.4444444444444444,
             "#bd3786"
            ],
            [
             0.5555555555555556,
             "#d8576b"
            ],
            [
             0.6666666666666666,
             "#ed7953"
            ],
            [
             0.7777777777777778,
             "#fb9f3a"
            ],
            [
             0.8888888888888888,
             "#fdca26"
            ],
            [
             1,
             "#f0f921"
            ]
           ],
           "sequentialminus": [
            [
             0,
             "#0d0887"
            ],
            [
             0.1111111111111111,
             "#46039f"
            ],
            [
             0.2222222222222222,
             "#7201a8"
            ],
            [
             0.3333333333333333,
             "#9c179e"
            ],
            [
             0.4444444444444444,
             "#bd3786"
            ],
            [
             0.5555555555555556,
             "#d8576b"
            ],
            [
             0.6666666666666666,
             "#ed7953"
            ],
            [
             0.7777777777777778,
             "#fb9f3a"
            ],
            [
             0.8888888888888888,
             "#fdca26"
            ],
            [
             1,
             "#f0f921"
            ]
           ]
          },
          "colorway": [
           "#636efa",
           "#EF553B",
           "#00cc96",
           "#ab63fa",
           "#FFA15A",
           "#19d3f3",
           "#FF6692",
           "#B6E880",
           "#FF97FF",
           "#FECB52"
          ],
          "font": {
           "color": "#2a3f5f"
          },
          "geo": {
           "bgcolor": "white",
           "lakecolor": "white",
           "landcolor": "#E5ECF6",
           "showlakes": true,
           "showland": true,
           "subunitcolor": "white"
          },
          "hoverlabel": {
           "align": "left"
          },
          "hovermode": "closest",
          "mapbox": {
           "style": "light"
          },
          "paper_bgcolor": "white",
          "plot_bgcolor": "#E5ECF6",
          "polar": {
           "angularaxis": {
            "gridcolor": "white",
            "linecolor": "white",
            "ticks": ""
           },
           "bgcolor": "#E5ECF6",
           "radialaxis": {
            "gridcolor": "white",
            "linecolor": "white",
            "ticks": ""
           }
          },
          "scene": {
           "xaxis": {
            "backgroundcolor": "#E5ECF6",
            "gridcolor": "white",
            "gridwidth": 2,
            "linecolor": "white",
            "showbackground": true,
            "ticks": "",
            "zerolinecolor": "white"
           },
           "yaxis": {
            "backgroundcolor": "#E5ECF6",
            "gridcolor": "white",
            "gridwidth": 2,
            "linecolor": "white",
            "showbackground": true,
            "ticks": "",
            "zerolinecolor": "white"
           },
           "zaxis": {
            "backgroundcolor": "#E5ECF6",
            "gridcolor": "white",
            "gridwidth": 2,
            "linecolor": "white",
            "showbackground": true,
            "ticks": "",
            "zerolinecolor": "white"
           }
          },
          "shapedefaults": {
           "line": {
            "color": "#2a3f5f"
           }
          },
          "ternary": {
           "aaxis": {
            "gridcolor": "white",
            "linecolor": "white",
            "ticks": ""
           },
           "baxis": {
            "gridcolor": "white",
            "linecolor": "white",
            "ticks": ""
           },
           "bgcolor": "#E5ECF6",
           "caxis": {
            "gridcolor": "white",
            "linecolor": "white",
            "ticks": ""
           }
          },
          "title": {
           "x": 0.05
          },
          "xaxis": {
           "automargin": true,
           "gridcolor": "white",
           "linecolor": "white",
           "ticks": "",
           "title": {
            "standoff": 15
           },
           "zerolinecolor": "white",
           "zerolinewidth": 2
          },
          "yaxis": {
           "automargin": true,
           "gridcolor": "white",
           "linecolor": "white",
           "ticks": "",
           "title": {
            "standoff": 15
           },
           "zerolinecolor": "white",
           "zerolinewidth": 2
          }
         }
        },
        "xaxis": {
         "anchor": "y",
         "domain": [
          0,
          1
         ],
         "title": {
          "text": "Accident_Count"
         }
        },
        "yaxis": {
         "anchor": "x",
         "domain": [
          0,
          1
         ],
         "title": {
          "text": "Nautical_Twilight"
         }
        }
       }
      },
      "text/html": [
       "<div>                            <div id=\"240bb8f9-c250-48e4-b7a1-accf81d5afa3\" class=\"plotly-graph-div\" style=\"height:525px; width:100%;\"></div>            <script type=\"text/javascript\">                require([\"plotly\"], function(Plotly) {                    window.PLOTLYENV=window.PLOTLYENV || {};                                    if (document.getElementById(\"240bb8f9-c250-48e4-b7a1-accf81d5afa3\")) {                    Plotly.newPlot(                        \"240bb8f9-c250-48e4-b7a1-accf81d5afa3\",                        [{\"alignmentgroup\":\"True\",\"hovertemplate\":\"Accident_Count=%{x}<br>Nautical_Twilight=%{y}<extra></extra>\",\"legendgroup\":\"\",\"marker\":{\"color\":\"#636efa\",\"pattern\":{\"shape\":\"\"}},\"name\":\"\",\"offsetgroup\":\"\",\"orientation\":\"h\",\"showlegend\":false,\"textposition\":\"auto\",\"x\":[2156119,407550],\"xaxis\":\"x\",\"y\":[\"Day\",\"Night\"],\"yaxis\":\"y\",\"type\":\"bar\"}],                        {\"template\":{\"data\":{\"histogram2dcontour\":[{\"type\":\"histogram2dcontour\",\"colorbar\":{\"outlinewidth\":0,\"ticks\":\"\"},\"colorscale\":[[0.0,\"#0d0887\"],[0.1111111111111111,\"#46039f\"],[0.2222222222222222,\"#7201a8\"],[0.3333333333333333,\"#9c179e\"],[0.4444444444444444,\"#bd3786\"],[0.5555555555555556,\"#d8576b\"],[0.6666666666666666,\"#ed7953\"],[0.7777777777777778,\"#fb9f3a\"],[0.8888888888888888,\"#fdca26\"],[1.0,\"#f0f921\"]]}],\"choropleth\":[{\"type\":\"choropleth\",\"colorbar\":{\"outlinewidth\":0,\"ticks\":\"\"}}],\"histogram2d\":[{\"type\":\"histogram2d\",\"colorbar\":{\"outlinewidth\":0,\"ticks\":\"\"},\"colorscale\":[[0.0,\"#0d0887\"],[0.1111111111111111,\"#46039f\"],[0.2222222222222222,\"#7201a8\"],[0.3333333333333333,\"#9c179e\"],[0.4444444444444444,\"#bd3786\"],[0.5555555555555556,\"#d8576b\"],[0.6666666666666666,\"#ed7953\"],[0.7777777777777778,\"#fb9f3a\"],[0.8888888888888888,\"#fdca26\"],[1.0,\"#f0f921\"]]}],\"heatmap\":[{\"type\":\"heatmap\",\"colorbar\":{\"outlinewidth\":0,\"ticks\":\"\"},\"colorscale\":[[0.0,\"#0d0887\"],[0.1111111111111111,\"#46039f\"],[0.2222222222222222,\"#7201a8\"],[0.3333333333333333,\"#9c179e\"],[0.4444444444444444,\"#bd3786\"],[0.5555555555555556,\"#d8576b\"],[0.6666666666666666,\"#ed7953\"],[0.7777777777777778,\"#fb9f3a\"],[0.8888888888888888,\"#fdca26\"],[1.0,\"#f0f921\"]]}],\"heatmapgl\":[{\"type\":\"heatmapgl\",\"colorbar\":{\"outlinewidth\":0,\"ticks\":\"\"},\"colorscale\":[[0.0,\"#0d0887\"],[0.1111111111111111,\"#46039f\"],[0.2222222222222222,\"#7201a8\"],[0.3333333333333333,\"#9c179e\"],[0.4444444444444444,\"#bd3786\"],[0.5555555555555556,\"#d8576b\"],[0.6666666666666666,\"#ed7953\"],[0.7777777777777778,\"#fb9f3a\"],[0.8888888888888888,\"#fdca26\"],[1.0,\"#f0f921\"]]}],\"contourcarpet\":[{\"type\":\"contourcarpet\",\"colorbar\":{\"outlinewidth\":0,\"ticks\":\"\"}}],\"contour\":[{\"type\":\"contour\",\"colorbar\":{\"outlinewidth\":0,\"ticks\":\"\"},\"colorscale\":[[0.0,\"#0d0887\"],[0.1111111111111111,\"#46039f\"],[0.2222222222222222,\"#7201a8\"],[0.3333333333333333,\"#9c179e\"],[0.4444444444444444,\"#bd3786\"],[0.5555555555555556,\"#d8576b\"],[0.6666666666666666,\"#ed7953\"],[0.7777777777777778,\"#fb9f3a\"],[0.8888888888888888,\"#fdca26\"],[1.0,\"#f0f921\"]]}],\"surface\":[{\"type\":\"surface\",\"colorbar\":{\"outlinewidth\":0,\"ticks\":\"\"},\"colorscale\":[[0.0,\"#0d0887\"],[0.1111111111111111,\"#46039f\"],[0.2222222222222222,\"#7201a8\"],[0.3333333333333333,\"#9c179e\"],[0.4444444444444444,\"#bd3786\"],[0.5555555555555556,\"#d8576b\"],[0.6666666666666666,\"#ed7953\"],[0.7777777777777778,\"#fb9f3a\"],[0.8888888888888888,\"#fdca26\"],[1.0,\"#f0f921\"]]}],\"mesh3d\":[{\"type\":\"mesh3d\",\"colorbar\":{\"outlinewidth\":0,\"ticks\":\"\"}}],\"scatter\":[{\"fillpattern\":{\"fillmode\":\"overlay\",\"size\":10,\"solidity\":0.2},\"type\":\"scatter\"}],\"parcoords\":[{\"type\":\"parcoords\",\"line\":{\"colorbar\":{\"outlinewidth\":0,\"ticks\":\"\"}}}],\"scatterpolargl\":[{\"type\":\"scatterpolargl\",\"marker\":{\"colorbar\":{\"outlinewidth\":0,\"ticks\":\"\"}}}],\"bar\":[{\"error_x\":{\"color\":\"#2a3f5f\"},\"error_y\":{\"color\":\"#2a3f5f\"},\"marker\":{\"line\":{\"color\":\"#E5ECF6\",\"width\":0.5},\"pattern\":{\"fillmode\":\"overlay\",\"size\":10,\"solidity\":0.2}},\"type\":\"bar\"}],\"scattergeo\":[{\"type\":\"scattergeo\",\"marker\":{\"colorbar\":{\"outlinewidth\":0,\"ticks\":\"\"}}}],\"scatterpolar\":[{\"type\":\"scatterpolar\",\"marker\":{\"colorbar\":{\"outlinewidth\":0,\"ticks\":\"\"}}}],\"histogram\":[{\"marker\":{\"pattern\":{\"fillmode\":\"overlay\",\"size\":10,\"solidity\":0.2}},\"type\":\"histogram\"}],\"scattergl\":[{\"type\":\"scattergl\",\"marker\":{\"colorbar\":{\"outlinewidth\":0,\"ticks\":\"\"}}}],\"scatter3d\":[{\"type\":\"scatter3d\",\"line\":{\"colorbar\":{\"outlinewidth\":0,\"ticks\":\"\"}},\"marker\":{\"colorbar\":{\"outlinewidth\":0,\"ticks\":\"\"}}}],\"scattermapbox\":[{\"type\":\"scattermapbox\",\"marker\":{\"colorbar\":{\"outlinewidth\":0,\"ticks\":\"\"}}}],\"scatterternary\":[{\"type\":\"scatterternary\",\"marker\":{\"colorbar\":{\"outlinewidth\":0,\"ticks\":\"\"}}}],\"scattercarpet\":[{\"type\":\"scattercarpet\",\"marker\":{\"colorbar\":{\"outlinewidth\":0,\"ticks\":\"\"}}}],\"carpet\":[{\"aaxis\":{\"endlinecolor\":\"#2a3f5f\",\"gridcolor\":\"white\",\"linecolor\":\"white\",\"minorgridcolor\":\"white\",\"startlinecolor\":\"#2a3f5f\"},\"baxis\":{\"endlinecolor\":\"#2a3f5f\",\"gridcolor\":\"white\",\"linecolor\":\"white\",\"minorgridcolor\":\"white\",\"startlinecolor\":\"#2a3f5f\"},\"type\":\"carpet\"}],\"table\":[{\"cells\":{\"fill\":{\"color\":\"#EBF0F8\"},\"line\":{\"color\":\"white\"}},\"header\":{\"fill\":{\"color\":\"#C8D4E3\"},\"line\":{\"color\":\"white\"}},\"type\":\"table\"}],\"barpolar\":[{\"marker\":{\"line\":{\"color\":\"#E5ECF6\",\"width\":0.5},\"pattern\":{\"fillmode\":\"overlay\",\"size\":10,\"solidity\":0.2}},\"type\":\"barpolar\"}],\"pie\":[{\"automargin\":true,\"type\":\"pie\"}]},\"layout\":{\"autotypenumbers\":\"strict\",\"colorway\":[\"#636efa\",\"#EF553B\",\"#00cc96\",\"#ab63fa\",\"#FFA15A\",\"#19d3f3\",\"#FF6692\",\"#B6E880\",\"#FF97FF\",\"#FECB52\"],\"font\":{\"color\":\"#2a3f5f\"},\"hovermode\":\"closest\",\"hoverlabel\":{\"align\":\"left\"},\"paper_bgcolor\":\"white\",\"plot_bgcolor\":\"#E5ECF6\",\"polar\":{\"bgcolor\":\"#E5ECF6\",\"angularaxis\":{\"gridcolor\":\"white\",\"linecolor\":\"white\",\"ticks\":\"\"},\"radialaxis\":{\"gridcolor\":\"white\",\"linecolor\":\"white\",\"ticks\":\"\"}},\"ternary\":{\"bgcolor\":\"#E5ECF6\",\"aaxis\":{\"gridcolor\":\"white\",\"linecolor\":\"white\",\"ticks\":\"\"},\"baxis\":{\"gridcolor\":\"white\",\"linecolor\":\"white\",\"ticks\":\"\"},\"caxis\":{\"gridcolor\":\"white\",\"linecolor\":\"white\",\"ticks\":\"\"}},\"coloraxis\":{\"colorbar\":{\"outlinewidth\":0,\"ticks\":\"\"}},\"colorscale\":{\"sequential\":[[0.0,\"#0d0887\"],[0.1111111111111111,\"#46039f\"],[0.2222222222222222,\"#7201a8\"],[0.3333333333333333,\"#9c179e\"],[0.4444444444444444,\"#bd3786\"],[0.5555555555555556,\"#d8576b\"],[0.6666666666666666,\"#ed7953\"],[0.7777777777777778,\"#fb9f3a\"],[0.8888888888888888,\"#fdca26\"],[1.0,\"#f0f921\"]],\"sequentialminus\":[[0.0,\"#0d0887\"],[0.1111111111111111,\"#46039f\"],[0.2222222222222222,\"#7201a8\"],[0.3333333333333333,\"#9c179e\"],[0.4444444444444444,\"#bd3786\"],[0.5555555555555556,\"#d8576b\"],[0.6666666666666666,\"#ed7953\"],[0.7777777777777778,\"#fb9f3a\"],[0.8888888888888888,\"#fdca26\"],[1.0,\"#f0f921\"]],\"diverging\":[[0,\"#8e0152\"],[0.1,\"#c51b7d\"],[0.2,\"#de77ae\"],[0.3,\"#f1b6da\"],[0.4,\"#fde0ef\"],[0.5,\"#f7f7f7\"],[0.6,\"#e6f5d0\"],[0.7,\"#b8e186\"],[0.8,\"#7fbc41\"],[0.9,\"#4d9221\"],[1,\"#276419\"]]},\"xaxis\":{\"gridcolor\":\"white\",\"linecolor\":\"white\",\"ticks\":\"\",\"title\":{\"standoff\":15},\"zerolinecolor\":\"white\",\"automargin\":true,\"zerolinewidth\":2},\"yaxis\":{\"gridcolor\":\"white\",\"linecolor\":\"white\",\"ticks\":\"\",\"title\":{\"standoff\":15},\"zerolinecolor\":\"white\",\"automargin\":true,\"zerolinewidth\":2},\"scene\":{\"xaxis\":{\"backgroundcolor\":\"#E5ECF6\",\"gridcolor\":\"white\",\"linecolor\":\"white\",\"showbackground\":true,\"ticks\":\"\",\"zerolinecolor\":\"white\",\"gridwidth\":2},\"yaxis\":{\"backgroundcolor\":\"#E5ECF6\",\"gridcolor\":\"white\",\"linecolor\":\"white\",\"showbackground\":true,\"ticks\":\"\",\"zerolinecolor\":\"white\",\"gridwidth\":2},\"zaxis\":{\"backgroundcolor\":\"#E5ECF6\",\"gridcolor\":\"white\",\"linecolor\":\"white\",\"showbackground\":true,\"ticks\":\"\",\"zerolinecolor\":\"white\",\"gridwidth\":2}},\"shapedefaults\":{\"line\":{\"color\":\"#2a3f5f\"}},\"annotationdefaults\":{\"arrowcolor\":\"#2a3f5f\",\"arrowhead\":0,\"arrowwidth\":1},\"geo\":{\"bgcolor\":\"white\",\"landcolor\":\"#E5ECF6\",\"subunitcolor\":\"white\",\"showland\":true,\"showlakes\":true,\"lakecolor\":\"white\"},\"title\":{\"x\":0.05},\"mapbox\":{\"style\":\"light\"}}},\"xaxis\":{\"anchor\":\"y\",\"domain\":[0.0,1.0],\"title\":{\"text\":\"Accident_Count\"}},\"yaxis\":{\"anchor\":\"x\",\"domain\":[0.0,1.0],\"title\":{\"text\":\"Nautical_Twilight\"}},\"legend\":{\"tracegroupgap\":0},\"margin\":{\"t\":60},\"barmode\":\"relative\"},                        {\"responsive\": true}                    ).then(function(){\n",
       "                            \n",
       "var gd = document.getElementById('240bb8f9-c250-48e4-b7a1-accf81d5afa3');\n",
       "var x = new MutationObserver(function (mutations, observer) {{\n",
       "        var display = window.getComputedStyle(gd).display;\n",
       "        if (!display || display === 'none') {{\n",
       "            console.log([gd, 'removed!']);\n",
       "            Plotly.purge(gd);\n",
       "            observer.disconnect();\n",
       "        }}\n",
       "}});\n",
       "\n",
       "// Listen for the removal of the full notebook cells\n",
       "var notebookContainer = gd.closest('#notebook-container');\n",
       "if (notebookContainer) {{\n",
       "    x.observe(notebookContainer, {childList: true});\n",
       "}}\n",
       "\n",
       "// Listen for the clearing of the current output cell\n",
       "var outputEl = gd.closest('.output');\n",
       "if (outputEl) {{\n",
       "    x.observe(outputEl, {childList: true});\n",
       "}}\n",
       "\n",
       "                        })                };                });            </script>        </div>"
      ]
     },
     "metadata": {},
     "output_type": "display_data"
    },
    {
     "data": {
      "application/vnd.plotly.v1+json": {
       "config": {
        "plotlyServerURL": "https://plot.ly"
       },
       "data": [
        {
         "alignmentgroup": "True",
         "hovertemplate": "Accident_Count=%{x}<br>Astronomical_Twilight=%{y}<extra></extra>",
         "legendgroup": "",
         "marker": {
          "color": "#636efa",
          "pattern": {
           "shape": ""
          }
         },
         "name": "",
         "offsetgroup": "",
         "orientation": "h",
         "showlegend": false,
         "textposition": "auto",
         "type": "bar",
         "x": [
          2252937,
          310732
         ],
         "xaxis": "x",
         "y": [
          "Day",
          "Night"
         ],
         "yaxis": "y"
        }
       ],
       "layout": {
        "barmode": "relative",
        "legend": {
         "tracegroupgap": 0
        },
        "margin": {
         "t": 60
        },
        "template": {
         "data": {
          "bar": [
           {
            "error_x": {
             "color": "#2a3f5f"
            },
            "error_y": {
             "color": "#2a3f5f"
            },
            "marker": {
             "line": {
              "color": "#E5ECF6",
              "width": 0.5
             },
             "pattern": {
              "fillmode": "overlay",
              "size": 10,
              "solidity": 0.2
             }
            },
            "type": "bar"
           }
          ],
          "barpolar": [
           {
            "marker": {
             "line": {
              "color": "#E5ECF6",
              "width": 0.5
             },
             "pattern": {
              "fillmode": "overlay",
              "size": 10,
              "solidity": 0.2
             }
            },
            "type": "barpolar"
           }
          ],
          "carpet": [
           {
            "aaxis": {
             "endlinecolor": "#2a3f5f",
             "gridcolor": "white",
             "linecolor": "white",
             "minorgridcolor": "white",
             "startlinecolor": "#2a3f5f"
            },
            "baxis": {
             "endlinecolor": "#2a3f5f",
             "gridcolor": "white",
             "linecolor": "white",
             "minorgridcolor": "white",
             "startlinecolor": "#2a3f5f"
            },
            "type": "carpet"
           }
          ],
          "choropleth": [
           {
            "colorbar": {
             "outlinewidth": 0,
             "ticks": ""
            },
            "type": "choropleth"
           }
          ],
          "contour": [
           {
            "colorbar": {
             "outlinewidth": 0,
             "ticks": ""
            },
            "colorscale": [
             [
              0,
              "#0d0887"
             ],
             [
              0.1111111111111111,
              "#46039f"
             ],
             [
              0.2222222222222222,
              "#7201a8"
             ],
             [
              0.3333333333333333,
              "#9c179e"
             ],
             [
              0.4444444444444444,
              "#bd3786"
             ],
             [
              0.5555555555555556,
              "#d8576b"
             ],
             [
              0.6666666666666666,
              "#ed7953"
             ],
             [
              0.7777777777777778,
              "#fb9f3a"
             ],
             [
              0.8888888888888888,
              "#fdca26"
             ],
             [
              1,
              "#f0f921"
             ]
            ],
            "type": "contour"
           }
          ],
          "contourcarpet": [
           {
            "colorbar": {
             "outlinewidth": 0,
             "ticks": ""
            },
            "type": "contourcarpet"
           }
          ],
          "heatmap": [
           {
            "colorbar": {
             "outlinewidth": 0,
             "ticks": ""
            },
            "colorscale": [
             [
              0,
              "#0d0887"
             ],
             [
              0.1111111111111111,
              "#46039f"
             ],
             [
              0.2222222222222222,
              "#7201a8"
             ],
             [
              0.3333333333333333,
              "#9c179e"
             ],
             [
              0.4444444444444444,
              "#bd3786"
             ],
             [
              0.5555555555555556,
              "#d8576b"
             ],
             [
              0.6666666666666666,
              "#ed7953"
             ],
             [
              0.7777777777777778,
              "#fb9f3a"
             ],
             [
              0.8888888888888888,
              "#fdca26"
             ],
             [
              1,
              "#f0f921"
             ]
            ],
            "type": "heatmap"
           }
          ],
          "heatmapgl": [
           {
            "colorbar": {
             "outlinewidth": 0,
             "ticks": ""
            },
            "colorscale": [
             [
              0,
              "#0d0887"
             ],
             [
              0.1111111111111111,
              "#46039f"
             ],
             [
              0.2222222222222222,
              "#7201a8"
             ],
             [
              0.3333333333333333,
              "#9c179e"
             ],
             [
              0.4444444444444444,
              "#bd3786"
             ],
             [
              0.5555555555555556,
              "#d8576b"
             ],
             [
              0.6666666666666666,
              "#ed7953"
             ],
             [
              0.7777777777777778,
              "#fb9f3a"
             ],
             [
              0.8888888888888888,
              "#fdca26"
             ],
             [
              1,
              "#f0f921"
             ]
            ],
            "type": "heatmapgl"
           }
          ],
          "histogram": [
           {
            "marker": {
             "pattern": {
              "fillmode": "overlay",
              "size": 10,
              "solidity": 0.2
             }
            },
            "type": "histogram"
           }
          ],
          "histogram2d": [
           {
            "colorbar": {
             "outlinewidth": 0,
             "ticks": ""
            },
            "colorscale": [
             [
              0,
              "#0d0887"
             ],
             [
              0.1111111111111111,
              "#46039f"
             ],
             [
              0.2222222222222222,
              "#7201a8"
             ],
             [
              0.3333333333333333,
              "#9c179e"
             ],
             [
              0.4444444444444444,
              "#bd3786"
             ],
             [
              0.5555555555555556,
              "#d8576b"
             ],
             [
              0.6666666666666666,
              "#ed7953"
             ],
             [
              0.7777777777777778,
              "#fb9f3a"
             ],
             [
              0.8888888888888888,
              "#fdca26"
             ],
             [
              1,
              "#f0f921"
             ]
            ],
            "type": "histogram2d"
           }
          ],
          "histogram2dcontour": [
           {
            "colorbar": {
             "outlinewidth": 0,
             "ticks": ""
            },
            "colorscale": [
             [
              0,
              "#0d0887"
             ],
             [
              0.1111111111111111,
              "#46039f"
             ],
             [
              0.2222222222222222,
              "#7201a8"
             ],
             [
              0.3333333333333333,
              "#9c179e"
             ],
             [
              0.4444444444444444,
              "#bd3786"
             ],
             [
              0.5555555555555556,
              "#d8576b"
             ],
             [
              0.6666666666666666,
              "#ed7953"
             ],
             [
              0.7777777777777778,
              "#fb9f3a"
             ],
             [
              0.8888888888888888,
              "#fdca26"
             ],
             [
              1,
              "#f0f921"
             ]
            ],
            "type": "histogram2dcontour"
           }
          ],
          "mesh3d": [
           {
            "colorbar": {
             "outlinewidth": 0,
             "ticks": ""
            },
            "type": "mesh3d"
           }
          ],
          "parcoords": [
           {
            "line": {
             "colorbar": {
              "outlinewidth": 0,
              "ticks": ""
             }
            },
            "type": "parcoords"
           }
          ],
          "pie": [
           {
            "automargin": true,
            "type": "pie"
           }
          ],
          "scatter": [
           {
            "fillpattern": {
             "fillmode": "overlay",
             "size": 10,
             "solidity": 0.2
            },
            "type": "scatter"
           }
          ],
          "scatter3d": [
           {
            "line": {
             "colorbar": {
              "outlinewidth": 0,
              "ticks": ""
             }
            },
            "marker": {
             "colorbar": {
              "outlinewidth": 0,
              "ticks": ""
             }
            },
            "type": "scatter3d"
           }
          ],
          "scattercarpet": [
           {
            "marker": {
             "colorbar": {
              "outlinewidth": 0,
              "ticks": ""
             }
            },
            "type": "scattercarpet"
           }
          ],
          "scattergeo": [
           {
            "marker": {
             "colorbar": {
              "outlinewidth": 0,
              "ticks": ""
             }
            },
            "type": "scattergeo"
           }
          ],
          "scattergl": [
           {
            "marker": {
             "colorbar": {
              "outlinewidth": 0,
              "ticks": ""
             }
            },
            "type": "scattergl"
           }
          ],
          "scattermapbox": [
           {
            "marker": {
             "colorbar": {
              "outlinewidth": 0,
              "ticks": ""
             }
            },
            "type": "scattermapbox"
           }
          ],
          "scatterpolar": [
           {
            "marker": {
             "colorbar": {
              "outlinewidth": 0,
              "ticks": ""
             }
            },
            "type": "scatterpolar"
           }
          ],
          "scatterpolargl": [
           {
            "marker": {
             "colorbar": {
              "outlinewidth": 0,
              "ticks": ""
             }
            },
            "type": "scatterpolargl"
           }
          ],
          "scatterternary": [
           {
            "marker": {
             "colorbar": {
              "outlinewidth": 0,
              "ticks": ""
             }
            },
            "type": "scatterternary"
           }
          ],
          "surface": [
           {
            "colorbar": {
             "outlinewidth": 0,
             "ticks": ""
            },
            "colorscale": [
             [
              0,
              "#0d0887"
             ],
             [
              0.1111111111111111,
              "#46039f"
             ],
             [
              0.2222222222222222,
              "#7201a8"
             ],
             [
              0.3333333333333333,
              "#9c179e"
             ],
             [
              0.4444444444444444,
              "#bd3786"
             ],
             [
              0.5555555555555556,
              "#d8576b"
             ],
             [
              0.6666666666666666,
              "#ed7953"
             ],
             [
              0.7777777777777778,
              "#fb9f3a"
             ],
             [
              0.8888888888888888,
              "#fdca26"
             ],
             [
              1,
              "#f0f921"
             ]
            ],
            "type": "surface"
           }
          ],
          "table": [
           {
            "cells": {
             "fill": {
              "color": "#EBF0F8"
             },
             "line": {
              "color": "white"
             }
            },
            "header": {
             "fill": {
              "color": "#C8D4E3"
             },
             "line": {
              "color": "white"
             }
            },
            "type": "table"
           }
          ]
         },
         "layout": {
          "annotationdefaults": {
           "arrowcolor": "#2a3f5f",
           "arrowhead": 0,
           "arrowwidth": 1
          },
          "autotypenumbers": "strict",
          "coloraxis": {
           "colorbar": {
            "outlinewidth": 0,
            "ticks": ""
           }
          },
          "colorscale": {
           "diverging": [
            [
             0,
             "#8e0152"
            ],
            [
             0.1,
             "#c51b7d"
            ],
            [
             0.2,
             "#de77ae"
            ],
            [
             0.3,
             "#f1b6da"
            ],
            [
             0.4,
             "#fde0ef"
            ],
            [
             0.5,
             "#f7f7f7"
            ],
            [
             0.6,
             "#e6f5d0"
            ],
            [
             0.7,
             "#b8e186"
            ],
            [
             0.8,
             "#7fbc41"
            ],
            [
             0.9,
             "#4d9221"
            ],
            [
             1,
             "#276419"
            ]
           ],
           "sequential": [
            [
             0,
             "#0d0887"
            ],
            [
             0.1111111111111111,
             "#46039f"
            ],
            [
             0.2222222222222222,
             "#7201a8"
            ],
            [
             0.3333333333333333,
             "#9c179e"
            ],
            [
             0.4444444444444444,
             "#bd3786"
            ],
            [
             0.5555555555555556,
             "#d8576b"
            ],
            [
             0.6666666666666666,
             "#ed7953"
            ],
            [
             0.7777777777777778,
             "#fb9f3a"
            ],
            [
             0.8888888888888888,
             "#fdca26"
            ],
            [
             1,
             "#f0f921"
            ]
           ],
           "sequentialminus": [
            [
             0,
             "#0d0887"
            ],
            [
             0.1111111111111111,
             "#46039f"
            ],
            [
             0.2222222222222222,
             "#7201a8"
            ],
            [
             0.3333333333333333,
             "#9c179e"
            ],
            [
             0.4444444444444444,
             "#bd3786"
            ],
            [
             0.5555555555555556,
             "#d8576b"
            ],
            [
             0.6666666666666666,
             "#ed7953"
            ],
            [
             0.7777777777777778,
             "#fb9f3a"
            ],
            [
             0.8888888888888888,
             "#fdca26"
            ],
            [
             1,
             "#f0f921"
            ]
           ]
          },
          "colorway": [
           "#636efa",
           "#EF553B",
           "#00cc96",
           "#ab63fa",
           "#FFA15A",
           "#19d3f3",
           "#FF6692",
           "#B6E880",
           "#FF97FF",
           "#FECB52"
          ],
          "font": {
           "color": "#2a3f5f"
          },
          "geo": {
           "bgcolor": "white",
           "lakecolor": "white",
           "landcolor": "#E5ECF6",
           "showlakes": true,
           "showland": true,
           "subunitcolor": "white"
          },
          "hoverlabel": {
           "align": "left"
          },
          "hovermode": "closest",
          "mapbox": {
           "style": "light"
          },
          "paper_bgcolor": "white",
          "plot_bgcolor": "#E5ECF6",
          "polar": {
           "angularaxis": {
            "gridcolor": "white",
            "linecolor": "white",
            "ticks": ""
           },
           "bgcolor": "#E5ECF6",
           "radialaxis": {
            "gridcolor": "white",
            "linecolor": "white",
            "ticks": ""
           }
          },
          "scene": {
           "xaxis": {
            "backgroundcolor": "#E5ECF6",
            "gridcolor": "white",
            "gridwidth": 2,
            "linecolor": "white",
            "showbackground": true,
            "ticks": "",
            "zerolinecolor": "white"
           },
           "yaxis": {
            "backgroundcolor": "#E5ECF6",
            "gridcolor": "white",
            "gridwidth": 2,
            "linecolor": "white",
            "showbackground": true,
            "ticks": "",
            "zerolinecolor": "white"
           },
           "zaxis": {
            "backgroundcolor": "#E5ECF6",
            "gridcolor": "white",
            "gridwidth": 2,
            "linecolor": "white",
            "showbackground": true,
            "ticks": "",
            "zerolinecolor": "white"
           }
          },
          "shapedefaults": {
           "line": {
            "color": "#2a3f5f"
           }
          },
          "ternary": {
           "aaxis": {
            "gridcolor": "white",
            "linecolor": "white",
            "ticks": ""
           },
           "baxis": {
            "gridcolor": "white",
            "linecolor": "white",
            "ticks": ""
           },
           "bgcolor": "#E5ECF6",
           "caxis": {
            "gridcolor": "white",
            "linecolor": "white",
            "ticks": ""
           }
          },
          "title": {
           "x": 0.05
          },
          "xaxis": {
           "automargin": true,
           "gridcolor": "white",
           "linecolor": "white",
           "ticks": "",
           "title": {
            "standoff": 15
           },
           "zerolinecolor": "white",
           "zerolinewidth": 2
          },
          "yaxis": {
           "automargin": true,
           "gridcolor": "white",
           "linecolor": "white",
           "ticks": "",
           "title": {
            "standoff": 15
           },
           "zerolinecolor": "white",
           "zerolinewidth": 2
          }
         }
        },
        "xaxis": {
         "anchor": "y",
         "domain": [
          0,
          1
         ],
         "title": {
          "text": "Accident_Count"
         }
        },
        "yaxis": {
         "anchor": "x",
         "domain": [
          0,
          1
         ],
         "title": {
          "text": "Astronomical_Twilight"
         }
        }
       }
      },
      "text/html": [
       "<div>                            <div id=\"3a26f7fa-257c-423f-a515-e8154cf241ad\" class=\"plotly-graph-div\" style=\"height:525px; width:100%;\"></div>            <script type=\"text/javascript\">                require([\"plotly\"], function(Plotly) {                    window.PLOTLYENV=window.PLOTLYENV || {};                                    if (document.getElementById(\"3a26f7fa-257c-423f-a515-e8154cf241ad\")) {                    Plotly.newPlot(                        \"3a26f7fa-257c-423f-a515-e8154cf241ad\",                        [{\"alignmentgroup\":\"True\",\"hovertemplate\":\"Accident_Count=%{x}<br>Astronomical_Twilight=%{y}<extra></extra>\",\"legendgroup\":\"\",\"marker\":{\"color\":\"#636efa\",\"pattern\":{\"shape\":\"\"}},\"name\":\"\",\"offsetgroup\":\"\",\"orientation\":\"h\",\"showlegend\":false,\"textposition\":\"auto\",\"x\":[2252937,310732],\"xaxis\":\"x\",\"y\":[\"Day\",\"Night\"],\"yaxis\":\"y\",\"type\":\"bar\"}],                        {\"template\":{\"data\":{\"histogram2dcontour\":[{\"type\":\"histogram2dcontour\",\"colorbar\":{\"outlinewidth\":0,\"ticks\":\"\"},\"colorscale\":[[0.0,\"#0d0887\"],[0.1111111111111111,\"#46039f\"],[0.2222222222222222,\"#7201a8\"],[0.3333333333333333,\"#9c179e\"],[0.4444444444444444,\"#bd3786\"],[0.5555555555555556,\"#d8576b\"],[0.6666666666666666,\"#ed7953\"],[0.7777777777777778,\"#fb9f3a\"],[0.8888888888888888,\"#fdca26\"],[1.0,\"#f0f921\"]]}],\"choropleth\":[{\"type\":\"choropleth\",\"colorbar\":{\"outlinewidth\":0,\"ticks\":\"\"}}],\"histogram2d\":[{\"type\":\"histogram2d\",\"colorbar\":{\"outlinewidth\":0,\"ticks\":\"\"},\"colorscale\":[[0.0,\"#0d0887\"],[0.1111111111111111,\"#46039f\"],[0.2222222222222222,\"#7201a8\"],[0.3333333333333333,\"#9c179e\"],[0.4444444444444444,\"#bd3786\"],[0.5555555555555556,\"#d8576b\"],[0.6666666666666666,\"#ed7953\"],[0.7777777777777778,\"#fb9f3a\"],[0.8888888888888888,\"#fdca26\"],[1.0,\"#f0f921\"]]}],\"heatmap\":[{\"type\":\"heatmap\",\"colorbar\":{\"outlinewidth\":0,\"ticks\":\"\"},\"colorscale\":[[0.0,\"#0d0887\"],[0.1111111111111111,\"#46039f\"],[0.2222222222222222,\"#7201a8\"],[0.3333333333333333,\"#9c179e\"],[0.4444444444444444,\"#bd3786\"],[0.5555555555555556,\"#d8576b\"],[0.6666666666666666,\"#ed7953\"],[0.7777777777777778,\"#fb9f3a\"],[0.8888888888888888,\"#fdca26\"],[1.0,\"#f0f921\"]]}],\"heatmapgl\":[{\"type\":\"heatmapgl\",\"colorbar\":{\"outlinewidth\":0,\"ticks\":\"\"},\"colorscale\":[[0.0,\"#0d0887\"],[0.1111111111111111,\"#46039f\"],[0.2222222222222222,\"#7201a8\"],[0.3333333333333333,\"#9c179e\"],[0.4444444444444444,\"#bd3786\"],[0.5555555555555556,\"#d8576b\"],[0.6666666666666666,\"#ed7953\"],[0.7777777777777778,\"#fb9f3a\"],[0.8888888888888888,\"#fdca26\"],[1.0,\"#f0f921\"]]}],\"contourcarpet\":[{\"type\":\"contourcarpet\",\"colorbar\":{\"outlinewidth\":0,\"ticks\":\"\"}}],\"contour\":[{\"type\":\"contour\",\"colorbar\":{\"outlinewidth\":0,\"ticks\":\"\"},\"colorscale\":[[0.0,\"#0d0887\"],[0.1111111111111111,\"#46039f\"],[0.2222222222222222,\"#7201a8\"],[0.3333333333333333,\"#9c179e\"],[0.4444444444444444,\"#bd3786\"],[0.5555555555555556,\"#d8576b\"],[0.6666666666666666,\"#ed7953\"],[0.7777777777777778,\"#fb9f3a\"],[0.8888888888888888,\"#fdca26\"],[1.0,\"#f0f921\"]]}],\"surface\":[{\"type\":\"surface\",\"colorbar\":{\"outlinewidth\":0,\"ticks\":\"\"},\"colorscale\":[[0.0,\"#0d0887\"],[0.1111111111111111,\"#46039f\"],[0.2222222222222222,\"#7201a8\"],[0.3333333333333333,\"#9c179e\"],[0.4444444444444444,\"#bd3786\"],[0.5555555555555556,\"#d8576b\"],[0.6666666666666666,\"#ed7953\"],[0.7777777777777778,\"#fb9f3a\"],[0.8888888888888888,\"#fdca26\"],[1.0,\"#f0f921\"]]}],\"mesh3d\":[{\"type\":\"mesh3d\",\"colorbar\":{\"outlinewidth\":0,\"ticks\":\"\"}}],\"scatter\":[{\"fillpattern\":{\"fillmode\":\"overlay\",\"size\":10,\"solidity\":0.2},\"type\":\"scatter\"}],\"parcoords\":[{\"type\":\"parcoords\",\"line\":{\"colorbar\":{\"outlinewidth\":0,\"ticks\":\"\"}}}],\"scatterpolargl\":[{\"type\":\"scatterpolargl\",\"marker\":{\"colorbar\":{\"outlinewidth\":0,\"ticks\":\"\"}}}],\"bar\":[{\"error_x\":{\"color\":\"#2a3f5f\"},\"error_y\":{\"color\":\"#2a3f5f\"},\"marker\":{\"line\":{\"color\":\"#E5ECF6\",\"width\":0.5},\"pattern\":{\"fillmode\":\"overlay\",\"size\":10,\"solidity\":0.2}},\"type\":\"bar\"}],\"scattergeo\":[{\"type\":\"scattergeo\",\"marker\":{\"colorbar\":{\"outlinewidth\":0,\"ticks\":\"\"}}}],\"scatterpolar\":[{\"type\":\"scatterpolar\",\"marker\":{\"colorbar\":{\"outlinewidth\":0,\"ticks\":\"\"}}}],\"histogram\":[{\"marker\":{\"pattern\":{\"fillmode\":\"overlay\",\"size\":10,\"solidity\":0.2}},\"type\":\"histogram\"}],\"scattergl\":[{\"type\":\"scattergl\",\"marker\":{\"colorbar\":{\"outlinewidth\":0,\"ticks\":\"\"}}}],\"scatter3d\":[{\"type\":\"scatter3d\",\"line\":{\"colorbar\":{\"outlinewidth\":0,\"ticks\":\"\"}},\"marker\":{\"colorbar\":{\"outlinewidth\":0,\"ticks\":\"\"}}}],\"scattermapbox\":[{\"type\":\"scattermapbox\",\"marker\":{\"colorbar\":{\"outlinewidth\":0,\"ticks\":\"\"}}}],\"scatterternary\":[{\"type\":\"scatterternary\",\"marker\":{\"colorbar\":{\"outlinewidth\":0,\"ticks\":\"\"}}}],\"scattercarpet\":[{\"type\":\"scattercarpet\",\"marker\":{\"colorbar\":{\"outlinewidth\":0,\"ticks\":\"\"}}}],\"carpet\":[{\"aaxis\":{\"endlinecolor\":\"#2a3f5f\",\"gridcolor\":\"white\",\"linecolor\":\"white\",\"minorgridcolor\":\"white\",\"startlinecolor\":\"#2a3f5f\"},\"baxis\":{\"endlinecolor\":\"#2a3f5f\",\"gridcolor\":\"white\",\"linecolor\":\"white\",\"minorgridcolor\":\"white\",\"startlinecolor\":\"#2a3f5f\"},\"type\":\"carpet\"}],\"table\":[{\"cells\":{\"fill\":{\"color\":\"#EBF0F8\"},\"line\":{\"color\":\"white\"}},\"header\":{\"fill\":{\"color\":\"#C8D4E3\"},\"line\":{\"color\":\"white\"}},\"type\":\"table\"}],\"barpolar\":[{\"marker\":{\"line\":{\"color\":\"#E5ECF6\",\"width\":0.5},\"pattern\":{\"fillmode\":\"overlay\",\"size\":10,\"solidity\":0.2}},\"type\":\"barpolar\"}],\"pie\":[{\"automargin\":true,\"type\":\"pie\"}]},\"layout\":{\"autotypenumbers\":\"strict\",\"colorway\":[\"#636efa\",\"#EF553B\",\"#00cc96\",\"#ab63fa\",\"#FFA15A\",\"#19d3f3\",\"#FF6692\",\"#B6E880\",\"#FF97FF\",\"#FECB52\"],\"font\":{\"color\":\"#2a3f5f\"},\"hovermode\":\"closest\",\"hoverlabel\":{\"align\":\"left\"},\"paper_bgcolor\":\"white\",\"plot_bgcolor\":\"#E5ECF6\",\"polar\":{\"bgcolor\":\"#E5ECF6\",\"angularaxis\":{\"gridcolor\":\"white\",\"linecolor\":\"white\",\"ticks\":\"\"},\"radialaxis\":{\"gridcolor\":\"white\",\"linecolor\":\"white\",\"ticks\":\"\"}},\"ternary\":{\"bgcolor\":\"#E5ECF6\",\"aaxis\":{\"gridcolor\":\"white\",\"linecolor\":\"white\",\"ticks\":\"\"},\"baxis\":{\"gridcolor\":\"white\",\"linecolor\":\"white\",\"ticks\":\"\"},\"caxis\":{\"gridcolor\":\"white\",\"linecolor\":\"white\",\"ticks\":\"\"}},\"coloraxis\":{\"colorbar\":{\"outlinewidth\":0,\"ticks\":\"\"}},\"colorscale\":{\"sequential\":[[0.0,\"#0d0887\"],[0.1111111111111111,\"#46039f\"],[0.2222222222222222,\"#7201a8\"],[0.3333333333333333,\"#9c179e\"],[0.4444444444444444,\"#bd3786\"],[0.5555555555555556,\"#d8576b\"],[0.6666666666666666,\"#ed7953\"],[0.7777777777777778,\"#fb9f3a\"],[0.8888888888888888,\"#fdca26\"],[1.0,\"#f0f921\"]],\"sequentialminus\":[[0.0,\"#0d0887\"],[0.1111111111111111,\"#46039f\"],[0.2222222222222222,\"#7201a8\"],[0.3333333333333333,\"#9c179e\"],[0.4444444444444444,\"#bd3786\"],[0.5555555555555556,\"#d8576b\"],[0.6666666666666666,\"#ed7953\"],[0.7777777777777778,\"#fb9f3a\"],[0.8888888888888888,\"#fdca26\"],[1.0,\"#f0f921\"]],\"diverging\":[[0,\"#8e0152\"],[0.1,\"#c51b7d\"],[0.2,\"#de77ae\"],[0.3,\"#f1b6da\"],[0.4,\"#fde0ef\"],[0.5,\"#f7f7f7\"],[0.6,\"#e6f5d0\"],[0.7,\"#b8e186\"],[0.8,\"#7fbc41\"],[0.9,\"#4d9221\"],[1,\"#276419\"]]},\"xaxis\":{\"gridcolor\":\"white\",\"linecolor\":\"white\",\"ticks\":\"\",\"title\":{\"standoff\":15},\"zerolinecolor\":\"white\",\"automargin\":true,\"zerolinewidth\":2},\"yaxis\":{\"gridcolor\":\"white\",\"linecolor\":\"white\",\"ticks\":\"\",\"title\":{\"standoff\":15},\"zerolinecolor\":\"white\",\"automargin\":true,\"zerolinewidth\":2},\"scene\":{\"xaxis\":{\"backgroundcolor\":\"#E5ECF6\",\"gridcolor\":\"white\",\"linecolor\":\"white\",\"showbackground\":true,\"ticks\":\"\",\"zerolinecolor\":\"white\",\"gridwidth\":2},\"yaxis\":{\"backgroundcolor\":\"#E5ECF6\",\"gridcolor\":\"white\",\"linecolor\":\"white\",\"showbackground\":true,\"ticks\":\"\",\"zerolinecolor\":\"white\",\"gridwidth\":2},\"zaxis\":{\"backgroundcolor\":\"#E5ECF6\",\"gridcolor\":\"white\",\"linecolor\":\"white\",\"showbackground\":true,\"ticks\":\"\",\"zerolinecolor\":\"white\",\"gridwidth\":2}},\"shapedefaults\":{\"line\":{\"color\":\"#2a3f5f\"}},\"annotationdefaults\":{\"arrowcolor\":\"#2a3f5f\",\"arrowhead\":0,\"arrowwidth\":1},\"geo\":{\"bgcolor\":\"white\",\"landcolor\":\"#E5ECF6\",\"subunitcolor\":\"white\",\"showland\":true,\"showlakes\":true,\"lakecolor\":\"white\"},\"title\":{\"x\":0.05},\"mapbox\":{\"style\":\"light\"}}},\"xaxis\":{\"anchor\":\"y\",\"domain\":[0.0,1.0],\"title\":{\"text\":\"Accident_Count\"}},\"yaxis\":{\"anchor\":\"x\",\"domain\":[0.0,1.0],\"title\":{\"text\":\"Astronomical_Twilight\"}},\"legend\":{\"tracegroupgap\":0},\"margin\":{\"t\":60},\"barmode\":\"relative\"},                        {\"responsive\": true}                    ).then(function(){\n",
       "                            \n",
       "var gd = document.getElementById('3a26f7fa-257c-423f-a515-e8154cf241ad');\n",
       "var x = new MutationObserver(function (mutations, observer) {{\n",
       "        var display = window.getComputedStyle(gd).display;\n",
       "        if (!display || display === 'none') {{\n",
       "            console.log([gd, 'removed!']);\n",
       "            Plotly.purge(gd);\n",
       "            observer.disconnect();\n",
       "        }}\n",
       "}});\n",
       "\n",
       "// Listen for the removal of the full notebook cells\n",
       "var notebookContainer = gd.closest('#notebook-container');\n",
       "if (notebookContainer) {{\n",
       "    x.observe(notebookContainer, {childList: true});\n",
       "}}\n",
       "\n",
       "// Listen for the clearing of the current output cell\n",
       "var outputEl = gd.closest('.output');\n",
       "if (outputEl) {{\n",
       "    x.observe(outputEl, {childList: true});\n",
       "}}\n",
       "\n",
       "                        })                };                });            </script>        </div>"
      ]
     },
     "metadata": {},
     "output_type": "display_data"
    },
    {
     "data": {
      "application/vnd.plotly.v1+json": {
       "config": {
        "plotlyServerURL": "https://plot.ly"
       },
       "data": [
        {
         "alignmentgroup": "True",
         "hovertemplate": "Accident_Count=%{x}<br>TMC_Description=%{y}<extra></extra>",
         "legendgroup": "",
         "marker": {
          "color": "#636efa",
          "pattern": {
           "shape": ""
          }
         },
         "name": "",
         "offsetgroup": "",
         "orientation": "h",
         "showlegend": false,
         "textposition": "auto",
         "type": "bar",
         "x": [
          8677,
          2263327,
          3,
          9890,
          1703,
          7696,
          192547,
          13701,
          5591,
          11,
          31672,
          4989,
          1000,
          442,
          705,
          67,
          4971,
          2646,
          161,
          11,
          13918
         ],
         "xaxis": "x",
         "y": [
          "(Q th) entry slip road closed",
          "(Q) accident(s)",
          "(Q) accident(s) in roadworks area",
          "(Q) accident(s). Hard shoulder blocked",
          "(Q) accident(s). Heavy traffic",
          "(Q) accident(s). Queuing traffic",
          "(Q) accident(s). Right lane blocked",
          "(Q) accident(s). Slow traffic",
          "(Q) accident(s). Three lanes blocked",
          "(Q) accident(s). Traffic building up",
          "(Q) accident(s). Two lanes blocked",
          "(Q) earlier accident(s)",
          "(Q) fuel spillage accident(s)",
          "(Q) jackknifed articulated lorr(y/ies)",
          "(Q) jackknifed trailer(s)",
          "(Q) oil spillage accident(s)",
          "(Q) serious accident(s)",
          "accident. Delays (Q)",
          "accident. Delays (Q) expected",
          "multi vehicle pile up. Delays (Q)",
          "multi-vehicle accident (involving Q vehicles)"
         ],
         "yaxis": "y"
        }
       ],
       "layout": {
        "barmode": "relative",
        "legend": {
         "tracegroupgap": 0
        },
        "margin": {
         "t": 60
        },
        "template": {
         "data": {
          "bar": [
           {
            "error_x": {
             "color": "#2a3f5f"
            },
            "error_y": {
             "color": "#2a3f5f"
            },
            "marker": {
             "line": {
              "color": "#E5ECF6",
              "width": 0.5
             },
             "pattern": {
              "fillmode": "overlay",
              "size": 10,
              "solidity": 0.2
             }
            },
            "type": "bar"
           }
          ],
          "barpolar": [
           {
            "marker": {
             "line": {
              "color": "#E5ECF6",
              "width": 0.5
             },
             "pattern": {
              "fillmode": "overlay",
              "size": 10,
              "solidity": 0.2
             }
            },
            "type": "barpolar"
           }
          ],
          "carpet": [
           {
            "aaxis": {
             "endlinecolor": "#2a3f5f",
             "gridcolor": "white",
             "linecolor": "white",
             "minorgridcolor": "white",
             "startlinecolor": "#2a3f5f"
            },
            "baxis": {
             "endlinecolor": "#2a3f5f",
             "gridcolor": "white",
             "linecolor": "white",
             "minorgridcolor": "white",
             "startlinecolor": "#2a3f5f"
            },
            "type": "carpet"
           }
          ],
          "choropleth": [
           {
            "colorbar": {
             "outlinewidth": 0,
             "ticks": ""
            },
            "type": "choropleth"
           }
          ],
          "contour": [
           {
            "colorbar": {
             "outlinewidth": 0,
             "ticks": ""
            },
            "colorscale": [
             [
              0,
              "#0d0887"
             ],
             [
              0.1111111111111111,
              "#46039f"
             ],
             [
              0.2222222222222222,
              "#7201a8"
             ],
             [
              0.3333333333333333,
              "#9c179e"
             ],
             [
              0.4444444444444444,
              "#bd3786"
             ],
             [
              0.5555555555555556,
              "#d8576b"
             ],
             [
              0.6666666666666666,
              "#ed7953"
             ],
             [
              0.7777777777777778,
              "#fb9f3a"
             ],
             [
              0.8888888888888888,
              "#fdca26"
             ],
             [
              1,
              "#f0f921"
             ]
            ],
            "type": "contour"
           }
          ],
          "contourcarpet": [
           {
            "colorbar": {
             "outlinewidth": 0,
             "ticks": ""
            },
            "type": "contourcarpet"
           }
          ],
          "heatmap": [
           {
            "colorbar": {
             "outlinewidth": 0,
             "ticks": ""
            },
            "colorscale": [
             [
              0,
              "#0d0887"
             ],
             [
              0.1111111111111111,
              "#46039f"
             ],
             [
              0.2222222222222222,
              "#7201a8"
             ],
             [
              0.3333333333333333,
              "#9c179e"
             ],
             [
              0.4444444444444444,
              "#bd3786"
             ],
             [
              0.5555555555555556,
              "#d8576b"
             ],
             [
              0.6666666666666666,
              "#ed7953"
             ],
             [
              0.7777777777777778,
              "#fb9f3a"
             ],
             [
              0.8888888888888888,
              "#fdca26"
             ],
             [
              1,
              "#f0f921"
             ]
            ],
            "type": "heatmap"
           }
          ],
          "heatmapgl": [
           {
            "colorbar": {
             "outlinewidth": 0,
             "ticks": ""
            },
            "colorscale": [
             [
              0,
              "#0d0887"
             ],
             [
              0.1111111111111111,
              "#46039f"
             ],
             [
              0.2222222222222222,
              "#7201a8"
             ],
             [
              0.3333333333333333,
              "#9c179e"
             ],
             [
              0.4444444444444444,
              "#bd3786"
             ],
             [
              0.5555555555555556,
              "#d8576b"
             ],
             [
              0.6666666666666666,
              "#ed7953"
             ],
             [
              0.7777777777777778,
              "#fb9f3a"
             ],
             [
              0.8888888888888888,
              "#fdca26"
             ],
             [
              1,
              "#f0f921"
             ]
            ],
            "type": "heatmapgl"
           }
          ],
          "histogram": [
           {
            "marker": {
             "pattern": {
              "fillmode": "overlay",
              "size": 10,
              "solidity": 0.2
             }
            },
            "type": "histogram"
           }
          ],
          "histogram2d": [
           {
            "colorbar": {
             "outlinewidth": 0,
             "ticks": ""
            },
            "colorscale": [
             [
              0,
              "#0d0887"
             ],
             [
              0.1111111111111111,
              "#46039f"
             ],
             [
              0.2222222222222222,
              "#7201a8"
             ],
             [
              0.3333333333333333,
              "#9c179e"
             ],
             [
              0.4444444444444444,
              "#bd3786"
             ],
             [
              0.5555555555555556,
              "#d8576b"
             ],
             [
              0.6666666666666666,
              "#ed7953"
             ],
             [
              0.7777777777777778,
              "#fb9f3a"
             ],
             [
              0.8888888888888888,
              "#fdca26"
             ],
             [
              1,
              "#f0f921"
             ]
            ],
            "type": "histogram2d"
           }
          ],
          "histogram2dcontour": [
           {
            "colorbar": {
             "outlinewidth": 0,
             "ticks": ""
            },
            "colorscale": [
             [
              0,
              "#0d0887"
             ],
             [
              0.1111111111111111,
              "#46039f"
             ],
             [
              0.2222222222222222,
              "#7201a8"
             ],
             [
              0.3333333333333333,
              "#9c179e"
             ],
             [
              0.4444444444444444,
              "#bd3786"
             ],
             [
              0.5555555555555556,
              "#d8576b"
             ],
             [
              0.6666666666666666,
              "#ed7953"
             ],
             [
              0.7777777777777778,
              "#fb9f3a"
             ],
             [
              0.8888888888888888,
              "#fdca26"
             ],
             [
              1,
              "#f0f921"
             ]
            ],
            "type": "histogram2dcontour"
           }
          ],
          "mesh3d": [
           {
            "colorbar": {
             "outlinewidth": 0,
             "ticks": ""
            },
            "type": "mesh3d"
           }
          ],
          "parcoords": [
           {
            "line": {
             "colorbar": {
              "outlinewidth": 0,
              "ticks": ""
             }
            },
            "type": "parcoords"
           }
          ],
          "pie": [
           {
            "automargin": true,
            "type": "pie"
           }
          ],
          "scatter": [
           {
            "fillpattern": {
             "fillmode": "overlay",
             "size": 10,
             "solidity": 0.2
            },
            "type": "scatter"
           }
          ],
          "scatter3d": [
           {
            "line": {
             "colorbar": {
              "outlinewidth": 0,
              "ticks": ""
             }
            },
            "marker": {
             "colorbar": {
              "outlinewidth": 0,
              "ticks": ""
             }
            },
            "type": "scatter3d"
           }
          ],
          "scattercarpet": [
           {
            "marker": {
             "colorbar": {
              "outlinewidth": 0,
              "ticks": ""
             }
            },
            "type": "scattercarpet"
           }
          ],
          "scattergeo": [
           {
            "marker": {
             "colorbar": {
              "outlinewidth": 0,
              "ticks": ""
             }
            },
            "type": "scattergeo"
           }
          ],
          "scattergl": [
           {
            "marker": {
             "colorbar": {
              "outlinewidth": 0,
              "ticks": ""
             }
            },
            "type": "scattergl"
           }
          ],
          "scattermapbox": [
           {
            "marker": {
             "colorbar": {
              "outlinewidth": 0,
              "ticks": ""
             }
            },
            "type": "scattermapbox"
           }
          ],
          "scatterpolar": [
           {
            "marker": {
             "colorbar": {
              "outlinewidth": 0,
              "ticks": ""
             }
            },
            "type": "scatterpolar"
           }
          ],
          "scatterpolargl": [
           {
            "marker": {
             "colorbar": {
              "outlinewidth": 0,
              "ticks": ""
             }
            },
            "type": "scatterpolargl"
           }
          ],
          "scatterternary": [
           {
            "marker": {
             "colorbar": {
              "outlinewidth": 0,
              "ticks": ""
             }
            },
            "type": "scatterternary"
           }
          ],
          "surface": [
           {
            "colorbar": {
             "outlinewidth": 0,
             "ticks": ""
            },
            "colorscale": [
             [
              0,
              "#0d0887"
             ],
             [
              0.1111111111111111,
              "#46039f"
             ],
             [
              0.2222222222222222,
              "#7201a8"
             ],
             [
              0.3333333333333333,
              "#9c179e"
             ],
             [
              0.4444444444444444,
              "#bd3786"
             ],
             [
              0.5555555555555556,
              "#d8576b"
             ],
             [
              0.6666666666666666,
              "#ed7953"
             ],
             [
              0.7777777777777778,
              "#fb9f3a"
             ],
             [
              0.8888888888888888,
              "#fdca26"
             ],
             [
              1,
              "#f0f921"
             ]
            ],
            "type": "surface"
           }
          ],
          "table": [
           {
            "cells": {
             "fill": {
              "color": "#EBF0F8"
             },
             "line": {
              "color": "white"
             }
            },
            "header": {
             "fill": {
              "color": "#C8D4E3"
             },
             "line": {
              "color": "white"
             }
            },
            "type": "table"
           }
          ]
         },
         "layout": {
          "annotationdefaults": {
           "arrowcolor": "#2a3f5f",
           "arrowhead": 0,
           "arrowwidth": 1
          },
          "autotypenumbers": "strict",
          "coloraxis": {
           "colorbar": {
            "outlinewidth": 0,
            "ticks": ""
           }
          },
          "colorscale": {
           "diverging": [
            [
             0,
             "#8e0152"
            ],
            [
             0.1,
             "#c51b7d"
            ],
            [
             0.2,
             "#de77ae"
            ],
            [
             0.3,
             "#f1b6da"
            ],
            [
             0.4,
             "#fde0ef"
            ],
            [
             0.5,
             "#f7f7f7"
            ],
            [
             0.6,
             "#e6f5d0"
            ],
            [
             0.7,
             "#b8e186"
            ],
            [
             0.8,
             "#7fbc41"
            ],
            [
             0.9,
             "#4d9221"
            ],
            [
             1,
             "#276419"
            ]
           ],
           "sequential": [
            [
             0,
             "#0d0887"
            ],
            [
             0.1111111111111111,
             "#46039f"
            ],
            [
             0.2222222222222222,
             "#7201a8"
            ],
            [
             0.3333333333333333,
             "#9c179e"
            ],
            [
             0.4444444444444444,
             "#bd3786"
            ],
            [
             0.5555555555555556,
             "#d8576b"
            ],
            [
             0.6666666666666666,
             "#ed7953"
            ],
            [
             0.7777777777777778,
             "#fb9f3a"
            ],
            [
             0.8888888888888888,
             "#fdca26"
            ],
            [
             1,
             "#f0f921"
            ]
           ],
           "sequentialminus": [
            [
             0,
             "#0d0887"
            ],
            [
             0.1111111111111111,
             "#46039f"
            ],
            [
             0.2222222222222222,
             "#7201a8"
            ],
            [
             0.3333333333333333,
             "#9c179e"
            ],
            [
             0.4444444444444444,
             "#bd3786"
            ],
            [
             0.5555555555555556,
             "#d8576b"
            ],
            [
             0.6666666666666666,
             "#ed7953"
            ],
            [
             0.7777777777777778,
             "#fb9f3a"
            ],
            [
             0.8888888888888888,
             "#fdca26"
            ],
            [
             1,
             "#f0f921"
            ]
           ]
          },
          "colorway": [
           "#636efa",
           "#EF553B",
           "#00cc96",
           "#ab63fa",
           "#FFA15A",
           "#19d3f3",
           "#FF6692",
           "#B6E880",
           "#FF97FF",
           "#FECB52"
          ],
          "font": {
           "color": "#2a3f5f"
          },
          "geo": {
           "bgcolor": "white",
           "lakecolor": "white",
           "landcolor": "#E5ECF6",
           "showlakes": true,
           "showland": true,
           "subunitcolor": "white"
          },
          "hoverlabel": {
           "align": "left"
          },
          "hovermode": "closest",
          "mapbox": {
           "style": "light"
          },
          "paper_bgcolor": "white",
          "plot_bgcolor": "#E5ECF6",
          "polar": {
           "angularaxis": {
            "gridcolor": "white",
            "linecolor": "white",
            "ticks": ""
           },
           "bgcolor": "#E5ECF6",
           "radialaxis": {
            "gridcolor": "white",
            "linecolor": "white",
            "ticks": ""
           }
          },
          "scene": {
           "xaxis": {
            "backgroundcolor": "#E5ECF6",
            "gridcolor": "white",
            "gridwidth": 2,
            "linecolor": "white",
            "showbackground": true,
            "ticks": "",
            "zerolinecolor": "white"
           },
           "yaxis": {
            "backgroundcolor": "#E5ECF6",
            "gridcolor": "white",
            "gridwidth": 2,
            "linecolor": "white",
            "showbackground": true,
            "ticks": "",
            "zerolinecolor": "white"
           },
           "zaxis": {
            "backgroundcolor": "#E5ECF6",
            "gridcolor": "white",
            "gridwidth": 2,
            "linecolor": "white",
            "showbackground": true,
            "ticks": "",
            "zerolinecolor": "white"
           }
          },
          "shapedefaults": {
           "line": {
            "color": "#2a3f5f"
           }
          },
          "ternary": {
           "aaxis": {
            "gridcolor": "white",
            "linecolor": "white",
            "ticks": ""
           },
           "baxis": {
            "gridcolor": "white",
            "linecolor": "white",
            "ticks": ""
           },
           "bgcolor": "#E5ECF6",
           "caxis": {
            "gridcolor": "white",
            "linecolor": "white",
            "ticks": ""
           }
          },
          "title": {
           "x": 0.05
          },
          "xaxis": {
           "automargin": true,
           "gridcolor": "white",
           "linecolor": "white",
           "ticks": "",
           "title": {
            "standoff": 15
           },
           "zerolinecolor": "white",
           "zerolinewidth": 2
          },
          "yaxis": {
           "automargin": true,
           "gridcolor": "white",
           "linecolor": "white",
           "ticks": "",
           "title": {
            "standoff": 15
           },
           "zerolinecolor": "white",
           "zerolinewidth": 2
          }
         }
        },
        "xaxis": {
         "anchor": "y",
         "domain": [
          0,
          1
         ],
         "title": {
          "text": "Accident_Count"
         }
        },
        "yaxis": {
         "anchor": "x",
         "domain": [
          0,
          1
         ],
         "title": {
          "text": "TMC_Description"
         }
        }
       }
      },
      "text/html": [
       "<div>                            <div id=\"746189b4-53fd-4c1c-8aa8-2137ec2284dc\" class=\"plotly-graph-div\" style=\"height:525px; width:100%;\"></div>            <script type=\"text/javascript\">                require([\"plotly\"], function(Plotly) {                    window.PLOTLYENV=window.PLOTLYENV || {};                                    if (document.getElementById(\"746189b4-53fd-4c1c-8aa8-2137ec2284dc\")) {                    Plotly.newPlot(                        \"746189b4-53fd-4c1c-8aa8-2137ec2284dc\",                        [{\"alignmentgroup\":\"True\",\"hovertemplate\":\"Accident_Count=%{x}<br>TMC_Description=%{y}<extra></extra>\",\"legendgroup\":\"\",\"marker\":{\"color\":\"#636efa\",\"pattern\":{\"shape\":\"\"}},\"name\":\"\",\"offsetgroup\":\"\",\"orientation\":\"h\",\"showlegend\":false,\"textposition\":\"auto\",\"x\":[8677,2263327,3,9890,1703,7696,192547,13701,5591,11,31672,4989,1000,442,705,67,4971,2646,161,11,13918],\"xaxis\":\"x\",\"y\":[\"(Q th) entry slip road closed\",\"(Q) accident(s)\",\"(Q) accident(s) in roadworks area\",\"(Q) accident(s). Hard shoulder blocked\",\"(Q) accident(s). Heavy traffic\",\"(Q) accident(s). Queuing traffic\",\"(Q) accident(s). Right lane blocked\",\"(Q) accident(s). Slow traffic\",\"(Q) accident(s). Three lanes blocked\",\"(Q) accident(s). Traffic building up\",\"(Q) accident(s). Two lanes blocked\",\"(Q) earlier accident(s)\",\"(Q) fuel spillage accident(s)\",\"(Q) jackknifed articulated lorr(y/ies)\",\"(Q) jackknifed trailer(s)\",\"(Q) oil spillage accident(s)\",\"(Q) serious accident(s)\",\"accident. Delays (Q)\",\"accident. Delays (Q) expected\",\"multi vehicle pile up. Delays (Q)\",\"multi-vehicle accident (involving Q vehicles)\"],\"yaxis\":\"y\",\"type\":\"bar\"}],                        {\"template\":{\"data\":{\"histogram2dcontour\":[{\"type\":\"histogram2dcontour\",\"colorbar\":{\"outlinewidth\":0,\"ticks\":\"\"},\"colorscale\":[[0.0,\"#0d0887\"],[0.1111111111111111,\"#46039f\"],[0.2222222222222222,\"#7201a8\"],[0.3333333333333333,\"#9c179e\"],[0.4444444444444444,\"#bd3786\"],[0.5555555555555556,\"#d8576b\"],[0.6666666666666666,\"#ed7953\"],[0.7777777777777778,\"#fb9f3a\"],[0.8888888888888888,\"#fdca26\"],[1.0,\"#f0f921\"]]}],\"choropleth\":[{\"type\":\"choropleth\",\"colorbar\":{\"outlinewidth\":0,\"ticks\":\"\"}}],\"histogram2d\":[{\"type\":\"histogram2d\",\"colorbar\":{\"outlinewidth\":0,\"ticks\":\"\"},\"colorscale\":[[0.0,\"#0d0887\"],[0.1111111111111111,\"#46039f\"],[0.2222222222222222,\"#7201a8\"],[0.3333333333333333,\"#9c179e\"],[0.4444444444444444,\"#bd3786\"],[0.5555555555555556,\"#d8576b\"],[0.6666666666666666,\"#ed7953\"],[0.7777777777777778,\"#fb9f3a\"],[0.8888888888888888,\"#fdca26\"],[1.0,\"#f0f921\"]]}],\"heatmap\":[{\"type\":\"heatmap\",\"colorbar\":{\"outlinewidth\":0,\"ticks\":\"\"},\"colorscale\":[[0.0,\"#0d0887\"],[0.1111111111111111,\"#46039f\"],[0.2222222222222222,\"#7201a8\"],[0.3333333333333333,\"#9c179e\"],[0.4444444444444444,\"#bd3786\"],[0.5555555555555556,\"#d8576b\"],[0.6666666666666666,\"#ed7953\"],[0.7777777777777778,\"#fb9f3a\"],[0.8888888888888888,\"#fdca26\"],[1.0,\"#f0f921\"]]}],\"heatmapgl\":[{\"type\":\"heatmapgl\",\"colorbar\":{\"outlinewidth\":0,\"ticks\":\"\"},\"colorscale\":[[0.0,\"#0d0887\"],[0.1111111111111111,\"#46039f\"],[0.2222222222222222,\"#7201a8\"],[0.3333333333333333,\"#9c179e\"],[0.4444444444444444,\"#bd3786\"],[0.5555555555555556,\"#d8576b\"],[0.6666666666666666,\"#ed7953\"],[0.7777777777777778,\"#fb9f3a\"],[0.8888888888888888,\"#fdca26\"],[1.0,\"#f0f921\"]]}],\"contourcarpet\":[{\"type\":\"contourcarpet\",\"colorbar\":{\"outlinewidth\":0,\"ticks\":\"\"}}],\"contour\":[{\"type\":\"contour\",\"colorbar\":{\"outlinewidth\":0,\"ticks\":\"\"},\"colorscale\":[[0.0,\"#0d0887\"],[0.1111111111111111,\"#46039f\"],[0.2222222222222222,\"#7201a8\"],[0.3333333333333333,\"#9c179e\"],[0.4444444444444444,\"#bd3786\"],[0.5555555555555556,\"#d8576b\"],[0.6666666666666666,\"#ed7953\"],[0.7777777777777778,\"#fb9f3a\"],[0.8888888888888888,\"#fdca26\"],[1.0,\"#f0f921\"]]}],\"surface\":[{\"type\":\"surface\",\"colorbar\":{\"outlinewidth\":0,\"ticks\":\"\"},\"colorscale\":[[0.0,\"#0d0887\"],[0.1111111111111111,\"#46039f\"],[0.2222222222222222,\"#7201a8\"],[0.3333333333333333,\"#9c179e\"],[0.4444444444444444,\"#bd3786\"],[0.5555555555555556,\"#d8576b\"],[0.6666666666666666,\"#ed7953\"],[0.7777777777777778,\"#fb9f3a\"],[0.8888888888888888,\"#fdca26\"],[1.0,\"#f0f921\"]]}],\"mesh3d\":[{\"type\":\"mesh3d\",\"colorbar\":{\"outlinewidth\":0,\"ticks\":\"\"}}],\"scatter\":[{\"fillpattern\":{\"fillmode\":\"overlay\",\"size\":10,\"solidity\":0.2},\"type\":\"scatter\"}],\"parcoords\":[{\"type\":\"parcoords\",\"line\":{\"colorbar\":{\"outlinewidth\":0,\"ticks\":\"\"}}}],\"scatterpolargl\":[{\"type\":\"scatterpolargl\",\"marker\":{\"colorbar\":{\"outlinewidth\":0,\"ticks\":\"\"}}}],\"bar\":[{\"error_x\":{\"color\":\"#2a3f5f\"},\"error_y\":{\"color\":\"#2a3f5f\"},\"marker\":{\"line\":{\"color\":\"#E5ECF6\",\"width\":0.5},\"pattern\":{\"fillmode\":\"overlay\",\"size\":10,\"solidity\":0.2}},\"type\":\"bar\"}],\"scattergeo\":[{\"type\":\"scattergeo\",\"marker\":{\"colorbar\":{\"outlinewidth\":0,\"ticks\":\"\"}}}],\"scatterpolar\":[{\"type\":\"scatterpolar\",\"marker\":{\"colorbar\":{\"outlinewidth\":0,\"ticks\":\"\"}}}],\"histogram\":[{\"marker\":{\"pattern\":{\"fillmode\":\"overlay\",\"size\":10,\"solidity\":0.2}},\"type\":\"histogram\"}],\"scattergl\":[{\"type\":\"scattergl\",\"marker\":{\"colorbar\":{\"outlinewidth\":0,\"ticks\":\"\"}}}],\"scatter3d\":[{\"type\":\"scatter3d\",\"line\":{\"colorbar\":{\"outlinewidth\":0,\"ticks\":\"\"}},\"marker\":{\"colorbar\":{\"outlinewidth\":0,\"ticks\":\"\"}}}],\"scattermapbox\":[{\"type\":\"scattermapbox\",\"marker\":{\"colorbar\":{\"outlinewidth\":0,\"ticks\":\"\"}}}],\"scatterternary\":[{\"type\":\"scatterternary\",\"marker\":{\"colorbar\":{\"outlinewidth\":0,\"ticks\":\"\"}}}],\"scattercarpet\":[{\"type\":\"scattercarpet\",\"marker\":{\"colorbar\":{\"outlinewidth\":0,\"ticks\":\"\"}}}],\"carpet\":[{\"aaxis\":{\"endlinecolor\":\"#2a3f5f\",\"gridcolor\":\"white\",\"linecolor\":\"white\",\"minorgridcolor\":\"white\",\"startlinecolor\":\"#2a3f5f\"},\"baxis\":{\"endlinecolor\":\"#2a3f5f\",\"gridcolor\":\"white\",\"linecolor\":\"white\",\"minorgridcolor\":\"white\",\"startlinecolor\":\"#2a3f5f\"},\"type\":\"carpet\"}],\"table\":[{\"cells\":{\"fill\":{\"color\":\"#EBF0F8\"},\"line\":{\"color\":\"white\"}},\"header\":{\"fill\":{\"color\":\"#C8D4E3\"},\"line\":{\"color\":\"white\"}},\"type\":\"table\"}],\"barpolar\":[{\"marker\":{\"line\":{\"color\":\"#E5ECF6\",\"width\":0.5},\"pattern\":{\"fillmode\":\"overlay\",\"size\":10,\"solidity\":0.2}},\"type\":\"barpolar\"}],\"pie\":[{\"automargin\":true,\"type\":\"pie\"}]},\"layout\":{\"autotypenumbers\":\"strict\",\"colorway\":[\"#636efa\",\"#EF553B\",\"#00cc96\",\"#ab63fa\",\"#FFA15A\",\"#19d3f3\",\"#FF6692\",\"#B6E880\",\"#FF97FF\",\"#FECB52\"],\"font\":{\"color\":\"#2a3f5f\"},\"hovermode\":\"closest\",\"hoverlabel\":{\"align\":\"left\"},\"paper_bgcolor\":\"white\",\"plot_bgcolor\":\"#E5ECF6\",\"polar\":{\"bgcolor\":\"#E5ECF6\",\"angularaxis\":{\"gridcolor\":\"white\",\"linecolor\":\"white\",\"ticks\":\"\"},\"radialaxis\":{\"gridcolor\":\"white\",\"linecolor\":\"white\",\"ticks\":\"\"}},\"ternary\":{\"bgcolor\":\"#E5ECF6\",\"aaxis\":{\"gridcolor\":\"white\",\"linecolor\":\"white\",\"ticks\":\"\"},\"baxis\":{\"gridcolor\":\"white\",\"linecolor\":\"white\",\"ticks\":\"\"},\"caxis\":{\"gridcolor\":\"white\",\"linecolor\":\"white\",\"ticks\":\"\"}},\"coloraxis\":{\"colorbar\":{\"outlinewidth\":0,\"ticks\":\"\"}},\"colorscale\":{\"sequential\":[[0.0,\"#0d0887\"],[0.1111111111111111,\"#46039f\"],[0.2222222222222222,\"#7201a8\"],[0.3333333333333333,\"#9c179e\"],[0.4444444444444444,\"#bd3786\"],[0.5555555555555556,\"#d8576b\"],[0.6666666666666666,\"#ed7953\"],[0.7777777777777778,\"#fb9f3a\"],[0.8888888888888888,\"#fdca26\"],[1.0,\"#f0f921\"]],\"sequentialminus\":[[0.0,\"#0d0887\"],[0.1111111111111111,\"#46039f\"],[0.2222222222222222,\"#7201a8\"],[0.3333333333333333,\"#9c179e\"],[0.4444444444444444,\"#bd3786\"],[0.5555555555555556,\"#d8576b\"],[0.6666666666666666,\"#ed7953\"],[0.7777777777777778,\"#fb9f3a\"],[0.8888888888888888,\"#fdca26\"],[1.0,\"#f0f921\"]],\"diverging\":[[0,\"#8e0152\"],[0.1,\"#c51b7d\"],[0.2,\"#de77ae\"],[0.3,\"#f1b6da\"],[0.4,\"#fde0ef\"],[0.5,\"#f7f7f7\"],[0.6,\"#e6f5d0\"],[0.7,\"#b8e186\"],[0.8,\"#7fbc41\"],[0.9,\"#4d9221\"],[1,\"#276419\"]]},\"xaxis\":{\"gridcolor\":\"white\",\"linecolor\":\"white\",\"ticks\":\"\",\"title\":{\"standoff\":15},\"zerolinecolor\":\"white\",\"automargin\":true,\"zerolinewidth\":2},\"yaxis\":{\"gridcolor\":\"white\",\"linecolor\":\"white\",\"ticks\":\"\",\"title\":{\"standoff\":15},\"zerolinecolor\":\"white\",\"automargin\":true,\"zerolinewidth\":2},\"scene\":{\"xaxis\":{\"backgroundcolor\":\"#E5ECF6\",\"gridcolor\":\"white\",\"linecolor\":\"white\",\"showbackground\":true,\"ticks\":\"\",\"zerolinecolor\":\"white\",\"gridwidth\":2},\"yaxis\":{\"backgroundcolor\":\"#E5ECF6\",\"gridcolor\":\"white\",\"linecolor\":\"white\",\"showbackground\":true,\"ticks\":\"\",\"zerolinecolor\":\"white\",\"gridwidth\":2},\"zaxis\":{\"backgroundcolor\":\"#E5ECF6\",\"gridcolor\":\"white\",\"linecolor\":\"white\",\"showbackground\":true,\"ticks\":\"\",\"zerolinecolor\":\"white\",\"gridwidth\":2}},\"shapedefaults\":{\"line\":{\"color\":\"#2a3f5f\"}},\"annotationdefaults\":{\"arrowcolor\":\"#2a3f5f\",\"arrowhead\":0,\"arrowwidth\":1},\"geo\":{\"bgcolor\":\"white\",\"landcolor\":\"#E5ECF6\",\"subunitcolor\":\"white\",\"showland\":true,\"showlakes\":true,\"lakecolor\":\"white\"},\"title\":{\"x\":0.05},\"mapbox\":{\"style\":\"light\"}}},\"xaxis\":{\"anchor\":\"y\",\"domain\":[0.0,1.0],\"title\":{\"text\":\"Accident_Count\"}},\"yaxis\":{\"anchor\":\"x\",\"domain\":[0.0,1.0],\"title\":{\"text\":\"TMC_Description\"}},\"legend\":{\"tracegroupgap\":0},\"margin\":{\"t\":60},\"barmode\":\"relative\"},                        {\"responsive\": true}                    ).then(function(){\n",
       "                            \n",
       "var gd = document.getElementById('746189b4-53fd-4c1c-8aa8-2137ec2284dc');\n",
       "var x = new MutationObserver(function (mutations, observer) {{\n",
       "        var display = window.getComputedStyle(gd).display;\n",
       "        if (!display || display === 'none') {{\n",
       "            console.log([gd, 'removed!']);\n",
       "            Plotly.purge(gd);\n",
       "            observer.disconnect();\n",
       "        }}\n",
       "}});\n",
       "\n",
       "// Listen for the removal of the full notebook cells\n",
       "var notebookContainer = gd.closest('#notebook-container');\n",
       "if (notebookContainer) {{\n",
       "    x.observe(notebookContainer, {childList: true});\n",
       "}}\n",
       "\n",
       "// Listen for the clearing of the current output cell\n",
       "var outputEl = gd.closest('.output');\n",
       "if (outputEl) {{\n",
       "    x.observe(outputEl, {childList: true});\n",
       "}}\n",
       "\n",
       "                        })                };                });            </script>        </div>"
      ]
     },
     "metadata": {},
     "output_type": "display_data"
    }
   ],
   "source": [
    "for cat in categorical_features:\n",
    "    create_barchart(df, cat )"
   ]
  },
  {
   "cell_type": "markdown",
   "metadata": {},
   "source": [
    "# Create feature mappings: <span style=\"color:RoyalBlue\">all</span>, <span style=\"color:RoyalBlue\">numeric</span>, and <span style=\"color:RoyalBlue\">categorical</span>\n",
    "Creating these dataframes will make it easier to visualize the data"
   ]
  },
  {
   "cell_type": "code",
   "execution_count": null,
   "metadata": {},
   "outputs": [],
   "source": []
  },
  {
   "cell_type": "code",
   "execution_count": null,
   "metadata": {},
   "outputs": [],
   "source": []
  },
  {
   "cell_type": "code",
   "execution_count": null,
   "metadata": {},
   "outputs": [],
   "source": []
  },
  {
   "cell_type": "code",
   "execution_count": null,
   "metadata": {},
   "outputs": [],
   "source": []
  },
  {
   "cell_type": "markdown",
   "metadata": {},
   "source": [
    "## Create feature mappings: <span style=\"color:RoyalBlue\">all</span>, <span style=\"color:RoyalBlue\">numeric</span>, and <span style=\"color:RoyalBlue\">categorical</span>\n",
    "Creating these dataframes will make it easier to visualize the data"
   ]
  },
  {
   "cell_type": "code",
   "execution_count": null,
   "metadata": {},
   "outputs": [],
   "source": []
  },
  {
   "cell_type": "markdown",
   "metadata": {},
   "source": [
    "# Review Categorical columns"
   ]
  },
  {
   "cell_type": "code",
   "execution_count": null,
   "metadata": {},
   "outputs": [],
   "source": []
  },
  {
   "cell_type": "code",
   "execution_count": null,
   "metadata": {},
   "outputs": [],
   "source": []
  }
 ],
 "metadata": {
  "hide_input": false,
  "kernel_info": {
   "name": "python3"
  },
  "kernelspec": {
   "display_name": "Python 3 (ipykernel)",
   "language": "python",
   "name": "python3"
  },
  "language_info": {
   "codemirror_mode": {
    "name": "ipython",
    "version": 3
   },
   "file_extension": ".py",
   "mimetype": "text/x-python",
   "name": "python",
   "nbconvert_exporter": "python",
   "pygments_lexer": "ipython3",
   "version": "3.9.13"
  },
  "nteract": {
   "version": "0.15.0"
  },
  "toc": {
   "base_numbering": 1,
   "nav_menu": {},
   "number_sections": true,
   "sideBar": true,
   "skip_h1_title": false,
   "title_cell": "Table of Contents",
   "title_sidebar": "Contents",
   "toc_cell": false,
   "toc_position": {
    "height": "calc(100% - 180px)",
    "left": "10px",
    "top": "150px",
    "width": "165px"
   },
   "toc_section_display": true,
   "toc_window_display": true
  },
  "varInspector": {
   "cols": {
    "lenName": 16,
    "lenType": 16,
    "lenVar": 40
   },
   "kernels_config": {
    "python": {
     "delete_cmd_postfix": "",
     "delete_cmd_prefix": "del ",
     "library": "var_list.py",
     "varRefreshCmd": "print(var_dic_list())"
    },
    "r": {
     "delete_cmd_postfix": ") ",
     "delete_cmd_prefix": "rm(",
     "library": "var_list.r",
     "varRefreshCmd": "cat(var_dic_list()) "
    }
   },
   "position": {
    "height": "420px",
    "left": "1026.36px",
    "right": "20px",
    "top": "120px",
    "width": "358px"
   },
   "types_to_exclude": [
    "module",
    "function",
    "builtin_function_or_method",
    "instance",
    "_Feature"
   ],
   "window_display": false
  }
 },
 "nbformat": 4,
 "nbformat_minor": 2
}
